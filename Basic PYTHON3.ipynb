{
 "cells": [
  {
   "cell_type": "markdown",
   "id": "0326ef02",
   "metadata": {},
   "source": [
    "## DECORATORS\n",
    "\n"
   ]
  },
  {
   "cell_type": "code",
   "execution_count": 8,
   "id": "01c3b2b9",
   "metadata": {},
   "outputs": [
    {
     "name": "stdout",
     "output_type": "stream",
     "text": [
      "Testing\n"
     ]
    }
   ],
   "source": [
    "def sub():\n",
    "    print(\"Testing\")\n",
    "#sub()\n",
    "#print(sub)\n",
    "A = sub\n",
    "A()"
   ]
  },
  {
   "cell_type": "code",
   "execution_count": 11,
   "id": "df9de02e",
   "metadata": {},
   "outputs": [
    {
     "name": "stdout",
     "output_type": "stream",
     "text": [
      "Executed sub\n"
     ]
    }
   ],
   "source": [
    "def sub():\n",
    "    print(\"Executed sub\")\n",
    "def add(a):\n",
    "    a()\n",
    "add(sub)  ## sub as a fn we can pass through anywhere as arguments"
   ]
  },
  {
   "cell_type": "code",
   "execution_count": 15,
   "id": "435548d3",
   "metadata": {},
   "outputs": [
    {
     "name": "stdout",
     "output_type": "stream",
     "text": [
      "Executed sub\n"
     ]
    }
   ],
   "source": [
    "def sub():\n",
    "    print(\"Executed sub\")\n",
    "def add(a):\n",
    "    return a\n",
    "add(sub)\n",
    "a =add(sub)\n",
    "b = a()\n",
    "b"
   ]
  },
  {
   "cell_type": "code",
   "execution_count": 5,
   "id": "2262c8c9",
   "metadata": {},
   "outputs": [],
   "source": [
    "def fun1():\n",
    "    def fun2():\n",
    "        return 10\n",
    "    return fun2"
   ]
  },
  {
   "cell_type": "code",
   "execution_count": 22,
   "id": "72701742",
   "metadata": {},
   "outputs": [
    {
     "data": {
      "text/plain": [
       "<function __main__.fun1.<locals>.fun2()>"
      ]
     },
     "execution_count": 22,
     "metadata": {},
     "output_type": "execute_result"
    }
   ],
   "source": [
    "fun1()"
   ]
  },
  {
   "cell_type": "code",
   "execution_count": 8,
   "id": "9f5ec40a",
   "metadata": {},
   "outputs": [
    {
     "data": {
      "text/plain": [
       "10"
      ]
     },
     "execution_count": 8,
     "metadata": {},
     "output_type": "execute_result"
    }
   ],
   "source": [
    "AA = fun1\n",
    "\n",
    "AB = AA()\n",
    "AB()"
   ]
  },
  {
   "cell_type": "code",
   "execution_count": 28,
   "id": "227c0092",
   "metadata": {},
   "outputs": [
    {
     "data": {
      "text/plain": [
       "10"
      ]
     },
     "execution_count": 28,
     "metadata": {},
     "output_type": "execute_result"
    }
   ],
   "source": [
    "AA = fun1\n",
    "\n",
    "fun2 = AA()\n",
    "fun2()"
   ]
  },
  {
   "cell_type": "code",
   "execution_count": 6,
   "id": "0f8fe6d1",
   "metadata": {},
   "outputs": [
    {
     "data": {
      "text/plain": [
       "10"
      ]
     },
     "execution_count": 6,
     "metadata": {},
     "output_type": "execute_result"
    }
   ],
   "source": [
    "AA = fun1\n",
    "\n",
    "fun2 = AA()\n",
    "fun2()"
   ]
  },
  {
   "cell_type": "code",
   "execution_count": 9,
   "id": "4b02f3ef",
   "metadata": {},
   "outputs": [],
   "source": [
    "# function can take other function as an argument\n",
    "\n",
    "def f3(f3_argument):\n",
    "    return(f3_argument())\n",
    "def f4():\n",
    "    return 100"
   ]
  },
  {
   "cell_type": "code",
   "execution_count": 10,
   "id": "b7626927",
   "metadata": {},
   "outputs": [
    {
     "data": {
      "text/plain": [
       "100"
      ]
     },
     "execution_count": 10,
     "metadata": {},
     "output_type": "execute_result"
    }
   ],
   "source": [
    "f3(f4)"
   ]
  },
  {
   "cell_type": "markdown",
   "id": "da420097",
   "metadata": {},
   "source": [
    "## Decorators"
   ]
  },
  {
   "cell_type": "markdown",
   "id": "3653c08a",
   "metadata": {},
   "source": [
    "#### -> Decorators is a very powerful and useful tool in Python as it allows us to wrap another fn inorder to extend the behaviour of wrapped fn without permanently modifying it.\n",
    "#### -> In Decorators fn are taken as the argument into another fn and then called inside the wrappeer fn.\n",
    "\n",
    "## Advantages\n",
    "\n",
    "#### - Logging & debugging\n",
    "#### - Access control and authentication"
   ]
  },
  {
   "cell_type": "code",
   "execution_count": null,
   "id": "b906fca8",
   "metadata": {},
   "outputs": [],
   "source": [
    "'''\n",
    "Everything in python"
   ]
  },
  {
   "cell_type": "code",
   "execution_count": 17,
   "id": "fecd547f",
   "metadata": {},
   "outputs": [
    {
     "name": "stdout",
     "output_type": "stream",
     "text": [
      "Checking user access...\n",
      "Student_Access denied for ABC\n",
      "Checking user access...\n",
      "Staff_Access denied for XYZ\n",
      "Checking user access...\n",
      "Head_Access denied for HEMA\n"
     ]
    }
   ],
   "source": [
    "def access_control(func):\n",
    "    def wrapper(name):    # Wrapper function\n",
    "        print(\"Checking user access...\")\n",
    "        return func(name)\n",
    "    return wrapper\n",
    "\n",
    "@access_control\n",
    "def student_access(name):\n",
    "    print(f\"Student_Access denied for {name}\")\n",
    "    \n",
    "@access_control\n",
    "def staff_access(name):\n",
    "    print(f\"Staff_Access denied for {name}\")\n",
    "\n",
    "@access_control\n",
    "def head_access(name):\n",
    "    print(f\"Head_Access denied for {name}\")\n",
    "    \n",
    "student_access(\"ABC\")\n",
    "staff_access(\"XYZ\")\n",
    "head_access(\"HEMA\")"
   ]
  },
  {
   "cell_type": "code",
   "execution_count": 23,
   "id": "5ee25cd2",
   "metadata": {},
   "outputs": [
    {
     "name": "stdout",
     "output_type": "stream",
     "text": [
      "Result is : 10\n"
     ]
    }
   ],
   "source": [
    "# Decorator function\n",
    "\n",
    "def sub_dc(func):\n",
    "    def wrapper(num1,num2):\n",
    "        if num1 < num2:\n",
    "            num1,num2=num2,num1\n",
    "        return func(num1,num2)\n",
    "    return wrapper\n",
    "\n",
    "# Function definition\n",
    "\n",
    "@sub_dc\n",
    "def sub(num1,num2):\n",
    "    res = num1 - num2\n",
    "    print(\"Result is :\",res)\n",
    "    \n",
    "# Function call\n",
    "\n",
    "sub(4,14)"
   ]
  },
  {
   "cell_type": "code",
   "execution_count": 1,
   "id": "b526f8d2",
   "metadata": {},
   "outputs": [
    {
     "name": "stdout",
     "output_type": "stream",
     "text": [
      "Checking user access...\n",
      "Access granted for ABC\n",
      "None\n",
      "Checking user access...\n",
      "Access denied for KLM\n",
      "None\n",
      "Checking user access...\n",
      "Access denied for XYZ\n",
      "Staff_Access granted for ('XYZ', 22)\n",
      "None\n",
      "Checking user access...\n",
      "Access denied for HEMA\n",
      "Head_Access denied for ('HEMA', 33)\n",
      "None\n"
     ]
    }
   ],
   "source": [
    "# We can apply the same decorator to different functions\n",
    "\n",
    "def access_control(func):\n",
    "    def wrapper(name,age):\n",
    "        print(\"Checking user access...\")\n",
    "        if age < 18:\n",
    "            print(f\"Access granted for {name}\")\n",
    "        else:\n",
    "            print(f\"Access denied for {name}\")\n",
    "        return func(name,age)\n",
    "    return wrapper\n",
    "\n",
    "@access_control\n",
    "def student_access(name,age):\n",
    "    pass\n",
    "\n",
    "@access_control\n",
    "def staff_access(name,age):\n",
    "    print(f\"Staff_Access granted for {name,age}\")\n",
    "    \n",
    "@access_control\n",
    "def head_access(name,age):\n",
    "    print(f\"Head_Access denied for {name,age}\")\n",
    "    \n",
    "print(student_access(\"ABC\",15))\n",
    "print(student_access(\"KLM\",22))\n",
    "print(staff_access(\"XYZ\",22))\n",
    "print(head_access(\"HEMA\",33))"
   ]
  },
  {
   "cell_type": "code",
   "execution_count": 11,
   "id": "08c3da10",
   "metadata": {},
   "outputs": [
    {
     "name": "stdout",
     "output_type": "stream",
     "text": [
      "Please accept terms & conditions.....\n",
      "\n",
      "Please enter correct license key.....\n",
      "\n",
      "Please enter partitioning choice.....\n",
      "\n",
      "Linux installation has started \n",
      "\n"
     ]
    }
   ],
   "source": [
    "# We can apply multiple decorators to a fn\n",
    "\n",
    "def InstallDecorator1(func):\n",
    "    def wrapper():\n",
    "        print(\"Please accept terms & conditions.....\\n\")\n",
    "        return func()\n",
    "    return wrapper\n",
    "\n",
    "def InstallDecorator2(func):\n",
    "    def wrapper():\n",
    "        print(\"Please enter correct license key.....\\n\")\n",
    "        return func()\n",
    "    return wrapper\n",
    "\n",
    "def InstallDecorator3(func):\n",
    "    def wrapper():\n",
    "        print(\"Please enter partitioning choice.....\\n\")\n",
    "        return func()\n",
    "    return wrapper\n",
    "\n",
    "@InstallDecorator1\n",
    "@InstallDecorator2\n",
    "@InstallDecorator3\n",
    "\n",
    "def InstallLinux():\n",
    "    print(\"Linux installation has started \\n\")\n",
    "    \n",
    "InstallLinux()"
   ]
  },
  {
   "cell_type": "markdown",
   "id": "f9c3b796",
   "metadata": {},
   "source": [
    "## OOP's"
   ]
  },
  {
   "cell_type": "code",
   "execution_count": 10,
   "id": "7927b087",
   "metadata": {},
   "outputs": [
    {
     "name": "stdout",
     "output_type": "stream",
     "text": [
      "<class 'int'>\n"
     ]
    }
   ],
   "source": [
    "x=10\n",
    "print(type(x))"
   ]
  },
  {
   "cell_type": "markdown",
   "id": "19622357",
   "metadata": {},
   "source": [
    "## CLASSES AND OBJECTS"
   ]
  },
  {
   "cell_type": "markdown",
   "id": "c72f4f74",
   "metadata": {},
   "source": [
    "\n",
    "\n",
    "#### - A Class serves as either an object constructor or a \"blueprint\" for generating objects. \n",
    "#### - Utilizing, the keyword \"class\" initiates the creation of a class.\n",
    "#### - The initial string within a class, known as a docstring, provides a concise description of the class.\n",
    "#### - Each class contains Attributes (Variables of a class) and Methods (Functions of a class).\n",
    "#### - Attributes are always public and can be accessed using the dot (.) operator.Eg.: Myclass.Myattribute.\n",
    "#### - Variables that are defined inside the methods have scope within the methods of that class.\n",
    "#### - Every class contains a function known as init() which executes whenever the class is instantiated.\n",
    "#### - This function facilitates the assignment of values to object properties or the execution of other necessary operations during object creation.\n",
    "#### - The self paraceter acts as a reference to the current instance of the class, enabling access to class variables.\n",
    "#### - It must always be the first parameter of any function within the class.\n",
    "#### - The super () bufit-in function produces a temporary object of the superclass, i granting access to aethods of the base class.\n",
    "#### - Its usage helps avoid explicit naming of the base class and facilitates multiple inheritance."
   ]
  },
  {
   "cell_type": "code",
   "execution_count": 14,
   "id": "f07ea14a",
   "metadata": {},
   "outputs": [
    {
     "name": "stdout",
     "output_type": "stream",
     "text": [
      "10\n"
     ]
    }
   ],
   "source": [
    "# Create a class with variable name\n",
    "\n",
    "class class_name:   # Class\n",
    "    var1=10\n",
    "    \n",
    "obj = class_name()  # Object # Instantiating object\n",
    "print(obj.var1)   # Accessing class variable using object"
   ]
  },
  {
   "cell_type": "code",
   "execution_count": 24,
   "id": "834cc4e3",
   "metadata": {},
   "outputs": [
    {
     "name": "stdout",
     "output_type": "stream",
     "text": [
      "Name:- XYZ\n",
      "EmpID:- 456\n",
      "Thanks for joining ABC company ABC!!\n",
      "Thanks for joining ABC company XYZ!!\n"
     ]
    }
   ],
   "source": [
    "# Create an employee class\n",
    "\n",
    "class Employee:\n",
    "    def __init__(self,name,empid):   # __init__() fn is used to assign values\n",
    "        self.name = name             # if 'name' is not passed, we can initialize as ---- self.name='ABC'\n",
    "        self.empid = empid          # if 'ID' is not passed, we can initialize as ---- self.empid='ABC'\n",
    "                                     # Self is a current object\n",
    "            \n",
    "    def greet(self):               # Class method\n",
    "        print(\"Thanks for joining ABC company {}!!\".format(self.name))\n",
    "        \n",
    "emp1 = Employee(\"ABC\",123)        # Create an employee obj\n",
    "emp2 = Employee(\"XYZ\",456)\n",
    "\n",
    "print('Name:-',emp2.name)\n",
    "print('EmpID:-',emp2.empid)\n",
    "\n",
    "emp1.greet()\n",
    "emp2.greet()"
   ]
  },
  {
   "cell_type": "code",
   "execution_count": 32,
   "id": "7a517383",
   "metadata": {},
   "outputs": [
    {
     "name": "stdout",
     "output_type": "stream",
     "text": [
      "Thanks for joining ABC company KLM!!\n",
      "Thanks for joining ABC company AFG!!\n",
      "Thanks for joining ABC company AFG!!\n"
     ]
    }
   ],
   "source": [
    "class Employee:\n",
    "    def __init__(self):          # __init__() fn is used to assign values\n",
    "        self.name = \"AFG\"            # if 'name' is not passed, we can initialize as ---- self.name='ABC'\n",
    "        self.empid = 11          # if 'ID' is not passed, we can initialize as ---- self.empid='ABC'\n",
    "                                     # Self is a current object\n",
    "            \n",
    "    def greet(self):               # Class method\n",
    "        print(\"Thanks for joining ABC company {}!!\".format(self.name))\n",
    "        \n",
    "emp1 = Employee()\n",
    "emp1.name=\"KLM\"\n",
    "emp1.empid=88\n",
    "\n",
    "#print('Name:-',emp1.name)\n",
    "#print('EmpID:-',emp1.empid)\n",
    "\n",
    "emp1.greet()\n",
    "\n",
    "emp2=Employee()\n",
    "emp2.greet() \n",
    "\n",
    "emp3=Employee()\n",
    "emp3.greet()"
   ]
  },
  {
   "cell_type": "code",
   "execution_count": 1,
   "id": "a7891322",
   "metadata": {},
   "outputs": [
    {
     "name": "stdout",
     "output_type": "stream",
     "text": [
      "Thanks for joining ABC company KLM!!\n",
      "\n",
      "This is your joining date\n",
      "Thanks for joining ABC company AFG!!\n",
      "\n",
      "This is your joining date\n",
      "\n",
      "Thanks for joining ABC company AFG!!\n"
     ]
    }
   ],
   "source": [
    "class Employee:\n",
    "    def __init__(self):          # __init__() fn is used to assign values\n",
    "        self.name = \"AFG\"            # if 'name' is not passed, we can initialize as ---- self.name='ABC'\n",
    "        self.empid = 11          # if 'ID' is not passed, we can initialize as ---- self.empid='ABC'\n",
    "                                     # Self is a current object\n",
    "            \n",
    "    def greet(self):               # Class method\n",
    "        print(\"Thanks for joining ABC company {}!!\".format(self.name))\n",
    "        \n",
    "    def join(self):\n",
    "        print(\"This is your joining date\")    # Uisng another function\n",
    " \n",
    "emp1 = Employee()\n",
    "emp1.name=\"KLM\"\n",
    "emp1.empid=88\n",
    "\n",
    "#print('Name:-',emp1.name)\n",
    "#print('EmpID:-',emp1.empid)\n",
    "\n",
    "emp1.greet()\n",
    "print()\n",
    "emp1.join()\n",
    "\n",
    "emp2=Employee()\n",
    "emp2.greet() \n",
    "print()\n",
    "emp2.join()\n",
    "\n",
    "emp3=Employee()\n",
    "print()\n",
    "emp3.greet()"
   ]
  },
  {
   "cell_type": "code",
   "execution_count": 5,
   "id": "61b4588f",
   "metadata": {},
   "outputs": [
    {
     "name": "stdout",
     "output_type": "stream",
     "text": [
      "Enter the number of employee details to be entered:2\n",
      "\n",
      " FOR LOOP FOR MULTIPLE OBJECTS INSTANTTIATION BEGINS....\n",
      "\n",
      "Enter the Name:Hema\n",
      "Enter the Employee ID:111\n",
      "Thanks for joining ABC company Hema!!\n",
      "****************************************************************************************************\n",
      "Enter the Name:Saranya\n",
      "Enter the Employee ID:142\n",
      "Thanks for joining ABC company Saranya!!\n",
      "****************************************************************************************************\n"
     ]
    }
   ],
   "source": [
    "class Employee:\n",
    "    def __init__ (self):\n",
    "        self.name = input(\"Enter the Name:\")\n",
    "        self.empid = input(\"Enter the Employee ID:\")\n",
    "        \n",
    "    def greet(self):\n",
    "         print(\"Thanks for joining ABC company {}!!\".format(self.name))\n",
    "   \n",
    "## Multiple objects\n",
    "\n",
    "a = int(input(\"Enter the number of employee details to be entered:\"))\n",
    "print(\"\\n FOR LOOP FOR MULTIPLE OBJECTS INSTANTTIATION BEGINS....\\n\")\n",
    "\n",
    "\n",
    "for i in range(a):\n",
    "    emp = Employee()\n",
    "    emp.greet()\n",
    "    print(\"*\" * 100)"
   ]
  },
  {
   "cell_type": "markdown",
   "id": "2cdd93ac",
   "metadata": {},
   "source": [
    "## INHERITANCE"
   ]
  },
  {
   "cell_type": "markdown",
   "id": "200464e6",
   "metadata": {},
   "source": [
    "#### Inheritance is a powerful feature in object oriented programming.\n",
    "#### Inheritance provides code reusability in the program because we can use an existing class (Super Class/ Parent Class / Base Class)\n",
    "#### To create a new class (Sub Class / Child Class /Derived Class) instead of creating it from scratch.\n",
    "#### The child class inherits data definitions and methods from the parent class which facilitates there use of features already available.\n",
    "#### The child class can add few more definitions or redefine abase class method.\n",
    "#### Inheritance comes into picture when a new class possesses the ' IS A' relationship with an existing class. Eg Student is a person.\n",
    "#### Hence person is the base class and student is derivedclass"
   ]
  },
  {
   "cell_type": "code",
   "execution_count": 19,
   "id": "f0e3000c",
   "metadata": {},
   "outputs": [
    {
     "name": "stdout",
     "output_type": "stream",
     "text": [
      "This is a teacher\n",
      "This is a salary\n"
     ]
    }
   ],
   "source": [
    "## Single Inheritance\n",
    "\n",
    "class Employee:\n",
    "    \n",
    "    def salary(self):\n",
    "        print(\"This is a salary\")\n",
    "    \n",
    "class staff(Employee):\n",
    "    \n",
    "    def teacher(self):\n",
    "        print(\"This is a teacher\")\n",
    "        \n",
    "t1 = staff()\n",
    "t1.teacher()\n",
    "\n",
    "#t1 = Employee()\n",
    "t1.salary()"
   ]
  },
  {
   "cell_type": "code",
   "execution_count": 6,
   "id": "be063317",
   "metadata": {},
   "outputs": [
    {
     "name": "stdout",
     "output_type": "stream",
     "text": [
      "Name :- Hema\n",
      "Age :- 20\n",
      "Gender :- Female\n",
      "Student ID :- 111\n",
      "Fees :- 20000\n"
     ]
    }
   ],
   "source": [
    "class person:\n",
    "    def __init__(self,name,age,gender):\n",
    "        self.name = name\n",
    "        self.age = age\n",
    "        self.gender = gender\n",
    "        \n",
    "    def PersonInfo(self):\n",
    "        print('Name :- {}'.format(self.name))\n",
    "        print('Age :- {}'.format(self.age))\n",
    "        print('Gender :- {}'.format(self.gender))\n",
    "        \n",
    "class student(person):\n",
    "    def __init__(self,name,age,gender,studentid,fees):\n",
    "        person.__init__(self,name,age,gender)\n",
    "        self.studentid = studentid\n",
    "        self.fees = fees\n",
    "        \n",
    "    def StudentInfo(self):\n",
    "        print('Student ID :- {}'.format(self.studentid))\n",
    "        print('Fees :- {}'.format(self.fees))\n",
    "        \n",
    "st1 = student(\"Hema\",\"20\",\"Female\",\"111\",\"20000\")\n",
    "\n",
    "st1.PersonInfo()\n",
    "\n",
    "st1.StudentInfo()"
   ]
  },
  {
   "cell_type": "code",
   "execution_count": 18,
   "id": "4979f74d",
   "metadata": {},
   "outputs": [
    {
     "name": "stdout",
     "output_type": "stream",
     "text": [
      "Name :- Hema\n",
      "Age :- 20\n",
      "Gender :- Female\n",
      "Student ID :- 111\n",
      "Fees :- 20000\n"
     ]
    }
   ],
   "source": [
    "class person:\n",
    "    def __init__(self,name,age,gender):\n",
    "        self.name = name\n",
    "        self.age = age\n",
    "        self.gender = gender\n",
    "        \n",
    "    def PersonInfo(self):\n",
    "        print('Name :- {}'.format(self.name))\n",
    "        print('Age :- {}'.format(self.age))\n",
    "        print('Gender :- {}'.format(self.gender))\n",
    "        \n",
    "class student(person):\n",
    "    def __init__(self,name,age,gender,studentid,fees):\n",
    "        super().__init__(name,age,gender)\n",
    "        self.studentid = studentid\n",
    "        self.fees = fees\n",
    "        \n",
    "    def StudentInfo(self):\n",
    "        super().PersonInfo()\n",
    "        print('Student ID :- {}'.format(self.studentid))\n",
    "        print('Fees :- {}'.format(self.fees))\n",
    "        \n",
    "st1 = student(\"Hema\",\"20\",\"Female\",\"111\",\"20000\")\n",
    "\n",
    "#st1.PersonInfo()\n",
    "\n",
    "st1.StudentInfo()"
   ]
  },
  {
   "cell_type": "markdown",
   "id": "8dcfbfd3",
   "metadata": {},
   "source": [
    "## Multiple Inheritance"
   ]
  },
  {
   "cell_type": "markdown",
   "id": "4afb8618",
   "metadata": {},
   "source": [
    "#### Multiple inheritance is a feature in which a class (derived class) can inherit attributes and methods from more than one parent class.\n",
    "#### The derived class inherits all the features of the base case.."
   ]
  },
  {
   "cell_type": "code",
   "execution_count": 17,
   "id": "31eb13d9",
   "metadata": {},
   "outputs": [
    {
     "name": "stdout",
     "output_type": "stream",
     "text": [
      "The name is ABC...\n",
      "\n",
      "The name is DEF...\n",
      "\n",
      "The name is GHI...\n"
     ]
    }
   ],
   "source": [
    "## Multiple Inheritance\n",
    "\n",
    "class A:\n",
    "    \n",
    "    def ABC(self):\n",
    "        print(\"The name is ABC...\")\n",
    "        \n",
    "class B:\n",
    "    \n",
    "    def DEF(self):\n",
    "        print(\"The name is DEF...\")\n",
    "        \n",
    "class C(A,B):\n",
    "    \n",
    "    def GHI(self):\n",
    "        print(\"The name is GHI...\")\n",
    "        \n",
    "obj = C()\n",
    "\n",
    "obj.ABC()\n",
    "print()\n",
    "\n",
    "obj.DEF()\n",
    "print()\n",
    "\n",
    "obj.GHI()"
   ]
  },
  {
   "cell_type": "code",
   "execution_count": 20,
   "id": "fef9b3e3",
   "metadata": {},
   "outputs": [
    {
     "name": "stdout",
     "output_type": "stream",
     "text": [
      "Father: A\n",
      "Mother: B\n",
      "My Name: C\n"
     ]
    }
   ],
   "source": [
    "# Parent Class\n",
    "\n",
    "class Father:\n",
    "    \n",
    "    def __init__(self,fathername):\n",
    "        self.fathername = fathername\n",
    "        \n",
    "# Super Class\n",
    "\n",
    "class Mother:\n",
    "    \n",
    "    def __init__(self,mothername):\n",
    "        self.mothername = mothername\n",
    "        \n",
    "\n",
    "class Son(Father,Mother):\n",
    "    def __init__(self,fathername,mothername,name):\n",
    "        Father.__init__(self,fathername)\n",
    "        Mother.__init__(self,mothername)\n",
    "        self.name = name\n",
    "        \n",
    "    def show(self):\n",
    "        print(\"Father:\",self.fathername)\n",
    "        print(\"Mother:\",self.mothername)\n",
    "        print(\"My Name:\",self.name)\n",
    "        \n",
    "s1 = Son(\"A\",\"B\",\"C\")\n",
    "s1.show()"
   ]
  },
  {
   "cell_type": "markdown",
   "id": "b77671f9",
   "metadata": {},
   "source": [
    "## Multilevel Inheritance"
   ]
  },
  {
   "cell_type": "markdown",
   "id": "9e24f7ed",
   "metadata": {},
   "source": [
    "#### In this type of inheritance, a class can inherit from a child class or derived class.\n",
    "#### Multilevel Inheritance can be of any depth in python."
   ]
  },
  {
   "cell_type": "code",
   "execution_count": 17,
   "id": "946567f3",
   "metadata": {},
   "outputs": [
    {
     "name": "stdout",
     "output_type": "stream",
     "text": [
      "Name: Hema\n",
      "Age: 20\n",
      "Gender:Female\n",
      "\n",
      "Employee_ID: 111\n",
      "Salary: 50000\n",
      "\n",
      "WorkExperience: 2\n",
      "\n",
      "ContractExpiry: 08-10-2025\n"
     ]
    }
   ],
   "source": [
    "class person:\n",
    "    \n",
    "    def __init__(self,name,age,gender):\n",
    "        self.name = name\n",
    "        self.age = age\n",
    "        self.gender = gender\n",
    "        \n",
    "    def PersonInfo(self):\n",
    "        print(f\"Name: {self.name}\")\n",
    "        print(f\"Age: {self.age}\")\n",
    "        print(f\"Gender:{self.gender}\")\n",
    "        \n",
    "class employee(person):\n",
    "    \n",
    "    def __init__(self,name,age,gender,empid,salary):\n",
    "        person.__init__(self,name,age,gender)\n",
    "        self.empid = empid\n",
    "        self.salary = salary\n",
    "        \n",
    "    def EmployeeInfo(self):\n",
    "        print(f\"Employee_ID: {self.empid}\")\n",
    "        print(f\"Salary: {self.salary}\")\n",
    "        \n",
    "class fulltime(employee):\n",
    "    \n",
    "    def __init__(self,name,age,gender,empid,salary,WorkExperience):\n",
    "        employee.__init__(self,name,age,gender,empid,salary)\n",
    "        self.WorkExperience = WorkExperience\n",
    "        \n",
    "    def FulltimeInfo(self):\n",
    "        print(f\"WorkExperience: {self.WorkExperience}\")\n",
    "        \n",
    "class contractual(employee):\n",
    "    \n",
    "    def __init__(self,name,age,gender,empid,salary,ContractExpiry):\n",
    "        employee.__init__(self,name,age,gender,empid,salary)\n",
    "        self.ContractExpiry = ContractExpiry\n",
    "        \n",
    "    def ContractInfo(self):\n",
    "        print(f\"ContractExpiry: {self.ContractExpiry}\")\n",
    "        \n",
    "W1 = contractual(\"Hema\",\"20\",\"Female\",\"111\",\"50000\",\"08-10-2025\")\n",
    "\n",
    "W1.PersonInfo()\n",
    "print()\n",
    "\n",
    "W1.EmployeeInfo()\n",
    "print()\n",
    "\n",
    "F1 = fulltime(\"Hema\",\"22\",\"Female\",\"11\",\"50000\",\"2\")\n",
    "F1.FulltimeInfo()\n",
    "print()\n",
    "\n",
    "W1.ContractInfo()"
   ]
  },
  {
   "cell_type": "code",
   "execution_count": 19,
   "id": "c19ab449",
   "metadata": {},
   "outputs": [
    {
     "data": {
      "text/plain": [
       "(__main__.contractual, __main__.employee, __main__.person, object)"
      ]
     },
     "execution_count": 19,
     "metadata": {},
     "output_type": "execute_result"
    }
   ],
   "source": [
    "contractual.__mro__"
   ]
  },
  {
   "cell_type": "code",
   "execution_count": 20,
   "id": "05df5228",
   "metadata": {},
   "outputs": [
    {
     "data": {
      "text/plain": [
       "(__main__.fulltime, __main__.employee, __main__.person, object)"
      ]
     },
     "execution_count": 20,
     "metadata": {},
     "output_type": "execute_result"
    }
   ],
   "source": [
    "fulltime.__mro__"
   ]
  },
  {
   "cell_type": "markdown",
   "id": "2e848eb3",
   "metadata": {},
   "source": [
    "## POLYMORPHISM"
   ]
  },
  {
   "cell_type": "markdown",
   "id": "50c6762b",
   "metadata": {},
   "source": [
    "#### Polymorphism allows objects of different types to be treated as if they were the same type, as long as they support a common interface or method.\n",
    "#### This simplifies code and promotes flexibility and code reuse.\n",
    "#### Polymorphism is achieved through methods such as method overriding, method overloading, and duck typing.\n",
    "## Method overriding: \n",
    "####     - Method overriding occurs when a subclass provides a specific implementation of a method that is already defined in its superclass.\n",
    "####     - It allows objects of different classes to respond to the same method call in different ways, based on their Individual implementations.\n",
    "## Method overloading: \n",
    "####     - Methed overloading refers to defining multiple methods with the same name but different parameters within a class.\n",
    "## Duck typing: \n",
    "####     - Duck typing is a concept in Python where the type or class of an object is less inportant than the methods it defines."
   ]
  },
  {
   "cell_type": "markdown",
   "id": "e1fdad02",
   "metadata": {},
   "source": [
    "## A. Method Overriding"
   ]
  },
  {
   "cell_type": "markdown",
   "id": "4d820beb",
   "metadata": {},
   "source": [
    "#### overeiding is the ability of a class (Sub Class / Child Class / Derived Class) to change the implementation of a sethod provided by one of its parent classes.\n",
    "#### When a method in a subclass has the same name, same parameter and same return type as a nethod in its super-class, then the method in the subclass is said to override the method in the super class. \n",
    "#### The version of a method that is executed will be determined by the object that is used to invoke it.\n",
    "#### If an object of a parent class is used to invoke the method, then the version in the parent class will be executed, but if an object of the subclass is used to invoke the method, then the version in the child class will be executed."
   ]
  },
  {
   "cell_type": "code",
   "execution_count": 22,
   "id": "f14767cc",
   "metadata": {},
   "outputs": [
    {
     "name": "stdout",
     "output_type": "stream",
     "text": [
      "DEF....\n",
      "Hii....\n"
     ]
    }
   ],
   "source": [
    "# Polymorphism\n",
    "\n",
    "class A:\n",
    "    \n",
    "    def ABC(self):\n",
    "        print(\"ABC....\")\n",
    "        \n",
    "class B(A):\n",
    "    \n",
    "    def DEF(self):\n",
    "        print(\"DEF....\")\n",
    "        \n",
    "    def ABC(self):\n",
    "        print(\"Hii....\")\n",
    "        \n",
    "obj = B()\n",
    "\n",
    "obj.DEF()\n",
    "\n",
    "obj.ABC()"
   ]
  },
  {
   "cell_type": "code",
   "execution_count": 30,
   "id": "e040462a",
   "metadata": {},
   "outputs": [
    {
     "name": "stdout",
     "output_type": "stream",
     "text": [
      "Hello Person.....\n",
      "Hello Student.....\n",
      "\n",
      "Hello Person.....\n"
     ]
    }
   ],
   "source": [
    "class person:\n",
    "    \n",
    "    def __init__(self,name,age,gender):\n",
    "        self.name = name\n",
    "        self.age = age\n",
    "        self.gender = gender\n",
    "        \n",
    "    def greet(self):\n",
    "        print(\"Hello Person.....\")\n",
    "        \n",
    "class student(person):\n",
    "    \n",
    "    def __init__(self,name,age,gender,studentid,fees):\n",
    "        person.__init__(self,name,age,gender)\n",
    "        self.studentid = studentid\n",
    "        self.fees = fees\n",
    "        \n",
    "    def greet(self):\n",
    "        #person.greet(self)\n",
    "        print(\"Hello Student.....\")\n",
    "        \n",
    "obj = student(\"Hema\",\"20\",\"Female\",\"111\",\"20000\")\n",
    "obj.greet()\n",
    "\n",
    "print()\n",
    "\n",
    "obj = person(\"Hema\",\"20\",\"Female\")\n",
    "obj.greet()"
   ]
  },
  {
   "cell_type": "markdown",
   "id": "6ce7be48",
   "metadata": {},
   "source": [
    "## B. Method Overloading"
   ]
  },
  {
   "cell_type": "markdown",
   "id": "3094a9a7",
   "metadata": {},
   "source": [
    "#### Method overloading refers to defining multiple methods with the same name but different parameters within a class.\n",
    "#### Unlike some other languages like Java or C+, Python does not support method overloading directly.\n",
    "#### However, you can achieve similar functionality by using default parameter values or variable-length argument lists (*args and **kwargs).\n"
   ]
  },
  {
   "cell_type": "code",
   "execution_count": 8,
   "id": "3baaa321",
   "metadata": {},
   "outputs": [
    {
     "name": "stdout",
     "output_type": "stream",
     "text": [
      "10\n"
     ]
    }
   ],
   "source": [
    "# Method Overloading\n",
    "\n",
    "class calculator:\n",
    "    def add(self,a,b):\n",
    "        return a+b\n",
    "    \n",
    "    def add(self,a,b,c):\n",
    "        return a+b+c\n",
    "    \n",
    "cal = calculator()\n",
    "print(cal.add(2,3,5))"
   ]
  },
  {
   "cell_type": "code",
   "execution_count": 4,
   "id": "6a2043dc",
   "metadata": {},
   "outputs": [
    {
     "name": "stdout",
     "output_type": "stream",
     "text": [
      "5\n",
      "12\n",
      "21\n"
     ]
    }
   ],
   "source": [
    "# Using *args\n",
    "\n",
    "class calculator:\n",
    "    def add(self,*args):\n",
    "        return sum(args)\n",
    "    \n",
    "# Creating object\n",
    "\n",
    "cal = calculator()\n",
    "\n",
    "print(cal.add(2,3))\n",
    "print(cal.add(3,5,4))\n",
    "print(cal.add(6,8,5,2))"
   ]
  },
  {
   "cell_type": "code",
   "execution_count": 14,
   "id": "c8a61a35",
   "metadata": {},
   "outputs": [
    {
     "name": "stdout",
     "output_type": "stream",
     "text": [
      "6\n",
      "13\n",
      "11\n"
     ]
    }
   ],
   "source": [
    "# Using **kwargs\n",
    "\n",
    "class calculator:\n",
    "    def add(self,**kwargs):\n",
    "        return sum(kwargs.values())\n",
    "    \n",
    "# Creating object\n",
    "\n",
    "cal = calculator()\n",
    "\n",
    "dict1 = {'a':1,'b':2,'c':3}\n",
    "\n",
    "print(cal.add(**dict1))\n",
    "print(cal.add(a=2,b=5,c=6))\n",
    "print(cal.add(h=6,k=2,p=3))"
   ]
  },
  {
   "cell_type": "code",
   "execution_count": 17,
   "id": "f983e532",
   "metadata": {},
   "outputs": [
    {
     "name": "stdout",
     "output_type": "stream",
     "text": [
      "Students are studying...\n",
      "Nothing...\n"
     ]
    }
   ],
   "source": [
    "# Duck Typing...\n",
    "\n",
    "class A:\n",
    "    def studying(self):\n",
    "        print(\"Students are studying...\")\n",
    "        \n",
    "class B:\n",
    "    #def writting(self):\n",
    "        #print(\"Students are writting...\")\n",
    "        \n",
    "    def studying(self):\n",
    "        print(\"Nothing...\")\n",
    "        \n",
    "def learning(dc):\n",
    "    dc.studying()\n",
    "    \n",
    "l = A()\n",
    "\n",
    "k = B()\n",
    "\n",
    "#l.studying()\n",
    "\n",
    "learning(l)\n",
    "learning(k)"
   ]
  },
  {
   "cell_type": "markdown",
   "id": "63673c46",
   "metadata": {},
   "source": [
    "## DATA ENCAPSULATION"
   ]
  },
  {
   "cell_type": "markdown",
   "id": "7251738b",
   "metadata": {},
   "source": [
    "#### Data encapsulation in Python refers to the bundling of data and methods that operate on that data within a class.\n",
    "#### It is a fundamental concept of object-oriented programming (OOP) that allows for the abstraction and protection of data preventing direct access from outside the class and ensuring data integrity.\n",
    "#### By defining attributes (data) and methods (functions) within a class, you encapsulate the data and behavior associated with that class, effectively creating a self-contained unit.\n",
    "#### Data encapsulation is carried out with private or protected attributes."
   ]
  },
  {
   "cell_type": "markdown",
   "id": "1af91c47",
   "metadata": {},
   "source": [
    "## 3 types of DATA Types:\n",
    "#### Public - Method/Variable can be accessed anywhere inside or outside of the class\n",
    "#### Private - Method/Variable can be accessed only inside the class\n",
    "#### Protected - It can be accessed through the subclass"
   ]
  },
  {
   "cell_type": "code",
   "execution_count": 12,
   "id": "411c4236",
   "metadata": {},
   "outputs": [
    {
     "name": "stdout",
     "output_type": "stream",
     "text": [
      "24\n"
     ]
    }
   ],
   "source": [
    "class A:\n",
    "    def __init__(self,name,age):\n",
    "        self.name = name\n",
    "        self.__age = age\n",
    "        \n",
    "    def B(self):\n",
    "        print(self.__age)\n",
    "        \n",
    "obj = A(\"SARAN\",24)\n",
    "#print(obj.name)\n",
    "#print(obj._age)   # private attribute __   # protected attribute _\n",
    "obj.B()"
   ]
  },
  {
   "cell_type": "code",
   "execution_count": 16,
   "id": "04140ddd",
   "metadata": {},
   "outputs": [
    {
     "name": "stdout",
     "output_type": "stream",
     "text": [
      "55\n",
      "\n",
      "Honda\n",
      "\n"
     ]
    },
    {
     "data": {
      "text/plain": [
       "63"
      ]
     },
     "execution_count": 16,
     "metadata": {},
     "output_type": "execute_result"
    }
   ],
   "source": [
    "# Private\n",
    "\n",
    "class Car:\n",
    "    def __init__(self,make,model,year):\n",
    "        self.make = make\n",
    "        self.model = model\n",
    "        self.__year = year\n",
    "        \n",
    "    def year(self):\n",
    "        print(self.__year)\n",
    "        \n",
    "obj = Car(55,\"Honda\",63)\n",
    "print(obj.make)\n",
    "print()\n",
    "\n",
    "print(obj.model)\n",
    "print()\n",
    "\n",
    "#obj.year()\n",
    "\n",
    "obj._Car__year     # USING HACKERS"
   ]
  },
  {
   "cell_type": "code",
   "execution_count": 35,
   "id": "5ccbbb5c",
   "metadata": {},
   "outputs": [
    {
     "name": "stdout",
     "output_type": "stream",
     "text": [
      "123456\n",
      "\n",
      "Hema\n",
      "\n",
      "0\n",
      "\n",
      "Deposit of $ 1000 successfully..\n",
      "\n",
      "1000\n",
      "\n",
      "Withdraw of $ 200 successfully..\n",
      "\n",
      "800\n"
     ]
    }
   ],
   "source": [
    "# Data Encapsulation Carried as Private attribute   __\n",
    "\n",
    "class BankAccount:\n",
    "    \n",
    "    def __init__(self,account_number,holder_name,balance=0):\n",
    "        self.__account_number = account_number\n",
    "        self.__holder_name = holder_name\n",
    "        self.__balance = balance\n",
    "        \n",
    "    def get_account_number(self):\n",
    "        return self.__account_number\n",
    "    \n",
    "    def get_holder_name(self):\n",
    "        return self.__holder_name\n",
    "    \n",
    "    def get_balance(self):\n",
    "        return self.__balance\n",
    "        \n",
    "    def deposit(self,amount):\n",
    "        if amount > 0:\n",
    "            self.__balance += amount\n",
    "            print(f\"Deposit of $ {amount} successfully..\")\n",
    "        else:\n",
    "            print(f\"Deposit amount must be greater than zero.\")\n",
    "            \n",
    "    def withdraw(self,amount):\n",
    "        if amount > 0 and amount <= self.__balance:\n",
    "            self.__balance -= amount\n",
    "            print(f\"Withdraw of $ {amount} successfully..\")\n",
    "        else:\n",
    "            print(f\"Insufficient funds or invalid withdrawl amount.\")\n",
    "            \n",
    "# Creating a BankAccount Object\n",
    "\n",
    "A = BankAccount(123456,\"Hema\")\n",
    "\n",
    "# Accessing encapsulated attributes\n",
    "\n",
    "print(A.get_account_number())\n",
    "print()\n",
    "\n",
    "print(A.get_holder_name())\n",
    "print()\n",
    "\n",
    "print(A.get_balance())\n",
    "print()\n",
    "\n",
    "# Modifying encapsulated attributes through methods\n",
    "\n",
    "A.deposit(1000)\n",
    "print()\n",
    "\n",
    "print(A.get_balance())\n",
    "print()\n",
    "\n",
    "A.withdraw(200)\n",
    "print()\n",
    "\n",
    "print(A.get_balance())"
   ]
  },
  {
   "cell_type": "code",
   "execution_count": 2,
   "id": "e19ceed1",
   "metadata": {},
   "outputs": [
    {
     "name": "stdout",
     "output_type": "stream",
     "text": [
      "123456\n",
      "\n",
      "Hema\n",
      "\n",
      "0\n",
      "\n",
      "Deposit of $ 1000 successfully..\n",
      "\n",
      "1000\n",
      "\n",
      "Withdraw of $ 200 successfully..\n",
      "\n",
      "800\n"
     ]
    }
   ],
   "source": [
    "# Data Encapsulation Carried as Protected attribute  _\n",
    "\n",
    "class BankAccount:\n",
    "    \n",
    "    def __init__(self,account_number,holder_name,balance=0):\n",
    "        self._account_number = account_number\n",
    "        self._holder_name = holder_name\n",
    "        self._balance = balance\n",
    "        \n",
    "    def get_account_number(self):\n",
    "        return self._account_number    ## getter()\n",
    "    \n",
    "    def get_holder_name(self):\n",
    "        return self._holder_name\n",
    "    \n",
    "    def get_balance(self):\n",
    "        return self._balance\n",
    "        \n",
    "    def deposit(self,amount):\n",
    "        if amount > 0:\n",
    "            self._balance += amount\n",
    "            print(f\"Deposit of $ {amount} successfully..\")\n",
    "        else:\n",
    "            print(f\"Deposit amount must be greater than zero.\")    # setter()\n",
    "            \n",
    "    def withdraw(self,amount):\n",
    "        if amount > 0 and amount <= self._balance:\n",
    "            self._balance -= amount\n",
    "            print(f\"Withdraw of $ {amount} successfully..\")\n",
    "        else:\n",
    "            print(f\"Insufficient funds or invalid withdrawl amount.\")\n",
    "            \n",
    "# Creating a BankAccount Object\n",
    "\n",
    "A = BankAccount(123456,\"Hema\")\n",
    "\n",
    "# Accessing encapsulated attributes\n",
    "\n",
    "print(A.get_account_number())\n",
    "print()\n",
    "\n",
    "print(A.get_holder_name())\n",
    "print()\n",
    "\n",
    "print(A.get_balance())\n",
    "print()\n",
    "\n",
    "# Modifying encapsulated attributes through methods\n",
    "\n",
    "A.deposit(1000)\n",
    "print()\n",
    "\n",
    "print(A.get_balance())\n",
    "print()\n",
    "\n",
    "A.withdraw(200)\n",
    "print()\n",
    "\n",
    "print(A.get_balance())"
   ]
  },
  {
   "cell_type": "markdown",
   "id": "10d20263",
   "metadata": {},
   "source": [
    "## DATA ABSTRACTION"
   ]
  },
  {
   "cell_type": "code",
   "execution_count": null,
   "id": "6a991948",
   "metadata": {},
   "outputs": [],
   "source": []
  },
  {
   "cell_type": "code",
   "execution_count": 12,
   "id": "2fa2d753",
   "metadata": {},
   "outputs": [
    {
     "name": "stdout",
     "output_type": "stream",
     "text": [
      "AREA:\n",
      "Area of Rectangle: 20\n",
      "Perimeter of Rectangle: 18\n",
      "\n",
      "CIRCLE:\n",
      "Area of Circle: 50.24\n",
      "Perimeter of Circle: 25.12\n"
     ]
    }
   ],
   "source": [
    "from abc import ABC, abstractmethod\n",
    "\n",
    "class Shape(ABC):\n",
    "    @abstractmethod\n",
    "    def area(self):\n",
    "        pass\n",
    "    \n",
    "    @abstractmethod\n",
    "    def perimeter(self):\n",
    "        pass\n",
    "\n",
    "# Define a concrete class representing a cicrle\n",
    "\n",
    "class Rectangle(Shape):\n",
    "    def __init__(self,width,height):\n",
    "        self.width = width\n",
    "        self.height = height\n",
    "        \n",
    "    def area(self):\n",
    "        return self.width * self.height\n",
    "    \n",
    "    def perimeter(self):\n",
    "        return 2 * (self.width + self.height)\n",
    "\n",
    "# Define a concrete class representing a cicrle    \n",
    "\n",
    "class Circle(Shape):\n",
    "    def __init__(self,radius):\n",
    "        self.radius = radius\n",
    "        \n",
    "    def area(self):\n",
    "        return 3.14 * self.radius ** 2\n",
    "    \n",
    "    def perimeter(self):\n",
    "        return 2 * 3.14 * self.radius\n",
    "    \n",
    "# Create Object\n",
    "\n",
    "R = Rectangle(4,5)\n",
    "print(\"AREA:\")\n",
    "print(\"Area of Rectangle:\",R.area())\n",
    "print(\"Perimeter of Rectangle:\",R.perimeter())\n",
    "\n",
    "print()\n",
    "\n",
    "C = Circle(4)\n",
    "print(\"CIRCLE:\")\n",
    "print(\"Area of Circle:\",C.area())\n",
    "print(\"Perimeter of Circle:\",C.perimeter())"
   ]
  },
  {
   "cell_type": "code",
   "execution_count": 26,
   "id": "1d1fb619",
   "metadata": {},
   "outputs": [
    {
     "name": "stdout",
     "output_type": "stream",
     "text": [
      "Account Number: 123456\n",
      "Holder Name: Hema\n",
      "Balance: 5000\n",
      "\n",
      "Deposit of $ 5500 successfully..\n",
      "Balance after deposit: 10500\n",
      "\n",
      "Withdraw of $ 500 successfully..\n",
      "Balance after withdrawl: 10000\n",
      "\n",
      "Deposit of $ 5500 successfully..\n",
      "Balance after deposit: 15500\n",
      "\n",
      "Interest of $155.0 applied.\n",
      "Balance after applying interest: 15655.0\n"
     ]
    }
   ],
   "source": [
    "from abc import ABC, abstractmethod\n",
    "\n",
    "class Account(ABC):\n",
    "    \n",
    "    def __init__(self,account_number,holder_name,balance=0):\n",
    "        self._account_number = account_number\n",
    "        self._holder_name = holder_name\n",
    "        self._balance = balance\n",
    "        \n",
    "    def get_account_number(self):\n",
    "        return self._account_number    ## getter()\n",
    "    \n",
    "    def get_holder_name(self):\n",
    "        return self._holder_name\n",
    "    \n",
    "    def get_balance(self):\n",
    "        return self._balance\n",
    "    \n",
    "    @abstractmethod\n",
    "    def deposit(self,amount):\n",
    "        pass\n",
    "    \n",
    "    @abstractmethod\n",
    "    def withdraw(self,amount):\n",
    "        pass\n",
    "    \n",
    "class SavingsAccount(Account):\n",
    "    def __init__(self,account_number,holder_name,balance=0,interest_rate=0.01):\n",
    "        super().__init__(account_number,holder_name,balance)\n",
    "        self._interest_rate = interest_rate\n",
    "        \n",
    "    def deposit(self,amount):\n",
    "        if amount > 0:\n",
    "            self._balance += amount\n",
    "            print(f\"Deposit of $ {amount} successfully..\")\n",
    "        else:\n",
    "            print(f\"Deposit amount must be greater than zero.\")    # setter()\n",
    "            \n",
    "    def withdraw(self,amount):\n",
    "        if amount > 0 and amount <= self._balance:\n",
    "            self._balance -= amount\n",
    "            print(f\"Withdraw of $ {amount} successfully..\")\n",
    "        else:\n",
    "            print(f\"Insufficient funds or invalid withdrawl amount.\")\n",
    "            \n",
    "    def apply_interest(self):\n",
    "        interest = self._balance * self._interest_rate\n",
    "        self._balance += interest\n",
    "        print(f\"Interest of ${interest} applied.\")\n",
    "        \n",
    "# Create Object\n",
    "\n",
    "S = SavingsAccount(\"123456\",\"Hema\",5000)\n",
    "\n",
    "# Interact with the SavingsAccount Object\n",
    "\n",
    "print(\"Account Number:\",S.get_account_number())\n",
    "print(\"Holder Name:\",S.get_holder_name())        \n",
    "print(\"Balance:\",S.get_balance())\n",
    "print()\n",
    "\n",
    "S.deposit(5500)\n",
    "print(\"Balance after deposit:\",S.get_balance())\n",
    "print()\n",
    "\n",
    "S.withdraw(500)\n",
    "print(\"Balance after withdrawl:\",S.get_balance())\n",
    "print()\n",
    "\n",
    "S.deposit(5500)\n",
    "print(\"Balance after deposit:\",S.get_balance())\n",
    "print()\n",
    "\n",
    "S.apply_interest()\n",
    "print(\"Balance after applying interest:\",S.get_balance())"
   ]
  },
  {
   "cell_type": "code",
   "execution_count": null,
   "id": "859a0296",
   "metadata": {},
   "outputs": [],
   "source": []
  },
  {
   "cell_type": "code",
   "execution_count": null,
   "id": "d07f9f05",
   "metadata": {},
   "outputs": [],
   "source": []
  },
  {
   "cell_type": "code",
   "execution_count": null,
   "id": "1494637c",
   "metadata": {},
   "outputs": [],
   "source": []
  },
  {
   "cell_type": "code",
   "execution_count": null,
   "id": "eb33840e",
   "metadata": {},
   "outputs": [],
   "source": []
  }
 ],
 "metadata": {
  "kernelspec": {
   "display_name": "Python 3 (ipykernel)",
   "language": "python",
   "name": "python3"
  },
  "language_info": {
   "codemirror_mode": {
    "name": "ipython",
    "version": 3
   },
   "file_extension": ".py",
   "mimetype": "text/x-python",
   "name": "python",
   "nbconvert_exporter": "python",
   "pygments_lexer": "ipython3",
   "version": "3.11.3"
  }
 },
 "nbformat": 4,
 "nbformat_minor": 5
}
