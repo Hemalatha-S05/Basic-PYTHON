{
 "cells": [
  {
   "cell_type": "code",
   "execution_count": 1,
   "id": "f7895764",
   "metadata": {},
   "outputs": [
    {
     "name": "stdout",
     "output_type": "stream",
     "text": [
      "['False', 'None', 'True', 'and', 'as', 'assert', 'async', 'await', 'break', 'class', 'continue', 'def', 'del', 'elif', 'else', 'except', 'finally', 'for', 'from', 'global', 'if', 'import', 'in', 'is', 'lambda', 'nonlocal', 'not', 'or', 'pass', 'raise', 'return', 'try', 'while', 'with', 'yield']\n"
     ]
    }
   ],
   "source": [
    "import sys\n",
    "import keyword\n",
    "import operator\n",
    "from datetime import datetime\n",
    "import os\n",
    "print(keyword.kwlist)"
   ]
  },
  {
   "cell_type": "code",
   "execution_count": 4,
   "id": "4c5277ab",
   "metadata": {},
   "outputs": [
    {
     "data": {
      "text/plain": [
       "35"
      ]
     },
     "execution_count": 4,
     "metadata": {},
     "output_type": "execute_result"
    }
   ],
   "source": [
    "len(keyword.kwlist)"
   ]
  },
  {
   "cell_type": "markdown",
   "id": "2e12d044",
   "metadata": {},
   "source": [
    "## Identifiers"
   ]
  },
  {
   "cell_type": "code",
   "execution_count": 6,
   "id": "985521ec",
   "metadata": {},
   "outputs": [
    {
     "data": {
      "text/plain": [
       "11"
      ]
     },
     "execution_count": 6,
     "metadata": {},
     "output_type": "execute_result"
    }
   ],
   "source": [
    "var=11\n",
    "var"
   ]
  },
  {
   "cell_type": "code",
   "execution_count": 2,
   "id": "6cfe8b47",
   "metadata": {},
   "outputs": [
    {
     "name": "stdout",
     "output_type": "stream",
     "text": [
      "11\n"
     ]
    }
   ],
   "source": [
    "var_1=11\n",
    "print(var_1)"
   ]
  },
  {
   "cell_type": "code",
   "execution_count": 9,
   "id": "1e9a9e67",
   "metadata": {},
   "outputs": [
    {
     "data": {
      "text/plain": [
       "11"
      ]
     },
     "execution_count": 9,
     "metadata": {},
     "output_type": "execute_result"
    }
   ],
   "source": [
    "hello=11\n",
    "hello"
   ]
  },
  {
   "cell_type": "code",
   "execution_count": 2,
   "id": "a6292b6b",
   "metadata": {},
   "outputs": [
    {
     "data": {
      "text/plain": [
       "11"
      ]
     },
     "execution_count": 2,
     "metadata": {},
     "output_type": "execute_result"
    }
   ],
   "source": [
    "hello_1=11\n",
    "hello_1"
   ]
  },
  {
   "cell_type": "code",
   "execution_count": 11,
   "id": "06043025",
   "metadata": {},
   "outputs": [
    {
     "data": {
      "text/plain": [
       "11"
      ]
     },
     "execution_count": 11,
     "metadata": {},
     "output_type": "execute_result"
    }
   ],
   "source": [
    "_var=11\n",
    "_var"
   ]
  },
  {
   "cell_type": "code",
   "execution_count": 13,
   "id": "22520183",
   "metadata": {},
   "outputs": [
    {
     "name": "stdout",
     "output_type": "stream",
     "text": [
      "45\n"
     ]
    }
   ],
   "source": [
    "int=45\n",
    "print(int)"
   ]
  },
  {
   "cell_type": "code",
   "execution_count": 1,
   "id": "dc6765b3",
   "metadata": {},
   "outputs": [
    {
     "name": "stdout",
     "output_type": "stream",
     "text": [
      "45\n"
     ]
    }
   ],
   "source": [
    "print(45)"
   ]
  },
  {
   "cell_type": "code",
   "execution_count": 4,
   "id": "e8e74ee7",
   "metadata": {},
   "outputs": [
    {
     "name": "stdout",
     "output_type": "stream",
     "text": [
      "Data Science and Data Analytics\n"
     ]
    }
   ],
   "source": [
    "print(\"Data Science and Data Analytics\")"
   ]
  },
  {
   "cell_type": "markdown",
   "id": "0166f878",
   "metadata": {},
   "source": [
    "## ARITHMETIC OPERATION"
   ]
  },
  {
   "cell_type": "code",
   "execution_count": 5,
   "id": "41556847",
   "metadata": {},
   "outputs": [
    {
     "name": "stdout",
     "output_type": "stream",
     "text": [
      "33\n",
      "Subtraction: 9\n",
      "Multiplication: 252\n"
     ]
    }
   ],
   "source": [
    "a=21\n",
    "b=12\n",
    "\n",
    "c=a+b\n",
    "d=a-b\n",
    "e=a*b\n",
    "f=a/b\n",
    "g=a%b\n",
    "h=a//b\n",
    "\n",
    "print(c)\n",
    "print(\"Subtraction:\",d)\n",
    "print(\"Multiplication:\",e)"
   ]
  },
  {
   "cell_type": "markdown",
   "id": "ead00831",
   "metadata": {},
   "source": [
    "## ASSIGNMENT OPERATOR"
   ]
  },
  {
   "cell_type": "code",
   "execution_count": 17,
   "id": "a6145bc5",
   "metadata": {},
   "outputs": [
    {
     "name": "stdout",
     "output_type": "stream",
     "text": [
      "10\n",
      "20\n",
      "10.0\n",
      "8.0\n"
     ]
    }
   ],
   "source": [
    "a=8\n",
    "\n",
    "a+=2    # a = a+2\n",
    "print(a)\n",
    "a*=2    # a = a*2\n",
    "print(a)\n",
    "a/=2   # a = a/2\n",
    "print(a)\n",
    "a-=2   # a = a-2\n",
    "print(a)"
   ]
  },
  {
   "cell_type": "markdown",
   "id": "8688b153",
   "metadata": {},
   "source": [
    "## COMPARISION OPERATOR"
   ]
  },
  {
   "cell_type": "code",
   "execution_count": 21,
   "id": "bb0fab54",
   "metadata": {},
   "outputs": [
    {
     "name": "stdout",
     "output_type": "stream",
     "text": [
      "False\n",
      "True\n",
      "False\n",
      "True\n",
      "False\n",
      "True\n"
     ]
    }
   ],
   "source": [
    "a=100\n",
    "b=41\n",
    "\n",
    "print(a<b)\n",
    "print(a>b)\n",
    "print(a<=b)\n",
    "print(a>=b)\n",
    "print(a==b)\n",
    "print(a!=b)"
   ]
  },
  {
   "cell_type": "markdown",
   "id": "4be647d6",
   "metadata": {},
   "source": [
    "## LOGICAL OPERATOR"
   ]
  },
  {
   "cell_type": "code",
   "execution_count": 28,
   "id": "e7fefb1c",
   "metadata": {},
   "outputs": [
    {
     "name": "stdout",
     "output_type": "stream",
     "text": [
      "False\n",
      "True\n",
      "True\n"
     ]
    }
   ],
   "source": [
    "a=54\n",
    "b=42\n",
    "c=42\n",
    "\n",
    "print((a<=b)and(a!=b))\n",
    "\n",
    "print((a<b)or(b==c))\n",
    "\n",
    "print(not(a<b))"
   ]
  },
  {
   "cell_type": "markdown",
   "id": "61829109",
   "metadata": {},
   "source": [
    "## CONDITIONAL STATEMENTS"
   ]
  },
  {
   "cell_type": "code",
   "execution_count": 32,
   "id": "360e2b83",
   "metadata": {},
   "outputs": [
    {
     "name": "stdout",
     "output_type": "stream",
     "text": [
      "EVEN\n"
     ]
    }
   ],
   "source": [
    "i=22\n",
    "\n",
    "if i%2 == 0:\n",
    "    print(\"EVEN\")\n",
    "    \n",
    "if i%2 != 0:\n",
    "    print(\"ODD\")\n"
   ]
  },
  {
   "cell_type": "code",
   "execution_count": 1,
   "id": "4403fed3",
   "metadata": {},
   "outputs": [
    {
     "name": "stdout",
     "output_type": "stream",
     "text": [
      "You are eligible to vote\n"
     ]
    }
   ],
   "source": [
    "i=18\n",
    "\n",
    "if i == 18:\n",
    "    print(\"You are eligible to vote\")\n",
    "\n",
    "else:\n",
    "    print(\"You are not eligible to vote\")"
   ]
  },
  {
   "cell_type": "code",
   "execution_count": 3,
   "id": "d1f3e26f",
   "metadata": {},
   "outputs": [
    {
     "name": "stdout",
     "output_type": "stream",
     "text": [
      "Eliglible to vote\n"
     ]
    }
   ],
   "source": [
    "i=32\n",
    "\n",
    "if i <= 18:\n",
    "    print(\"Not eligible to vote\")\n",
    "    \n",
    "elif i >= 18:\n",
    "    print(\"Eliglible to vote\")\n",
    "    \n",
    "elif i == 18:\n",
    "    print(\"You are eliglible to vote\")\n",
    "    \n",
    "else:\n",
    "    print(\"None of them\")"
   ]
  },
  {
   "cell_type": "code",
   "execution_count": 4,
   "id": "a3de0b12",
   "metadata": {},
   "outputs": [
    {
     "name": "stdout",
     "output_type": "stream",
     "text": [
      "-55 is divisible by 5\n",
      "-55 is not divisible by 10\n"
     ]
    }
   ],
   "source": [
    "i = -55\n",
    "\n",
    "if i%5 == 0:\n",
    "    print(i,\"is divisible by 5\")\n",
    "    if i%10 == 0:\n",
    "        print(i,\"is divisible by 10\")\n",
    "    else:\n",
    "        print(i,\"is not divisible by 10\")\n",
    "else:\n",
    "    print(i,\"is not divisible by 5\")"
   ]
  },
  {
   "cell_type": "markdown",
   "id": "1c0fcbb8",
   "metadata": {},
   "source": [
    "## DATA TYPES"
   ]
  },
  {
   "cell_type": "code",
   "execution_count": 4,
   "id": "8a58bb0c",
   "metadata": {},
   "outputs": [
    {
     "name": "stdout",
     "output_type": "stream",
     "text": [
      "Enter the value:55\n"
     ]
    },
    {
     "data": {
      "text/plain": [
       "int"
      ]
     },
     "execution_count": 4,
     "metadata": {},
     "output_type": "execute_result"
    }
   ],
   "source": [
    "in_val =int(input(\"Enter the value:\"))\n",
    "type(in_val)"
   ]
  },
  {
   "cell_type": "code",
   "execution_count": 5,
   "id": "8b9bfd13",
   "metadata": {},
   "outputs": [
    {
     "name": "stdout",
     "output_type": "stream",
     "text": [
      "55.0\n",
      "<class 'float'>\n"
     ]
    }
   ],
   "source": [
    "a = float(in_val)\n",
    "print(a)\n",
    "print(type(a))"
   ]
  },
  {
   "cell_type": "code",
   "execution_count": 6,
   "id": "23cdeb07",
   "metadata": {},
   "outputs": [
    {
     "name": "stdout",
     "output_type": "stream",
     "text": [
      "55.0\n",
      "<class 'str'>\n"
     ]
    }
   ],
   "source": [
    "string_val = str(a)\n",
    "print(string_val)\n",
    "print(type(string_val))"
   ]
  },
  {
   "cell_type": "code",
   "execution_count": 11,
   "id": "9401bcbc",
   "metadata": {},
   "outputs": [
    {
     "name": "stdout",
     "output_type": "stream",
     "text": [
      "15\n",
      "<class 'int'>\n",
      "(15+0j)\n",
      "<class 'complex'>\n"
     ]
    }
   ],
   "source": [
    "a = 15\n",
    "print(a)\n",
    "print(type(a))\n",
    "\n",
    "b = complex(a)\n",
    "print(b)\n",
    "print(type(b))"
   ]
  },
  {
   "cell_type": "code",
   "execution_count": 12,
   "id": "f110b7a2",
   "metadata": {},
   "outputs": [
    {
     "name": "stdout",
     "output_type": "stream",
     "text": [
      "15.421\n",
      "<class 'float'>\n",
      "(15.421+0j)\n",
      "<class 'complex'>\n"
     ]
    }
   ],
   "source": [
    "a = 15.421\n",
    "print(a)\n",
    "print(type(a))\n",
    "\n",
    "b = complex(a)\n",
    "print(b)\n",
    "print(type(b))"
   ]
  },
  {
   "cell_type": "code",
   "execution_count": 14,
   "id": "20722689",
   "metadata": {},
   "outputs": [
    {
     "name": "stdout",
     "output_type": "stream",
     "text": [
      "(15.421+0j)\n",
      "<class 'complex'>\n"
     ]
    }
   ],
   "source": [
    "a = complex(b)\n",
    "print(a)\n",
    "print(type(a))"
   ]
  },
  {
   "cell_type": "code",
   "execution_count": 15,
   "id": "65dcd3d3",
   "metadata": {},
   "outputs": [
    {
     "ename": "TypeError",
     "evalue": "int() argument must be a string, a bytes-like object or a real number, not 'complex'",
     "output_type": "error",
     "traceback": [
      "\u001b[1;31m---------------------------------------------------------------------------\u001b[0m",
      "\u001b[1;31mTypeError\u001b[0m                                 Traceback (most recent call last)",
      "Cell \u001b[1;32mIn[15], line 4\u001b[0m\n\u001b[0;32m      1\u001b[0m \u001b[38;5;66;03m# You cannot convert complex to int or float type\u001b[39;00m\n\u001b[0;32m      3\u001b[0m a \u001b[38;5;241m=\u001b[39m \u001b[38;5;241m101\u001b[39m\u001b[38;5;241m+\u001b[39m\u001b[38;5;241m7\u001b[39mj\n\u001b[1;32m----> 4\u001b[0m b \u001b[38;5;241m=\u001b[39m \u001b[38;5;28mint\u001b[39m(a)\n",
      "\u001b[1;31mTypeError\u001b[0m: int() argument must be a string, a bytes-like object or a real number, not 'complex'"
     ]
    }
   ],
   "source": [
    "# You cannot convert complex to int or float type\n",
    "\n",
    "a = 101+7j\n",
    "b = int(a)"
   ]
  },
  {
   "cell_type": "code",
   "execution_count": 2,
   "id": "597859fb",
   "metadata": {},
   "outputs": [
    {
     "name": "stdout",
     "output_type": "stream",
     "text": [
      "(10+2j)\n",
      "<class 'complex'>\n"
     ]
    }
   ],
   "source": [
    "# typecasting complex to str\n",
    "\n",
    "a = 10+2j\n",
    "b = (a)\n",
    "print(b)\n",
    "print(type(b))"
   ]
  },
  {
   "cell_type": "code",
   "execution_count": 17,
   "id": "5dffaaaa",
   "metadata": {},
   "outputs": [
    {
     "name": "stdout",
     "output_type": "stream",
     "text": [
      "(10.41+4j)\n",
      "<class 'str'>\n"
     ]
    }
   ],
   "source": [
    "a = 10.41+4j\n",
    "b = str(a)\n",
    "print(b)\n",
    "print(type(b))"
   ]
  },
  {
   "cell_type": "code",
   "execution_count": 19,
   "id": "5d0c921b",
   "metadata": {},
   "outputs": [
    {
     "name": "stdout",
     "output_type": "stream",
     "text": [
      "Enter the number:2\n",
      "Ooty\n"
     ]
    }
   ],
   "source": [
    "input_val = int(input(\"Enter the number:\"))\n",
    "\n",
    "if (input_val>=2) and (input_val<=5):\n",
    "    print(\"Ooty\")\n",
    "elif (input_val>=4) and (input_val<=6):\n",
    "    print(\"Goa\")\n",
    "elif ((input_val>=10) and (input_val<=13)) or (input_val==2):\n",
    "    print(\"Munnar\")\n",
    "else:\n",
    "    print(\"Invalid\")\n"
   ]
  },
  {
   "cell_type": "markdown",
   "id": "51f6a838",
   "metadata": {},
   "source": [
    "## LOOPING STATEMENTS"
   ]
  },
  {
   "cell_type": "code",
   "execution_count": 6,
   "id": "07b92523",
   "metadata": {},
   "outputs": [
    {
     "name": "stdout",
     "output_type": "stream",
     "text": [
      "1\n",
      "2\n",
      "3\n",
      "4\n",
      "5\n"
     ]
    }
   ],
   "source": [
    "# for\n",
    "a=[1,2,3,4,5]\n",
    "for i in a: \n",
    "    print(i)\n"
   ]
  },
  {
   "cell_type": "code",
   "execution_count": 7,
   "id": "7c725667",
   "metadata": {},
   "outputs": [
    {
     "name": "stdout",
     "output_type": "stream",
     "text": [
      "0\n",
      "1\n",
      "2\n",
      "3\n",
      "4\n"
     ]
    }
   ],
   "source": [
    "for i in range(5):\n",
    "    print(i)"
   ]
  },
  {
   "cell_type": "code",
   "execution_count": 8,
   "id": "5cf1fd12",
   "metadata": {},
   "outputs": [
    {
     "name": "stdout",
     "output_type": "stream",
     "text": [
      "41\n",
      "42\n",
      "43\n",
      "44\n",
      "45\n",
      "46\n"
     ]
    }
   ],
   "source": [
    "for i in range(41,47): # 41,42,43,44,45,46\n",
    "    print(i)"
   ]
  },
  {
   "cell_type": "code",
   "execution_count": 24,
   "id": "b4c89f07",
   "metadata": {},
   "outputs": [
    {
     "name": "stdout",
     "output_type": "stream",
     "text": [
      "82\n",
      "84\n",
      "86\n",
      "88\n"
     ]
    }
   ],
   "source": [
    "for i in range(41,45): # 41,42,43,44\n",
    "    print(i*2)"
   ]
  },
  {
   "cell_type": "code",
   "execution_count": 27,
   "id": "b455232e",
   "metadata": {},
   "outputs": [
    {
     "name": "stdout",
     "output_type": "stream",
     "text": [
      "41\n",
      "44\n",
      "47\n",
      "50\n",
      "53\n"
     ]
    }
   ],
   "source": [
    "for i in range(41,54,3):\n",
    "    print(i)"
   ]
  },
  {
   "cell_type": "code",
   "execution_count": 28,
   "id": "0ec1f9c5",
   "metadata": {},
   "outputs": [
    {
     "name": "stdout",
     "output_type": "stream",
     "text": [
      "82\n",
      "86\n",
      "90\n",
      "94\n",
      "98\n",
      "102\n",
      "106\n"
     ]
    }
   ],
   "source": [
    "for i in range(41,54,2): # 41,42,43,44,45,46,47,48,49,50,51,52,53   (skip-2 -> 41,43,45,47,49,51,53)\n",
    "    print(i*2)"
   ]
  },
  {
   "cell_type": "code",
   "execution_count": 11,
   "id": "a64c7cd6",
   "metadata": {},
   "outputs": [
    {
     "name": "stdout",
     "output_type": "stream",
     "text": [
      "0\n",
      "\n",
      "0\n",
      "1\n",
      "\n",
      "0\n",
      "1\n",
      "2\n",
      "\n",
      "0\n",
      "1\n",
      "2\n",
      "3\n",
      "\n"
     ]
    }
   ],
   "source": [
    "# Nested loop\n",
    "\n",
    "for i in range(1,5):   # 1,2,3,4\n",
    "    for j in range(i):\n",
    "        print(j)\n",
    "    print()"
   ]
  },
  {
   "cell_type": "code",
   "execution_count": 7,
   "id": "02969233",
   "metadata": {},
   "outputs": [
    {
     "name": "stdout",
     "output_type": "stream",
     "text": [
      "1\n",
      "\n",
      "2\n",
      "2\n",
      "\n",
      "3\n",
      "3\n",
      "3\n",
      "\n",
      "4\n",
      "4\n",
      "4\n",
      "4\n",
      "\n"
     ]
    }
   ],
   "source": [
    "for i in range(1,5):  # 1,2,3,4\n",
    "    for j in range(i):\n",
    "        print(i)\n",
    "    print()"
   ]
  },
  {
   "cell_type": "code",
   "execution_count": 12,
   "id": "5c3917d8",
   "metadata": {},
   "outputs": [
    {
     "name": "stdout",
     "output_type": "stream",
     "text": [
      "Hii\n",
      "Hii\n",
      "Hii\n",
      "\n",
      "Python\n",
      "Python\n",
      "Python\n",
      "Python\n",
      "Python\n",
      "Python\n",
      "\n"
     ]
    }
   ],
   "source": [
    "str=['Hii','Python']\n",
    "for i in str:\n",
    "    for j in i:\n",
    "        print(i)\n",
    "    print()"
   ]
  },
  {
   "cell_type": "code",
   "execution_count": 9,
   "id": "478e21e1",
   "metadata": {},
   "outputs": [
    {
     "name": "stdout",
     "output_type": "stream",
     "text": [
      "H\n",
      "e\n",
      "l\n",
      "l\n",
      "o\n",
      "\n",
      "P\n",
      "y\n",
      "t\n",
      "h\n",
      "o\n",
      "n\n",
      "\n"
     ]
    }
   ],
   "source": [
    "str=['Hello','Python']\n",
    "for i in str:\n",
    "    for j in i:\n",
    "        print(j)\n",
    "    print()"
   ]
  },
  {
   "cell_type": "code",
   "execution_count": 11,
   "id": "906c3523",
   "metadata": {},
   "outputs": [
    {
     "name": "stdout",
     "output_type": "stream",
     "text": [
      "0 \n",
      "0 1 \n",
      "0 1 2 \n",
      "0 1 2 3 \n",
      "0 1 2 3 4 \n"
     ]
    }
   ],
   "source": [
    "for i in range(1,6):    # Outer loop for rows\n",
    "    for j in range(i):  # Inner loop for printing stars in each row\n",
    "        print(j,end=' ') # Substitude * for this\n",
    "    print()"
   ]
  },
  {
   "cell_type": "code",
   "execution_count": 12,
   "id": "fd690376",
   "metadata": {},
   "outputs": [
    {
     "name": "stdout",
     "output_type": "stream",
     "text": [
      "* \n",
      "* * \n",
      "* * * \n",
      "* * * * \n",
      "* * * * * \n"
     ]
    }
   ],
   "source": [
    "for i in range(1,6):    # Outer loop for rows\n",
    "    for j in range(i):  # Inner loop for printing stars in each row\n",
    "        print('*',end=' ') # Substitude * for this\n",
    "    print()"
   ]
  },
  {
   "cell_type": "code",
   "execution_count": 14,
   "id": "6aabc646",
   "metadata": {},
   "outputs": [
    {
     "name": "stdout",
     "output_type": "stream",
     "text": [
      "0 1 2 3 4 \n",
      "0 1 2 3 \n",
      "0 1 2 \n",
      "0 1 \n",
      "0 \n"
     ]
    }
   ],
   "source": [
    "for i in range(5,0,-1):\n",
    "    for j in range(i):\n",
    "        print(j,end=' ')\n",
    "    print()"
   ]
  },
  {
   "cell_type": "code",
   "execution_count": 15,
   "id": "7e1022c8",
   "metadata": {},
   "outputs": [
    {
     "name": "stdout",
     "output_type": "stream",
     "text": [
      "* * * * * \n",
      "* * * * \n",
      "* * * \n",
      "* * \n",
      "* \n"
     ]
    }
   ],
   "source": [
    "for i in range(5,0,-1):\n",
    "    for j in range(i):\n",
    "        print('*',end=' ')\n",
    "    print()"
   ]
  },
  {
   "cell_type": "code",
   "execution_count": 17,
   "id": "6bc85efa",
   "metadata": {},
   "outputs": [
    {
     "name": "stdout",
     "output_type": "stream",
     "text": [
      "543210 \n",
      "54320 1 \n",
      "5430 1 2 \n",
      "540 1 2 3 \n",
      "50 1 2 3 4 \n"
     ]
    }
   ],
   "source": [
    "for i in range(5):\n",
    "    for j in range(5,i,-1):\n",
    "        print(j,end='')\n",
    "    for j in range(i+1):\n",
    "        print(j,end=' ')\n",
    "    print()"
   ]
  },
  {
   "cell_type": "code",
   "execution_count": 18,
   "id": "ffd8a2fa",
   "metadata": {},
   "outputs": [
    {
     "name": "stdout",
     "output_type": "stream",
     "text": [
      "     * \n",
      "    * * \n",
      "   * * * \n",
      "  * * * * \n",
      " * * * * * \n"
     ]
    }
   ],
   "source": [
    "for i in range(5):\n",
    "    for j in range(5,i,-1):\n",
    "        print(' ',end='')\n",
    "    for j in range(i+1):\n",
    "        print('*',end=' ')\n",
    "    print()"
   ]
  },
  {
   "cell_type": "code",
   "execution_count": 27,
   "id": "1f13d747",
   "metadata": {},
   "outputs": [
    {
     "name": "stdout",
     "output_type": "stream",
     "text": [
      "     @ \n",
      "    @ @ \n",
      "   @ @ @ \n",
      "  @ @ @ @ \n",
      " @ @ @ @ @ \n"
     ]
    }
   ],
   "source": [
    "for i in range(5):\n",
    "    for j in range(5,i,-1):\n",
    "        print(' ',end='')\n",
    "    for j in range(i+1):\n",
    "        print('@',end=' ')\n",
    "    print()"
   ]
  },
  {
   "cell_type": "code",
   "execution_count": null,
   "id": "435001d6",
   "metadata": {},
   "outputs": [],
   "source": [
    "for i in range(5):\n",
    "    for j in range(5,i,-1):\n",
    "        print(j,end='')\n",
    "    for j in range(i+1):\n",
    "        print(j,end=' ')\n",
    "    print()"
   ]
  },
  {
   "cell_type": "code",
   "execution_count": null,
   "id": "9675a9c1",
   "metadata": {},
   "outputs": [],
   "source": []
  },
  {
   "cell_type": "code",
   "execution_count": null,
   "id": "b921cbfe",
   "metadata": {},
   "outputs": [],
   "source": []
  },
  {
   "cell_type": "code",
   "execution_count": null,
   "id": "914030db",
   "metadata": {},
   "outputs": [],
   "source": []
  },
  {
   "cell_type": "code",
   "execution_count": null,
   "id": "16271822",
   "metadata": {},
   "outputs": [],
   "source": []
  },
  {
   "cell_type": "code",
   "execution_count": 31,
   "id": "bf402cca",
   "metadata": {},
   "outputs": [
    {
     "name": "stdout",
     "output_type": "stream",
     "text": [
      "1\n",
      "2\n",
      "4\n",
      "8\n",
      "16\n"
     ]
    }
   ],
   "source": [
    "# while\n",
    "\n",
    "i=1\n",
    "\n",
    "while i<20:\n",
    "    print(i)\n",
    "    i*=2   # i=i*2\n"
   ]
  },
  {
   "cell_type": "code",
   "execution_count": 21,
   "id": "b316dfca",
   "metadata": {},
   "outputs": [
    {
     "name": "stdout",
     "output_type": "stream",
     "text": [
      "Rounded to 0 decimal place: 452.0\n",
      "Rounded to 3 decimal place: 452.146\n",
      "Rounded to 2 decimal place: 452.15\n",
      "Floor: 452\n",
      "Floor: 453\n"
     ]
    }
   ],
   "source": [
    "# floor, ceil and round\n",
    "\n",
    "import math\n",
    "\n",
    "output = 452.1458\n",
    "\n",
    "a=round(output,0)\n",
    "b=round(output,3)\n",
    "c=round(output,2)\n",
    "d=math.floor(output)\n",
    "e=math.ceil(output)\n",
    "\n",
    "print(\"Rounded to 0 decimal place:\",a)\n",
    "print(\"Rounded to 3 decimal place:\",b)\n",
    "print(\"Rounded to 2 decimal place:\",c)\n",
    "print(\"Floor:\",d)\n",
    "print(\"Floor:\",e)"
   ]
  },
  {
   "cell_type": "markdown",
   "id": "1d173e3f",
   "metadata": {},
   "source": [
    "## MEMBERSHIP OPERATOR"
   ]
  },
  {
   "cell_type": "code",
   "execution_count": 20,
   "id": "96114e36",
   "metadata": {},
   "outputs": [
    {
     "name": "stdout",
     "output_type": "stream",
     "text": [
      "False\n",
      "A E True\n"
     ]
    }
   ],
   "source": [
    "# in,not in\n",
    "\n",
    "str1=\"ABCDEFGHIJKL\"\n",
    "print(\"E\" not in str1)\n",
    "print(\"A\",'E','E' in str1)"
   ]
  },
  {
   "cell_type": "code",
   "execution_count": 21,
   "id": "6686ef7a",
   "metadata": {},
   "outputs": [
    {
     "name": "stdout",
     "output_type": "stream",
     "text": [
      "0\n",
      "1\n",
      "2\n",
      "3\n",
      "4\n",
      "5\n",
      "6\n",
      "7\n",
      "8\n",
      "9\n"
     ]
    }
   ],
   "source": [
    "for i in range(10):\n",
    "    print(i)\n"
   ]
  },
  {
   "cell_type": "code",
   "execution_count": 14,
   "id": "b14d8b88",
   "metadata": {},
   "outputs": [
    {
     "name": "stdout",
     "output_type": "stream",
     "text": [
      "The square root of number 0 is: 0\n",
      "The square root of number 1 is: 1\n",
      "The square root of number 2 is: 4\n",
      "The square root of number 3 is: 9\n",
      "The square root of number 4 is: 16\n",
      "The square root of number 5 is: 25\n",
      "The square root of number 6 is: 36\n",
      "The square root of number 7 is: 49\n",
      "The square root of number 8 is: 64\n",
      "The square root of number 9 is: 81\n"
     ]
    }
   ],
   "source": [
    "for i in range(0,10):\n",
    "    print(\"The square root of number\", i,\"is:\",i**2)"
   ]
  },
  {
   "cell_type": "code",
   "execution_count": 1,
   "id": "452f2738",
   "metadata": {},
   "outputs": [
    {
     "name": "stdout",
     "output_type": "stream",
     "text": [
      "Hello HI\n"
     ]
    }
   ],
   "source": [
    "print(\"Hello\",\"HI\")"
   ]
  },
  {
   "cell_type": "code",
   "execution_count": 5,
   "id": "daa6f015",
   "metadata": {},
   "outputs": [
    {
     "name": "stdout",
     "output_type": "stream",
     "text": [
      "Hema2004\n",
      "<class 'str'>\n"
     ]
    }
   ],
   "source": [
    "str1 = \"Hema\"\n",
    "str2 = \"2004\"\n",
    "str3 = str1+str2\n",
    "str3\n",
    "print(str3)\n",
    "print(type(str3))"
   ]
  },
  {
   "cell_type": "code",
   "execution_count": 25,
   "id": "0ad6e365",
   "metadata": {},
   "outputs": [
    {
     "name": "stdout",
     "output_type": "stream",
     "text": [
      "Its soooooooooobeautifulbeautiful\n"
     ]
    }
   ],
   "source": [
    "#print(str3)\n",
    "print(\"Its s\"+\"o\" * 10+\"beautiful\" * 2)"
   ]
  },
  {
   "cell_type": "code",
   "execution_count": 5,
   "id": "e476f374",
   "metadata": {},
   "outputs": [
    {
     "name": "stdout",
     "output_type": "stream",
     "text": [
      "----1111--------1111--------1111--------1111--------1111--------1111--------1111----\n"
     ]
    }
   ],
   "source": [
    "pattern = \"----1111----\"\n",
    "print(pattern*7)"
   ]
  },
  {
   "cell_type": "code",
   "execution_count": 2,
   "id": "dc0bdf05",
   "metadata": {},
   "outputs": [
    {
     "name": "stdout",
     "output_type": "stream",
     "text": [
      "0\n",
      "2\n",
      "4\n",
      "6\n",
      "8\n",
      "10\n",
      "12\n"
     ]
    }
   ],
   "source": [
    "# break\n",
    "\n",
    "for i in range(0,20,2):\n",
    "    ifl i<10:\n",
    "        print(i)\n",
    "        continue\n",
    "    elif i==14:\n",
    "        break\n",
    "    else:\n",
    "        pass\n",
    "    print(i)"
   ]
  },
  {
   "cell_type": "code",
   "execution_count": 1,
   "id": "d04d1316",
   "metadata": {},
   "outputs": [
    {
     "data": {
      "text/plain": [
       "'is'"
      ]
     },
     "execution_count": 1,
     "metadata": {},
     "output_type": "execute_result"
    }
   ],
   "source": [
    "# string slicing\n",
    "\n",
    "str1 = \"This is a python\"\n",
    "str1[2:4]"
   ]
  },
  {
   "cell_type": "code",
   "execution_count": 23,
   "id": "02f9150e",
   "metadata": {},
   "outputs": [
    {
     "data": {
      "text/plain": [
       "' is a python'"
      ]
     },
     "execution_count": 23,
     "metadata": {},
     "output_type": "execute_result"
    }
   ],
   "source": [
    "str1[4:]"
   ]
  },
  {
   "cell_type": "code",
   "execution_count": 24,
   "id": "36176b27",
   "metadata": {},
   "outputs": [
    {
     "data": {
      "text/plain": [
       "'hsi  '"
      ]
     },
     "execution_count": 24,
     "metadata": {},
     "output_type": "execute_result"
    }
   ],
   "source": [
    "str1[1:11:2]"
   ]
  },
  {
   "cell_type": "code",
   "execution_count": 25,
   "id": "9f6d0b78",
   "metadata": {},
   "outputs": [
    {
     "data": {
      "text/plain": [
       "'y  i'"
      ]
     },
     "execution_count": 25,
     "metadata": {},
     "output_type": "execute_result"
    }
   ],
   "source": [
    "str1[11:3:-2]"
   ]
  },
  {
   "cell_type": "code",
   "execution_count": 26,
   "id": "98aa413e",
   "metadata": {},
   "outputs": [
    {
     "data": {
      "text/plain": [
       "'is is '"
      ]
     },
     "execution_count": 26,
     "metadata": {},
     "output_type": "execute_result"
    }
   ],
   "source": [
    "str1[2:8]"
   ]
  },
  {
   "cell_type": "code",
   "execution_count": 13,
   "id": "d8d2025b",
   "metadata": {},
   "outputs": [
    {
     "data": {
      "text/plain": [
       "'This is a python'"
      ]
     },
     "execution_count": 13,
     "metadata": {},
     "output_type": "execute_result"
    }
   ],
   "source": [
    "str1[:]"
   ]
  },
  {
   "cell_type": "code",
   "execution_count": 14,
   "id": "80b57525",
   "metadata": {},
   "outputs": [
    {
     "name": "stdout",
     "output_type": "stream",
     "text": [
      "16\n"
     ]
    }
   ],
   "source": [
    "print(len(str1))"
   ]
  },
  {
   "cell_type": "code",
   "execution_count": 18,
   "id": "a4d194e9",
   "metadata": {},
   "outputs": [
    {
     "data": {
      "text/plain": [
       "'this is a python'"
      ]
     },
     "execution_count": 18,
     "metadata": {},
     "output_type": "execute_result"
    }
   ],
   "source": [
    "str1.lower()"
   ]
  },
  {
   "cell_type": "code",
   "execution_count": 19,
   "id": "45b33d27",
   "metadata": {},
   "outputs": [
    {
     "data": {
      "text/plain": [
       "'THIS IS A PYTHON'"
      ]
     },
     "execution_count": 19,
     "metadata": {},
     "output_type": "execute_result"
    }
   ],
   "source": [
    "str1.upper()"
   ]
  },
  {
   "cell_type": "code",
   "execution_count": 20,
   "id": "540cb441",
   "metadata": {},
   "outputs": [
    {
     "name": "stdout",
     "output_type": "stream",
     "text": [
      "['This', 'is', 'a', 'python']\n"
     ]
    }
   ],
   "source": [
    "list1 = str1.split(\" \")\n",
    "print(list1)"
   ]
  },
  {
   "cell_type": "code",
   "execution_count": 21,
   "id": "f00ba7ad",
   "metadata": {},
   "outputs": [
    {
     "name": "stdout",
     "output_type": "stream",
     "text": [
      "This is a python\n"
     ]
    }
   ],
   "source": [
    "str3 = \" \".join(list1)\n",
    "print(str3)"
   ]
  },
  {
   "cell_type": "code",
   "execution_count": 27,
   "id": "931700f0",
   "metadata": {},
   "outputs": [
    {
     "name": "stdout",
     "output_type": "stream",
     "text": [
      "False\n"
     ]
    }
   ],
   "source": [
    "str5=\"gty1hSAFRGRaz\"\n",
    "print(str5.isalpha())"
   ]
  },
  {
   "cell_type": "code",
   "execution_count": 29,
   "id": "7409044a",
   "metadata": {},
   "outputs": [
    {
     "ename": "AttributeError",
     "evalue": "'int' object has no attribute 'isalpha'",
     "output_type": "error",
     "traceback": [
      "\u001b[1;31m---------------------------------------------------------------------------\u001b[0m",
      "\u001b[1;31mAttributeError\u001b[0m                            Traceback (most recent call last)",
      "Cell \u001b[1;32mIn[29], line 2\u001b[0m\n\u001b[0;32m      1\u001b[0m str5\u001b[38;5;241m=\u001b[39m\u001b[38;5;241m456\u001b[39m\n\u001b[1;32m----> 2\u001b[0m \u001b[38;5;28mprint\u001b[39m(str5\u001b[38;5;241m.\u001b[39misalpha())\n",
      "\u001b[1;31mAttributeError\u001b[0m: 'int' object has no attribute 'isalpha'"
     ]
    }
   ],
   "source": [
    "str5=456\n",
    "print(str5.isalpha())"
   ]
  },
  {
   "cell_type": "code",
   "execution_count": 2,
   "id": "cec07679",
   "metadata": {},
   "outputs": [
    {
     "name": "stdout",
     "output_type": "stream",
     "text": [
      "6\n",
      "6\n",
      "18\n",
      "18\n"
     ]
    }
   ],
   "source": [
    "str1 = \"Hello hi abc hi H hi!\"\n",
    "str2 = \"hi\"\n",
    "str3 = \"1234\"\n",
    "\n",
    "print(str1.find(str2))\n",
    "print(str1.index(str2))\n",
    "\n",
    "print(str1.rfind(str2))\n",
    "print(str1.rindex(str2))\n"
   ]
  },
  {
   "cell_type": "code",
   "execution_count": 4,
   "id": "ae861d47",
   "metadata": {},
   "outputs": [
    {
     "name": "stdout",
     "output_type": "stream",
     "text": [
      "05/02/2004\n"
     ]
    }
   ],
   "source": [
    "list2 = ['05','02','2004']\n",
    "\n",
    "str4 = \"/\".join(list2)\n",
    "\n",
    "print(str4)"
   ]
  },
  {
   "cell_type": "code",
   "execution_count": 32,
   "id": "aeae7dc9",
   "metadata": {},
   "outputs": [
    {
     "name": "stdout",
     "output_type": "stream",
     "text": [
      "False\n"
     ]
    }
   ],
   "source": [
    "str7 = \"145dfjn55AShn14\"\n",
    "print(str7.isdigit())"
   ]
  },
  {
   "cell_type": "code",
   "execution_count": 9,
   "id": "99dce25e",
   "metadata": {},
   "outputs": [
    {
     "name": "stdout",
     "output_type": "stream",
     "text": [
      "True\n",
      "False\n",
      "True\n",
      "False\n",
      "False\n",
      "False\n"
     ]
    }
   ],
   "source": [
    "string1 = \"HELLO\"\n",
    "string2 = \"HellO\"\n",
    "string3 = \"157G\"\n",
    "string4 = \"H45df\"\n",
    "string5 = \"hello\"\n",
    "string6 = \"H1E4llo\"\n",
    "\n",
    "print(string1.isupper())\n",
    "print(string2.isupper())\n",
    "print(string3.isupper())\n",
    "print(string4.isupper())\n",
    "print(string5.isupper())\n",
    "print(string6.isupper())"
   ]
  },
  {
   "cell_type": "code",
   "execution_count": 10,
   "id": "19a9adee",
   "metadata": {},
   "outputs": [
    {
     "name": "stdout",
     "output_type": "stream",
     "text": [
      "False\n",
      "False\n",
      "False\n",
      "False\n",
      "True\n",
      "False\n"
     ]
    }
   ],
   "source": [
    "string1 = \"HELLO\"\n",
    "string2 = \"HellO\"\n",
    "string3 = \"157G\"\n",
    "string4 = \"H45df\"\n",
    "string5 = \"hello\"\n",
    "string6 = \"H1E4llo\"\n",
    "\n",
    "print(string1.islower())\n",
    "print(string2.islower())\n",
    "print(string3.islower())\n",
    "print(string4.islower())\n",
    "print(string5.islower())\n",
    "print(string6.islower())\n"
   ]
  },
  {
   "cell_type": "code",
   "execution_count": 11,
   "id": "bfc5f2ef",
   "metadata": {},
   "outputs": [
    {
     "name": "stdout",
     "output_type": "stream",
     "text": [
      "Enter the password:Data\n",
      "Invalid password\n"
     ]
    }
   ],
   "source": [
    "string1 = \"abcdefghijklmnopqrstuvwxyz\"\n",
    "string2 = string1.upper()\n",
    "string3 = \"0123456789\"\n",
    "string4 = \";:!@#$%^&*\"\n",
    "\n",
    "a = input(\"Enter the password:\")\n",
    "\n",
    "flag1 = flag2 = flag3 = flag = False\n",
    "\n",
    "for i in a:\n",
    "    if i in string1:\n",
    "        flag1 = True\n",
    "    elif i in string2:\n",
    "        flag2 = True\n",
    "    elif i in string3:\n",
    "        flag3 = True\n",
    "    elif i in string4:\n",
    "        flag4 = True\n",
    "    else:\n",
    "        pass\n",
    "    \n",
    "if (flag1==True) and (flag2==True) and (flag3==True) and (flag4==True):\n",
    "    print(\"Valid password\")\n",
    "else:\n",
    "    print(\"Invalid password\")"
   ]
  },
  {
   "cell_type": "code",
   "execution_count": 33,
   "id": "5b2d8f45",
   "metadata": {},
   "outputs": [
    {
     "name": "stdout",
     "output_type": "stream",
     "text": [
      "True\n",
      "False\n",
      "False\n",
      "\n"
     ]
    }
   ],
   "source": [
    "str2 = \"124⅓⅔⅖\"\n",
    "print(str2.isnumeric())\n",
    "print(str2.isdigit())\n",
    "print(str2.isdecimal())\n",
    "print()"
   ]
  },
  {
   "cell_type": "code",
   "execution_count": 34,
   "id": "82bcdf65",
   "metadata": {},
   "outputs": [
    {
     "name": "stdout",
     "output_type": "stream",
     "text": [
      "True\n",
      "False\n",
      "False\n",
      "True\n",
      "False\n",
      "False\n",
      "False\n"
     ]
    }
   ],
   "source": [
    "string1 = \"Helloclass\"\n",
    "string2 = \"Hello class\"\n",
    "string3 = \"123 class\"\n",
    "string4 = \"123 Class\"\n",
    "string5 = \"1234\"\n",
    "string6 = \"ABC\"\n",
    "string7 = \"ABcDefG\"\n",
    "\n",
    "print(string1.istitle())\n",
    "print(string2.istitle())\n",
    "print(string3.istitle())\n",
    "print(string4.istitle())\n",
    "print(string5.istitle())\n",
    "print(string6.istitle())\n",
    "print(string7.istitle())"
   ]
  },
  {
   "cell_type": "code",
   "execution_count": 4,
   "id": "4f276ba8",
   "metadata": {},
   "outputs": [
    {
     "name": "stdout",
     "output_type": "stream",
     "text": [
      "True\n",
      "False\n",
      "True\n"
     ]
    }
   ],
   "source": [
    "string1 = \"    \"\n",
    "string2 = \"Hello Class\"\n",
    "string3 = \"\\t\\t\\n\"\n",
    "\n",
    "print(string1.isspace())\n",
    "print(string2.isspace())\n",
    "print(string3.isspace())"
   ]
  },
  {
   "cell_type": "code",
   "execution_count": 11,
   "id": "facf21f5",
   "metadata": {},
   "outputs": [
    {
     "name": "stdout",
     "output_type": "stream",
     "text": [
      "Enter the colours:Blue Black Green White Orange\n",
      "['Blue', 'Black', 'Green', 'White', 'Orange']\n",
      "True\n"
     ]
    }
   ],
   "source": [
    "input_val = input(\"Enter the colours:\")\n",
    "\n",
    "list_1 = input_val.split(\" \")\n",
    "print(list_1)\n",
    "\n",
    "\n",
    "if \"Black\" in list_1 and \"White\" in list_1:\n",
    "    print(\"True\")\n",
    "else:\n",
    "    print(\"False\")"
   ]
  },
  {
   "cell_type": "code",
   "execution_count": 12,
   "id": "e0f94abc",
   "metadata": {},
   "outputs": [
    {
     "name": "stdout",
     "output_type": "stream",
     "text": [
      "       hello      \n",
      "hello\n"
     ]
    }
   ],
   "source": [
    "# strip() It removes the white space and print the word\n",
    "\n",
    "print(\"       hello      \")\n",
    "print(\"       hello      \".strip())\n"
   ]
  },
  {
   "cell_type": "code",
   "execution_count": 18,
   "id": "a6ea229f",
   "metadata": {},
   "outputs": [
    {
     "name": "stdout",
     "output_type": "stream",
     "text": [
      "Hello!,!Class\n"
     ]
    }
   ],
   "source": [
    "string = \"!---Hello!,!Class!---\"\n",
    "stripped_string = string.strip(\"!-\")\n",
    "print(stripped_string)"
   ]
  },
  {
   "cell_type": "code",
   "execution_count": 14,
   "id": "50ee5484",
   "metadata": {},
   "outputs": [
    {
     "name": "stdout",
     "output_type": "stream",
     "text": [
      "Hello,Class!------\n"
     ]
    }
   ],
   "source": [
    "# Left Strip\n",
    "\n",
    "string = \"------Hello,Class!------\"\n",
    "left_stripped_string = string.lstrip(\"-\")\n",
    "print(left_stripped_string)"
   ]
  },
  {
   "cell_type": "code",
   "execution_count": 15,
   "id": "fe5b82d4",
   "metadata": {},
   "outputs": [
    {
     "name": "stdout",
     "output_type": "stream",
     "text": [
      "------Hello,Class!\n"
     ]
    }
   ],
   "source": [
    "# Right Strip\n",
    "\n",
    "string = \"------Hello,Class!------\"\n",
    "right_stripped_string = string.rstrip(\"-\")\n",
    "print(right_stripped_string)"
   ]
  },
  {
   "cell_type": "code",
   "execution_count": 19,
   "id": "1fb475bb",
   "metadata": {},
   "outputs": [
    {
     "name": "stdout",
     "output_type": "stream",
     "text": [
      "Hi hello how are you\n",
      "123456\n",
      "Abgh485e\n"
     ]
    }
   ],
   "source": [
    "str_capitalize = \"hi hello how are you\"\n",
    "str_2 = \"123456\"\n",
    "str_3 = \"abgh485E\"\n",
    "\n",
    "print(str_capitalize.capitalize())\n",
    "print(str_2.capitalize())\n",
    "print(str_3.capitalize())"
   ]
  },
  {
   "cell_type": "code",
   "execution_count": 24,
   "id": "2f27d737",
   "metadata": {},
   "outputs": [
    {
     "name": "stdout",
     "output_type": "stream",
     "text": [
      "She sells ocean shells by the ocean shore. She sells ocean shells.\n",
      "She sells ocean shells by the ocean shore. She sells sea shells.\n"
     ]
    }
   ],
   "source": [
    "# Replace\n",
    "\n",
    "string = \"She sells sea shells by the sea shore. She sells sea shells.\"\n",
    "new_string1 = string.replace(\"sea\",\"ocean\")\n",
    "print(new_string1)\n",
    "new_string2 = string.replace(\"sea\",\"ocean\",2)\n",
    "print(new_string2)"
   ]
  },
  {
   "cell_type": "code",
   "execution_count": 36,
   "id": "4a841b40",
   "metadata": {},
   "outputs": [
    {
     "name": "stdout",
     "output_type": "stream",
     "text": [
      "The string starts with 'Hello'\n",
      "True\n"
     ]
    }
   ],
   "source": [
    "# Startswith\n",
    "\n",
    "string = \"Hello, This is a python class!\"\n",
    "if string.startswith(\"Hello\"):\n",
    "    print(\"The string starts with 'Hello'\")\n",
    "else:\n",
    "    print(\"The string does not start with 'Hello'\")\n",
    "\n",
    "print(string.startswith(\"Hello\"))"
   ]
  },
  {
   "cell_type": "code",
   "execution_count": 26,
   "id": "bfc6bc8a",
   "metadata": {},
   "outputs": [
    {
     "name": "stdout",
     "output_type": "stream",
     "text": [
      "The string does not start with 'Class!'\n",
      "False\n"
     ]
    }
   ],
   "source": [
    "if string.endswith(\"Class!\"):\n",
    "    print(\"The string starts with 'Class!'\")\n",
    "else:\n",
    "    print(\"The string does not start with 'Class!'\")\n",
    "\n",
    "print(string.endswith(\"Class!\"))"
   ]
  },
  {
   "cell_type": "code",
   "execution_count": 38,
   "id": "e015ad1a",
   "metadata": {},
   "outputs": [
    {
     "data": {
      "text/plain": [
       "'My favourite TV Series isGame of Thrones'"
      ]
     },
     "execution_count": 38,
     "metadata": {},
     "output_type": "execute_result"
    }
   ],
   "source": [
    "# Escape sequencing\n",
    "\n",
    "mystr = \"My favourite TV Series is\" \"Game of Thrones\"\n",
    "mystr"
   ]
  },
  {
   "cell_type": "code",
   "execution_count": 32,
   "id": "83b4fccf",
   "metadata": {},
   "outputs": [
    {
     "name": "stdout",
     "output_type": "stream",
     "text": [
      "My favourite TV Series is \"Game of Thrones\"\n"
     ]
    }
   ],
   "source": [
    "mystr = 'My favourite TV Series is \"Game of Thrones\"'\n",
    "print(mystr)"
   ]
  },
  {
   "cell_type": "code",
   "execution_count": 33,
   "id": "54705183",
   "metadata": {},
   "outputs": [
    {
     "name": "stdout",
     "output_type": "stream",
     "text": [
      "My favourite TV Series is \"Game of Thrones\"\n"
     ]
    }
   ],
   "source": [
    "mystr = \"My favourite TV Series is \\\"Game of Thrones\\\"\"\n",
    "print(mystr)"
   ]
  },
  {
   "cell_type": "code",
   "execution_count": 34,
   "id": "87d3cd96",
   "metadata": {},
   "outputs": [
    {
     "name": "stdout",
     "output_type": "stream",
     "text": [
      "My favourite TV Series is \n",
      "\"Game of Thrones\"\n"
     ]
    }
   ],
   "source": [
    "mystr = \"My favourite TV Series is \\n\\\"Game of Thrones\\\"\"\n",
    "print(mystr)"
   ]
  },
  {
   "cell_type": "code",
   "execution_count": 35,
   "id": "54907269",
   "metadata": {},
   "outputs": [
    {
     "name": "stdout",
     "output_type": "stream",
     "text": [
      "My favourite TV Series is \t\"Game of Thrones\"\n"
     ]
    }
   ],
   "source": [
    "mystr = \"My favourite TV Series is \\t\\\"Game of Thrones\\\"\"\n",
    "print(mystr)"
   ]
  },
  {
   "cell_type": "code",
   "execution_count": 41,
   "id": "c3764374",
   "metadata": {},
   "outputs": [
    {
     "name": "stdout",
     "output_type": "stream",
     "text": [
      "Index :  0\n",
      "Value :  A\n",
      "Index :  1\n",
      "Value :  B\n",
      "Index :  2\n",
      "Value :  C\n",
      "Index :  3\n",
      "Value :  D\n",
      "Index :  4\n",
      "Value :  E\n",
      "Index :  5\n",
      "Value :  F\n",
      "Index :  6\n",
      "Value :  G\n",
      "Index :  7\n",
      "Value :  H\n",
      "Index :  8\n",
      "Value :  I\n",
      "Index :  9\n",
      "Value :  J\n"
     ]
    }
   ],
   "source": [
    "# String enumerate\n",
    "\n",
    "str1 = \"ABCDEFGHIJ\"\n",
    "for i,j in enumerate(str1):\n",
    "    print(\"Index : \",i)\n",
    "    print(\"Value : \",j)"
   ]
  },
  {
   "cell_type": "code",
   "execution_count": 40,
   "id": "46da1618",
   "metadata": {},
   "outputs": [
    {
     "name": "stdout",
     "output_type": "stream",
     "text": [
      "0 A\n",
      "1 B\n",
      "2 C\n",
      "3 D\n",
      "4 E\n",
      "5 F\n",
      "6 G\n",
      "7 H\n",
      "8 I\n",
      "9 J\n"
     ]
    }
   ],
   "source": [
    "str1 = \"ABCDEFGHIJ\"\n",
    "for i,j in enumerate(str1):\n",
    "    print(i,j)\n"
   ]
  },
  {
   "cell_type": "code",
   "execution_count": 42,
   "id": "675f8956",
   "metadata": {},
   "outputs": [
    {
     "name": "stdout",
     "output_type": "stream",
     "text": [
      "(0, 'A')\n",
      "(1, 'B')\n",
      "(2, 'C')\n",
      "(3, 'D')\n",
      "(4, 'E')\n",
      "(5, 'F')\n",
      "(6, 'G')\n",
      "(7, 'H')\n",
      "(8, 'I')\n",
      "(9, 'J')\n"
     ]
    }
   ],
   "source": [
    "str1 = \"ABCDEFGHIJ\"\n",
    "for i in enumerate(str1):\n",
    "    print(i)\n"
   ]
  },
  {
   "cell_type": "code",
   "execution_count": 1,
   "id": "19f9fdb9",
   "metadata": {},
   "outputs": [
    {
     "name": "stdout",
     "output_type": "stream",
     "text": [
      "My name is ABCD and I am 42 years old.\n"
     ]
    }
   ],
   "source": [
    "# Formatting with % Operator: .format\n",
    "\n",
    "name = \"ABCD\"\n",
    "age = 42\n",
    "formatted_string = (\"My name is {} and I am {} years old.\".format(name,age))\n",
    "print(formatted_string)"
   ]
  },
  {
   "cell_type": "code",
   "execution_count": 2,
   "id": "73499cad",
   "metadata": {},
   "outputs": [
    {
     "name": "stdout",
     "output_type": "stream",
     "text": [
      "My name is ABCD and I am 42 years old.\n"
     ]
    }
   ],
   "source": [
    "# f-string\n",
    "\n",
    "name = \"ABCD\"\n",
    "age = 42\n",
    "formatted_string = f\"My name is {name} and I am {age} years old.\"\n",
    "print(formatted_string)"
   ]
  },
  {
   "cell_type": "code",
   "execution_count": 12,
   "id": "238cf93a",
   "metadata": {},
   "outputs": [
    {
     "name": "stdout",
     "output_type": "stream",
     "text": [
      "9\n"
     ]
    }
   ],
   "source": [
    "# Bitwise Operator\n",
    "\n",
    "# &,|,<<,>>,~,^\n",
    "\n",
    "a = 45\n",
    "b = 75\n",
    "\n",
    "print(a & b) # AND Both are 1 it returns 1 or otherwise it returns 0"
   ]
  },
  {
   "cell_type": "code",
   "execution_count": 2,
   "id": "b8dff283",
   "metadata": {},
   "outputs": [
    {
     "name": "stdout",
     "output_type": "stream",
     "text": [
      "111\n"
     ]
    }
   ],
   "source": [
    "print(a | b) # OR Both are 0 it returns 0 or otherwise it returns 1"
   ]
  },
  {
   "cell_type": "code",
   "execution_count": 6,
   "id": "19ed2d27",
   "metadata": {},
   "outputs": [
    {
     "name": "stdout",
     "output_type": "stream",
     "text": [
      "-25\n"
     ]
    }
   ],
   "source": [
    "# Negation Operator\n",
    "\n",
    "# ~number = -(number+1)\n",
    "\n",
    "print(~24)"
   ]
  },
  {
   "cell_type": "code",
   "execution_count": 3,
   "id": "9fc60d1e",
   "metadata": {},
   "outputs": [
    {
     "name": "stdout",
     "output_type": "stream",
     "text": [
      "0b101101\n"
     ]
    }
   ],
   "source": [
    "a_bin=bin(a)\n",
    "print(a_bin)"
   ]
  },
  {
   "cell_type": "code",
   "execution_count": 4,
   "id": "11adf2b6",
   "metadata": {},
   "outputs": [
    {
     "name": "stdout",
     "output_type": "stream",
     "text": [
      "0b1001011\n"
     ]
    }
   ],
   "source": [
    "b_bin=bin(b)\n",
    "print(b_bin)"
   ]
  },
  {
   "cell_type": "code",
   "execution_count": 12,
   "id": "1f758894",
   "metadata": {},
   "outputs": [
    {
     "name": "stdout",
     "output_type": "stream",
     "text": [
      "24\n"
     ]
    }
   ],
   "source": [
    "# XOR Operator ^\n",
    "# 0-0 -----> 0\n",
    "# 1-1 -----> 0\n",
    "# 0-1 -----> 1\n",
    "# 1-0 -----> 1\n",
    "\n",
    "a = 14\n",
    "b = 22\n",
    "\n",
    "print(a^b)"
   ]
  },
  {
   "cell_type": "code",
   "execution_count": 8,
   "id": "d177d23a",
   "metadata": {},
   "outputs": [
    {
     "name": "stdout",
     "output_type": "stream",
     "text": [
      "672\n"
     ]
    }
   ],
   "source": [
    "# Left shift\n",
    "\n",
    "print(42<<4) # First find the value of 42 and it moves 4 in the left and now is ur ans"
   ]
  },
  {
   "cell_type": "code",
   "execution_count": 11,
   "id": "d25507df",
   "metadata": {},
   "outputs": [
    {
     "name": "stdout",
     "output_type": "stream",
     "text": [
      "6\n"
     ]
    }
   ],
   "source": [
    "# Right shift\n",
    "\n",
    "print(100>>4) # 100/2^4 Divide the variable by 2 to the power of shift number "
   ]
  },
  {
   "cell_type": "markdown",
   "id": "66a5d027",
   "metadata": {},
   "source": [
    "## ARRAYS"
   ]
  },
  {
   "cell_type": "code",
   "execution_count": 4,
   "id": "78132a36",
   "metadata": {},
   "outputs": [
    {
     "name": "stdout",
     "output_type": "stream",
     "text": [
      "<class 'array.array'>\n",
      "array('f', [1.100000023841858, 2.200000047683716, 3.299999952316284, 4.400000095367432])\n"
     ]
    }
   ],
   "source": [
    "# Create an array of floating-point numbers\n",
    "# Float takes 4 bytes space\n",
    "\n",
    "import array as arr\n",
    "\n",
    "float_array = arr.array('f',[1.1,2.2,3.3,4.4])\n",
    "print(type(float_array))\n",
    "print(float_array)"
   ]
  },
  {
   "cell_type": "code",
   "execution_count": 5,
   "id": "e9f97509",
   "metadata": {},
   "outputs": [
    {
     "name": "stdout",
     "output_type": "stream",
     "text": [
      "<class 'array.array'>\n"
     ]
    }
   ],
   "source": [
    "# Create an array of unicode characters\n",
    "# String takes 2 bytes space\n",
    "\n",
    "str_array = arr.array('u',[\"h\",\"L\"])\n",
    "print(type(str_array))\n",
    "\n",
    "# Python array does not directly support arrays of strings"
   ]
  },
  {
   "cell_type": "code",
   "execution_count": 6,
   "id": "af4c10aa",
   "metadata": {},
   "outputs": [
    {
     "name": "stdout",
     "output_type": "stream",
     "text": [
      "array('i', [8, 5, 6, 2, 4])\n",
      "int array is:\n",
      "8 5 6 2 4 <class 'array.array'>\n",
      "8\n",
      "5\n",
      "6\n",
      "2\n",
      "4\n"
     ]
    }
   ],
   "source": [
    "# Creating an array with integer type\n",
    "a=arr.array('i',[8,5,6,2,4])\n",
    "print(a) # Printing original array\n",
    "\n",
    "print(\"int array is:\")\n",
    "for i in range (0,5):\n",
    "    print(a[i],end=' ')\n",
    "    \n",
    "print(type(a))\n",
    "\n",
    "for i in range(0,5):\n",
    "    print(a[i])"
   ]
  },
  {
   "cell_type": "code",
   "execution_count": 7,
   "id": "99b5f0d6",
   "metadata": {},
   "outputs": [
    {
     "name": "stdout",
     "output_type": "stream",
     "text": [
      "3\n",
      "5\n"
     ]
    }
   ],
   "source": [
    "int_array = arr.array('i',[1,2,3,4,5,6])\n",
    "\n",
    "# Accessing array elements\n",
    "\n",
    "print(int_array[2])\n",
    "print(int_array[-2])"
   ]
  },
  {
   "cell_type": "code",
   "execution_count": 8,
   "id": "2044a9d5",
   "metadata": {},
   "outputs": [
    {
     "name": "stdout",
     "output_type": "stream",
     "text": [
      "6\n"
     ]
    }
   ],
   "source": [
    "# Length of array\n",
    "\n",
    "print(len(int_array))"
   ]
  },
  {
   "cell_type": "code",
   "execution_count": 9,
   "id": "68629a03",
   "metadata": {},
   "outputs": [
    {
     "name": "stdout",
     "output_type": "stream",
     "text": [
      "array('i', [1, 2, 3, 4, 5, 6, 7, 8])\n"
     ]
    }
   ],
   "source": [
    "# Appending elements in array to the end of array\n",
    "# Append is used to add the elements\n",
    "\n",
    "int_array.append(7)\n",
    "int_array.append(8)\n",
    "print(int_array)"
   ]
  },
  {
   "cell_type": "code",
   "execution_count": 10,
   "id": "0326cb09",
   "metadata": {},
   "outputs": [
    {
     "name": "stdout",
     "output_type": "stream",
     "text": [
      "array('i', [1, 2, 3, 4, 5, 6, 7, 8, 9, 10])\n"
     ]
    }
   ],
   "source": [
    "# Extend - inserting elements or array of elements at the end of array\n",
    "# Extend is used for combining together the elements\n",
    "\n",
    "arr_1 = arr.array('i',[1,2,3,4,5])\n",
    "arr_2 = arr.array('i',[6,7,8,9,10])\n",
    "\n",
    "arr_1.extend(arr_2)\n",
    "print(arr_1)\n"
   ]
  },
  {
   "cell_type": "code",
   "execution_count": 11,
   "id": "4214350c",
   "metadata": {},
   "outputs": [
    {
     "ename": "TypeError",
     "evalue": "'array.array' object cannot be interpreted as an integer",
     "output_type": "error",
     "traceback": [
      "\u001b[1;31m---------------------------------------------------------------------------\u001b[0m",
      "\u001b[1;31mTypeError\u001b[0m                                 Traceback (most recent call last)",
      "Cell \u001b[1;32mIn[11], line 8\u001b[0m\n\u001b[0;32m      5\u001b[0m arr_1 \u001b[38;5;241m=\u001b[39m arr\u001b[38;5;241m.\u001b[39marray(\u001b[38;5;124m'\u001b[39m\u001b[38;5;124mi\u001b[39m\u001b[38;5;124m'\u001b[39m,[\u001b[38;5;241m1\u001b[39m,\u001b[38;5;241m2\u001b[39m,\u001b[38;5;241m3\u001b[39m,\u001b[38;5;241m4\u001b[39m,\u001b[38;5;241m5\u001b[39m])\n\u001b[0;32m      6\u001b[0m arr_2 \u001b[38;5;241m=\u001b[39m arr\u001b[38;5;241m.\u001b[39marray(\u001b[38;5;124m'\u001b[39m\u001b[38;5;124mi\u001b[39m\u001b[38;5;124m'\u001b[39m,[\u001b[38;5;241m6\u001b[39m,\u001b[38;5;241m7\u001b[39m,\u001b[38;5;241m8\u001b[39m,\u001b[38;5;241m9\u001b[39m,\u001b[38;5;241m10\u001b[39m])\n\u001b[1;32m----> 8\u001b[0m arr_1\u001b[38;5;241m.\u001b[39mappend(arr_2)\n\u001b[0;32m      9\u001b[0m \u001b[38;5;28mprint\u001b[39m(arr_1)\n",
      "\u001b[1;31mTypeError\u001b[0m: 'array.array' object cannot be interpreted as an integer"
     ]
    }
   ],
   "source": [
    "# Array of elements cannot be appended in python arrays but it can be done in lists.\n",
    "# This is not possible in arrays because array is a collection of homogeneous elements.\n",
    "# and so we can't add an array of integers instead of one integer value\n",
    "\n",
    "arr_1 = arr.array('i',[1,2,3,4,5])\n",
    "arr_2 = arr.array('i',[6,7,8,9,10])\n",
    "\n",
    "arr_1.append(arr_2)\n",
    "print(arr_1)\n",
    "\n",
    "# It does not add more elements append is used for add single elements only. Instead of append using extend function to add more elemenets."
   ]
  },
  {
   "cell_type": "code",
   "execution_count": 12,
   "id": "fbbcef42",
   "metadata": {},
   "outputs": [
    {
     "name": "stdout",
     "output_type": "stream",
     "text": [
      "array('i', [1, 2, 3, 4, 5, 9, 6])\n"
     ]
    }
   ],
   "source": [
    "# insert - Inserts an element at the given position number\n",
    "# insert value '9' at 8th index\n",
    "\n",
    "int_array = arr.array('i',[1,2,3,4,5,6])\n",
    "int_array.insert(5,9)\n",
    "print(int_array)"
   ]
  },
  {
   "cell_type": "code",
   "execution_count": 13,
   "id": "1b0aca99",
   "metadata": {},
   "outputs": [
    {
     "name": "stdout",
     "output_type": "stream",
     "text": [
      "array('i', [1, 2, 3, 4, 5, 9, 11, 6])\n"
     ]
    }
   ],
   "source": [
    "# When you use a negative index with the insert() method on a list or an array\n",
    "# it inserts the new element before the position specified by the negative index\n",
    "\n",
    "int_array.insert(-1,11)\n",
    "print(int_array)"
   ]
  },
  {
   "cell_type": "code",
   "execution_count": 14,
   "id": "14dbc2de",
   "metadata": {},
   "outputs": [
    {
     "name": "stdout",
     "output_type": "stream",
     "text": [
      "array('i', [1, 2, 4, 5, 9, 11, 6])\n"
     ]
    }
   ],
   "source": [
    "# Removing element 3\n",
    "# If multiple elements are 3, it will remove only first elements\n",
    "\n",
    "int_array.remove(3)\n",
    "print(int_array)"
   ]
  },
  {
   "cell_type": "code",
   "execution_count": 17,
   "id": "5ed3c4a4",
   "metadata": {},
   "outputs": [
    {
     "name": "stdout",
     "output_type": "stream",
     "text": [
      "11\n"
     ]
    }
   ],
   "source": [
    "# Popping out the element at index 3\n",
    "\n",
    "popped_element = int_array.pop(3)\n",
    "print(popped_element)"
   ]
  },
  {
   "cell_type": "code",
   "execution_count": 32,
   "id": "776d6cae",
   "metadata": {},
   "outputs": [
    {
     "name": "stdout",
     "output_type": "stream",
     "text": [
      "6\n"
     ]
    }
   ],
   "source": [
    "# Popping out last elements if uu dont give the index value means.\n",
    "\n",
    "popped_element = int_array.pop()\n",
    "print(popped_element)"
   ]
  },
  {
   "cell_type": "code",
   "execution_count": 33,
   "id": "280399eb",
   "metadata": {},
   "outputs": [
    {
     "name": "stdout",
     "output_type": "stream",
     "text": [
      "array('i', [1, 2, 4, 9, 11, 7, 8, 9])\n"
     ]
    }
   ],
   "source": [
    "# Concatenation\n",
    "\n",
    "int_array2 = arr.array('i',[7,8,9])\n",
    "concatenated_array = int_array + int_array2\n",
    "print(concatenated_array)\n"
   ]
  },
  {
   "cell_type": "code",
   "execution_count": 54,
   "id": "f5ec2cac",
   "metadata": {},
   "outputs": [
    {
     "name": "stdout",
     "output_type": "stream",
     "text": [
      "array('i', [1, 2, 12, 4, 5, 6])\n",
      "array('i', [6, 5, 4, 12, 2, 1])\n"
     ]
    }
   ],
   "source": [
    "# Reverse\n",
    "print(int_array)\n",
    "print(int_array[::-1])"
   ]
  },
  {
   "cell_type": "code",
   "execution_count": 35,
   "id": "52b5259b",
   "metadata": {},
   "outputs": [
    {
     "name": "stdout",
     "output_type": "stream",
     "text": [
      "array('i', [1, 2, 4, 9, 11])\n"
     ]
    }
   ],
   "source": [
    "print(int_array)"
   ]
  },
  {
   "cell_type": "markdown",
   "id": "c08c131d",
   "metadata": {},
   "source": [
    "## Data Structures in Python"
   ]
  },
  {
   "cell_type": "markdown",
   "id": "25049093",
   "metadata": {},
   "source": [
    "## LIST"
   ]
  },
  {
   "cell_type": "code",
   "execution_count": 1,
   "id": "1698ec11",
   "metadata": {},
   "outputs": [
    {
     "name": "stdout",
     "output_type": "stream",
     "text": [
      "[1, 2, 'abc', 3, 'def']\n",
      "[]\n",
      "[1, 2, 3]\n"
     ]
    }
   ],
   "source": [
    "list1 = [1 , 2, 'abc', 3, 'def']\n",
    "list2 = []\n",
    "list3 = list((1, 2, 3))\n",
    "print(list1)\n",
    "print(list2)\n",
    "print(list3)"
   ]
  },
  {
   "cell_type": "markdown",
   "id": "9e028428",
   "metadata": {},
   "source": [
    "## TUPLE"
   ]
  },
  {
   "cell_type": "code",
   "execution_count": 6,
   "id": "ac80c9ea",
   "metadata": {},
   "outputs": [
    {
     "name": "stdout",
     "output_type": "stream",
     "text": [
      "(1, 2, 'abc', 3, 4)\n",
      "()\n",
      "(1, 3, 5, 'hello')\n"
     ]
    }
   ],
   "source": [
    "tuple1 = (1, 2, 'abc', 3, 4)\n",
    "tuple2 = ()\n",
    "tuple3 = tuple((1, 3, 5, \"hello\"))\n",
    "print(tuple1)\n",
    "print(tuple2)\n",
    "print(tuple3)"
   ]
  },
  {
   "cell_type": "markdown",
   "id": "62439840",
   "metadata": {},
   "source": [
    "## SET"
   ]
  },
  {
   "cell_type": "code",
   "execution_count": 3,
   "id": "0fc102ca",
   "metadata": {},
   "outputs": [
    {
     "name": "stdout",
     "output_type": "stream",
     "text": [
      "{1, 2, 3, 'abc', 6}\n"
     ]
    }
   ],
   "source": [
    "set1 = {1, 2, 3, 'abc', 6}\n",
    "print(set1)"
   ]
  },
  {
   "cell_type": "markdown",
   "id": "cb63ca94",
   "metadata": {},
   "source": [
    "## DICTIONARY"
   ]
  },
  {
   "cell_type": "code",
   "execution_count": 7,
   "id": "a4925b3b",
   "metadata": {},
   "outputs": [
    {
     "name": "stdout",
     "output_type": "stream",
     "text": [
      "{'Tamil': '96', 'English': '88'}\n",
      "{}\n",
      "{1: 'one', 2: 'two', 3: 'three'}\n"
     ]
    }
   ],
   "source": [
    "dict1 = {\"Tamil\": \"96\", \"English\": \"88\"}\n",
    "dict2 = {}\n",
    "dict3 = dict({1: \"one\", 2: \"two\", 3: \"three\"})\n",
    "print(dict1)\n",
    "\n",
    "print(dict2)\n",
    "\n",
    "print(dict3)"
   ]
  },
  {
   "cell_type": "markdown",
   "id": "d95a1092",
   "metadata": {},
   "source": [
    "## ARRAYS"
   ]
  },
  {
   "cell_type": "code",
   "execution_count": 33,
   "id": "456b57e0",
   "metadata": {},
   "outputs": [
    {
     "name": "stdout",
     "output_type": "stream",
     "text": [
      "[3, 4, 5, 6, 7, 8, 9, 10, 11, 12, 13, 14, 15, 16, 17, 18]\n",
      "[1, 2, 3, 4, 5, 6, 7, 8, 9, 10, 11, 12]\n",
      "[3, 5, 7, 9]\n",
      "[1, 4, 7]\n",
      "[3, 6, 9, 12, 15, 18]\n"
     ]
    }
   ],
   "source": [
    "# Slicing\n",
    "\n",
    "int_array1=[1,2,3,4,5,6,7,8,9,10,11,12,13,14,15,16,17,18]\n",
    "\n",
    "\n",
    "print(int_array1[2:])\n",
    "print(int_array1[:12])\n",
    "print(int_array1[2:10:2])\n",
    "print(int_array1[:8:3])\n",
    "print(int_array1[2::3])"
   ]
  },
  {
   "cell_type": "code",
   "execution_count": 34,
   "id": "1d0bd2bd",
   "metadata": {},
   "outputs": [
    {
     "name": "stdout",
     "output_type": "stream",
     "text": [
      "array('i', [3, 4, 5, 6])\n",
      "array('i', [1, 2, 3, 4])\n"
     ]
    }
   ],
   "source": [
    "import array as arr\n",
    "\n",
    "int_array = arr.array('i',[1,2,3,4,5,6,])\n",
    "print(int_array[2:])\n",
    "print(int_array[:4])"
   ]
  },
  {
   "cell_type": "code",
   "execution_count": 35,
   "id": "2549dd3f",
   "metadata": {},
   "outputs": [
    {
     "name": "stdout",
     "output_type": "stream",
     "text": [
      "[1, 2, 3, 4, 5, 6]\n",
      "array('i', [1, 2, 3, 4, 5, 6])\n"
     ]
    }
   ],
   "source": [
    "# Typecasting\n",
    "\n",
    "list1 = list(int_array)\n",
    "print(list1)\n",
    "\n",
    "arr_ = arr.array('i',list1)\n",
    "print(arr_)"
   ]
  },
  {
   "cell_type": "code",
   "execution_count": 36,
   "id": "ad028537",
   "metadata": {},
   "outputs": [
    {
     "name": "stdout",
     "output_type": "stream",
     "text": [
      "array('i', [1, 2, 12, 4, 5, 6])\n"
     ]
    }
   ],
   "source": [
    "# Updating arrays, arrays are mutable\n",
    "\n",
    "int_array[2] = 12\n",
    "print(int_array)"
   ]
  },
  {
   "cell_type": "code",
   "execution_count": 39,
   "id": "017e53f5",
   "metadata": {},
   "outputs": [
    {
     "ename": "NameError",
     "evalue": "name 'int_array' is not defined",
     "output_type": "error",
     "traceback": [
      "\u001b[1;31m---------------------------------------------------------------------------\u001b[0m",
      "\u001b[1;31mNameError\u001b[0m                                 Traceback (most recent call last)",
      "Cell \u001b[1;32mIn[39], line 3\u001b[0m\n\u001b[0;32m      1\u001b[0m \u001b[38;5;66;03m# Count - counts are occurence of an element in array\u001b[39;00m\n\u001b[1;32m----> 3\u001b[0m int_array\u001b[38;5;241m.\u001b[39mcount(\u001b[38;5;241m7\u001b[39m)\n",
      "\u001b[1;31mNameError\u001b[0m: name 'int_array' is not defined"
     ]
    }
   ],
   "source": [
    "# Count - counts are occurence of an element in array\n",
    "\n",
    "int_array.count(7)"
   ]
  },
  {
   "cell_type": "markdown",
   "id": "77d39cf4",
   "metadata": {},
   "source": [
    "## LIST"
   ]
  },
  {
   "cell_type": "code",
   "execution_count": 38,
   "id": "505aacf9",
   "metadata": {},
   "outputs": [
    {
     "name": "stdout",
     "output_type": "stream",
     "text": [
      "[1, 2, 'abc', 3, 'def']\n",
      "[]\n",
      "[1, 2, 3]\n"
     ]
    }
   ],
   "source": [
    "list1 = [1 , 2, 'abc', 3, 'def']\n",
    "list2 = []\n",
    "list3 = list((1, 2, 3))\n",
    "print(list1)\n",
    "print(list2)\n",
    "print(list3)"
   ]
  },
  {
   "cell_type": "code",
   "execution_count": 39,
   "id": "c2fbaeac",
   "metadata": {},
   "outputs": [
    {
     "name": "stdout",
     "output_type": "stream",
     "text": [
      "['__add__', '__class__', '__class_getitem__', '__contains__', '__delattr__', '__delitem__', '__dir__', '__doc__', '__eq__', '__format__', '__ge__', '__getattribute__', '__getitem__', '__getstate__', '__gt__', '__hash__', '__iadd__', '__imul__', '__init__', '__init_subclass__', '__iter__', '__le__', '__len__', '__lt__', '__mul__', '__ne__', '__new__', '__reduce__', '__reduce_ex__', '__repr__', '__reversed__', '__rmul__', '__setattr__', '__setitem__', '__sizeof__', '__str__', '__subclasshook__', 'append', 'clear', 'copy', 'count', 'extend', 'index', 'insert', 'pop', 'remove', 'reverse', 'sort']\n"
     ]
    }
   ],
   "source": [
    "print(dir(list1))"
   ]
  },
  {
   "cell_type": "code",
   "execution_count": 45,
   "id": "3092b64c",
   "metadata": {},
   "outputs": [
    {
     "name": "stdout",
     "output_type": "stream",
     "text": [
      "<class 'str'>\n",
      "['H', 'i']\n"
     ]
    }
   ],
   "source": [
    "# Typecasting\n",
    "\n",
    "str_val =\"Hi\"\n",
    "print(type(str_val))\n",
    "list1 = list(str_val)\n",
    "print(list1)"
   ]
  },
  {
   "cell_type": "code",
   "execution_count": 46,
   "id": "bd487a9a",
   "metadata": {},
   "outputs": [
    {
     "name": "stdout",
     "output_type": "stream",
     "text": [
      "<class 'str'>\n",
      "['H']\n"
     ]
    }
   ],
   "source": [
    "str_val =\"H\"\n",
    "print(type(str_val))\n",
    "list1 = list(str_val)\n",
    "print(list1)"
   ]
  },
  {
   "cell_type": "code",
   "execution_count": 41,
   "id": "c8c37bc6",
   "metadata": {},
   "outputs": [
    {
     "name": "stdout",
     "output_type": "stream",
     "text": [
      "<class 'bool'>\n"
     ]
    },
    {
     "ename": "TypeError",
     "evalue": "'bool' object is not iterable",
     "output_type": "error",
     "traceback": [
      "\u001b[1;31m---------------------------------------------------------------------------\u001b[0m",
      "\u001b[1;31mTypeError\u001b[0m                                 Traceback (most recent call last)",
      "Cell \u001b[1;32mIn[41], line 3\u001b[0m\n\u001b[0;32m      1\u001b[0m str_val \u001b[38;5;241m=\u001b[39m\u001b[38;5;28;01mTrue\u001b[39;00m\n\u001b[0;32m      2\u001b[0m \u001b[38;5;28mprint\u001b[39m(\u001b[38;5;28mtype\u001b[39m(str_val))\n\u001b[1;32m----> 3\u001b[0m list1 \u001b[38;5;241m=\u001b[39m \u001b[38;5;28mlist\u001b[39m(str_val)\n\u001b[0;32m      4\u001b[0m \u001b[38;5;28mprint\u001b[39m(list1)\n",
      "\u001b[1;31mTypeError\u001b[0m: 'bool' object is not iterable"
     ]
    }
   ],
   "source": [
    "str_val =True\n",
    "print(type(str_val))\n",
    "list1 = list(str_val)\n",
    "print(list1)"
   ]
  },
  {
   "cell_type": "code",
   "execution_count": 48,
   "id": "0cda2f53",
   "metadata": {},
   "outputs": [
    {
     "ename": "TypeError",
     "evalue": "'int' object is not iterable",
     "output_type": "error",
     "traceback": [
      "\u001b[1;31m---------------------------------------------------------------------------\u001b[0m",
      "\u001b[1;31mTypeError\u001b[0m                                 Traceback (most recent call last)",
      "Cell \u001b[1;32mIn[48], line 6\u001b[0m\n\u001b[0;32m      1\u001b[0m \u001b[38;5;66;03m# typecasting\u001b[39;00m\n\u001b[0;32m      2\u001b[0m \u001b[38;5;66;03m# Only one integer value cannot be typecasted to list\u001b[39;00m\n\u001b[0;32m      3\u001b[0m \u001b[38;5;66;03m# List requires collection of elements\u001b[39;00m\n\u001b[0;32m      5\u001b[0m int_val \u001b[38;5;241m=\u001b[39m \u001b[38;5;241m12\u001b[39m\n\u001b[1;32m----> 6\u001b[0m list1 \u001b[38;5;241m=\u001b[39m \u001b[38;5;28mlist\u001b[39m(int_val)\n\u001b[0;32m      7\u001b[0m \u001b[38;5;28mprint\u001b[39m(list1)\n",
      "\u001b[1;31mTypeError\u001b[0m: 'int' object is not iterable"
     ]
    }
   ],
   "source": [
    "# typecasting\n",
    "# Only one integer value cannot be typecasted to list\n",
    "# List requires collection of elements\n",
    "\n",
    "int_val = 12\n",
    "list1 = list(int_val)\n",
    "print(list1)"
   ]
  },
  {
   "cell_type": "code",
   "execution_count": 49,
   "id": "5b73289e",
   "metadata": {},
   "outputs": [
    {
     "name": "stdout",
     "output_type": "stream",
     "text": [
      "[12, 45, 57, 58, 95]\n"
     ]
    }
   ],
   "source": [
    "int_val = 12,45,57,58,95\n",
    "list1 = list(int_val)\n",
    "print(list1)"
   ]
  },
  {
   "cell_type": "code",
   "execution_count": 50,
   "id": "2cee4a9d",
   "metadata": {},
   "outputs": [
    {
     "ename": "TypeError",
     "evalue": "'bool' object is not iterable",
     "output_type": "error",
     "traceback": [
      "\u001b[1;31m---------------------------------------------------------------------------\u001b[0m",
      "\u001b[1;31mTypeError\u001b[0m                                 Traceback (most recent call last)",
      "Cell \u001b[1;32mIn[50], line 2\u001b[0m\n\u001b[0;32m      1\u001b[0m bool_val \u001b[38;5;241m=\u001b[39m \u001b[38;5;28;01mTrue\u001b[39;00m\n\u001b[1;32m----> 2\u001b[0m list1 \u001b[38;5;241m=\u001b[39m \u001b[38;5;28mlist\u001b[39m(bool_val)\n\u001b[0;32m      3\u001b[0m \u001b[38;5;28mprint\u001b[39m(list1)\n",
      "\u001b[1;31mTypeError\u001b[0m: 'bool' object is not iterable"
     ]
    }
   ],
   "source": [
    "bool_val = True\n",
    "list1 = list(bool_val)\n",
    "print(list1)"
   ]
  },
  {
   "cell_type": "code",
   "execution_count": 51,
   "id": "938f044b",
   "metadata": {},
   "outputs": [
    {
     "name": "stdout",
     "output_type": "stream",
     "text": [
      "[True, False]\n"
     ]
    }
   ],
   "source": [
    "bool_val = True,False\n",
    "list1 = list(bool_val)\n",
    "print(list1)"
   ]
  },
  {
   "cell_type": "code",
   "execution_count": 55,
   "id": "5dacd18a",
   "metadata": {},
   "outputs": [
    {
     "name": "stdout",
     "output_type": "stream",
     "text": [
      "[3, 5, True, 85.4]\n"
     ]
    }
   ],
   "source": [
    "# List concatenation (+)\n",
    "\n",
    "print([3,5] + [True,85.4])"
   ]
  },
  {
   "cell_type": "code",
   "execution_count": 58,
   "id": "feab0402",
   "metadata": {},
   "outputs": [
    {
     "name": "stdout",
     "output_type": "stream",
     "text": [
      "[5, 4, True, 54.4, False]\n"
     ]
    }
   ],
   "source": [
    "print([5,4] + [True,54.4] + [False])"
   ]
  },
  {
   "cell_type": "code",
   "execution_count": 59,
   "id": "abcb6368",
   "metadata": {},
   "outputs": [
    {
     "ename": "TypeError",
     "evalue": "can only concatenate list (not \"str\") to list",
     "output_type": "error",
     "traceback": [
      "\u001b[1;31m---------------------------------------------------------------------------\u001b[0m",
      "\u001b[1;31mTypeError\u001b[0m                                 Traceback (most recent call last)",
      "Cell \u001b[1;32mIn[59], line 1\u001b[0m\n\u001b[1;32m----> 1\u001b[0m \u001b[38;5;28mprint\u001b[39m([\u001b[38;5;241m5\u001b[39m,\u001b[38;5;241m4\u001b[39m] \u001b[38;5;241m+\u001b[39m [\u001b[38;5;28;01mTrue\u001b[39;00m,\u001b[38;5;241m54.4\u001b[39m] \u001b[38;5;241m+\u001b[39m \u001b[38;5;124m\"\u001b[39m\u001b[38;5;124mHello\u001b[39m\u001b[38;5;124m\"\u001b[39m)\n",
      "\u001b[1;31mTypeError\u001b[0m: can only concatenate list (not \"str\") to list"
     ]
    }
   ],
   "source": [
    "print([5,4] + [True,54.4] + \"Hello\")"
   ]
  },
  {
   "cell_type": "code",
   "execution_count": 60,
   "id": "0a1f99ed",
   "metadata": {},
   "outputs": [
    {
     "name": "stdout",
     "output_type": "stream",
     "text": [
      "[True, False, True, False]\n"
     ]
    }
   ],
   "source": [
    "print(list1 * 2)"
   ]
  },
  {
   "cell_type": "code",
   "execution_count": 67,
   "id": "8ee71689",
   "metadata": {},
   "outputs": [
    {
     "name": "stdout",
     "output_type": "stream",
     "text": [
      "[6.5, 6.5, 6.5]\n",
      "19.5\n",
      "(70-70j)\n",
      "HiHiHiHiHiHiHiHiHiHi\n",
      "10\n",
      "65.0\n"
     ]
    }
   ],
   "source": [
    "# Slicing\n",
    "# Chunk of list repetition\n",
    "\n",
    "list1 = [1,6.5,True,\"Hi\",7-7j]\n",
    "\n",
    "print(list1[1:2] * 3)\n",
    "print(list1[1] * 3)\n",
    "\n",
    "# If you use only one elements with *,it performs operations on that element\n",
    "print(list1[4] * 10)\n",
    "print(list1[3] * 10)\n",
    "print(list1[2] * 10)\n",
    "print(list1[1] * 10)"
   ]
  },
  {
   "cell_type": "code",
   "execution_count": 69,
   "id": "4baf863d",
   "metadata": {},
   "outputs": [
    {
     "name": "stdout",
     "output_type": "stream",
     "text": [
      "(7-7j)(7-7j)(7-7j)(7-7j)(7-7j)(7-7j)(7-7j)(7-7j)(7-7j)(7-7j)\n",
      "HiHiHiHiHiHiHiHiHiHi\n",
      "TrueTrueTrueTrueTrueTrueTrueTrueTrueTrue\n",
      "6.56.56.56.56.56.56.56.56.56.5\n"
     ]
    }
   ],
   "source": [
    "print(str(list1[4]) * 10)\n",
    "print(str(list1[3]) * 10)\n",
    "print(str(list1[2]) * 10)\n",
    "print(str(list1[1]) * 10)"
   ]
  },
  {
   "cell_type": "code",
   "execution_count": 2,
   "id": "889cf7a0",
   "metadata": {},
   "outputs": [
    {
     "name": "stdout",
     "output_type": "stream",
     "text": [
      "True\n",
      "True\n"
     ]
    }
   ],
   "source": [
    "# Membership operation in lists\n",
    "# Tries to find whether the given element is present in list or not\n",
    "# in ---- returns True if element is in the list, otherwise False\n",
    "# not-in ---- returns True if element is not in the list, otherwise False\n",
    "\n",
    "list1 = [\"Hi how are you?\",12,35,56]\n",
    "\n",
    "print(35 in list1)\n",
    "print(23 not in list1)"
   ]
  },
  {
   "cell_type": "code",
   "execution_count": 4,
   "id": "35b2e427",
   "metadata": {},
   "outputs": [
    {
     "name": "stdout",
     "output_type": "stream",
     "text": [
      "False\n",
      "True\n"
     ]
    }
   ],
   "source": [
    "print(\"Hi\" in list1)\n",
    "print(\"Hi\" in list1[0])"
   ]
  },
  {
   "cell_type": "code",
   "execution_count": 5,
   "id": "266c48d1",
   "metadata": {},
   "outputs": [
    {
     "name": "stdout",
     "output_type": "stream",
     "text": [
      "['Hi', 3, 5.4, (4-6j), False, [5, 6]]\n"
     ]
    }
   ],
   "source": [
    "# List are mutable data types in python because the list can be modified, replaced,\n",
    "# and other order of element can be changed even after the list has been created\n",
    "# insert,delete,update\n",
    "\n",
    "list1 = [\"Hi\",3,5.4,4-6j,False,[5,6]]\n",
    "print(list1)"
   ]
  },
  {
   "cell_type": "code",
   "execution_count": 6,
   "id": "dbd9a228",
   "metadata": {},
   "outputs": [
    {
     "name": "stdout",
     "output_type": "stream",
     "text": [
      "['Hi', 3, 5.4, (4-6j), False, [5, 6], 0, 'Hello', [4, 5], False]\n"
     ]
    }
   ],
   "source": [
    "# Inserting elements at the end\n",
    "# append\n",
    "\n",
    "# append does not necessarily require an iterable object to be passed in the argument\n",
    "\n",
    "list1.append(0)\n",
    "list1.append(\"Hello\")\n",
    "list1.append([4,5])\n",
    "list1.append(False)\n",
    "\n",
    "print(list1)"
   ]
  },
  {
   "cell_type": "code",
   "execution_count": 7,
   "id": "ec3062cd",
   "metadata": {},
   "outputs": [
    {
     "name": "stdout",
     "output_type": "stream",
     "text": [
      "['Class', 2.4, (4-5j), 45, True, ['Hi', 'Hello'], 0, 'H', 'e', 'l', 'l', 'o', 9, 7, True]\n"
     ]
    }
   ],
   "source": [
    "# Inserting element at the end\n",
    "# extend combine the elements\n",
    "\n",
    "# extend requires an iterable object in the argument\n",
    "\n",
    "list2 = [\"Class\",2.4,4-5j,45,True,[\"Hi\",\"Hello\"]]\n",
    "\n",
    "list2.extend([0])\n",
    "list2.extend(\"Hello\")\n",
    "list2.extend([9,7])\n",
    "list2.extend([True])\n",
    "\n",
    "print(list2)\n"
   ]
  },
  {
   "cell_type": "code",
   "execution_count": 8,
   "id": "c7b3155a",
   "metadata": {},
   "outputs": [
    {
     "name": "stdout",
     "output_type": "stream",
     "text": [
      "['H', 'e', 'l', 'l', 'o']\n"
     ]
    }
   ],
   "source": [
    "l2 = \"Hello\"\n",
    "print(list(l2))"
   ]
  },
  {
   "cell_type": "code",
   "execution_count": 13,
   "id": "60fae95c",
   "metadata": {},
   "outputs": [
    {
     "name": "stdout",
     "output_type": "stream",
     "text": [
      "[['Hi', 'All', 'Good morning'], 'Class', 2.4, (4-5j), 45, [5, 6, 7, 8, 2], True, ['Hi', 'Hello']]\n"
     ]
    }
   ],
   "source": [
    "# Insert an element at the given position number\n",
    "# listName.insert(pos,element)\n",
    "\n",
    "list2 = [\"Class\",2.4,4-5j,45,True,[\"Hi\",\"Hello\"]]\n",
    "\n",
    "list2.insert(4,[5,6,7,8,2])\n",
    "\n",
    "list2.insert(0,['Hi','All','Good morning'])\n",
    "\n",
    "print(list2)"
   ]
  },
  {
   "cell_type": "code",
   "execution_count": 14,
   "id": "74fdc18a",
   "metadata": {},
   "outputs": [
    {
     "name": "stdout",
     "output_type": "stream",
     "text": [
      "Enter the mobile number:9566779283\n",
      "Enter the mobile number:9994453083\n",
      "Enter the mobile number:8456412378\n",
      "['9566779283', '9994453083', '8456412378']\n"
     ]
    }
   ],
   "source": [
    "# Use of append\n",
    "\n",
    "mobile = []\n",
    "\n",
    "for i in range(3):\n",
    "    input_mobile = input(\"Enter the mobile number:\")\n",
    "    mobile.append(input_mobile)\n",
    "    \n",
    "print(mobile)"
   ]
  },
  {
   "cell_type": "code",
   "execution_count": 17,
   "id": "19948dcd",
   "metadata": {},
   "outputs": [
    {
     "name": "stdout",
     "output_type": "stream",
     "text": [
      "Enter the mobile number:9994453083\n",
      "Enter the mobile number:9566779283\n",
      "Enter the mobile number:9684752685\n",
      "['9', '9', '9', '4', '4', '5', '3', '0', '8', '3', '9', '5', '6', '6', '7', '7', '9', '2', '8', '3', '9', '6', '8', '4', '7', '5', '2', '6', '8', '5']\n"
     ]
    }
   ],
   "source": [
    "# When you use of extend\n",
    "\n",
    "mobile = []\n",
    "\n",
    "for i in range(3):\n",
    "    input_mobile = input(\"Enter the mobile number:\")\n",
    "    mobile.extend(input_mobile)\n",
    "    \n",
    "print(mobile)"
   ]
  },
  {
   "cell_type": "code",
   "execution_count": 18,
   "id": "26efd83f",
   "metadata": {},
   "outputs": [
    {
     "name": "stdout",
     "output_type": "stream",
     "text": [
      "['9', True, 10, '4', '4', '5', '3', '0', '8', '3', '9', '5', '6', '6', '7', '7', '9', '2', '8', '3', '9', '6', '8', '4', '7', '5', '2', '6', '8', '5']\n"
     ]
    }
   ],
   "source": [
    "# Updation of element in lists\n",
    "\n",
    "# Replace mobile[1] by True\n",
    "# Replace mobile[2] by 10\n",
    "\n",
    "mobile[1] = True\n",
    "mobile[2] = 10\n",
    "\n",
    "print(mobile)"
   ]
  },
  {
   "cell_type": "code",
   "execution_count": 23,
   "id": "5a2a5927",
   "metadata": {},
   "outputs": [
    {
     "name": "stdout",
     "output_type": "stream",
     "text": [
      "['class', 2.3, (7-9j), 54, ['Hi', 'Hello'], 0, 'h', 'e', 'l', 'l', 'o', 4, 5, True]\n"
     ]
    }
   ],
   "source": [
    "# Deleting values in lists\n",
    "\n",
    "# Remove - removes a particular element from the list\n",
    "# Removes the first occurrence of the given element\n",
    "\n",
    "list1 = ['class',2.3,(7-9j),54,True,['Hi','Hello'],0,'h','e','l','l','o',4,5,True]\n",
    "list1.remove(True)\n",
    "\n",
    "print(list1)"
   ]
  },
  {
   "cell_type": "code",
   "execution_count": 24,
   "id": "0471f544",
   "metadata": {},
   "outputs": [
    {
     "name": "stdout",
     "output_type": "stream",
     "text": [
      "['class', 2.3, (7-9j), 54, ['Hi', 'Hello'], 0, 'h', 'e', 'l', 'l', 'o', 4, 5]\n"
     ]
    }
   ],
   "source": [
    "# Deleting all occurrence of True\n",
    "\n",
    "for i in list1:\n",
    "    if True in list1:\n",
    "        list1.remove(True)\n",
    "    else:\n",
    "        continue\n",
    "\n",
    "print(list1)"
   ]
  },
  {
   "cell_type": "code",
   "execution_count": 34,
   "id": "056c7ace",
   "metadata": {},
   "outputs": [
    {
     "name": "stdout",
     "output_type": "stream",
     "text": [
      "5\n"
     ]
    }
   ],
   "source": [
    "# Pop method\n",
    "# () doesnt mention anything in the brackets it remove last value\n",
    "\n",
    "list1 = ['class',2.3,(7-9j),54,['Hi','Hello'],0,'h','e','l','l','o',4,5]\n",
    "\n",
    "print(list1.pop())"
   ]
  },
  {
   "cell_type": "code",
   "execution_count": 32,
   "id": "104abe99",
   "metadata": {},
   "outputs": [
    {
     "name": "stdout",
     "output_type": "stream",
     "text": [
      "['Hi', 'Hello']\n"
     ]
    }
   ],
   "source": [
    "# (4) mention index value means it remove the particular index value\n",
    "\n",
    "list1 = ['class',2.3,(7-9j),54,['Hi','Hello'],0,'h','e','l','l','o',4,5,True]\n",
    "\n",
    "print(list1.pop(4))"
   ]
  },
  {
   "cell_type": "code",
   "execution_count": 35,
   "id": "b9e798a5",
   "metadata": {},
   "outputs": [
    {
     "name": "stdout",
     "output_type": "stream",
     "text": [
      "4\n",
      "2.3\n"
     ]
    }
   ],
   "source": [
    "print(list1.pop())\n",
    "popped_element = list1.pop(1)\n",
    "print(popped_element)"
   ]
  },
  {
   "cell_type": "code",
   "execution_count": 37,
   "id": "9ecca731",
   "metadata": {},
   "outputs": [
    {
     "name": "stdout",
     "output_type": "stream",
     "text": [
      "array('i', [1, 2, 3, 5])\n"
     ]
    }
   ],
   "source": [
    "# Dleting an array element is possible\n",
    "import array as arr\n",
    "arr_value = arr.array(\"i\",[1,2,3,4,5])\n",
    "\n",
    "del arr_value[3]\n",
    "\n",
    "print(arr_value)"
   ]
  },
  {
   "cell_type": "code",
   "execution_count": 48,
   "id": "4dfe2111",
   "metadata": {},
   "outputs": [
    {
     "name": "stdout",
     "output_type": "stream",
     "text": [
      "[23, 54.859, True]\n"
     ]
    }
   ],
   "source": [
    "# Deleting a list element is possible\n",
    "\n",
    "list1 = [23,54.859,\"Python class\",True]\n",
    "\n",
    "del list1[2]\n",
    "\n",
    "print(list1)"
   ]
  },
  {
   "cell_type": "code",
   "execution_count": 49,
   "id": "3c8de907",
   "metadata": {},
   "outputs": [
    {
     "name": "stdout",
     "output_type": "stream",
     "text": [
      "[['Hi', 'Its python class!'], 23, 54.859, True]\n"
     ]
    }
   ],
   "source": [
    "# Inserting element in lists\n",
    "# listName.insert(pos,element)\n",
    "\n",
    "list1.insert(0,[\"Hi\",\"Its python class!\"])\n",
    "\n",
    "print(list1)"
   ]
  },
  {
   "cell_type": "code",
   "execution_count": 50,
   "id": "5bae1d3a",
   "metadata": {},
   "outputs": [
    {
     "name": "stdout",
     "output_type": "stream",
     "text": [
      "[['Hi', 'Its python class!'], 23, 1000, 54.859, True]\n"
     ]
    }
   ],
   "source": [
    "# negative indexing insert\n",
    "\n",
    "list1.insert(-2,1000)\n",
    "\n",
    "print(list1)"
   ]
  },
  {
   "cell_type": "code",
   "execution_count": 51,
   "id": "d2ef84c8",
   "metadata": {},
   "outputs": [
    {
     "name": "stdout",
     "output_type": "stream",
     "text": [
      "[['Hi', 'Its python class!'], 23, 1000, 54.859, 98, True]\n"
     ]
    }
   ],
   "source": [
    "list1.insert(-1,98)\n",
    "\n",
    "print(list1)"
   ]
  },
  {
   "cell_type": "code",
   "execution_count": 52,
   "id": "59e74d33",
   "metadata": {},
   "outputs": [
    {
     "name": "stdout",
     "output_type": "stream",
     "text": [
      "2\n",
      "0\n"
     ]
    }
   ],
   "source": [
    "# Getting the index of an element in list\n",
    "\n",
    "print(list1.index(1000))\n",
    "print(list1.index(['Hi','Its python class!']))"
   ]
  },
  {
   "cell_type": "code",
   "execution_count": 53,
   "id": "af6650ed",
   "metadata": {},
   "outputs": [
    {
     "ename": "ValueError",
     "evalue": "100 is not in list",
     "output_type": "error",
     "traceback": [
      "\u001b[1;31m---------------------------------------------------------------------------\u001b[0m",
      "\u001b[1;31mValueError\u001b[0m                                Traceback (most recent call last)",
      "Cell \u001b[1;32mIn[53], line 1\u001b[0m\n\u001b[1;32m----> 1\u001b[0m \u001b[38;5;28mprint\u001b[39m(list1\u001b[38;5;241m.\u001b[39mindex(\u001b[38;5;241m100\u001b[39m))\n",
      "\u001b[1;31mValueError\u001b[0m: 100 is not in list"
     ]
    }
   ],
   "source": [
    "print(list1.index(100))"
   ]
  },
  {
   "cell_type": "code",
   "execution_count": 54,
   "id": "18447a6f",
   "metadata": {},
   "outputs": [
    {
     "ename": "ValueError",
     "evalue": "True is not in list",
     "output_type": "error",
     "traceback": [
      "\u001b[1;31m---------------------------------------------------------------------------\u001b[0m",
      "\u001b[1;31mValueError\u001b[0m                                Traceback (most recent call last)",
      "Cell \u001b[1;32mIn[54], line 1\u001b[0m\n\u001b[1;32m----> 1\u001b[0m \u001b[38;5;28mprint\u001b[39m(list1\u001b[38;5;241m.\u001b[39mindex(\u001b[38;5;28;01mTrue\u001b[39;00m,\u001b[38;5;241m1\u001b[39m,\u001b[38;5;241m4\u001b[39m))\n",
      "\u001b[1;31mValueError\u001b[0m: True is not in list"
     ]
    }
   ],
   "source": [
    "print(list1.index(True,1,4))"
   ]
  },
  {
   "cell_type": "code",
   "execution_count": 48,
   "id": "bc87fa7b",
   "metadata": {},
   "outputs": [
    {
     "name": "stdout",
     "output_type": "stream",
     "text": [
      "11\n"
     ]
    }
   ],
   "source": [
    "list1 = ['class',2.3,(7-9j),54,['Hi','Hello '],0,'h','e','l','l','o',4,5,True]\n",
    "print(list1.index(4,6))"
   ]
  },
  {
   "cell_type": "code",
   "execution_count": 57,
   "id": "10d6e8a5",
   "metadata": {},
   "outputs": [
    {
     "name": "stdout",
     "output_type": "stream",
     "text": [
      "[1, 2, 3, 4]\n",
      "[1, 2, 3, 4]\n"
     ]
    }
   ],
   "source": [
    "a = [1,2,3]\n",
    "b = a\n",
    "b.append(4)\n",
    "\n",
    "print(a)\n",
    "print(b)"
   ]
  },
  {
   "cell_type": "markdown",
   "id": "3ceb35b0",
   "metadata": {},
   "source": [
    "## COPY"
   ]
  },
  {
   "cell_type": "code",
   "execution_count": 1,
   "id": "e2775f8d",
   "metadata": {},
   "outputs": [
    {
     "data": {
      "text/plain": [
       "['HEMA', 'SHANTHI', 'SARANYA', 'SREE']"
      ]
     },
     "execution_count": 1,
     "metadata": {},
     "output_type": "execute_result"
    }
   ],
   "source": [
    "my_list = [\"HEMA\",\"SHANTHI\",\"SARANYA\",\"SREE\"]\n",
    "\n",
    "my_list1 = my_list\n",
    "\n",
    "my_list1"
   ]
  },
  {
   "cell_type": "code",
   "execution_count": 2,
   "id": "e229d68c",
   "metadata": {},
   "outputs": [
    {
     "data": {
      "text/plain": [
       "['HEMA', 'SHANTHI', 'SARANYA', 'SREE']"
      ]
     },
     "execution_count": 2,
     "metadata": {},
     "output_type": "execute_result"
    }
   ],
   "source": [
    "my_list"
   ]
  },
  {
   "cell_type": "code",
   "execution_count": 5,
   "id": "58ab5836",
   "metadata": {},
   "outputs": [
    {
     "data": {
      "text/plain": [
       "['HEMA', 'SHANTHI', 'SARANYA', 'SREE']"
      ]
     },
     "execution_count": 5,
     "metadata": {},
     "output_type": "execute_result"
    }
   ],
   "source": [
    "my_list2 = my_list.copy()\n",
    "\n",
    "my_list2"
   ]
  },
  {
   "cell_type": "code",
   "execution_count": 8,
   "id": "2c6747ab",
   "metadata": {},
   "outputs": [
    {
     "data": {
      "text/plain": [
       "['SURYA', 'SHANTHI', 'SARANYA', 'SREE']"
      ]
     },
     "execution_count": 8,
     "metadata": {},
     "output_type": "execute_result"
    }
   ],
   "source": [
    "my_list1[0] = \"SURYA\"\n",
    "\n",
    "my_list1"
   ]
  },
  {
   "cell_type": "code",
   "execution_count": 10,
   "id": "b5be3990",
   "metadata": {},
   "outputs": [
    {
     "data": {
      "text/plain": [
       "['SURYA', 'SHANTHI', 'SARANYA', 'SREE']"
      ]
     },
     "execution_count": 10,
     "metadata": {},
     "output_type": "execute_result"
    }
   ],
   "source": [
    "my_list"
   ]
  },
  {
   "cell_type": "code",
   "execution_count": 11,
   "id": "d1c9bc50",
   "metadata": {},
   "outputs": [
    {
     "data": {
      "text/plain": [
       "['HEMA', 'SHANTHI', 'SARANYA', 'SREE']"
      ]
     },
     "execution_count": 11,
     "metadata": {},
     "output_type": "execute_result"
    }
   ],
   "source": [
    "my_list2"
   ]
  },
  {
   "cell_type": "markdown",
   "id": "72558ab2",
   "metadata": {},
   "source": [
    "## LIST MEMBERSHIP"
   ]
  },
  {
   "cell_type": "code",
   "execution_count": 14,
   "id": "a106149e",
   "metadata": {},
   "outputs": [
    {
     "data": {
      "text/plain": [
       "True"
      ]
     },
     "execution_count": 14,
     "metadata": {},
     "output_type": "execute_result"
    }
   ],
   "source": [
    "## Membership operator (in,not in)\n",
    "\n",
    "my_list = [\"HEMA\",\"SHANTHI\",\"SARANYA\",\"SREE\"]\n",
    "\n",
    "'SREE' in my_list"
   ]
  },
  {
   "cell_type": "code",
   "execution_count": 15,
   "id": "c4304521",
   "metadata": {},
   "outputs": [
    {
     "name": "stdout",
     "output_type": "stream",
     "text": [
      "HEMA is present in the list\n"
     ]
    }
   ],
   "source": [
    "## Write by using if else statement\n",
    "\n",
    "if 'HEMA' in my_list:\n",
    "    print('HEMA is present in the list')\n",
    "else:\n",
    "    print('HEMA is not in the list')"
   ]
  },
  {
   "cell_type": "code",
   "execution_count": 16,
   "id": "f8f9c2ec",
   "metadata": {},
   "outputs": [
    {
     "name": "stdout",
     "output_type": "stream",
     "text": [
      "54 is not in the list\n"
     ]
    }
   ],
   "source": [
    "## Write by using if else statement\n",
    "\n",
    "n=54\n",
    "if 'n' in my_list:\n",
    "    print(n, 'is present in the list')\n",
    "else:\n",
    "    print(n, 'is not in the list')"
   ]
  },
  {
   "cell_type": "markdown",
   "id": "91d0e386",
   "metadata": {},
   "source": [
    "## REVERSE AND SORT LIST"
   ]
  },
  {
   "cell_type": "code",
   "execution_count": 1,
   "id": "c61dc034",
   "metadata": {},
   "outputs": [
    {
     "data": {
      "text/plain": [
       "['Anu', 578, 'Python', 456, 'Saran', 'Hema']"
      ]
     },
     "execution_count": 1,
     "metadata": {},
     "output_type": "execute_result"
    }
   ],
   "source": [
    "my_list = ['Hema','Saran',456,'Python',578,'Anu']\n",
    "\n",
    "my_list.reverse()\n",
    "\n",
    "my_list"
   ]
  },
  {
   "cell_type": "code",
   "execution_count": 5,
   "id": "61c31faa",
   "metadata": {},
   "outputs": [
    {
     "data": {
      "text/plain": [
       "['Anu', 578, 'Python', 456, 'Saran', 'Hema']"
      ]
     },
     "execution_count": 5,
     "metadata": {},
     "output_type": "execute_result"
    }
   ],
   "source": [
    "my_list = ['Hema','Saran',456,'Python',578,'Anu']\n",
    "\n",
    "my_list[::-1]"
   ]
  },
  {
   "cell_type": "code",
   "execution_count": 6,
   "id": "3519cccb",
   "metadata": {},
   "outputs": [
    {
     "data": {
      "text/plain": [
       "['Anu', 'Python', 'Saran']"
      ]
     },
     "execution_count": 6,
     "metadata": {},
     "output_type": "execute_result"
    }
   ],
   "source": [
    "my_list = ['Hema','Saran',456,'Python',578,'Anu']\n",
    "\n",
    "my_list[::-2]"
   ]
  },
  {
   "cell_type": "code",
   "execution_count": 9,
   "id": "60bd9815",
   "metadata": {},
   "outputs": [
    {
     "data": {
      "text/plain": [
       "[2, 2, 10, 51, 54, 301, 789]"
      ]
     },
     "execution_count": 9,
     "metadata": {},
     "output_type": "execute_result"
    }
   ],
   "source": [
    "## SORT It prints ordered (Ascending order)\n",
    "\n",
    "list1 = [10,2,54,2,789,301,51]\n",
    "\n",
    "list1.sort() \n",
    "\n",
    "list1\n",
    "3"
   ]
  },
  {
   "cell_type": "code",
   "execution_count": 10,
   "id": "a619a367",
   "metadata": {},
   "outputs": [
    {
     "data": {
      "text/plain": [
       "[789, 301, 54, 51, 10, 2, 2]"
      ]
     },
     "execution_count": 10,
     "metadata": {},
     "output_type": "execute_result"
    }
   ],
   "source": [
    "list1 = [10,2,54,2,789,301,51]\n",
    "\n",
    "list1.sort(reverse=True)\n",
    "\n",
    "list1"
   ]
  },
  {
   "cell_type": "code",
   "execution_count": 14,
   "id": "9e120522",
   "metadata": {},
   "outputs": [
    {
     "data": {
      "text/plain": [
       "[789, 301, 54, 51, 10, 2, 2]"
      ]
     },
     "execution_count": 14,
     "metadata": {},
     "output_type": "execute_result"
    }
   ],
   "source": [
    "list1 = [10,2,54,2,789,301,51]\n",
    "\n",
    "list1.sort()\n",
    "\n",
    "list1\n",
    "\n",
    "list1[::-1]\n"
   ]
  },
  {
   "cell_type": "code",
   "execution_count": 17,
   "id": "21e89c6f",
   "metadata": {},
   "outputs": [
    {
     "data": {
      "text/plain": [
       "[2, 2, 10, 51, 54, 301, 789]"
      ]
     },
     "execution_count": 17,
     "metadata": {},
     "output_type": "execute_result"
    }
   ],
   "source": [
    "list1 = [10,2,54,2,789,301,51]\n",
    "\n",
    "st1 = sorted(list1)\n",
    "\n",
    "st1"
   ]
  },
  {
   "cell_type": "code",
   "execution_count": 18,
   "id": "a43abe3d",
   "metadata": {},
   "outputs": [
    {
     "data": {
      "text/plain": [
       "['HEMA', 'SARANYA', 'SHANTHI', 'SREE']"
      ]
     },
     "execution_count": 18,
     "metadata": {},
     "output_type": "execute_result"
    }
   ],
   "source": [
    "list2 = [\"HEMA\",\"SHANTHI\",\"SARANYA\",\"SREE\"]\n",
    "\n",
    "list2.sort()\n",
    "\n",
    "list2"
   ]
  },
  {
   "cell_type": "code",
   "execution_count": 19,
   "id": "db68245f",
   "metadata": {},
   "outputs": [
    {
     "ename": "TypeError",
     "evalue": "'<' not supported between instances of 'int' and 'str'",
     "output_type": "error",
     "traceback": [
      "\u001b[1;31m---------------------------------------------------------------------------\u001b[0m",
      "\u001b[1;31mTypeError\u001b[0m                                 Traceback (most recent call last)",
      "Cell \u001b[1;32mIn[19], line 3\u001b[0m\n\u001b[0;32m      1\u001b[0m list2 \u001b[38;5;241m=\u001b[39m [\u001b[38;5;124m\"\u001b[39m\u001b[38;5;124mHEMA\u001b[39m\u001b[38;5;124m\"\u001b[39m,\u001b[38;5;124m\"\u001b[39m\u001b[38;5;124mSHANTHI\u001b[39m\u001b[38;5;124m\"\u001b[39m,\u001b[38;5;124m\"\u001b[39m\u001b[38;5;124mSARANYA\u001b[39m\u001b[38;5;124m\"\u001b[39m,\u001b[38;5;124m\"\u001b[39m\u001b[38;5;124mSREE\u001b[39m\u001b[38;5;124m\"\u001b[39m,\u001b[38;5;241m546\u001b[39m]\n\u001b[1;32m----> 3\u001b[0m list2\u001b[38;5;241m.\u001b[39msort()\n\u001b[0;32m      5\u001b[0m list2\n",
      "\u001b[1;31mTypeError\u001b[0m: '<' not supported between instances of 'int' and 'str'"
     ]
    }
   ],
   "source": [
    "list2 = [\"HEMA\",\"SHANTHI\",\"SARANYA\",\"SREE\",546]\n",
    "\n",
    "list2.sort()\n",
    "\n",
    "list2"
   ]
  },
  {
   "cell_type": "code",
   "execution_count": 20,
   "id": "f6eea0d5",
   "metadata": {},
   "outputs": [
    {
     "data": {
      "text/plain": [
       "['546', 'HEMA', 'SARANYA', 'SHANTHI', 'SREE']"
      ]
     },
     "execution_count": 20,
     "metadata": {},
     "output_type": "execute_result"
    }
   ],
   "source": [
    "list2 = [\"HEMA\",\"SHANTHI\",\"SARANYA\",\"SREE\",'546']\n",
    "\n",
    "list2.sort()\n",
    "\n",
    "list2"
   ]
  },
  {
   "cell_type": "code",
   "execution_count": 22,
   "id": "e4daee2c",
   "metadata": {},
   "outputs": [
    {
     "data": {
      "text/plain": [
       "['546', 'Hema', 'SARANYA', 'SREE', 'anu', 'bhanu', 'shanthi']"
      ]
     },
     "execution_count": 22,
     "metadata": {},
     "output_type": "execute_result"
    }
   ],
   "source": [
    "list2 = [\"Hema\",\"shanthi\",\"SARANYA\",\"SREE\",'546','anu','bhanu']\n",
    "\n",
    "list2.sort()\n",
    "\n",
    "list2"
   ]
  },
  {
   "cell_type": "code",
   "execution_count": 25,
   "id": "f3b20046",
   "metadata": {},
   "outputs": [
    {
     "name": "stdout",
     "output_type": "stream",
     "text": [
      "[1, 2, 3, 4, 5, 4, 3, 2, 1] : Palindrome\n"
     ]
    }
   ],
   "source": [
    "# reverse() method - used to reverse the elements of the list\n",
    "\n",
    "list_a = [1,2,3,4,5,4,3,2,1]\n",
    "\n",
    "list_copy = list_a.copy()\n",
    "\n",
    "# reverse the list\n",
    "\n",
    "list_copy.reverse()\n",
    "\n",
    "# compare reversed and original list\n",
    "\n",
    "if list_a == list_copy:\n",
    "    print(list_a, \": Palindrome\")\n",
    "else:\n",
    "    print(list_a, \": Not Palindrome\")\n"
   ]
  },
  {
   "cell_type": "code",
   "execution_count": 24,
   "id": "45aea6a2",
   "metadata": {},
   "outputs": [
    {
     "name": "stdout",
     "output_type": "stream",
     "text": [
      "[1, 8, 4, 6, 2, 8, 4, 9, 2, 1] : Not Palindrome\n"
     ]
    }
   ],
   "source": [
    "# reverse() method - used to reverse the elements of the list\n",
    "\n",
    "list_a = [1,8,4,6,2,8,4,9,2,1]\n",
    "\n",
    "list_copy = list_a.copy()\n",
    "\n",
    "# reverse the list\n",
    "\n",
    "list_copy.reverse()\n",
    "\n",
    "# compare reversed and original list\n",
    "\n",
    "if list_a == list_copy:\n",
    "    print(list_a, \": Palindrome\")\n",
    "else:\n",
    "    print(list_a, \": Not Palindrome\")\n"
   ]
  },
  {
   "cell_type": "code",
   "execution_count": 26,
   "id": "8d4e16e0",
   "metadata": {},
   "outputs": [
    {
     "name": "stdout",
     "output_type": "stream",
     "text": [
      "['PEEP'] : Palindrome\n"
     ]
    }
   ],
   "source": [
    "# reverse() method - used to reverse the elements of the list\n",
    "\n",
    "list_a = [\"PEEP\"]\n",
    "\n",
    "list_copy = list_a.copy()\n",
    "\n",
    "# reverse the list\n",
    "\n",
    "list_copy.reverse()\n",
    "\n",
    "# compare reversed and original list\n",
    "\n",
    "if list_a == list_copy:\n",
    "    print(list_a, \": Palindrome\")\n",
    "else:\n",
    "    print(list_a, \": Not Palindrome\")\n"
   ]
  },
  {
   "cell_type": "markdown",
   "id": "816b80af",
   "metadata": {},
   "source": [
    "## LOOP THROUGH A LIST"
   ]
  },
  {
   "cell_type": "markdown",
   "id": "cc8e1641",
   "metadata": {},
   "source": [
    "#### - for loop can be used to iterate over a list\n",
    "#### - for loop along with range() can be used to iterate over a list"
   ]
  },
  {
   "cell_type": "code",
   "execution_count": 27,
   "id": "847fa81b",
   "metadata": {},
   "outputs": [
    {
     "name": "stdout",
     "output_type": "stream",
     "text": [
      "100\n",
      "200\n",
      "300\n",
      "400\n",
      "500\n",
      "640\n",
      "70\n",
      "850\n"
     ]
    }
   ],
   "source": [
    "list1 = [10,20,30,40,50,64,7,85]\n",
    "\n",
    "for i in list1:\n",
    "    print(i*10) # i*10"
   ]
  },
  {
   "cell_type": "code",
   "execution_count": 28,
   "id": "e133a2c7",
   "metadata": {},
   "outputs": [
    {
     "name": "stdout",
     "output_type": "stream",
     "text": [
      "Hema\n",
      "Saran\n",
      "Bhanu\n",
      "Anu\n"
     ]
    }
   ],
   "source": [
    "list2 = ['Hema','Saran','Bhanu','Anu']\n",
    "\n",
    "for i in list2:\n",
    "    print(i)"
   ]
  },
  {
   "cell_type": "code",
   "execution_count": 29,
   "id": "02c8b986",
   "metadata": {},
   "outputs": [
    {
     "name": "stdout",
     "output_type": "stream",
     "text": [
      "(0, 'Hema')\n",
      "(1, 'Saran')\n",
      "(2, 'Bhanu')\n",
      "(3, 'Anu')\n"
     ]
    }
   ],
   "source": [
    "## if you need index and element then use enumerate\n",
    "for i in enumerate(list2):\n",
    "    print(i)   ## this is actually a tuple"
   ]
  },
  {
   "cell_type": "code",
   "execution_count": 35,
   "id": "aa3c327c",
   "metadata": {},
   "outputs": [
    {
     "name": "stdout",
     "output_type": "stream",
     "text": [
      "0 Hema\n",
      "1 Saran\n",
      "2 Bhanu\n",
      "3 Anu\n"
     ]
    }
   ],
   "source": [
    "for i,k in enumerate(list2):\n",
    "    print(i,k)   ## unpacking the tuple"
   ]
  },
  {
   "cell_type": "markdown",
   "id": "31eb6161",
   "metadata": {},
   "source": [
    "## MIN AND MAX VALUES IN LIST"
   ]
  },
  {
   "cell_type": "code",
   "execution_count": 36,
   "id": "5b13afe3",
   "metadata": {},
   "outputs": [
    {
     "name": "stdout",
     "output_type": "stream",
     "text": [
      "2\n",
      "789\n"
     ]
    }
   ],
   "source": [
    "# Finding min and max in a list (Built-in)\n",
    "\n",
    "list1 = [10,2,54,2,789,301,51]\n",
    "print(min(list1))\n",
    "print(max(list1))"
   ]
  },
  {
   "cell_type": "markdown",
   "id": "edaeaa55",
   "metadata": {},
   "source": [
    "## All and Any"
   ]
  },
  {
   "cell_type": "code",
   "execution_count": 37,
   "id": "316966fd",
   "metadata": {},
   "outputs": [
    {
     "data": {
      "text/plain": [
       "False"
      ]
     },
     "execution_count": 37,
     "metadata": {},
     "output_type": "execute_result"
    }
   ],
   "source": [
    "# all - it represnts the given list has 0 means it returns false or otherwise it returns true\n",
    "\n",
    "list1 = [10,2,54,2,789,301,51,0]\n",
    "\n",
    "all(list1)"
   ]
  },
  {
   "cell_type": "code",
   "execution_count": 40,
   "id": "6da622a9",
   "metadata": {},
   "outputs": [
    {
     "data": {
      "text/plain": [
       "False"
      ]
     },
     "execution_count": 40,
     "metadata": {},
     "output_type": "execute_result"
    }
   ],
   "source": [
    "list2 = [10,2,54,2,789,301,51,False]\n",
    "\n",
    "all(list2)"
   ]
  },
  {
   "cell_type": "code",
   "execution_count": 41,
   "id": "eb0a241c",
   "metadata": {},
   "outputs": [
    {
     "data": {
      "text/plain": [
       "True"
      ]
     },
     "execution_count": 41,
     "metadata": {},
     "output_type": "execute_result"
    }
   ],
   "source": [
    "# any - it represnts the given list has 0 and any other values means it returns true \n",
    "# any - the list has fully 0 it returns false\n",
    "\n",
    "\n",
    "any(list1)"
   ]
  },
  {
   "cell_type": "code",
   "execution_count": 42,
   "id": "6b890e65",
   "metadata": {},
   "outputs": [
    {
     "data": {
      "text/plain": [
       "True"
      ]
     },
     "execution_count": 42,
     "metadata": {},
     "output_type": "execute_result"
    }
   ],
   "source": [
    "any(list2)"
   ]
  },
  {
   "cell_type": "code",
   "execution_count": 43,
   "id": "47ca7cda",
   "metadata": {},
   "outputs": [
    {
     "data": {
      "text/plain": [
       "False"
      ]
     },
     "execution_count": 43,
     "metadata": {},
     "output_type": "execute_result"
    }
   ],
   "source": [
    "list1 = [0,0,0,0]\n",
    "\n",
    "any(list1)"
   ]
  },
  {
   "cell_type": "markdown",
   "id": "a3c58fa2",
   "metadata": {},
   "source": [
    "## LIST COMPREHENSION"
   ]
  },
  {
   "cell_type": "markdown",
   "id": "b59b2240",
   "metadata": {},
   "source": [
    "#### - List comprehension can produce the result in less lines of code\n",
    "#### - List comprehension provide an elegant way to create new lists\n",
    "#### - It consists of brackets containing an expression followed by a for clause,then zero or more for if clauses\n",
    "#### - If you want to initialize something in larger quantity,you cannot use normal method typing manually,In such cases list comprehension is easy to use\n",
    "#### - In many cases,list comprehension can be slightly faster than traditional methods,\n",
    "#### especially for large due to its optimized implementation in python"
   ]
  },
  {
   "cell_type": "code",
   "execution_count": 48,
   "id": "ea1ba0cf",
   "metadata": {},
   "outputs": [
    {
     "data": {
      "text/plain": [
       "['W', 'E', 'L', 'C', 'O', 'M', 'E']"
      ]
     },
     "execution_count": 48,
     "metadata": {},
     "output_type": "execute_result"
    }
   ],
   "source": [
    "mystring = \"WELCOME\"\n",
    "mystr1 = [i for i in mystring]\n",
    "mystr1"
   ]
  },
  {
   "cell_type": "code",
   "execution_count": 49,
   "id": "bdd61bd8",
   "metadata": {},
   "outputs": [
    {
     "data": {
      "text/plain": [
       "[1, 3, 5, 7, 9]"
      ]
     },
     "execution_count": 49,
     "metadata": {},
     "output_type": "execute_result"
    }
   ],
   "source": [
    "sq = [x for x in range (1,11) if x % 2 == 1]\n",
    "sq"
   ]
  },
  {
   "cell_type": "code",
   "execution_count": 1,
   "id": "e6998bb6",
   "metadata": {},
   "outputs": [
    {
     "name": "stdout",
     "output_type": "stream",
     "text": [
      "1\n",
      "3\n",
      "5\n",
      "7\n",
      "9\n"
     ]
    }
   ],
   "source": [
    "for x in range(1,11):\n",
    "    if x%2==1:\n",
    "        print(x)"
   ]
  },
  {
   "cell_type": "code",
   "execution_count": 3,
   "id": "2f42c3ae",
   "metadata": {},
   "outputs": [
    {
     "name": "stdout",
     "output_type": "stream",
     "text": [
      "[1, 9, 25, 49, 81]\n"
     ]
    }
   ],
   "source": [
    "square = [x **2 for x in range(1,11) if x % 2 == 1]\n",
    "print(square)"
   ]
  },
  {
   "cell_type": "code",
   "execution_count": 5,
   "id": "d02beb54",
   "metadata": {},
   "outputs": [
    {
     "name": "stdout",
     "output_type": "stream",
     "text": [
      "[4, 16, 36, 64, 100]\n"
     ]
    }
   ],
   "source": [
    "square1 = [x **2 for x in range(1,11) if x % 2 == 0]\n",
    "print(square1)"
   ]
  },
  {
   "cell_type": "code",
   "execution_count": 6,
   "id": "0f2e3a98",
   "metadata": {},
   "outputs": [
    {
     "name": "stdout",
     "output_type": "stream",
     "text": [
      "[0, 12, 24, 36]\n"
     ]
    }
   ],
   "source": [
    "square2 = [x for x in range(40) if x%3==0 if x%6==0 if x%12==0]\n",
    "print(square2)"
   ]
  },
  {
   "cell_type": "code",
   "execution_count": 7,
   "id": "04d7d1d7",
   "metadata": {},
   "outputs": [
    {
     "name": "stdout",
     "output_type": "stream",
     "text": [
      "0 is even number\n",
      "1 is odd number\n",
      "2 is even number\n",
      "3 is odd number\n",
      "4 is even number\n",
      "5 is odd number\n",
      "6 is even number\n",
      "7 is odd number\n",
      "8 is even number\n",
      "9 is odd number\n",
      "10 is even number\n",
      "11 is odd number\n",
      "12 is even number\n",
      "13 is odd number\n",
      "14 is even number\n"
     ]
    }
   ],
   "source": [
    "square3 = [\"{} is even number\".format(x) if x%2==0 else \"{} is odd number\".format(x) for x in range(15)]\n",
    "for i in square3:\n",
    "    print(i)  ## It prints loop format"
   ]
  },
  {
   "cell_type": "code",
   "execution_count": 8,
   "id": "75012261",
   "metadata": {},
   "outputs": [
    {
     "name": "stdout",
     "output_type": "stream",
     "text": [
      "['0 is even number', '1 is odd number', '2 is even number', '3 is odd number', '4 is even number', '5 is odd number', '6 is even number', '7 is odd number', '8 is even number', '9 is odd number', '10 is even number', '11 is odd number', '12 is even number', '13 is odd number', '14 is even number']\n"
     ]
    }
   ],
   "source": [
    "square3 = [\"{} is even number\".format(x) if x%2==0 else \"{} is odd number\".format(x) for x in range(15)]\n",
    "print(square3) ## It gives list format"
   ]
  },
  {
   "cell_type": "code",
   "execution_count": 10,
   "id": "9e4a3512",
   "metadata": {},
   "outputs": [
    {
     "data": {
      "text/plain": [
       "['1', '2', '3', '4', '5', '6', '7', '8', '9']"
      ]
     },
     "execution_count": 10,
     "metadata": {},
     "output_type": "execute_result"
    }
   ],
   "source": [
    "mystr =\"One 1 two 2 three 3 four 4 five 5 six 6789\"\n",
    "numbers = [x for x in mystr if x.isdigit()]\n",
    "numbers"
   ]
  },
  {
   "cell_type": "code",
   "execution_count": 12,
   "id": "3b748805",
   "metadata": {},
   "outputs": [
    {
     "data": {
      "text/plain": [
       "['O',\n",
       " 'n',\n",
       " 'e',\n",
       " 't',\n",
       " 'w',\n",
       " 'o',\n",
       " 't',\n",
       " 'h',\n",
       " 'r',\n",
       " 'e',\n",
       " 'e',\n",
       " 'f',\n",
       " 'o',\n",
       " 'u',\n",
       " 'r',\n",
       " 'f',\n",
       " 'i',\n",
       " 'v',\n",
       " 'e',\n",
       " 's',\n",
       " 'i',\n",
       " 'x']"
      ]
     },
     "execution_count": 12,
     "metadata": {},
     "output_type": "execute_result"
    }
   ],
   "source": [
    "mystr2 =\"One 1 two 2 three 3 four 4 five 5 six 6789\"\n",
    "numbers2 = [x for x in mystr if x.isalpha()]\n",
    "numbers2"
   ]
  },
  {
   "cell_type": "code",
   "execution_count": 13,
   "id": "4efe022f",
   "metadata": {},
   "outputs": [
    {
     "data": {
      "text/plain": [
       "['O']"
      ]
     },
     "execution_count": 13,
     "metadata": {},
     "output_type": "execute_result"
    }
   ],
   "source": [
    "mystr3 =\"One 1 two 2 three 3 four 4 five 5 six 6789\"\n",
    "numbers3 = [x for x in mystr if x.isupper()]\n",
    "numbers3"
   ]
  },
  {
   "cell_type": "code",
   "execution_count": 14,
   "id": "9251aa15",
   "metadata": {},
   "outputs": [
    {
     "data": {
      "text/plain": [
       "['n',\n",
       " 'e',\n",
       " 't',\n",
       " 'w',\n",
       " 'o',\n",
       " 't',\n",
       " 'h',\n",
       " 'r',\n",
       " 'e',\n",
       " 'e',\n",
       " 'f',\n",
       " 'o',\n",
       " 'u',\n",
       " 'r',\n",
       " 'f',\n",
       " 'i',\n",
       " 'v',\n",
       " 'e',\n",
       " 's',\n",
       " 'i',\n",
       " 'x']"
      ]
     },
     "execution_count": 14,
     "metadata": {},
     "output_type": "execute_result"
    }
   ],
   "source": [
    "mystr4 =\"One 1 two 2 three 3 four 4 five 5 six 6789\"\n",
    "numbers4 = [x for x in mystr if x.islower()]\n",
    "numbers4"
   ]
  }
 ],
 "metadata": {
  "kernelspec": {
   "display_name": "Python 3 (ipykernel)",
   "language": "python",
   "name": "python3"
  },
  "language_info": {
   "codemirror_mode": {
    "name": "ipython",
    "version": 3
   },
   "file_extension": ".py",
   "mimetype": "text/x-python",
   "name": "python",
   "nbconvert_exporter": "python",
   "pygments_lexer": "ipython3",
   "version": "3.11.3"
  }
 },
 "nbformat": 4,
 "nbformat_minor": 5
}
