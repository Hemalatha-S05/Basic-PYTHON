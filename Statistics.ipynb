{
 "cells": [
  {
   "cell_type": "code",
   "execution_count": null,
   "id": "09068158",
   "metadata": {},
   "outputs": [],
   "source": []
  },
  {
   "cell_type": "code",
   "execution_count": null,
   "id": "e0b5868f",
   "metadata": {},
   "outputs": [],
   "source": []
  },
  {
   "cell_type": "code",
   "execution_count": 1,
   "id": "eae6f70d",
   "metadata": {},
   "outputs": [],
   "source": [
    "## Statistics\n",
    "\n",
    "from scipy.stats import ttest_1samp\n",
    "\n",
    "## Read the data\n",
    "\n",
    "import pandas as pd\n",
    "mall = pd.read_csv(\"Mall_Customers.csv\")"
   ]
  },
  {
   "cell_type": "markdown",
   "id": "b10bb5c9",
   "metadata": {},
   "source": [
    "## One Sample Test"
   ]
  },
  {
   "cell_type": "markdown",
   "id": "740aa28b",
   "metadata": {},
   "source": [
    "#### Used to compare the sample mean to the population mean\n",
    "#### For small amount of data and use t distribution"
   ]
  },
  {
   "cell_type": "code",
   "execution_count": 4,
   "id": "f72d3128",
   "metadata": {},
   "outputs": [
    {
     "name": "stdout",
     "output_type": "stream",
     "text": [
      "T-Statistics: -11.48828951949721\n",
      "P-Value: 8.234394751496506e-24\n",
      "Reject the null hypothesis at alpha = 0.05\n"
     ]
    }
   ],
   "source": [
    "## One Sample Test\n",
    "\n",
    "hm = 50\n",
    "t_stat,p_value = ttest_1samp(mall[\"Age\"],hm)   # p-value\n",
    "alpha = 0.05\n",
    "\n",
    "# Interpret the result\n",
    "print(f\"T-Statistics: {t_stat}\")\n",
    "print(f\"P-Value: {p_value}\")\n",
    "\n",
    "if p_value < alpha:\n",
    "    print(f\"Reject the null hypothesis at alpha = {alpha}\")\n",
    "else:\n",
    "    print(f\"Fail to reject the null hypothesis at alpha = {alpha}\")"
   ]
  },
  {
   "cell_type": "code",
   "execution_count": 6,
   "id": "2000a8e6",
   "metadata": {},
   "outputs": [
    {
     "name": "stdout",
     "output_type": "stream",
     "text": [
      "T-Statistics: 0.1901172751573396\n",
      "P-Value: 0.8534362081257318\n",
      "Fail to reject the null hypothesis at alpha = 0.05\n"
     ]
    }
   ],
   "source": [
    "mm = [14.8,15.1,14.9,15.3,15.0,15.2,14.9,15.0,15.1,14.8]\n",
    "hm = 15\n",
    "t_stat,p_value=ttest_1samp(mm,hm)\n",
    "alpha = 0.05\n",
    "\n",
    "# Interpret the result\n",
    "print(f\"T-Statistics: {t_stat}\")\n",
    "print(f\"P-Value: {p_value}\")\n",
    "\n",
    "if p_value < alpha:\n",
    "    print(f\"Reject the null hypothesis at alpha = {alpha}\")\n",
    "else:\n",
    "    print(f\"Fail to reject the null hypothesis at alpha = {alpha}\")"
   ]
  },
  {
   "cell_type": "markdown",
   "id": "fa3bbd77",
   "metadata": {},
   "source": [
    "## 2 Sample Independent t-test"
   ]
  },
  {
   "cell_type": "code",
   "execution_count": 7,
   "id": "b80cb195",
   "metadata": {},
   "outputs": [],
   "source": [
    "import scipy.stats as stats\n",
    "import numpy as np\n",
    "\n",
    "# Creating data groups\n",
    "\n",
    "# H0 => μ1 = μ2 (population mean of male is equal to female)\n",
    "\n",
    "# HA => μ1 ≠ μ2 (population mean of male is different from female)\n",
    "\n",
    "male = mall[mall[\"Gender\"]==\"Male\"]\n",
    "female = mall[mall[\"Gender\"]==\"Female\"]\n",
    "\n",
    "male_age = male[\"Age\"]\n",
    "#print(male_age)\n",
    "\n",
    "female_age = female[\"Age\"]\n",
    "#print(female_age)"
   ]
  },
  {
   "cell_type": "code",
   "execution_count": 9,
   "id": "22921461",
   "metadata": {},
   "outputs": [
    {
     "data": {
      "text/plain": [
       "(0.6379442227710554, 0.5242397135319609)"
      ]
     },
     "execution_count": 9,
     "metadata": {},
     "output_type": "execute_result"
    }
   ],
   "source": [
    "male_group = np.array(male_age)\n",
    "\n",
    "female_group = np.array(female_age)\n",
    "#stats.ttest_ind(a=male_group,b=female_group)\n",
    "\n",
    "# Perform the two sample t-test with equal variances\n",
    "t_stat,p_value=stats.ttest_ind(a=male_group,b=female_group)  # equal_var = True\n",
    "t_stat,p_value\n"
   ]
  },
  {
   "cell_type": "markdown",
   "id": "19683e2b",
   "metadata": {},
   "source": [
    "## Paired t-test"
   ]
  },
  {
   "cell_type": "code",
   "execution_count": 1,
   "id": "d399cf46",
   "metadata": {},
   "outputs": [
    {
     "name": "stdout",
     "output_type": "stream",
     "text": [
      "t-statistics: 0.8017837257372731\n",
      "p-value: 0.46760475460939743\n"
     ]
    }
   ],
   "source": [
    "from scipy import stats\n",
    "\n",
    "# Sample data: Measurements from the same subjects at two different times\n",
    "\n",
    "before_diet = [23,21,18,30,25]\n",
    "after_diet = [20,22,19,29,24]\n",
    "\n",
    "# Perform paired t-test\n",
    "\n",
    "t_statistic,p_value = stats.ttest_rel(before_diet,after_diet)\n",
    "\n",
    "print(\"t-statistics:\",t_statistic)\n",
    "print(\"p-value:\",p_value)"
   ]
  },
  {
   "cell_type": "code",
   "execution_count": 3,
   "id": "299adcc0",
   "metadata": {},
   "outputs": [
    {
     "data": {
      "text/plain": [
       "0.6"
      ]
     },
     "execution_count": 3,
     "metadata": {},
     "output_type": "execute_result"
    }
   ],
   "source": [
    "import numpy as np\n",
    "\n",
    "diff = [3,-1,-1,1,1]\n",
    "md=np.mean(diff)\n",
    "md"
   ]
  },
  {
   "cell_type": "code",
   "execution_count": 5,
   "id": "3515d791",
   "metadata": {},
   "outputs": [
    {
     "data": {
      "text/plain": [
       "1.4966629547095767"
      ]
     },
     "execution_count": 5,
     "metadata": {},
     "output_type": "execute_result"
    }
   ],
   "source": [
    "sd=np.std(diff)\n",
    "sd"
   ]
  },
  {
   "cell_type": "markdown",
   "id": "9f7d26ef",
   "metadata": {},
   "source": [
    "## 1-Way ANOVA"
   ]
  },
  {
   "cell_type": "code",
   "execution_count": 5,
   "id": "e61aa1d6",
   "metadata": {},
   "outputs": [
    {
     "name": "stdout",
     "output_type": "stream",
     "text": [
      "F-statistics: 0.017094017094017096\n",
      "p-value: 0.9830751493312739\n"
     ]
    }
   ],
   "source": [
    "from scipy.stats import f_oneway\n",
    "from scipy import stats\n",
    "group1 = [10,9,8,7.5,8.5]\n",
    "group2 = [8,9,10,8,8.5]\n",
    "group3 = [9,8,7,10,9]\n",
    "# f statistic is the ratio of the variance between the groups to the variance within the groups\n",
    "# perform onw-way ANOVA\n",
    "\n",
    "f_statistic,p_value = stats.f_oneway(group1,group2,group3)\n",
    "\n",
    "print(\"F-statistics:\",f_statistic)\n",
    "print(\"p-value:\",p_value)"
   ]
  },
  {
   "cell_type": "markdown",
   "id": "5d6feb60",
   "metadata": {},
   "source": [
    "## 2-Way ANOVA"
   ]
  },
  {
   "cell_type": "code",
   "execution_count": 3,
   "id": "4887c3de",
   "metadata": {},
   "outputs": [
    {
     "name": "stdout",
     "output_type": "stream",
     "text": [
      "                      df     sum_sq   mean_sq         F    PR(>F)\n",
      "C(Diet)              1.0   0.300000  0.300000  0.125000  0.738093\n",
      "C(Exercise)          1.0   7.200000  7.200000  3.000000  0.143811\n",
      "C(Diet):C(Exercise)  1.0   1.963858  1.963858  0.818274  0.407157\n",
      "Residual             5.0  12.000000  2.400000       NaN       NaN\n"
     ]
    }
   ],
   "source": [
    "import pandas as pd\n",
    "import statsmodels.api as sm\n",
    "from statsmodels.formula.api import ols\n",
    "\n",
    "# Create a Sample dataset\n",
    "\n",
    "data = pd.DataFrame({\n",
    "    'Diet':['A','A','A','B','B','B','B','B'],\n",
    "    'Exercise':['1','1','1','1','2','2','2','2'],\n",
    "    'Weightloss':[5,6,7,4,8,6,5,9]\n",
    "})\n",
    "\n",
    "# Fit the two-way ANOVA model\n",
    "\n",
    "model= ols('Weightloss ~ C(Diet) + C(Exercise) + C(Diet):C(Exercise)',data=data).fit()\n",
    "\n",
    "anova_table=sm.stats.anova_lm(model,type=2)\n",
    "print(anova_table)"
   ]
  },
  {
   "cell_type": "markdown",
   "id": "c0190d9b",
   "metadata": {},
   "source": [
    "## Chi square tset"
   ]
  },
  {
   "cell_type": "code",
   "execution_count": 4,
   "id": "d5fdaec8",
   "metadata": {},
   "outputs": [
    {
     "data": {
      "text/plain": [
       "Chi2ContingencyResult(statistic=4.0, pvalue=0.04550026389635857, dof=1, expected_freq=array([[25., 25.],\n",
       "       [25., 25.]]))"
      ]
     },
     "execution_count": 4,
     "metadata": {},
     "output_type": "execute_result"
    }
   ],
   "source": [
    "import numpy as np\n",
    "from scipy.stats import chi2_contingency\n",
    "\n",
    "# Observed frequency table\n",
    "\n",
    "observed = np.array([[20,30],\n",
    "                   [30,20]])\n",
    "\n",
    "chi2_contingency(observed,correction=False)"
   ]
  },
  {
   "cell_type": "markdown",
   "id": "ba3b1c46",
   "metadata": {},
   "source": [
    "## AB Testing"
   ]
  },
  {
   "cell_type": "markdown",
   "id": "4bcc90df",
   "metadata": {},
   "source": [
    "## Comparing which version is effective."
   ]
  },
  {
   "cell_type": "code",
   "execution_count": 5,
   "id": "f3d96ed0",
   "metadata": {},
   "outputs": [
    {
     "name": "stdout",
     "output_type": "stream",
     "text": [
      "t = -14.386\n",
      "p = 0.000\n"
     ]
    }
   ],
   "source": [
    "import numpy as np\n",
    "\n",
    "v_A = np.random.normal(loc=10, scale=2, size=500)  # loc-means mean value, scale-means standard deviation\n",
    "v_B = np.random.normal(loc=12, scale=2, size=500)\n",
    "\n",
    "from scipy.stats import ttest_ind\n",
    "\n",
    "# Performing the t-test\n",
    "\n",
    "t,p = ttest_ind(v_A,v_B)\n",
    "\n",
    "# Printing the result\n",
    "\n",
    "print(f\"t = {t:.3f}\")\n",
    "print(f\"p = {p:.3f}\")\n",
    "\n",
    "# From the result v_A is smaller than v_B as it shows negative value and also the number 15 is large so the difference"
   ]
  },
  {
   "cell_type": "code",
   "execution_count": null,
   "id": "fc92105c",
   "metadata": {},
   "outputs": [],
   "source": []
  },
  {
   "cell_type": "code",
   "execution_count": null,
   "id": "bb2800ba",
   "metadata": {},
   "outputs": [],
   "source": []
  },
  {
   "cell_type": "code",
   "execution_count": null,
   "id": "9fa1e11d",
   "metadata": {},
   "outputs": [],
   "source": []
  },
  {
   "cell_type": "code",
   "execution_count": null,
   "id": "93efa6ba",
   "metadata": {},
   "outputs": [],
   "source": []
  },
  {
   "cell_type": "code",
   "execution_count": null,
   "id": "5658018a",
   "metadata": {},
   "outputs": [],
   "source": []
  },
  {
   "cell_type": "code",
   "execution_count": null,
   "id": "4ec0efd2",
   "metadata": {},
   "outputs": [],
   "source": []
  },
  {
   "cell_type": "code",
   "execution_count": null,
   "id": "b7952988",
   "metadata": {},
   "outputs": [],
   "source": []
  },
  {
   "cell_type": "code",
   "execution_count": null,
   "id": "f8b4c28d",
   "metadata": {},
   "outputs": [],
   "source": []
  },
  {
   "cell_type": "code",
   "execution_count": null,
   "id": "69722ab1",
   "metadata": {},
   "outputs": [],
   "source": []
  },
  {
   "cell_type": "code",
   "execution_count": null,
   "id": "433db2a5",
   "metadata": {},
   "outputs": [],
   "source": []
  },
  {
   "cell_type": "code",
   "execution_count": null,
   "id": "1663d0cd",
   "metadata": {},
   "outputs": [],
   "source": []
  }
 ],
 "metadata": {
  "kernelspec": {
   "display_name": "Python 3 (ipykernel)",
   "language": "python",
   "name": "python3"
  },
  "language_info": {
   "codemirror_mode": {
    "name": "ipython",
    "version": 3
   },
   "file_extension": ".py",
   "mimetype": "text/x-python",
   "name": "python",
   "nbconvert_exporter": "python",
   "pygments_lexer": "ipython3",
   "version": "3.11.3"
  }
 },
 "nbformat": 4,
 "nbformat_minor": 5
}
