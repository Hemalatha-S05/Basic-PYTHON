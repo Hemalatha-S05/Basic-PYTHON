{
 "cells": [
  {
   "cell_type": "code",
   "execution_count": 1,
   "id": "e569b509",
   "metadata": {},
   "outputs": [
    {
     "name": "stdout",
     "output_type": "stream",
     "text": [
      "[15, 16, 14]\n"
     ]
    }
   ],
   "source": [
    "import numpy as np\n",
    "\n",
    "a = [5,4,7]\n",
    "b = [3,4,2]\n",
    "\n",
    "c = list(map(lambda a,b: a*b,a,b))\n",
    "print(c)"
   ]
  },
  {
   "cell_type": "code",
   "execution_count": 3,
   "id": "de18a06a",
   "metadata": {},
   "outputs": [
    {
     "ename": "TypeError",
     "evalue": "can't multiply sequence by non-int of type 'list'",
     "output_type": "error",
     "traceback": [
      "\u001b[1;31m---------------------------------------------------------------------------\u001b[0m",
      "\u001b[1;31mTypeError\u001b[0m                                 Traceback (most recent call last)",
      "Cell \u001b[1;32mIn[3], line 5\u001b[0m\n\u001b[0;32m      2\u001b[0m a \u001b[38;5;241m=\u001b[39m [\u001b[38;5;241m5\u001b[39m,\u001b[38;5;241m4\u001b[39m,\u001b[38;5;241m7\u001b[39m]\n\u001b[0;32m      3\u001b[0m b \u001b[38;5;241m=\u001b[39m [\u001b[38;5;241m3\u001b[39m,\u001b[38;5;241m4\u001b[39m,\u001b[38;5;241m2\u001b[39m]\n\u001b[1;32m----> 5\u001b[0m c \u001b[38;5;241m=\u001b[39m a\u001b[38;5;241m*\u001b[39mb\n\u001b[0;32m      6\u001b[0m \u001b[38;5;28mprint\u001b[39m(c)\n",
      "\u001b[1;31mTypeError\u001b[0m: can't multiply sequence by non-int of type 'list'"
     ]
    }
   ],
   "source": [
    "# We cant do like this\n",
    "a = [5,4,7]\n",
    "b = [3,4,2]\n",
    "\n",
    "c = a*b\n",
    "print(c)"
   ]
  },
  {
   "cell_type": "code",
   "execution_count": null,
   "id": "9f0d02c7",
   "metadata": {},
   "outputs": [],
   "source": []
  },
  {
   "cell_type": "code",
   "execution_count": 6,
   "id": "dd7eda71",
   "metadata": {},
   "outputs": [
    {
     "name": "stdout",
     "output_type": "stream",
     "text": [
      "[15, 16, 14]\n"
     ]
    }
   ],
   "source": [
    "a = [5,4,7]\n",
    "b = [3,4,2]\n",
    "c = []\n",
    "\n",
    "for i in range(len(a)):\n",
    "    c.append(a[i]*b[i])\n",
    "    \n",
    "print(c)"
   ]
  },
  {
   "cell_type": "code",
   "execution_count": 3,
   "id": "8d813612",
   "metadata": {},
   "outputs": [
    {
     "name": "stdout",
     "output_type": "stream",
     "text": [
      "[5 4 7]\n"
     ]
    }
   ],
   "source": [
    "a = np.array(a)\n",
    "print(a)"
   ]
  },
  {
   "cell_type": "code",
   "execution_count": 4,
   "id": "20c20c59",
   "metadata": {},
   "outputs": [
    {
     "name": "stdout",
     "output_type": "stream",
     "text": [
      "[3 4 2]\n"
     ]
    }
   ],
   "source": [
    "b = np.array(b)\n",
    "print(b)"
   ]
  },
  {
   "cell_type": "code",
   "execution_count": 5,
   "id": "17e029d4",
   "metadata": {},
   "outputs": [
    {
     "name": "stdout",
     "output_type": "stream",
     "text": [
      "[15 16 14]\n"
     ]
    }
   ],
   "source": [
    "c = a*b\n",
    "print(c)"
   ]
  },
  {
   "cell_type": "code",
   "execution_count": null,
   "id": "561d3bbd",
   "metadata": {},
   "outputs": [],
   "source": [
    "# METHOD 1: First make a list and then pass it in numpy"
   ]
  },
  {
   "cell_type": "code",
   "execution_count": 1,
   "id": "db0c98e7",
   "metadata": {},
   "outputs": [
    {
     "name": "stdout",
     "output_type": "stream",
     "text": [
      "[100 200 300]\n",
      "\n",
      "<class 'numpy.ndarray'>\n"
     ]
    }
   ],
   "source": [
    "# Importing the module\n",
    "\n",
    "import numpy as np\n",
    "\n",
    "# Creating the list\n",
    "\n",
    "list = [100,200,300]\n",
    "\n",
    "# Creating 1-d array\n",
    "\n",
    "n = np.array(list)\n",
    "print(n)\n",
    "\n",
    "print()\n",
    "\n",
    "print(type(n))"
   ]
  },
  {
   "cell_type": "code",
   "execution_count": null,
   "id": "b044d686",
   "metadata": {},
   "outputs": [],
   "source": [
    "# METHOD 2: arange() returns evenly spaced values within a given interval"
   ]
  },
  {
   "cell_type": "code",
   "execution_count": 4,
   "id": "a7967c8d",
   "metadata": {},
   "outputs": [
    {
     "name": "stdout",
     "output_type": "stream",
     "text": [
      "[ 2  4  6  8 10]\n",
      "[10  8  6]\n",
      "\n",
      "<class 'numpy.ndarray'>\n"
     ]
    }
   ],
   "source": [
    "# Creating a numpy array using arange() - array range\n",
    "\n",
    "# Values from 2 to 10 are arranged in numpy array with interval of 2\n",
    "\n",
    "x = np.arange(2,12,2)\n",
    "y = np.arange(10,5,-2)\n",
    "\n",
    "print(x)\n",
    "print(y)\n",
    "\n",
    "print()\n",
    "\n",
    "print(type(x))"
   ]
  },
  {
   "cell_type": "code",
   "execution_count": 3,
   "id": "07d322c7",
   "metadata": {},
   "outputs": [
    {
     "name": "stdout",
     "output_type": "stream",
     "text": [
      "[ 2.  5.  8. 11.]\n",
      "<class 'numpy.ndarray'>\n"
     ]
    }
   ],
   "source": [
    "# from 2 to 11, 3 values are fetched dividing the interval into equal parts and initialized as numpy array\n",
    "\n",
    "x = np.linspace(2,11,4)\n",
    "print(x)\n",
    "print(type(x))"
   ]
  },
  {
   "cell_type": "code",
   "execution_count": 15,
   "id": "c982e097",
   "metadata": {},
   "outputs": [
    {
     "name": "stdout",
     "output_type": "stream",
     "text": [
      "[ 2.          6.33333333 10.66666667 15.        ]\n",
      "<class 'numpy.ndarray'>\n"
     ]
    }
   ],
   "source": [
    "x = np.linspace(2,15,4)  # linspace - linear space 4-it split equal parts\n",
    "print(x)\n",
    "print(type(x))"
   ]
  },
  {
   "cell_type": "markdown",
   "id": "1388a3be",
   "metadata": {},
   "source": [
    "## Shape of numpy array"
   ]
  },
  {
   "cell_type": "code",
   "execution_count": 17,
   "id": "b602af06",
   "metadata": {},
   "outputs": [
    {
     "name": "stdout",
     "output_type": "stream",
     "text": [
      "(9,)\n",
      "\n",
      "[[1 2 3 4 5 6 7 8 9]\n",
      " [1 2 3 4 5 6 7 8 9]]\n",
      "\n",
      "(2, 9)\n"
     ]
    }
   ],
   "source": [
    "y = np.array([1,2,3,4,5,6,7,8,9])\n",
    "print(y.shape)\n",
    "print()\n",
    "z = np.array([[1,2,3,4,5,6,7,8,9],[1,2,3,4,5,6,7,8,9]])\n",
    "print(z)\n",
    "print()\n",
    "print(z.shape)"
   ]
  },
  {
   "cell_type": "code",
   "execution_count": 20,
   "id": "11a057e4",
   "metadata": {},
   "outputs": [
    {
     "name": "stdout",
     "output_type": "stream",
     "text": [
      "1\n",
      "2\n"
     ]
    }
   ],
   "source": [
    "print(y.ndim)\n",
    "print(z.ndim)"
   ]
  },
  {
   "cell_type": "code",
   "execution_count": null,
   "id": "a4da736d",
   "metadata": {},
   "outputs": [],
   "source": [
    "#Use documentation for packages.. numpy.org search and find in chrome for documentation purpose\n",
    "# list - heterogeneous\n",
    "# numpy - homogeneous"
   ]
  },
  {
   "cell_type": "code",
   "execution_count": null,
   "id": "91faff25",
   "metadata": {},
   "outputs": [],
   "source": []
  },
  {
   "cell_type": "code",
   "execution_count": 6,
   "id": "4e49ee9a",
   "metadata": {},
   "outputs": [
    {
     "name": "stdout",
     "output_type": "stream",
     "text": [
      "[[1 2 3]\n",
      " [4 5 6]]\n"
     ]
    }
   ],
   "source": [
    "# initialized in the form of nested python lists \n",
    "\n",
    "np_arr = np.array([[1,2,3],[4,5,6]])\n",
    "\n",
    "print(np_arr)"
   ]
  },
  {
   "cell_type": "code",
   "execution_count": 7,
   "id": "80e6b155",
   "metadata": {},
   "outputs": [
    {
     "data": {
      "text/plain": [
       "(2, 3)"
      ]
     },
     "execution_count": 7,
     "metadata": {},
     "output_type": "execute_result"
    }
   ],
   "source": [
    "np_arr.shape"
   ]
  },
  {
   "cell_type": "code",
   "execution_count": 8,
   "id": "e618b8e1",
   "metadata": {},
   "outputs": [
    {
     "data": {
      "text/plain": [
       "6"
      ]
     },
     "execution_count": 8,
     "metadata": {},
     "output_type": "execute_result"
    }
   ],
   "source": [
    "np_arr.size"
   ]
  },
  {
   "cell_type": "code",
   "execution_count": 9,
   "id": "a5cf094a",
   "metadata": {},
   "outputs": [
    {
     "data": {
      "text/plain": [
       "2"
      ]
     },
     "execution_count": 9,
     "metadata": {},
     "output_type": "execute_result"
    }
   ],
   "source": [
    "np_arr.ndim"
   ]
  },
  {
   "cell_type": "code",
   "execution_count": 23,
   "id": "7abfe7e2",
   "metadata": {},
   "outputs": [
    {
     "name": "stdout",
     "output_type": "stream",
     "text": [
      "[[1 2 3]\n",
      " [4 5 6]\n",
      " [7 8 9]]\n"
     ]
    }
   ],
   "source": [
    "y = np.array([[1,2,3],[4,5,6],[7,8,9]])\n",
    "print(y)"
   ]
  },
  {
   "cell_type": "code",
   "execution_count": 24,
   "id": "29999981",
   "metadata": {},
   "outputs": [
    {
     "data": {
      "text/plain": [
       "(3, 3)"
      ]
     },
     "execution_count": 24,
     "metadata": {},
     "output_type": "execute_result"
    }
   ],
   "source": [
    "y.shape"
   ]
  },
  {
   "cell_type": "code",
   "execution_count": 25,
   "id": "00b7158d",
   "metadata": {},
   "outputs": [
    {
     "data": {
      "text/plain": [
       "9"
      ]
     },
     "execution_count": 25,
     "metadata": {},
     "output_type": "execute_result"
    }
   ],
   "source": [
    "y.size"
   ]
  },
  {
   "cell_type": "code",
   "execution_count": 26,
   "id": "fccef924",
   "metadata": {},
   "outputs": [
    {
     "data": {
      "text/plain": [
       "2"
      ]
     },
     "execution_count": 26,
     "metadata": {},
     "output_type": "execute_result"
    }
   ],
   "source": [
    "y.ndim"
   ]
  },
  {
   "cell_type": "code",
   "execution_count": 27,
   "id": "e15e2005",
   "metadata": {},
   "outputs": [
    {
     "name": "stdout",
     "output_type": "stream",
     "text": [
      "<class 'numpy.ndarray'>\n"
     ]
    }
   ],
   "source": [
    "print(type(y))   # ndarray - n-dimensional array"
   ]
  },
  {
   "cell_type": "markdown",
   "id": "edff0208",
   "metadata": {},
   "source": [
    "## Zeros() and Ones() function"
   ]
  },
  {
   "cell_type": "code",
   "execution_count": null,
   "id": "70412a49",
   "metadata": {},
   "outputs": [],
   "source": []
  },
  {
   "cell_type": "markdown",
   "id": "fe1b8663",
   "metadata": {},
   "source": [
    "#### Zeros()"
   ]
  },
  {
   "cell_type": "code",
   "execution_count": 32,
   "id": "b7e28d01",
   "metadata": {},
   "outputs": [
    {
     "name": "stdout",
     "output_type": "stream",
     "text": [
      "[[0. 0. 0.]\n",
      " [0. 0. 0.]\n",
      " [0. 0. 0.]]\n"
     ]
    }
   ],
   "source": [
    "# Create a 3*3 array initialized with 0s.\n",
    "\n",
    "np_arr = np.zeros((3,3))\n",
    "print(np_arr)"
   ]
  },
  {
   "cell_type": "code",
   "execution_count": 36,
   "id": "77ed943f",
   "metadata": {},
   "outputs": [
    {
     "name": "stdout",
     "output_type": "stream",
     "text": [
      "[[0 0 0]\n",
      " [0 0 0]\n",
      " [0 0 0]]\n"
     ]
    }
   ],
   "source": [
    "np_arr = np.zeros((3,3),dtype = np.int64)\n",
    "print(np_arr)"
   ]
  },
  {
   "cell_type": "code",
   "execution_count": 34,
   "id": "e8547a5a",
   "metadata": {},
   "outputs": [
    {
     "data": {
      "text/plain": [
       "(3, 3)"
      ]
     },
     "execution_count": 34,
     "metadata": {},
     "output_type": "execute_result"
    }
   ],
   "source": [
    "np_arr.shape"
   ]
  },
  {
   "cell_type": "markdown",
   "id": "04ef029d",
   "metadata": {},
   "source": [
    "#### Ones()"
   ]
  },
  {
   "cell_type": "code",
   "execution_count": null,
   "id": "aace812e",
   "metadata": {},
   "outputs": [],
   "source": [
    "# ones() fn works like the zeros() fn, but all array elements aray initialized to 1."
   ]
  },
  {
   "cell_type": "code",
   "execution_count": 37,
   "id": "6550a6ce",
   "metadata": {},
   "outputs": [
    {
     "name": "stdout",
     "output_type": "stream",
     "text": [
      "[[[1 1 1 1]\n",
      "  [1 1 1 1]]\n",
      "\n",
      " [[1 1 1 1]\n",
      "  [1 1 1 1]]\n",
      "\n",
      " [[1 1 1 1]\n",
      "  [1 1 1 1]]]\n"
     ]
    }
   ],
   "source": [
    "# Creating a 3*3 array initialized with 1s\n",
    "\n",
    "a = np.ones((3,2,4),dtype = np.int32)   # (3,2,4)- 3 D 2 Row 4 Column\n",
    "print(a)"
   ]
  },
  {
   "cell_type": "code",
   "execution_count": 16,
   "id": "cf7b46a0",
   "metadata": {},
   "outputs": [
    {
     "name": "stdout",
     "output_type": "stream",
     "text": [
      "[[[[1 1 1 1]\n",
      "   [1 1 1 1]]\n",
      "\n",
      "  [[1 1 1 1]\n",
      "   [1 1 1 1]]\n",
      "\n",
      "  [[1 1 1 1]\n",
      "   [1 1 1 1]]]\n",
      "\n",
      "\n",
      " [[[1 1 1 1]\n",
      "   [1 1 1 1]]\n",
      "\n",
      "  [[1 1 1 1]\n",
      "   [1 1 1 1]]\n",
      "\n",
      "  [[1 1 1 1]\n",
      "   [1 1 1 1]]]\n",
      "\n",
      "\n",
      " [[[1 1 1 1]\n",
      "   [1 1 1 1]]\n",
      "\n",
      "  [[1 1 1 1]\n",
      "   [1 1 1 1]]\n",
      "\n",
      "  [[1 1 1 1]\n",
      "   [1 1 1 1]]]]\n"
     ]
    }
   ],
   "source": [
    "a = np.ones((3,3,2,4),dtype = np.int32)   # (3,3,2,4)- 4-Dimensinlaity 3-3D 3-2D 2 Row 4 Column\n",
    "print(a)"
   ]
  },
  {
   "cell_type": "code",
   "execution_count": null,
   "id": "638ab954",
   "metadata": {},
   "outputs": [],
   "source": [
    "# Calculations"
   ]
  },
  {
   "cell_type": "code",
   "execution_count": 18,
   "id": "06a42d43",
   "metadata": {},
   "outputs": [
    {
     "name": "stdout",
     "output_type": "stream",
     "text": [
      "[[1, 5, 8], [8, 5, 4], [6, 3, 2], [5, 4, 2]]\n",
      "[[1 5 8]\n",
      " [8 5 4]\n",
      " [6 3 2]\n",
      " [5 4 2]]\n",
      "[4.66666667 5.66666667 3.66666667 3.66666667]\n",
      "[2.54950976 0.8291562  2.44948974]\n",
      "[5.5 4.5 3. ]\n",
      "[6.5    0.6875 6.    ]\n"
     ]
    }
   ],
   "source": [
    "# initialize the value\n",
    "import numpy as np\n",
    "\n",
    "a = [[1,5,8],[8,5,4],[6,3,2],[5,4,2]]\n",
    "\n",
    "# converting list to array\n",
    "x = np.array(a)\n",
    "\n",
    "# displaying list\n",
    "print(a)\n",
    "\n",
    "# displaying array\n",
    "print(x)\n",
    "print(np.mean(a,axis=1))  # axis=1 means it takes rows axis=0 means it takes column vise...\n",
    "print(np.std(a,axis=0))\n",
    "print(np.median(a,axis=0))\n",
    "print(np.var(a,axis=0))"
   ]
  },
  {
   "cell_type": "code",
   "execution_count": 19,
   "id": "e40c6249",
   "metadata": {},
   "outputs": [
    {
     "name": "stdout",
     "output_type": "stream",
     "text": [
      "[5.   4.25 4.  ]\n"
     ]
    }
   ],
   "source": [
    "print(np.mean(a,axis=0))"
   ]
  },
  {
   "cell_type": "markdown",
   "id": "f8006f1d",
   "metadata": {},
   "source": [
    "## Indexing and Slicing"
   ]
  },
  {
   "cell_type": "markdown",
   "id": "dbf88dcb",
   "metadata": {},
   "source": [
    "#### Indexing can be done is numpy by using an array as an index\n",
    "#### In case of slicing a view or shallow copy of the array is returned but in index array a copy of the original array is returned"
   ]
  },
  {
   "cell_type": "code",
   "execution_count": 22,
   "id": "3cd857da",
   "metadata": {},
   "outputs": [
    {
     "name": "stdout",
     "output_type": "stream",
     "text": [
      "[50 51 52 53 54 55 56 57 58 59 60 61 62 63 64 65 66 67 68 69 70 71 72 73\n",
      " 74 75 76 77 78 79]\n"
     ]
    }
   ],
   "source": [
    "a = np.arange(50,80)\n",
    "\n",
    "print(a)"
   ]
  },
  {
   "cell_type": "code",
   "execution_count": 23,
   "id": "9f167a8f",
   "metadata": {},
   "outputs": [
    {
     "name": "stdout",
     "output_type": "stream",
     "text": [
      "55\n"
     ]
    }
   ],
   "source": [
    "# Indexing\n",
    "\n",
    "print(a[5])"
   ]
  },
  {
   "cell_type": "code",
   "execution_count": 24,
   "id": "fe545cc8",
   "metadata": {},
   "outputs": [
    {
     "name": "stdout",
     "output_type": "stream",
     "text": [
      "[55 63 71]\n"
     ]
    }
   ],
   "source": [
    "# Slicing\n",
    "\n",
    "print(a[5:25:8])  # [start:stop:skip]"
   ]
  },
  {
   "cell_type": "code",
   "execution_count": 25,
   "id": "84eb5206",
   "metadata": {},
   "outputs": [
    {
     "name": "stdout",
     "output_type": "stream",
     "text": [
      "[70 71 72 73 74 75 76 77 78 79]\n"
     ]
    }
   ],
   "source": [
    "# Fetching elements from a specific element to the end\n",
    "\n",
    "print(a[20:])"
   ]
  },
  {
   "cell_type": "code",
   "execution_count": 26,
   "id": "c59e4a77",
   "metadata": {},
   "outputs": [
    {
     "name": "stdout",
     "output_type": "stream",
     "text": [
      "[50 51 52 53 54]\n"
     ]
    }
   ],
   "source": [
    "# Fetching elements from index 0 to specific element\n",
    "\n",
    "print(a[:5])"
   ]
  },
  {
   "cell_type": "code",
   "execution_count": 27,
   "id": "b318d7db",
   "metadata": {},
   "outputs": [
    {
     "name": "stdout",
     "output_type": "stream",
     "text": [
      "\n",
      " A sequential array with a negative step: \n",
      " [10  8  6  4  2]\n",
      "\n",
      "[8 6 4]\n"
     ]
    }
   ],
   "source": [
    "# Create a sequence of integers from 10 to 1 with a step of -2\n",
    "\n",
    "a = np.arange(10,1,-2)\n",
    "print(\"\\n A sequential array with a negative step: \\n\",a)\n",
    "\n",
    "print()\n",
    "new = a[1:4]\n",
    "print(new)"
   ]
  },
  {
   "cell_type": "markdown",
   "id": "516c53a9",
   "metadata": {},
   "source": [
    "## VECTORS & MATRICES"
   ]
  },
  {
   "cell_type": "markdown",
   "id": "b323c858",
   "metadata": {},
   "source": [
    "#### vectors and matrices are both fundamental mathematical structures used in linear algebra and data analysis, but they differ in their dimensions and representations.\n",
    "\n",
    "## Vector: (It has only row or column)\n",
    "#### - A vector is a one-dimensional array of numbers.\n",
    "#### - It represents a quantity that has magnitude and directions.\n",
    "#### - In mathematics, vectors are often denoted as column vector but they can also be represented as row vectors."
   ]
  },
  {
   "cell_type": "code",
   "execution_count": null,
   "id": "915d2d7e",
   "metadata": {},
   "outputs": [],
   "source": []
  },
  {
   "cell_type": "code",
   "execution_count": null,
   "id": "f4e92b76",
   "metadata": {},
   "outputs": [],
   "source": []
  },
  {
   "cell_type": "code",
   "execution_count": null,
   "id": "87ceaddc",
   "metadata": {},
   "outputs": [],
   "source": [
    "## reshape() fn:\n",
    "## numpy.reshape() fn shapes an array without changing the data of the array."
   ]
  },
  {
   "cell_type": "code",
   "execution_count": 28,
   "id": "8d523b31",
   "metadata": {},
   "outputs": [
    {
     "name": "stdout",
     "output_type": "stream",
     "text": [
      "Original array: \n",
      " [0 1 2 3 4 5 6 7]\n"
     ]
    }
   ],
   "source": [
    "a = np.arange(8)\n",
    "print(\"Original array: \\n\",a)"
   ]
  },
  {
   "cell_type": "code",
   "execution_count": 32,
   "id": "077c71a8",
   "metadata": {},
   "outputs": [
    {
     "name": "stdout",
     "output_type": "stream",
     "text": [
      "\n",
      " Array reshaped with 2 rows and 4 columns: \n",
      " [[0 1 2 3]\n",
      " [4 5 6 7]]\n"
     ]
    }
   ],
   "source": [
    "# Shape array with 2 rows and 4 columns\n",
    "\n",
    "b = np.arange(8).reshape(2,4)\n",
    "print(\"\\n Array reshaped with 2 rows and 4 columns: \\n\",b)"
   ]
  },
  {
   "cell_type": "code",
   "execution_count": 33,
   "id": "7921a593",
   "metadata": {},
   "outputs": [
    {
     "ename": "ValueError",
     "evalue": "cannot reshape array of size 8 into shape (2,2)",
     "output_type": "error",
     "traceback": [
      "\u001b[1;31m---------------------------------------------------------------------------\u001b[0m",
      "\u001b[1;31mValueError\u001b[0m                                Traceback (most recent call last)",
      "Cell \u001b[1;32mIn[33], line 1\u001b[0m\n\u001b[1;32m----> 1\u001b[0m b \u001b[38;5;241m=\u001b[39m np\u001b[38;5;241m.\u001b[39marange(\u001b[38;5;241m8\u001b[39m)\u001b[38;5;241m.\u001b[39mreshape(\u001b[38;5;241m2\u001b[39m,\u001b[38;5;241m2\u001b[39m)\n\u001b[0;32m      2\u001b[0m \u001b[38;5;28mprint\u001b[39m(\u001b[38;5;124m\"\u001b[39m\u001b[38;5;130;01m\\n\u001b[39;00m\u001b[38;5;124m Array reshaped with 2 rows and 4 columns: \u001b[39m\u001b[38;5;130;01m\\n\u001b[39;00m\u001b[38;5;124m\"\u001b[39m,b)\n",
      "\u001b[1;31mValueError\u001b[0m: cannot reshape array of size 8 into shape (2,2)"
     ]
    }
   ],
   "source": [
    "b = np.arange(8).reshape(2,2) # (2,2)-it can't reshape the dimension because range is 8 it only divide 2,4 numbers only....\n",
    "print(\"\\n Array reshaped with 2 rows and 4 columns: \\n\",b)"
   ]
  },
  {
   "cell_type": "code",
   "execution_count": 34,
   "id": "fafc97f8",
   "metadata": {},
   "outputs": [
    {
     "name": "stdout",
     "output_type": "stream",
     "text": [
      "[[[0 1]\n",
      "  [2 3]]\n",
      "\n",
      " [[4 5]\n",
      "  [6 7]]]\n"
     ]
    }
   ],
   "source": [
    "# Constructors 3D array\n",
    "\n",
    "d = np.arange(8).reshape(2,2,2)\n",
    "print(d)"
   ]
  },
  {
   "cell_type": "code",
   "execution_count": 35,
   "id": "e0df0dee",
   "metadata": {},
   "outputs": [
    {
     "name": "stdout",
     "output_type": "stream",
     "text": [
      "[0 1 2 3 4 5 6 7]\n"
     ]
    }
   ],
   "source": [
    "d = np.arange(8).reshape(8,)\n",
    "print(d)"
   ]
  },
  {
   "cell_type": "code",
   "execution_count": 36,
   "id": "ea440316",
   "metadata": {},
   "outputs": [
    {
     "name": "stdout",
     "output_type": "stream",
     "text": [
      "[[0]\n",
      " [1]\n",
      " [2]\n",
      " [3]\n",
      " [4]\n",
      " [5]\n",
      " [6]\n",
      " [7]]\n"
     ]
    }
   ],
   "source": [
    "d = np.arange(8).reshape(8,1)\n",
    "print(d)"
   ]
  },
  {
   "cell_type": "code",
   "execution_count": 37,
   "id": "721b619d",
   "metadata": {},
   "outputs": [
    {
     "name": "stdout",
     "output_type": "stream",
     "text": [
      "[[0 1 2 3 4 5 6 7]]\n"
     ]
    }
   ],
   "source": [
    "d = np.arange(8).reshape(1,8)\n",
    "print(d)"
   ]
  },
  {
   "cell_type": "code",
   "execution_count": 38,
   "id": "ea80805d",
   "metadata": {},
   "outputs": [
    {
     "name": "stdout",
     "output_type": "stream",
     "text": [
      "[[1 2]\n",
      " [3 4]\n",
      " [5 6]]\n"
     ]
    }
   ],
   "source": [
    "b = np.array([[1,2],[3,4],[5,6]])\n",
    "print(b)"
   ]
  },
  {
   "cell_type": "code",
   "execution_count": 39,
   "id": "af498e8f",
   "metadata": {},
   "outputs": [
    {
     "data": {
      "text/plain": [
       "(3, 2)"
      ]
     },
     "execution_count": 39,
     "metadata": {},
     "output_type": "execute_result"
    }
   ],
   "source": [
    "b.shape"
   ]
  },
  {
   "cell_type": "code",
   "execution_count": 40,
   "id": "21a0194d",
   "metadata": {},
   "outputs": [
    {
     "data": {
      "text/plain": [
       "6"
      ]
     },
     "execution_count": 40,
     "metadata": {},
     "output_type": "execute_result"
    }
   ],
   "source": [
    "b.size"
   ]
  },
  {
   "cell_type": "code",
   "execution_count": 41,
   "id": "1535a097",
   "metadata": {},
   "outputs": [
    {
     "name": "stdout",
     "output_type": "stream",
     "text": [
      "[[1 2 3]\n",
      " [4 5 6]]\n"
     ]
    }
   ],
   "source": [
    "b_reshape = b.reshape(2,3)\n",
    "print(b_reshape)"
   ]
  },
  {
   "cell_type": "code",
   "execution_count": 43,
   "id": "8e9d28b1",
   "metadata": {},
   "outputs": [
    {
     "name": "stdout",
     "output_type": "stream",
     "text": [
      "[[1 2]\n",
      " [3 4]\n",
      " [5 6]]\n"
     ]
    }
   ],
   "source": [
    "b_reshape = b.reshape(3,2)\n",
    "print(b_reshape)"
   ]
  },
  {
   "cell_type": "markdown",
   "id": "ab1bb9a6",
   "metadata": {},
   "source": [
    "## Indexing and Slicing in 2D numpy array"
   ]
  },
  {
   "cell_type": "code",
   "execution_count": 3,
   "id": "61e8c8a0",
   "metadata": {},
   "outputs": [
    {
     "name": "stdout",
     "output_type": "stream",
     "text": [
      "[[ 1  2  3  4  5]\n",
      " [ 6  7  8  9 10]]\n",
      "[7 8 9]\n"
     ]
    }
   ],
   "source": [
    "# Slicing 2D numpy array\n",
    "\n",
    "import numpy as np\n",
    "\n",
    "a = np.array([[1,2,3,4,5],[6,7,8,9,10]])\n",
    "print(a)\n",
    "print(a[1,1:4])  # [Row,Column]   # 1 - Row 1:4 - Column"
   ]
  },
  {
   "cell_type": "code",
   "execution_count": 18,
   "id": "8fe69d77",
   "metadata": {},
   "outputs": [
    {
     "name": "stdout",
     "output_type": "stream",
     "text": [
      "[[ 0  1  2  3  4  5]\n",
      " [ 6  7  8  9 10 11]\n",
      " [12 13 14 15 16 17]\n",
      " [18 19 20 21 22 23]\n",
      " [24 25 26 27 28 29]\n",
      " [30 31 32 33 34 35]\n",
      " [36 37 38 39 40 41]\n",
      " [42 43 44 45 46 47]]\n"
     ]
    }
   ],
   "source": [
    "a = np.arange(48).reshape(8,6)\n",
    "print(a)"
   ]
  },
  {
   "cell_type": "code",
   "execution_count": 9,
   "id": "486ad6b2",
   "metadata": {},
   "outputs": [
    {
     "data": {
      "text/plain": [
       "array([18, 19, 20, 21, 22, 23])"
      ]
     },
     "execution_count": 9,
     "metadata": {},
     "output_type": "execute_result"
    }
   ],
   "source": [
    "# Indexing\n",
    "\n",
    "a[3]"
   ]
  },
  {
   "cell_type": "code",
   "execution_count": 10,
   "id": "253ddf22",
   "metadata": {},
   "outputs": [
    {
     "data": {
      "text/plain": [
       "array([42, 43, 44, 45, 46, 47])"
      ]
     },
     "execution_count": 10,
     "metadata": {},
     "output_type": "execute_result"
    }
   ],
   "source": [
    "a[-1]"
   ]
  },
  {
   "cell_type": "code",
   "execution_count": 11,
   "id": "5deb01e0",
   "metadata": {},
   "outputs": [
    {
     "data": {
      "text/plain": [
       "array([[ 0,  1,  2,  3,  4,  5],\n",
       "       [ 6,  7,  8,  9, 10, 11],\n",
       "       [12, 13, 14, 15, 16, 17],\n",
       "       [18, 19, 20, 21, 22, 23],\n",
       "       [24, 25, 26, 27, 28, 29],\n",
       "       [30, 31, 32, 33, 34, 35],\n",
       "       [36, 37, 38, 39, 40, 41],\n",
       "       [42, 43, 44, 45, 46, 47]])"
      ]
     },
     "execution_count": 11,
     "metadata": {},
     "output_type": "execute_result"
    }
   ],
   "source": [
    "a[:]"
   ]
  },
  {
   "cell_type": "code",
   "execution_count": 12,
   "id": "6b04828d",
   "metadata": {},
   "outputs": [
    {
     "data": {
      "text/plain": [
       "array([[24, 25, 26, 27, 28, 29],\n",
       "       [30, 31, 32, 33, 34, 35],\n",
       "       [36, 37, 38, 39, 40, 41],\n",
       "       [42, 43, 44, 45, 46, 47]])"
      ]
     },
     "execution_count": 12,
     "metadata": {},
     "output_type": "execute_result"
    }
   ],
   "source": [
    "a[4:]"
   ]
  },
  {
   "cell_type": "code",
   "execution_count": 13,
   "id": "2cde4a4b",
   "metadata": {},
   "outputs": [
    {
     "data": {
      "text/plain": [
       "array([[ 0,  1,  2,  3,  4,  5],\n",
       "       [ 6,  7,  8,  9, 10, 11],\n",
       "       [12, 13, 14, 15, 16, 17],\n",
       "       [18, 19, 20, 21, 22, 23],\n",
       "       [24, 25, 26, 27, 28, 29]])"
      ]
     },
     "execution_count": 13,
     "metadata": {},
     "output_type": "execute_result"
    }
   ],
   "source": [
    "a[:5]"
   ]
  },
  {
   "cell_type": "code",
   "execution_count": 14,
   "id": "f287049c",
   "metadata": {},
   "outputs": [
    {
     "data": {
      "text/plain": [
       "array([[ 0,  1,  2,  3,  4,  5],\n",
       "       [ 6,  7,  8,  9, 10, 11],\n",
       "       [12, 13, 14, 15, 16, 17],\n",
       "       [18, 19, 20, 21, 22, 23]])"
      ]
     },
     "execution_count": 14,
     "metadata": {},
     "output_type": "execute_result"
    }
   ],
   "source": [
    "a[0:4]"
   ]
  },
  {
   "cell_type": "code",
   "execution_count": null,
   "id": "6cc85d3f",
   "metadata": {},
   "outputs": [],
   "source": [
    "# Returning column using indexing\n",
    "\n",
    "# All rows of a single"
   ]
  },
  {
   "cell_type": "code",
   "execution_count": 24,
   "id": "fba1132f",
   "metadata": {},
   "outputs": [
    {
     "data": {
      "text/plain": [
       "array([[21, 22, 23],\n",
       "       [27, 28, 29]])"
      ]
     },
     "execution_count": 24,
     "metadata": {},
     "output_type": "execute_result"
    }
   ],
   "source": [
    "a[3:5:,3:6]"
   ]
  },
  {
   "cell_type": "code",
   "execution_count": null,
   "id": "a138d36b",
   "metadata": {},
   "outputs": [],
   "source": []
  },
  {
   "cell_type": "code",
   "execution_count": null,
   "id": "47e66618",
   "metadata": {},
   "outputs": [],
   "source": []
  },
  {
   "cell_type": "code",
   "execution_count": null,
   "id": "d9b51304",
   "metadata": {},
   "outputs": [],
   "source": []
  },
  {
   "cell_type": "code",
   "execution_count": null,
   "id": "97030e5f",
   "metadata": {},
   "outputs": [],
   "source": []
  },
  {
   "cell_type": "code",
   "execution_count": null,
   "id": "a8bfb651",
   "metadata": {},
   "outputs": [],
   "source": []
  }
 ],
 "metadata": {
  "kernelspec": {
   "display_name": "Python 3 (ipykernel)",
   "language": "python",
   "name": "python3"
  },
  "language_info": {
   "codemirror_mode": {
    "name": "ipython",
    "version": 3
   },
   "file_extension": ".py",
   "mimetype": "text/x-python",
   "name": "python",
   "nbconvert_exporter": "python",
   "pygments_lexer": "ipython3",
   "version": "3.11.3"
  }
 },
 "nbformat": 4,
 "nbformat_minor": 5
}
