{
 "cells": [
  {
   "cell_type": "code",
   "execution_count": 1,
   "id": "54c54861",
   "metadata": {},
   "outputs": [],
   "source": [
    "import pandas as pd"
   ]
  },
  {
   "cell_type": "code",
   "execution_count": 2,
   "id": "d9fa1b0e",
   "metadata": {},
   "outputs": [],
   "source": [
    "# Creating a data frame from dictionary\n",
    "\n",
    "d1 = {\"Name\":['A','B','C','D','E'],'ID':[15,16,17,18,19],'Score':[57,85,96,54,77]}\n"
   ]
  },
  {
   "cell_type": "code",
   "execution_count": 3,
   "id": "b7cb315d",
   "metadata": {},
   "outputs": [
    {
     "data": {
      "text/html": [
       "<div>\n",
       "<style scoped>\n",
       "    .dataframe tbody tr th:only-of-type {\n",
       "        vertical-align: middle;\n",
       "    }\n",
       "\n",
       "    .dataframe tbody tr th {\n",
       "        vertical-align: top;\n",
       "    }\n",
       "\n",
       "    .dataframe thead th {\n",
       "        text-align: right;\n",
       "    }\n",
       "</style>\n",
       "<table border=\"1\" class=\"dataframe\">\n",
       "  <thead>\n",
       "    <tr style=\"text-align: right;\">\n",
       "      <th></th>\n",
       "      <th>Name</th>\n",
       "      <th>ID</th>\n",
       "      <th>Score</th>\n",
       "    </tr>\n",
       "  </thead>\n",
       "  <tbody>\n",
       "    <tr>\n",
       "      <th>0</th>\n",
       "      <td>A</td>\n",
       "      <td>15</td>\n",
       "      <td>57</td>\n",
       "    </tr>\n",
       "    <tr>\n",
       "      <th>1</th>\n",
       "      <td>B</td>\n",
       "      <td>16</td>\n",
       "      <td>85</td>\n",
       "    </tr>\n",
       "    <tr>\n",
       "      <th>2</th>\n",
       "      <td>C</td>\n",
       "      <td>17</td>\n",
       "      <td>96</td>\n",
       "    </tr>\n",
       "    <tr>\n",
       "      <th>3</th>\n",
       "      <td>D</td>\n",
       "      <td>18</td>\n",
       "      <td>54</td>\n",
       "    </tr>\n",
       "    <tr>\n",
       "      <th>4</th>\n",
       "      <td>E</td>\n",
       "      <td>19</td>\n",
       "      <td>77</td>\n",
       "    </tr>\n",
       "  </tbody>\n",
       "</table>\n",
       "</div>"
      ],
      "text/plain": [
       "  Name  ID  Score\n",
       "0    A  15     57\n",
       "1    B  16     85\n",
       "2    C  17     96\n",
       "3    D  18     54\n",
       "4    E  19     77"
      ]
     },
     "execution_count": 3,
     "metadata": {},
     "output_type": "execute_result"
    }
   ],
   "source": [
    "d2 = pd.DataFrame(d1)\n",
    "d2"
   ]
  },
  {
   "cell_type": "code",
   "execution_count": 4,
   "id": "e71c1016",
   "metadata": {},
   "outputs": [
    {
     "name": "stdout",
     "output_type": "stream",
     "text": [
      "0    A\n",
      "1    B\n",
      "2    C\n",
      "3    D\n",
      "4    E\n",
      "Name: Name, dtype: object\n",
      "<class 'pandas.core.series.Series'>\n"
     ]
    }
   ],
   "source": [
    "# pandas series\n",
    "# It is one - dimensional labeled array capable of holding an data type\n",
    "\n",
    "dfseries = d2[\"Name\"]\n",
    "print(dfseries)\n",
    "print(type(dfseries))"
   ]
  },
  {
   "cell_type": "code",
   "execution_count": 5,
   "id": "3cd02a50",
   "metadata": {},
   "outputs": [
    {
     "name": "stdout",
     "output_type": "stream",
     "text": [
      "  Name  Score\n",
      "0    A     57\n",
      "1    B     85\n",
      "2    C     96\n",
      "3    D     54\n",
      "4    E     77\n"
     ]
    }
   ],
   "source": [
    "# Dataframe contains multiple series objects\n",
    "\n",
    "d3 = d2[[\"Name\",\"Score\"]]\n",
    "print(d3)"
   ]
  },
  {
   "cell_type": "code",
   "execution_count": 6,
   "id": "fb3751ba",
   "metadata": {},
   "outputs": [
    {
     "data": {
      "text/plain": [
       "Index(['Name', 'ID', 'Score'], dtype='object')"
      ]
     },
     "execution_count": 6,
     "metadata": {},
     "output_type": "execute_result"
    }
   ],
   "source": [
    "d2.columns"
   ]
  },
  {
   "cell_type": "code",
   "execution_count": 7,
   "id": "a25e37ab",
   "metadata": {},
   "outputs": [
    {
     "data": {
      "text/plain": [
       "0     True\n",
       "1    False\n",
       "2    False\n",
       "3    False\n",
       "4    False\n",
       "Name: Name, dtype: bool"
      ]
     },
     "execution_count": 7,
     "metadata": {},
     "output_type": "execute_result"
    }
   ],
   "source": [
    "d2.Name == \"A\""
   ]
  },
  {
   "cell_type": "code",
   "execution_count": 8,
   "id": "a6d7718b",
   "metadata": {},
   "outputs": [
    {
     "data": {
      "text/html": [
       "<div>\n",
       "<style scoped>\n",
       "    .dataframe tbody tr th:only-of-type {\n",
       "        vertical-align: middle;\n",
       "    }\n",
       "\n",
       "    .dataframe tbody tr th {\n",
       "        vertical-align: top;\n",
       "    }\n",
       "\n",
       "    .dataframe thead th {\n",
       "        text-align: right;\n",
       "    }\n",
       "</style>\n",
       "<table border=\"1\" class=\"dataframe\">\n",
       "  <thead>\n",
       "    <tr style=\"text-align: right;\">\n",
       "      <th></th>\n",
       "      <th>Name</th>\n",
       "      <th>ID</th>\n",
       "      <th>Score</th>\n",
       "    </tr>\n",
       "  </thead>\n",
       "  <tbody>\n",
       "    <tr>\n",
       "      <th>0</th>\n",
       "      <td>A</td>\n",
       "      <td>15</td>\n",
       "      <td>57</td>\n",
       "    </tr>\n",
       "  </tbody>\n",
       "</table>\n",
       "</div>"
      ],
      "text/plain": [
       "  Name  ID  Score\n",
       "0    A  15     57"
      ]
     },
     "execution_count": 8,
     "metadata": {},
     "output_type": "execute_result"
    }
   ],
   "source": [
    "d4 = d2[d2.Name=='A']\n",
    "d4"
   ]
  },
  {
   "cell_type": "code",
   "execution_count": 9,
   "id": "383c7cd6",
   "metadata": {},
   "outputs": [
    {
     "data": {
      "text/html": [
       "<div>\n",
       "<style scoped>\n",
       "    .dataframe tbody tr th:only-of-type {\n",
       "        vertical-align: middle;\n",
       "    }\n",
       "\n",
       "    .dataframe tbody tr th {\n",
       "        vertical-align: top;\n",
       "    }\n",
       "\n",
       "    .dataframe thead th {\n",
       "        text-align: right;\n",
       "    }\n",
       "</style>\n",
       "<table border=\"1\" class=\"dataframe\">\n",
       "  <thead>\n",
       "    <tr style=\"text-align: right;\">\n",
       "      <th></th>\n",
       "      <th>Name</th>\n",
       "      <th>Score</th>\n",
       "    </tr>\n",
       "  </thead>\n",
       "  <tbody>\n",
       "    <tr>\n",
       "      <th>0</th>\n",
       "      <td>A</td>\n",
       "      <td>57</td>\n",
       "    </tr>\n",
       "    <tr>\n",
       "      <th>1</th>\n",
       "      <td>B</td>\n",
       "      <td>85</td>\n",
       "    </tr>\n",
       "    <tr>\n",
       "      <th>2</th>\n",
       "      <td>C</td>\n",
       "      <td>96</td>\n",
       "    </tr>\n",
       "    <tr>\n",
       "      <th>4</th>\n",
       "      <td>E</td>\n",
       "      <td>77</td>\n",
       "    </tr>\n",
       "  </tbody>\n",
       "</table>\n",
       "</div>"
      ],
      "text/plain": [
       "  Name  Score\n",
       "0    A     57\n",
       "1    B     85\n",
       "2    C     96\n",
       "4    E     77"
      ]
     },
     "execution_count": 9,
     "metadata": {},
     "output_type": "execute_result"
    }
   ],
   "source": [
    "d5 = d3[(d3.Name==\"A\") | (d3.Score>70)] # using or operator\n",
    "d5"
   ]
  },
  {
   "cell_type": "code",
   "execution_count": 10,
   "id": "41e83445",
   "metadata": {},
   "outputs": [
    {
     "data": {
      "text/plain": [
       "Name      A\n",
       "ID       15\n",
       "Score    57\n",
       "Name: 0, dtype: object"
      ]
     },
     "execution_count": 10,
     "metadata": {},
     "output_type": "execute_result"
    }
   ],
   "source": [
    "d2.iloc[0]   # iloc - Index Location"
   ]
  },
  {
   "cell_type": "code",
   "execution_count": 11,
   "id": "28911428",
   "metadata": {},
   "outputs": [
    {
     "data": {
      "text/html": [
       "<div>\n",
       "<style scoped>\n",
       "    .dataframe tbody tr th:only-of-type {\n",
       "        vertical-align: middle;\n",
       "    }\n",
       "\n",
       "    .dataframe tbody tr th {\n",
       "        vertical-align: top;\n",
       "    }\n",
       "\n",
       "    .dataframe thead th {\n",
       "        text-align: right;\n",
       "    }\n",
       "</style>\n",
       "<table border=\"1\" class=\"dataframe\">\n",
       "  <thead>\n",
       "    <tr style=\"text-align: right;\">\n",
       "      <th></th>\n",
       "      <th>Name</th>\n",
       "      <th>ID</th>\n",
       "      <th>Score</th>\n",
       "    </tr>\n",
       "  </thead>\n",
       "  <tbody>\n",
       "    <tr>\n",
       "      <th>0</th>\n",
       "      <td>A</td>\n",
       "      <td>15</td>\n",
       "      <td>57</td>\n",
       "    </tr>\n",
       "    <tr>\n",
       "      <th>1</th>\n",
       "      <td>B</td>\n",
       "      <td>16</td>\n",
       "      <td>85</td>\n",
       "    </tr>\n",
       "  </tbody>\n",
       "</table>\n",
       "</div>"
      ],
      "text/plain": [
       "  Name  ID  Score\n",
       "0    A  15     57\n",
       "1    B  16     85"
      ]
     },
     "execution_count": 11,
     "metadata": {},
     "output_type": "execute_result"
    }
   ],
   "source": [
    "d2.iloc[[0,1]]"
   ]
  },
  {
   "cell_type": "code",
   "execution_count": 12,
   "id": "624f854d",
   "metadata": {},
   "outputs": [
    {
     "data": {
      "text/plain": [
       "0    57\n",
       "1    85\n",
       "Name: Score, dtype: int64"
      ]
     },
     "execution_count": 12,
     "metadata": {},
     "output_type": "execute_result"
    }
   ],
   "source": [
    "d7 = d2.iloc[[0,1],2]\n",
    "d7"
   ]
  },
  {
   "cell_type": "code",
   "execution_count": 13,
   "id": "6b9b6905",
   "metadata": {},
   "outputs": [
    {
     "data": {
      "text/plain": [
       "0    57\n",
       "1    85\n",
       "Name: Score, dtype: int64"
      ]
     },
     "execution_count": 13,
     "metadata": {},
     "output_type": "execute_result"
    }
   ],
   "source": [
    "d2.loc[[0,1],\"Score\"]"
   ]
  },
  {
   "cell_type": "code",
   "execution_count": 14,
   "id": "4f0f5103",
   "metadata": {},
   "outputs": [
    {
     "data": {
      "text/plain": [
       "142"
      ]
     },
     "execution_count": 14,
     "metadata": {},
     "output_type": "execute_result"
    }
   ],
   "source": [
    "d2.loc[[0,1],\"Score\"].sum()  # .sum() is used for pandas"
   ]
  },
  {
   "cell_type": "code",
   "execution_count": 15,
   "id": "b221683c",
   "metadata": {},
   "outputs": [
    {
     "data": {
      "text/plain": [
       "142"
      ]
     },
     "execution_count": 15,
     "metadata": {},
     "output_type": "execute_result"
    }
   ],
   "source": [
    "import numpy as np\n",
    "d8 = np.sum(d7)  # here is used numpy\n",
    "d8"
   ]
  },
  {
   "cell_type": "code",
   "execution_count": 16,
   "id": "08223227",
   "metadata": {},
   "outputs": [
    {
     "data": {
      "text/html": [
       "<div>\n",
       "<style scoped>\n",
       "    .dataframe tbody tr th:only-of-type {\n",
       "        vertical-align: middle;\n",
       "    }\n",
       "\n",
       "    .dataframe tbody tr th {\n",
       "        vertical-align: top;\n",
       "    }\n",
       "\n",
       "    .dataframe thead th {\n",
       "        text-align: right;\n",
       "    }\n",
       "</style>\n",
       "<table border=\"1\" class=\"dataframe\">\n",
       "  <thead>\n",
       "    <tr style=\"text-align: right;\">\n",
       "      <th></th>\n",
       "      <th>CustomerID</th>\n",
       "      <th>Gender</th>\n",
       "      <th>Age</th>\n",
       "      <th>Annual Income (k$)</th>\n",
       "      <th>Spending Score (1-100)</th>\n",
       "    </tr>\n",
       "  </thead>\n",
       "  <tbody>\n",
       "    <tr>\n",
       "      <th>0</th>\n",
       "      <td>1</td>\n",
       "      <td>Male</td>\n",
       "      <td>19</td>\n",
       "      <td>15</td>\n",
       "      <td>39</td>\n",
       "    </tr>\n",
       "    <tr>\n",
       "      <th>1</th>\n",
       "      <td>15</td>\n",
       "      <td>Male</td>\n",
       "      <td>37</td>\n",
       "      <td>$20</td>\n",
       "      <td>13</td>\n",
       "    </tr>\n",
       "    <tr>\n",
       "      <th>2</th>\n",
       "      <td>2</td>\n",
       "      <td>Male</td>\n",
       "      <td>21</td>\n",
       "      <td>15</td>\n",
       "      <td>81</td>\n",
       "    </tr>\n",
       "    <tr>\n",
       "      <th>3</th>\n",
       "      <td>3</td>\n",
       "      <td>Female</td>\n",
       "      <td>20</td>\n",
       "      <td>16</td>\n",
       "      <td>6</td>\n",
       "    </tr>\n",
       "    <tr>\n",
       "      <th>4</th>\n",
       "      <td>4</td>\n",
       "      <td>Female</td>\n",
       "      <td>23</td>\n",
       "      <td>16</td>\n",
       "      <td>77</td>\n",
       "    </tr>\n",
       "    <tr>\n",
       "      <th>...</th>\n",
       "      <td>...</td>\n",
       "      <td>...</td>\n",
       "      <td>...</td>\n",
       "      <td>...</td>\n",
       "      <td>...</td>\n",
       "    </tr>\n",
       "    <tr>\n",
       "      <th>197</th>\n",
       "      <td>196</td>\n",
       "      <td>Female</td>\n",
       "      <td>35</td>\n",
       "      <td>120</td>\n",
       "      <td>79</td>\n",
       "    </tr>\n",
       "    <tr>\n",
       "      <th>198</th>\n",
       "      <td>197</td>\n",
       "      <td>Female</td>\n",
       "      <td>45</td>\n",
       "      <td>126</td>\n",
       "      <td>28</td>\n",
       "    </tr>\n",
       "    <tr>\n",
       "      <th>199</th>\n",
       "      <td>198</td>\n",
       "      <td>Male</td>\n",
       "      <td>32</td>\n",
       "      <td>126</td>\n",
       "      <td>74</td>\n",
       "    </tr>\n",
       "    <tr>\n",
       "      <th>200</th>\n",
       "      <td>199</td>\n",
       "      <td>Male</td>\n",
       "      <td>32</td>\n",
       "      <td>137</td>\n",
       "      <td>18</td>\n",
       "    </tr>\n",
       "    <tr>\n",
       "      <th>201</th>\n",
       "      <td>200</td>\n",
       "      <td>Male</td>\n",
       "      <td>30</td>\n",
       "      <td>137</td>\n",
       "      <td>83</td>\n",
       "    </tr>\n",
       "  </tbody>\n",
       "</table>\n",
       "<p>202 rows × 5 columns</p>\n",
       "</div>"
      ],
      "text/plain": [
       "     CustomerID  Gender  Age Annual Income (k$)  Spending Score (1-100)\n",
       "0             1    Male   19                 15                      39\n",
       "1            15    Male   37                $20                      13\n",
       "2             2    Male   21                 15                      81\n",
       "3             3  Female   20                 16                       6\n",
       "4             4  Female   23                 16                      77\n",
       "..          ...     ...  ...                ...                     ...\n",
       "197         196  Female   35                120                      79\n",
       "198         197  Female   45                126                      28\n",
       "199         198    Male   32                126                      74\n",
       "200         199    Male   32                137                      18\n",
       "201         200    Male   30                137                      83\n",
       "\n",
       "[202 rows x 5 columns]"
      ]
     },
     "execution_count": 16,
     "metadata": {},
     "output_type": "execute_result"
    }
   ],
   "source": [
    "# Read data\n",
    "\n",
    "import pandas as pd\n",
    "a = pd.read_csv(\"Mall_Customers.csv\")   # csv\n",
    "a\n",
    "\n",
    "#a = pd.read_table(\"Mall_Customers.txt\")   # text\n",
    "#a"
   ]
  },
  {
   "cell_type": "code",
   "execution_count": 17,
   "id": "157a4be3",
   "metadata": {},
   "outputs": [
    {
     "data": {
      "text/html": [
       "<div>\n",
       "<style scoped>\n",
       "    .dataframe tbody tr th:only-of-type {\n",
       "        vertical-align: middle;\n",
       "    }\n",
       "\n",
       "    .dataframe tbody tr th {\n",
       "        vertical-align: top;\n",
       "    }\n",
       "\n",
       "    .dataframe thead th {\n",
       "        text-align: right;\n",
       "    }\n",
       "</style>\n",
       "<table border=\"1\" class=\"dataframe\">\n",
       "  <thead>\n",
       "    <tr style=\"text-align: right;\">\n",
       "      <th></th>\n",
       "      <th>CustomerID</th>\n",
       "      <th>Gender</th>\n",
       "      <th>Age</th>\n",
       "      <th>Annual Income (k$)</th>\n",
       "      <th>Spending Score (1-100)</th>\n",
       "    </tr>\n",
       "  </thead>\n",
       "  <tbody>\n",
       "    <tr>\n",
       "      <th>0</th>\n",
       "      <td>1</td>\n",
       "      <td>Male</td>\n",
       "      <td>19</td>\n",
       "      <td>15</td>\n",
       "      <td>39</td>\n",
       "    </tr>\n",
       "    <tr>\n",
       "      <th>1</th>\n",
       "      <td>15</td>\n",
       "      <td>Male</td>\n",
       "      <td>37</td>\n",
       "      <td>$20</td>\n",
       "      <td>13</td>\n",
       "    </tr>\n",
       "    <tr>\n",
       "      <th>2</th>\n",
       "      <td>2</td>\n",
       "      <td>Male</td>\n",
       "      <td>21</td>\n",
       "      <td>15</td>\n",
       "      <td>81</td>\n",
       "    </tr>\n",
       "    <tr>\n",
       "      <th>3</th>\n",
       "      <td>3</td>\n",
       "      <td>Female</td>\n",
       "      <td>20</td>\n",
       "      <td>16</td>\n",
       "      <td>6</td>\n",
       "    </tr>\n",
       "    <tr>\n",
       "      <th>4</th>\n",
       "      <td>4</td>\n",
       "      <td>Female</td>\n",
       "      <td>23</td>\n",
       "      <td>16</td>\n",
       "      <td>77</td>\n",
       "    </tr>\n",
       "  </tbody>\n",
       "</table>\n",
       "</div>"
      ],
      "text/plain": [
       "   CustomerID  Gender  Age Annual Income (k$)  Spending Score (1-100)\n",
       "0           1    Male   19                 15                      39\n",
       "1          15    Male   37                $20                      13\n",
       "2           2    Male   21                 15                      81\n",
       "3           3  Female   20                 16                       6\n",
       "4           4  Female   23                 16                      77"
      ]
     },
     "execution_count": 17,
     "metadata": {},
     "output_type": "execute_result"
    }
   ],
   "source": [
    "a.head()"
   ]
  },
  {
   "cell_type": "code",
   "execution_count": 18,
   "id": "cb0006ee",
   "metadata": {},
   "outputs": [
    {
     "data": {
      "text/html": [
       "<div>\n",
       "<style scoped>\n",
       "    .dataframe tbody tr th:only-of-type {\n",
       "        vertical-align: middle;\n",
       "    }\n",
       "\n",
       "    .dataframe tbody tr th {\n",
       "        vertical-align: top;\n",
       "    }\n",
       "\n",
       "    .dataframe thead th {\n",
       "        text-align: right;\n",
       "    }\n",
       "</style>\n",
       "<table border=\"1\" class=\"dataframe\">\n",
       "  <thead>\n",
       "    <tr style=\"text-align: right;\">\n",
       "      <th></th>\n",
       "      <th>CustomerID</th>\n",
       "      <th>Gender</th>\n",
       "      <th>Age</th>\n",
       "      <th>Annual Income (k$)</th>\n",
       "      <th>Spending Score (1-100)</th>\n",
       "    </tr>\n",
       "  </thead>\n",
       "  <tbody>\n",
       "    <tr>\n",
       "      <th>192</th>\n",
       "      <td>191</td>\n",
       "      <td>Female</td>\n",
       "      <td>34</td>\n",
       "      <td>103</td>\n",
       "      <td>23</td>\n",
       "    </tr>\n",
       "    <tr>\n",
       "      <th>193</th>\n",
       "      <td>192</td>\n",
       "      <td>Female</td>\n",
       "      <td>32</td>\n",
       "      <td>103</td>\n",
       "      <td>69</td>\n",
       "    </tr>\n",
       "    <tr>\n",
       "      <th>194</th>\n",
       "      <td>193</td>\n",
       "      <td>Male</td>\n",
       "      <td>33</td>\n",
       "      <td>113</td>\n",
       "      <td>8</td>\n",
       "    </tr>\n",
       "    <tr>\n",
       "      <th>195</th>\n",
       "      <td>194</td>\n",
       "      <td>Female</td>\n",
       "      <td>38</td>\n",
       "      <td>113</td>\n",
       "      <td>91</td>\n",
       "    </tr>\n",
       "    <tr>\n",
       "      <th>196</th>\n",
       "      <td>195</td>\n",
       "      <td>Female</td>\n",
       "      <td>47</td>\n",
       "      <td>120</td>\n",
       "      <td>16</td>\n",
       "    </tr>\n",
       "    <tr>\n",
       "      <th>197</th>\n",
       "      <td>196</td>\n",
       "      <td>Female</td>\n",
       "      <td>35</td>\n",
       "      <td>120</td>\n",
       "      <td>79</td>\n",
       "    </tr>\n",
       "    <tr>\n",
       "      <th>198</th>\n",
       "      <td>197</td>\n",
       "      <td>Female</td>\n",
       "      <td>45</td>\n",
       "      <td>126</td>\n",
       "      <td>28</td>\n",
       "    </tr>\n",
       "    <tr>\n",
       "      <th>199</th>\n",
       "      <td>198</td>\n",
       "      <td>Male</td>\n",
       "      <td>32</td>\n",
       "      <td>126</td>\n",
       "      <td>74</td>\n",
       "    </tr>\n",
       "    <tr>\n",
       "      <th>200</th>\n",
       "      <td>199</td>\n",
       "      <td>Male</td>\n",
       "      <td>32</td>\n",
       "      <td>137</td>\n",
       "      <td>18</td>\n",
       "    </tr>\n",
       "    <tr>\n",
       "      <th>201</th>\n",
       "      <td>200</td>\n",
       "      <td>Male</td>\n",
       "      <td>30</td>\n",
       "      <td>137</td>\n",
       "      <td>83</td>\n",
       "    </tr>\n",
       "  </tbody>\n",
       "</table>\n",
       "</div>"
      ],
      "text/plain": [
       "     CustomerID  Gender  Age Annual Income (k$)  Spending Score (1-100)\n",
       "192         191  Female   34                103                      23\n",
       "193         192  Female   32                103                      69\n",
       "194         193    Male   33                113                       8\n",
       "195         194  Female   38                113                      91\n",
       "196         195  Female   47                120                      16\n",
       "197         196  Female   35                120                      79\n",
       "198         197  Female   45                126                      28\n",
       "199         198    Male   32                126                      74\n",
       "200         199    Male   32                137                      18\n",
       "201         200    Male   30                137                      83"
      ]
     },
     "execution_count": 18,
     "metadata": {},
     "output_type": "execute_result"
    }
   ],
   "source": [
    "a.tail(10)"
   ]
  },
  {
   "cell_type": "code",
   "execution_count": null,
   "id": "87cd5006",
   "metadata": {},
   "outputs": [],
   "source": []
  },
  {
   "cell_type": "code",
   "execution_count": null,
   "id": "097f1e9f",
   "metadata": {},
   "outputs": [],
   "source": []
  },
  {
   "cell_type": "code",
   "execution_count": null,
   "id": "323563dc",
   "metadata": {},
   "outputs": [],
   "source": []
  },
  {
   "cell_type": "code",
   "execution_count": 19,
   "id": "a94a7bed",
   "metadata": {},
   "outputs": [
    {
     "data": {
      "text/html": [
       "<div>\n",
       "<style scoped>\n",
       "    .dataframe tbody tr th:only-of-type {\n",
       "        vertical-align: middle;\n",
       "    }\n",
       "\n",
       "    .dataframe tbody tr th {\n",
       "        vertical-align: top;\n",
       "    }\n",
       "\n",
       "    .dataframe thead th {\n",
       "        text-align: right;\n",
       "    }\n",
       "</style>\n",
       "<table border=\"1\" class=\"dataframe\">\n",
       "  <thead>\n",
       "    <tr style=\"text-align: right;\">\n",
       "      <th></th>\n",
       "      <th>CustomerID</th>\n",
       "      <th>Gender</th>\n",
       "      <th>Age</th>\n",
       "      <th>Annual Income (k$)</th>\n",
       "      <th>Spending Score (1-100)</th>\n",
       "    </tr>\n",
       "  </thead>\n",
       "  <tbody>\n",
       "    <tr>\n",
       "      <th>0</th>\n",
       "      <td>1</td>\n",
       "      <td>Male</td>\n",
       "      <td>19</td>\n",
       "      <td>15</td>\n",
       "      <td>39</td>\n",
       "    </tr>\n",
       "    <tr>\n",
       "      <th>1</th>\n",
       "      <td>15</td>\n",
       "      <td>Male</td>\n",
       "      <td>37</td>\n",
       "      <td>$20</td>\n",
       "      <td>13</td>\n",
       "    </tr>\n",
       "    <tr>\n",
       "      <th>2</th>\n",
       "      <td>2</td>\n",
       "      <td>Male</td>\n",
       "      <td>21</td>\n",
       "      <td>15</td>\n",
       "      <td>81</td>\n",
       "    </tr>\n",
       "    <tr>\n",
       "      <th>3</th>\n",
       "      <td>3</td>\n",
       "      <td>Female</td>\n",
       "      <td>20</td>\n",
       "      <td>16</td>\n",
       "      <td>6</td>\n",
       "    </tr>\n",
       "    <tr>\n",
       "      <th>4</th>\n",
       "      <td>4</td>\n",
       "      <td>Female</td>\n",
       "      <td>23</td>\n",
       "      <td>16</td>\n",
       "      <td>77</td>\n",
       "    </tr>\n",
       "    <tr>\n",
       "      <th>...</th>\n",
       "      <td>...</td>\n",
       "      <td>...</td>\n",
       "      <td>...</td>\n",
       "      <td>...</td>\n",
       "      <td>...</td>\n",
       "    </tr>\n",
       "    <tr>\n",
       "      <th>197</th>\n",
       "      <td>196</td>\n",
       "      <td>Female</td>\n",
       "      <td>35</td>\n",
       "      <td>120</td>\n",
       "      <td>79</td>\n",
       "    </tr>\n",
       "    <tr>\n",
       "      <th>198</th>\n",
       "      <td>197</td>\n",
       "      <td>Female</td>\n",
       "      <td>45</td>\n",
       "      <td>126</td>\n",
       "      <td>28</td>\n",
       "    </tr>\n",
       "    <tr>\n",
       "      <th>199</th>\n",
       "      <td>198</td>\n",
       "      <td>Male</td>\n",
       "      <td>32</td>\n",
       "      <td>126</td>\n",
       "      <td>74</td>\n",
       "    </tr>\n",
       "    <tr>\n",
       "      <th>200</th>\n",
       "      <td>199</td>\n",
       "      <td>Male</td>\n",
       "      <td>32</td>\n",
       "      <td>137</td>\n",
       "      <td>18</td>\n",
       "    </tr>\n",
       "    <tr>\n",
       "      <th>201</th>\n",
       "      <td>200</td>\n",
       "      <td>Male</td>\n",
       "      <td>30</td>\n",
       "      <td>137</td>\n",
       "      <td>83</td>\n",
       "    </tr>\n",
       "  </tbody>\n",
       "</table>\n",
       "<p>202 rows × 5 columns</p>\n",
       "</div>"
      ],
      "text/plain": [
       "     CustomerID  Gender  Age Annual Income (k$)  Spending Score (1-100)\n",
       "0             1    Male   19                 15                      39\n",
       "1            15    Male   37                $20                      13\n",
       "2             2    Male   21                 15                      81\n",
       "3             3  Female   20                 16                       6\n",
       "4             4  Female   23                 16                      77\n",
       "..          ...     ...  ...                ...                     ...\n",
       "197         196  Female   35                120                      79\n",
       "198         197  Female   45                126                      28\n",
       "199         198    Male   32                126                      74\n",
       "200         199    Male   32                137                      18\n",
       "201         200    Male   30                137                      83\n",
       "\n",
       "[202 rows x 5 columns]"
      ]
     },
     "execution_count": 19,
     "metadata": {},
     "output_type": "execute_result"
    }
   ],
   "source": [
    "import pandas as pd\n",
    "b = pd.read_excel(\"Mall__Customers.xlsx\")  # Excel\n",
    "b"
   ]
  },
  {
   "cell_type": "code",
   "execution_count": 20,
   "id": "e1bab880",
   "metadata": {},
   "outputs": [
    {
     "ename": "NameError",
     "evalue": "name 'c' is not defined",
     "output_type": "error",
     "traceback": [
      "\u001b[1;31m---------------------------------------------------------------------------\u001b[0m",
      "\u001b[1;31mNameError\u001b[0m                                 Traceback (most recent call last)",
      "Cell \u001b[1;32mIn[20], line 1\u001b[0m\n\u001b[1;32m----> 1\u001b[0m \u001b[38;5;28mprint\u001b[39m(c\u001b[38;5;241m.\u001b[39mhead())\n",
      "\u001b[1;31mNameError\u001b[0m: name 'c' is not defined"
     ]
    }
   ],
   "source": [
    "print(c.head())"
   ]
  },
  {
   "cell_type": "code",
   "execution_count": null,
   "id": "f069b39c",
   "metadata": {},
   "outputs": [],
   "source": []
  },
  {
   "cell_type": "code",
   "execution_count": null,
   "id": "11d865ee",
   "metadata": {},
   "outputs": [],
   "source": []
  },
  {
   "cell_type": "code",
   "execution_count": null,
   "id": "530d462c",
   "metadata": {},
   "outputs": [],
   "source": []
  },
  {
   "cell_type": "code",
   "execution_count": null,
   "id": "1f74282f",
   "metadata": {},
   "outputs": [],
   "source": [
    "# own"
   ]
  },
  {
   "cell_type": "code",
   "execution_count": null,
   "id": "f13f7f84",
   "metadata": {},
   "outputs": [],
   "source": [
    "import pandas as pd\n",
    "c = pd.read_csv(\"company_sales_data.csv\")   # csv\n",
    "c"
   ]
  },
  {
   "cell_type": "code",
   "execution_count": null,
   "id": "d425efd4",
   "metadata": {},
   "outputs": [],
   "source": [
    "# it display first few rows\n",
    "\n",
    "print(c.head())"
   ]
  },
  {
   "cell_type": "code",
   "execution_count": null,
   "id": "e6e6f37c",
   "metadata": {},
   "outputs": [],
   "source": [
    "# it diaplay the shape of row,column\n",
    "\n",
    "print(c.shape)"
   ]
  },
  {
   "cell_type": "code",
   "execution_count": null,
   "id": "17b093c1",
   "metadata": {},
   "outputs": [],
   "source": [
    "# Get information about data types and non-null values\n",
    "\n",
    "print(c.info())"
   ]
  },
  {
   "cell_type": "code",
   "execution_count": null,
   "id": "b04f2728",
   "metadata": {},
   "outputs": [],
   "source": [
    "c.columns\n",
    "\n",
    "for i in c.columns:\n",
    "    print(i)"
   ]
  },
  {
   "cell_type": "code",
   "execution_count": null,
   "id": "5bce2416",
   "metadata": {},
   "outputs": [],
   "source": []
  },
  {
   "cell_type": "code",
   "execution_count": null,
   "id": "63b7e74b",
   "metadata": {},
   "outputs": [],
   "source": [
    "import pandas as pd\n",
    "c = pd.read_csv(\"company_sales_data.csv\")   # csv\n",
    "c"
   ]
  },
  {
   "cell_type": "code",
   "execution_count": null,
   "id": "da39858a",
   "metadata": {},
   "outputs": [],
   "source": [
    "import pandas as pd\n",
    "\n",
    "# Load data\n",
    "c = pd.read_csv(\"company_sales_data.csv\")\n",
    "\n",
    "# Filter specific columns\n",
    "filtered_columns = c[['month_number', 'facecream', 'toothpaste']]\n",
    "\n",
    "# Display the filtered DataFrame\n",
    "print(filtered_columns)\n",
    "\n",
    "# Display the first 5 rows\n",
    "print(filtered_columns.head())\n",
    "\n",
    "# Display specific rows, e.g., rows with indices 2, 4, and 6\n",
    "print(filtered_columns.loc[[2, 4, 6]])"
   ]
  },
  {
   "cell_type": "code",
   "execution_count": null,
   "id": "aa002d74",
   "metadata": {},
   "outputs": [],
   "source": [
    "mask=c.isnull()\n",
    "mask.head(10)"
   ]
  },
  {
   "cell_type": "code",
   "execution_count": null,
   "id": "f5458a60",
   "metadata": {},
   "outputs": [],
   "source": [
    "c.dropna().head(10)"
   ]
  },
  {
   "cell_type": "markdown",
   "id": "bfb4d37b",
   "metadata": {},
   "source": [
    "## PANDAS"
   ]
  },
  {
   "cell_type": "code",
   "execution_count": 21,
   "id": "8a97abb3",
   "metadata": {},
   "outputs": [
    {
     "data": {
      "text/html": [
       "<div>\n",
       "<style scoped>\n",
       "    .dataframe tbody tr th:only-of-type {\n",
       "        vertical-align: middle;\n",
       "    }\n",
       "\n",
       "    .dataframe tbody tr th {\n",
       "        vertical-align: top;\n",
       "    }\n",
       "\n",
       "    .dataframe thead th {\n",
       "        text-align: right;\n",
       "    }\n",
       "</style>\n",
       "<table border=\"1\" class=\"dataframe\">\n",
       "  <thead>\n",
       "    <tr style=\"text-align: right;\">\n",
       "      <th></th>\n",
       "      <th>CustomerID</th>\n",
       "      <th>Gender</th>\n",
       "      <th>Age</th>\n",
       "      <th>Annual Income (k$)</th>\n",
       "      <th>Spending Score (1-100)</th>\n",
       "    </tr>\n",
       "  </thead>\n",
       "  <tbody>\n",
       "    <tr>\n",
       "      <th>0</th>\n",
       "      <td>1</td>\n",
       "      <td>Male</td>\n",
       "      <td>19</td>\n",
       "      <td>15</td>\n",
       "      <td>39</td>\n",
       "    </tr>\n",
       "    <tr>\n",
       "      <th>1</th>\n",
       "      <td>15</td>\n",
       "      <td>Male</td>\n",
       "      <td>37</td>\n",
       "      <td>$20</td>\n",
       "      <td>13</td>\n",
       "    </tr>\n",
       "    <tr>\n",
       "      <th>2</th>\n",
       "      <td>2</td>\n",
       "      <td>Male</td>\n",
       "      <td>21</td>\n",
       "      <td>15</td>\n",
       "      <td>81</td>\n",
       "    </tr>\n",
       "    <tr>\n",
       "      <th>3</th>\n",
       "      <td>3</td>\n",
       "      <td>Female</td>\n",
       "      <td>20</td>\n",
       "      <td>16</td>\n",
       "      <td>6</td>\n",
       "    </tr>\n",
       "    <tr>\n",
       "      <th>4</th>\n",
       "      <td>4</td>\n",
       "      <td>Female</td>\n",
       "      <td>23</td>\n",
       "      <td>16</td>\n",
       "      <td>77</td>\n",
       "    </tr>\n",
       "    <tr>\n",
       "      <th>...</th>\n",
       "      <td>...</td>\n",
       "      <td>...</td>\n",
       "      <td>...</td>\n",
       "      <td>...</td>\n",
       "      <td>...</td>\n",
       "    </tr>\n",
       "    <tr>\n",
       "      <th>197</th>\n",
       "      <td>196</td>\n",
       "      <td>Female</td>\n",
       "      <td>35</td>\n",
       "      <td>120</td>\n",
       "      <td>79</td>\n",
       "    </tr>\n",
       "    <tr>\n",
       "      <th>198</th>\n",
       "      <td>197</td>\n",
       "      <td>Female</td>\n",
       "      <td>45</td>\n",
       "      <td>126</td>\n",
       "      <td>28</td>\n",
       "    </tr>\n",
       "    <tr>\n",
       "      <th>199</th>\n",
       "      <td>198</td>\n",
       "      <td>Male</td>\n",
       "      <td>32</td>\n",
       "      <td>126</td>\n",
       "      <td>74</td>\n",
       "    </tr>\n",
       "    <tr>\n",
       "      <th>200</th>\n",
       "      <td>199</td>\n",
       "      <td>Male</td>\n",
       "      <td>32</td>\n",
       "      <td>137</td>\n",
       "      <td>18</td>\n",
       "    </tr>\n",
       "    <tr>\n",
       "      <th>201</th>\n",
       "      <td>200</td>\n",
       "      <td>Male</td>\n",
       "      <td>30</td>\n",
       "      <td>137</td>\n",
       "      <td>83</td>\n",
       "    </tr>\n",
       "  </tbody>\n",
       "</table>\n",
       "<p>202 rows × 5 columns</p>\n",
       "</div>"
      ],
      "text/plain": [
       "     CustomerID  Gender  Age Annual Income (k$)  Spending Score (1-100)\n",
       "0             1    Male   19                 15                      39\n",
       "1            15    Male   37                $20                      13\n",
       "2             2    Male   21                 15                      81\n",
       "3             3  Female   20                 16                       6\n",
       "4             4  Female   23                 16                      77\n",
       "..          ...     ...  ...                ...                     ...\n",
       "197         196  Female   35                120                      79\n",
       "198         197  Female   45                126                      28\n",
       "199         198    Male   32                126                      74\n",
       "200         199    Male   32                137                      18\n",
       "201         200    Male   30                137                      83\n",
       "\n",
       "[202 rows x 5 columns]"
      ]
     },
     "execution_count": 21,
     "metadata": {},
     "output_type": "execute_result"
    }
   ],
   "source": [
    "import pandas as pd\n",
    "a = pd.read_csv(\"Mall_Customers.csv\")   # csv\n",
    "a"
   ]
  },
  {
   "cell_type": "code",
   "execution_count": 22,
   "id": "61005a7e",
   "metadata": {},
   "outputs": [
    {
     "data": {
      "text/html": [
       "<div>\n",
       "<style scoped>\n",
       "    .dataframe tbody tr th:only-of-type {\n",
       "        vertical-align: middle;\n",
       "    }\n",
       "\n",
       "    .dataframe tbody tr th {\n",
       "        vertical-align: top;\n",
       "    }\n",
       "\n",
       "    .dataframe thead th {\n",
       "        text-align: right;\n",
       "    }\n",
       "</style>\n",
       "<table border=\"1\" class=\"dataframe\">\n",
       "  <thead>\n",
       "    <tr style=\"text-align: right;\">\n",
       "      <th></th>\n",
       "      <th>CustomerID</th>\n",
       "      <th>Gender</th>\n",
       "      <th>Age</th>\n",
       "      <th>Annual Income</th>\n",
       "      <th>Spending Score</th>\n",
       "    </tr>\n",
       "  </thead>\n",
       "  <tbody>\n",
       "    <tr>\n",
       "      <th>0</th>\n",
       "      <td>1</td>\n",
       "      <td>Male</td>\n",
       "      <td>19</td>\n",
       "      <td>15</td>\n",
       "      <td>39</td>\n",
       "    </tr>\n",
       "    <tr>\n",
       "      <th>1</th>\n",
       "      <td>15</td>\n",
       "      <td>Male</td>\n",
       "      <td>37</td>\n",
       "      <td>$20</td>\n",
       "      <td>13</td>\n",
       "    </tr>\n",
       "    <tr>\n",
       "      <th>2</th>\n",
       "      <td>2</td>\n",
       "      <td>Male</td>\n",
       "      <td>21</td>\n",
       "      <td>15</td>\n",
       "      <td>81</td>\n",
       "    </tr>\n",
       "    <tr>\n",
       "      <th>3</th>\n",
       "      <td>3</td>\n",
       "      <td>Female</td>\n",
       "      <td>20</td>\n",
       "      <td>16</td>\n",
       "      <td>6</td>\n",
       "    </tr>\n",
       "    <tr>\n",
       "      <th>4</th>\n",
       "      <td>4</td>\n",
       "      <td>Female</td>\n",
       "      <td>23</td>\n",
       "      <td>16</td>\n",
       "      <td>77</td>\n",
       "    </tr>\n",
       "    <tr>\n",
       "      <th>...</th>\n",
       "      <td>...</td>\n",
       "      <td>...</td>\n",
       "      <td>...</td>\n",
       "      <td>...</td>\n",
       "      <td>...</td>\n",
       "    </tr>\n",
       "    <tr>\n",
       "      <th>197</th>\n",
       "      <td>196</td>\n",
       "      <td>Female</td>\n",
       "      <td>35</td>\n",
       "      <td>120</td>\n",
       "      <td>79</td>\n",
       "    </tr>\n",
       "    <tr>\n",
       "      <th>198</th>\n",
       "      <td>197</td>\n",
       "      <td>Female</td>\n",
       "      <td>45</td>\n",
       "      <td>126</td>\n",
       "      <td>28</td>\n",
       "    </tr>\n",
       "    <tr>\n",
       "      <th>199</th>\n",
       "      <td>198</td>\n",
       "      <td>Male</td>\n",
       "      <td>32</td>\n",
       "      <td>126</td>\n",
       "      <td>74</td>\n",
       "    </tr>\n",
       "    <tr>\n",
       "      <th>200</th>\n",
       "      <td>199</td>\n",
       "      <td>Male</td>\n",
       "      <td>32</td>\n",
       "      <td>137</td>\n",
       "      <td>18</td>\n",
       "    </tr>\n",
       "    <tr>\n",
       "      <th>201</th>\n",
       "      <td>200</td>\n",
       "      <td>Male</td>\n",
       "      <td>30</td>\n",
       "      <td>137</td>\n",
       "      <td>83</td>\n",
       "    </tr>\n",
       "  </tbody>\n",
       "</table>\n",
       "<p>202 rows × 5 columns</p>\n",
       "</div>"
      ],
      "text/plain": [
       "     CustomerID  Gender  Age Annual Income  Spending Score\n",
       "0             1    Male   19            15              39\n",
       "1            15    Male   37           $20              13\n",
       "2             2    Male   21            15              81\n",
       "3             3  Female   20            16               6\n",
       "4             4  Female   23            16              77\n",
       "..          ...     ...  ...           ...             ...\n",
       "197         196  Female   35           120              79\n",
       "198         197  Female   45           126              28\n",
       "199         198    Male   32           126              74\n",
       "200         199    Male   32           137              18\n",
       "201         200    Male   30           137              83\n",
       "\n",
       "[202 rows x 5 columns]"
      ]
     },
     "execution_count": 22,
     "metadata": {},
     "output_type": "execute_result"
    }
   ],
   "source": [
    "a.rename(columns={\"Annual Income (k$)\":\"Annual Income\",'Spending Score (1-100)':\"Spending Score\"},inplace=True)\n",
    "a"
   ]
  },
  {
   "cell_type": "code",
   "execution_count": 23,
   "id": "0bc964c4",
   "metadata": {},
   "outputs": [
    {
     "name": "stdout",
     "output_type": "stream",
     "text": [
      "<class 'pandas.core.frame.DataFrame'>\n",
      "RangeIndex: 202 entries, 0 to 201\n",
      "Data columns (total 5 columns):\n",
      " #   Column          Non-Null Count  Dtype \n",
      "---  ------          --------------  ----- \n",
      " 0   CustomerID      202 non-null    int64 \n",
      " 1   Gender          202 non-null    object\n",
      " 2   Age             202 non-null    int64 \n",
      " 3   Annual Income   202 non-null    object\n",
      " 4   Spending Score  202 non-null    int64 \n",
      "dtypes: int64(3), object(2)\n",
      "memory usage: 8.0+ KB\n"
     ]
    }
   ],
   "source": [
    "a.info()"
   ]
  },
  {
   "cell_type": "code",
   "execution_count": 24,
   "id": "69e74e13",
   "metadata": {},
   "outputs": [
    {
     "data": {
      "text/html": [
       "<div>\n",
       "<style scoped>\n",
       "    .dataframe tbody tr th:only-of-type {\n",
       "        vertical-align: middle;\n",
       "    }\n",
       "\n",
       "    .dataframe tbody tr th {\n",
       "        vertical-align: top;\n",
       "    }\n",
       "\n",
       "    .dataframe thead th {\n",
       "        text-align: right;\n",
       "    }\n",
       "</style>\n",
       "<table border=\"1\" class=\"dataframe\">\n",
       "  <thead>\n",
       "    <tr style=\"text-align: right;\">\n",
       "      <th></th>\n",
       "      <th>Age</th>\n",
       "      <th>Spending Score</th>\n",
       "    </tr>\n",
       "  </thead>\n",
       "  <tbody>\n",
       "    <tr>\n",
       "      <th>count</th>\n",
       "      <td>202.000000</td>\n",
       "      <td>202.000000</td>\n",
       "    </tr>\n",
       "    <tr>\n",
       "      <th>mean</th>\n",
       "      <td>38.663366</td>\n",
       "      <td>50.297030</td>\n",
       "    </tr>\n",
       "    <tr>\n",
       "      <th>std</th>\n",
       "      <td>14.025050</td>\n",
       "      <td>25.798316</td>\n",
       "    </tr>\n",
       "    <tr>\n",
       "      <th>min</th>\n",
       "      <td>18.000000</td>\n",
       "      <td>1.000000</td>\n",
       "    </tr>\n",
       "    <tr>\n",
       "      <th>25%</th>\n",
       "      <td>28.000000</td>\n",
       "      <td>35.000000</td>\n",
       "    </tr>\n",
       "    <tr>\n",
       "      <th>50%</th>\n",
       "      <td>36.000000</td>\n",
       "      <td>50.000000</td>\n",
       "    </tr>\n",
       "    <tr>\n",
       "      <th>75%</th>\n",
       "      <td>49.000000</td>\n",
       "      <td>73.000000</td>\n",
       "    </tr>\n",
       "    <tr>\n",
       "      <th>max</th>\n",
       "      <td>70.000000</td>\n",
       "      <td>99.000000</td>\n",
       "    </tr>\n",
       "  </tbody>\n",
       "</table>\n",
       "</div>"
      ],
      "text/plain": [
       "              Age  Spending Score\n",
       "count  202.000000      202.000000\n",
       "mean    38.663366       50.297030\n",
       "std     14.025050       25.798316\n",
       "min     18.000000        1.000000\n",
       "25%     28.000000       35.000000\n",
       "50%     36.000000       50.000000\n",
       "75%     49.000000       73.000000\n",
       "max     70.000000       99.000000"
      ]
     },
     "execution_count": 24,
     "metadata": {},
     "output_type": "execute_result"
    }
   ],
   "source": [
    "a[[\"Age\",\"Spending Score\"]].describe() # descriptive statistics   # more than 1 column means you need to define 2 lists [[]]"
   ]
  },
  {
   "cell_type": "code",
   "execution_count": 25,
   "id": "e0080f40",
   "metadata": {},
   "outputs": [
    {
     "data": {
      "text/html": [
       "<div>\n",
       "<style scoped>\n",
       "    .dataframe tbody tr th:only-of-type {\n",
       "        vertical-align: middle;\n",
       "    }\n",
       "\n",
       "    .dataframe tbody tr th {\n",
       "        vertical-align: top;\n",
       "    }\n",
       "\n",
       "    .dataframe thead th {\n",
       "        text-align: right;\n",
       "    }\n",
       "</style>\n",
       "<table border=\"1\" class=\"dataframe\">\n",
       "  <thead>\n",
       "    <tr style=\"text-align: right;\">\n",
       "      <th></th>\n",
       "      <th>Gender</th>\n",
       "      <th>Age</th>\n",
       "      <th>Annual Income</th>\n",
       "      <th>Spending Score</th>\n",
       "    </tr>\n",
       "  </thead>\n",
       "  <tbody>\n",
       "    <tr>\n",
       "      <th>0</th>\n",
       "      <td>Male</td>\n",
       "      <td>19</td>\n",
       "      <td>15</td>\n",
       "      <td>39</td>\n",
       "    </tr>\n",
       "    <tr>\n",
       "      <th>1</th>\n",
       "      <td>Male</td>\n",
       "      <td>37</td>\n",
       "      <td>$20</td>\n",
       "      <td>13</td>\n",
       "    </tr>\n",
       "    <tr>\n",
       "      <th>2</th>\n",
       "      <td>Male</td>\n",
       "      <td>21</td>\n",
       "      <td>15</td>\n",
       "      <td>81</td>\n",
       "    </tr>\n",
       "    <tr>\n",
       "      <th>3</th>\n",
       "      <td>Female</td>\n",
       "      <td>20</td>\n",
       "      <td>16</td>\n",
       "      <td>6</td>\n",
       "    </tr>\n",
       "    <tr>\n",
       "      <th>4</th>\n",
       "      <td>Female</td>\n",
       "      <td>23</td>\n",
       "      <td>16</td>\n",
       "      <td>77</td>\n",
       "    </tr>\n",
       "    <tr>\n",
       "      <th>...</th>\n",
       "      <td>...</td>\n",
       "      <td>...</td>\n",
       "      <td>...</td>\n",
       "      <td>...</td>\n",
       "    </tr>\n",
       "    <tr>\n",
       "      <th>197</th>\n",
       "      <td>Female</td>\n",
       "      <td>35</td>\n",
       "      <td>120</td>\n",
       "      <td>79</td>\n",
       "    </tr>\n",
       "    <tr>\n",
       "      <th>198</th>\n",
       "      <td>Female</td>\n",
       "      <td>45</td>\n",
       "      <td>126</td>\n",
       "      <td>28</td>\n",
       "    </tr>\n",
       "    <tr>\n",
       "      <th>199</th>\n",
       "      <td>Male</td>\n",
       "      <td>32</td>\n",
       "      <td>126</td>\n",
       "      <td>74</td>\n",
       "    </tr>\n",
       "    <tr>\n",
       "      <th>200</th>\n",
       "      <td>Male</td>\n",
       "      <td>32</td>\n",
       "      <td>137</td>\n",
       "      <td>18</td>\n",
       "    </tr>\n",
       "    <tr>\n",
       "      <th>201</th>\n",
       "      <td>Male</td>\n",
       "      <td>30</td>\n",
       "      <td>137</td>\n",
       "      <td>83</td>\n",
       "    </tr>\n",
       "  </tbody>\n",
       "</table>\n",
       "<p>202 rows × 4 columns</p>\n",
       "</div>"
      ],
      "text/plain": [
       "     Gender  Age Annual Income  Spending Score\n",
       "0      Male   19            15              39\n",
       "1      Male   37           $20              13\n",
       "2      Male   21            15              81\n",
       "3    Female   20            16               6\n",
       "4    Female   23            16              77\n",
       "..      ...  ...           ...             ...\n",
       "197  Female   35           120              79\n",
       "198  Female   45           126              28\n",
       "199    Male   32           126              74\n",
       "200    Male   32           137              18\n",
       "201    Male   30           137              83\n",
       "\n",
       "[202 rows x 4 columns]"
      ]
     },
     "execution_count": 25,
     "metadata": {},
     "output_type": "execute_result"
    }
   ],
   "source": [
    "a = a.drop(\"CustomerID\",axis=1)\n",
    "a"
   ]
  },
  {
   "cell_type": "code",
   "execution_count": 26,
   "id": "48618846",
   "metadata": {},
   "outputs": [
    {
     "data": {
      "text/plain": [
       "array(['15', '$20', '16', '17', '18', '19', '20', '21', '23', '24', '$24',\n",
       "       '25', '28', '29', '30', '33', '34', '37', '38', '39', '40', '42',\n",
       "       '43', '44', '46', '47', '48', '49', '50', '54', '57', '58', '59',\n",
       "       '60', '61', '62', '63', '64', '65', '67', '69', '70', '71', '72',\n",
       "       '73', '74', '75', '76', '77', '78', '79', '81', '85', '86', '87',\n",
       "       '88', '93', '97', '98', '99', '101', '103', '113', '120', '126',\n",
       "       '137'], dtype=object)"
      ]
     },
     "execution_count": 26,
     "metadata": {},
     "output_type": "execute_result"
    }
   ],
   "source": [
    "a[\"Annual Income\"].unique()"
   ]
  },
  {
   "cell_type": "code",
   "execution_count": 27,
   "id": "c15b9c4b",
   "metadata": {},
   "outputs": [
    {
     "name": "stderr",
     "output_type": "stream",
     "text": [
      "C:\\Users\\Hema\\AppData\\Local\\Temp\\ipykernel_11808\\221933943.py:1: FutureWarning: The default value of regex will change from True to False in a future version. In addition, single character regular expressions will *not* be treated as literal strings when regex=True.\n",
      "  a[\"Annual Income\"]=a[\"Annual Income\"].str.replace(\"$\",\"\")\n"
     ]
    },
    {
     "data": {
      "text/html": [
       "<div>\n",
       "<style scoped>\n",
       "    .dataframe tbody tr th:only-of-type {\n",
       "        vertical-align: middle;\n",
       "    }\n",
       "\n",
       "    .dataframe tbody tr th {\n",
       "        vertical-align: top;\n",
       "    }\n",
       "\n",
       "    .dataframe thead th {\n",
       "        text-align: right;\n",
       "    }\n",
       "</style>\n",
       "<table border=\"1\" class=\"dataframe\">\n",
       "  <thead>\n",
       "    <tr style=\"text-align: right;\">\n",
       "      <th></th>\n",
       "      <th>Gender</th>\n",
       "      <th>Age</th>\n",
       "      <th>Annual Income</th>\n",
       "      <th>Spending Score</th>\n",
       "    </tr>\n",
       "  </thead>\n",
       "  <tbody>\n",
       "    <tr>\n",
       "      <th>0</th>\n",
       "      <td>Male</td>\n",
       "      <td>19</td>\n",
       "      <td>15</td>\n",
       "      <td>39</td>\n",
       "    </tr>\n",
       "    <tr>\n",
       "      <th>1</th>\n",
       "      <td>Male</td>\n",
       "      <td>37</td>\n",
       "      <td>20</td>\n",
       "      <td>13</td>\n",
       "    </tr>\n",
       "    <tr>\n",
       "      <th>2</th>\n",
       "      <td>Male</td>\n",
       "      <td>21</td>\n",
       "      <td>15</td>\n",
       "      <td>81</td>\n",
       "    </tr>\n",
       "    <tr>\n",
       "      <th>3</th>\n",
       "      <td>Female</td>\n",
       "      <td>20</td>\n",
       "      <td>16</td>\n",
       "      <td>6</td>\n",
       "    </tr>\n",
       "    <tr>\n",
       "      <th>4</th>\n",
       "      <td>Female</td>\n",
       "      <td>23</td>\n",
       "      <td>16</td>\n",
       "      <td>77</td>\n",
       "    </tr>\n",
       "    <tr>\n",
       "      <th>...</th>\n",
       "      <td>...</td>\n",
       "      <td>...</td>\n",
       "      <td>...</td>\n",
       "      <td>...</td>\n",
       "    </tr>\n",
       "    <tr>\n",
       "      <th>197</th>\n",
       "      <td>Female</td>\n",
       "      <td>35</td>\n",
       "      <td>120</td>\n",
       "      <td>79</td>\n",
       "    </tr>\n",
       "    <tr>\n",
       "      <th>198</th>\n",
       "      <td>Female</td>\n",
       "      <td>45</td>\n",
       "      <td>126</td>\n",
       "      <td>28</td>\n",
       "    </tr>\n",
       "    <tr>\n",
       "      <th>199</th>\n",
       "      <td>Male</td>\n",
       "      <td>32</td>\n",
       "      <td>126</td>\n",
       "      <td>74</td>\n",
       "    </tr>\n",
       "    <tr>\n",
       "      <th>200</th>\n",
       "      <td>Male</td>\n",
       "      <td>32</td>\n",
       "      <td>137</td>\n",
       "      <td>18</td>\n",
       "    </tr>\n",
       "    <tr>\n",
       "      <th>201</th>\n",
       "      <td>Male</td>\n",
       "      <td>30</td>\n",
       "      <td>137</td>\n",
       "      <td>83</td>\n",
       "    </tr>\n",
       "  </tbody>\n",
       "</table>\n",
       "<p>202 rows × 4 columns</p>\n",
       "</div>"
      ],
      "text/plain": [
       "     Gender  Age Annual Income  Spending Score\n",
       "0      Male   19            15              39\n",
       "1      Male   37            20              13\n",
       "2      Male   21            15              81\n",
       "3    Female   20            16               6\n",
       "4    Female   23            16              77\n",
       "..      ...  ...           ...             ...\n",
       "197  Female   35           120              79\n",
       "198  Female   45           126              28\n",
       "199    Male   32           126              74\n",
       "200    Male   32           137              18\n",
       "201    Male   30           137              83\n",
       "\n",
       "[202 rows x 4 columns]"
      ]
     },
     "execution_count": 27,
     "metadata": {},
     "output_type": "execute_result"
    }
   ],
   "source": [
    "a[\"Annual Income\"]=a[\"Annual Income\"].str.replace(\"$\",\"\")\n",
    "a"
   ]
  },
  {
   "cell_type": "code",
   "execution_count": 28,
   "id": "2b034fb7",
   "metadata": {},
   "outputs": [
    {
     "data": {
      "text/html": [
       "<div>\n",
       "<style scoped>\n",
       "    .dataframe tbody tr th:only-of-type {\n",
       "        vertical-align: middle;\n",
       "    }\n",
       "\n",
       "    .dataframe tbody tr th {\n",
       "        vertical-align: top;\n",
       "    }\n",
       "\n",
       "    .dataframe thead th {\n",
       "        text-align: right;\n",
       "    }\n",
       "</style>\n",
       "<table border=\"1\" class=\"dataframe\">\n",
       "  <thead>\n",
       "    <tr style=\"text-align: right;\">\n",
       "      <th></th>\n",
       "      <th>Gender</th>\n",
       "      <th>Age</th>\n",
       "      <th>Annual Income</th>\n",
       "      <th>Spending Score</th>\n",
       "    </tr>\n",
       "  </thead>\n",
       "  <tbody>\n",
       "    <tr>\n",
       "      <th>0</th>\n",
       "      <td>Male</td>\n",
       "      <td>19</td>\n",
       "      <td>15</td>\n",
       "      <td>39</td>\n",
       "    </tr>\n",
       "    <tr>\n",
       "      <th>1</th>\n",
       "      <td>Male</td>\n",
       "      <td>37</td>\n",
       "      <td>20</td>\n",
       "      <td>13</td>\n",
       "    </tr>\n",
       "    <tr>\n",
       "      <th>2</th>\n",
       "      <td>Male</td>\n",
       "      <td>21</td>\n",
       "      <td>15</td>\n",
       "      <td>81</td>\n",
       "    </tr>\n",
       "    <tr>\n",
       "      <th>3</th>\n",
       "      <td>Female</td>\n",
       "      <td>20</td>\n",
       "      <td>16</td>\n",
       "      <td>6</td>\n",
       "    </tr>\n",
       "    <tr>\n",
       "      <th>4</th>\n",
       "      <td>Female</td>\n",
       "      <td>23</td>\n",
       "      <td>16</td>\n",
       "      <td>77</td>\n",
       "    </tr>\n",
       "    <tr>\n",
       "      <th>...</th>\n",
       "      <td>...</td>\n",
       "      <td>...</td>\n",
       "      <td>...</td>\n",
       "      <td>...</td>\n",
       "    </tr>\n",
       "    <tr>\n",
       "      <th>197</th>\n",
       "      <td>Female</td>\n",
       "      <td>35</td>\n",
       "      <td>120</td>\n",
       "      <td>79</td>\n",
       "    </tr>\n",
       "    <tr>\n",
       "      <th>198</th>\n",
       "      <td>Female</td>\n",
       "      <td>45</td>\n",
       "      <td>126</td>\n",
       "      <td>28</td>\n",
       "    </tr>\n",
       "    <tr>\n",
       "      <th>199</th>\n",
       "      <td>Male</td>\n",
       "      <td>32</td>\n",
       "      <td>126</td>\n",
       "      <td>74</td>\n",
       "    </tr>\n",
       "    <tr>\n",
       "      <th>200</th>\n",
       "      <td>Male</td>\n",
       "      <td>32</td>\n",
       "      <td>137</td>\n",
       "      <td>18</td>\n",
       "    </tr>\n",
       "    <tr>\n",
       "      <th>201</th>\n",
       "      <td>Male</td>\n",
       "      <td>30</td>\n",
       "      <td>137</td>\n",
       "      <td>83</td>\n",
       "    </tr>\n",
       "  </tbody>\n",
       "</table>\n",
       "<p>202 rows × 4 columns</p>\n",
       "</div>"
      ],
      "text/plain": [
       "     Gender  Age  Annual Income  Spending Score\n",
       "0      Male   19             15              39\n",
       "1      Male   37             20              13\n",
       "2      Male   21             15              81\n",
       "3    Female   20             16               6\n",
       "4    Female   23             16              77\n",
       "..      ...  ...            ...             ...\n",
       "197  Female   35            120              79\n",
       "198  Female   45            126              28\n",
       "199    Male   32            126              74\n",
       "200    Male   32            137              18\n",
       "201    Male   30            137              83\n",
       "\n",
       "[202 rows x 4 columns]"
      ]
     },
     "execution_count": 28,
     "metadata": {},
     "output_type": "execute_result"
    }
   ],
   "source": [
    "#pd.to_numeric(a[\"Annual Income\"],errors='coerce')\n",
    "a[\"Annual Income\"] = pd.to_numeric(a['Annual Income'],errors='coerce')\n",
    "a"
   ]
  },
  {
   "cell_type": "code",
   "execution_count": 29,
   "id": "4d327ca9",
   "metadata": {},
   "outputs": [
    {
     "data": {
      "text/plain": [
       "Gender            object\n",
       "Age                int64\n",
       "Annual Income      int64\n",
       "Spending Score     int64\n",
       "dtype: object"
      ]
     },
     "execution_count": 29,
     "metadata": {},
     "output_type": "execute_result"
    }
   ],
   "source": [
    "a.dtypes"
   ]
  },
  {
   "cell_type": "code",
   "execution_count": 30,
   "id": "0fed23d7",
   "metadata": {},
   "outputs": [
    {
     "data": {
      "text/html": [
       "<div>\n",
       "<style scoped>\n",
       "    .dataframe tbody tr th:only-of-type {\n",
       "        vertical-align: middle;\n",
       "    }\n",
       "\n",
       "    .dataframe tbody tr th {\n",
       "        vertical-align: top;\n",
       "    }\n",
       "\n",
       "    .dataframe thead th {\n",
       "        text-align: right;\n",
       "    }\n",
       "</style>\n",
       "<table border=\"1\" class=\"dataframe\">\n",
       "  <thead>\n",
       "    <tr style=\"text-align: right;\">\n",
       "      <th></th>\n",
       "      <th>Gender</th>\n",
       "      <th>Age</th>\n",
       "      <th>Annual Income</th>\n",
       "      <th>Spending Score</th>\n",
       "    </tr>\n",
       "  </thead>\n",
       "  <tbody>\n",
       "    <tr>\n",
       "      <th>0</th>\n",
       "      <td>False</td>\n",
       "      <td>False</td>\n",
       "      <td>False</td>\n",
       "      <td>False</td>\n",
       "    </tr>\n",
       "    <tr>\n",
       "      <th>1</th>\n",
       "      <td>False</td>\n",
       "      <td>False</td>\n",
       "      <td>False</td>\n",
       "      <td>False</td>\n",
       "    </tr>\n",
       "    <tr>\n",
       "      <th>2</th>\n",
       "      <td>False</td>\n",
       "      <td>False</td>\n",
       "      <td>False</td>\n",
       "      <td>False</td>\n",
       "    </tr>\n",
       "    <tr>\n",
       "      <th>3</th>\n",
       "      <td>False</td>\n",
       "      <td>False</td>\n",
       "      <td>False</td>\n",
       "      <td>False</td>\n",
       "    </tr>\n",
       "    <tr>\n",
       "      <th>4</th>\n",
       "      <td>False</td>\n",
       "      <td>False</td>\n",
       "      <td>False</td>\n",
       "      <td>False</td>\n",
       "    </tr>\n",
       "    <tr>\n",
       "      <th>...</th>\n",
       "      <td>...</td>\n",
       "      <td>...</td>\n",
       "      <td>...</td>\n",
       "      <td>...</td>\n",
       "    </tr>\n",
       "    <tr>\n",
       "      <th>197</th>\n",
       "      <td>False</td>\n",
       "      <td>False</td>\n",
       "      <td>False</td>\n",
       "      <td>False</td>\n",
       "    </tr>\n",
       "    <tr>\n",
       "      <th>198</th>\n",
       "      <td>False</td>\n",
       "      <td>False</td>\n",
       "      <td>False</td>\n",
       "      <td>False</td>\n",
       "    </tr>\n",
       "    <tr>\n",
       "      <th>199</th>\n",
       "      <td>False</td>\n",
       "      <td>False</td>\n",
       "      <td>False</td>\n",
       "      <td>False</td>\n",
       "    </tr>\n",
       "    <tr>\n",
       "      <th>200</th>\n",
       "      <td>False</td>\n",
       "      <td>False</td>\n",
       "      <td>False</td>\n",
       "      <td>False</td>\n",
       "    </tr>\n",
       "    <tr>\n",
       "      <th>201</th>\n",
       "      <td>False</td>\n",
       "      <td>False</td>\n",
       "      <td>False</td>\n",
       "      <td>False</td>\n",
       "    </tr>\n",
       "  </tbody>\n",
       "</table>\n",
       "<p>202 rows × 4 columns</p>\n",
       "</div>"
      ],
      "text/plain": [
       "     Gender    Age  Annual Income  Spending Score\n",
       "0     False  False          False           False\n",
       "1     False  False          False           False\n",
       "2     False  False          False           False\n",
       "3     False  False          False           False\n",
       "4     False  False          False           False\n",
       "..      ...    ...            ...             ...\n",
       "197   False  False          False           False\n",
       "198   False  False          False           False\n",
       "199   False  False          False           False\n",
       "200   False  False          False           False\n",
       "201   False  False          False           False\n",
       "\n",
       "[202 rows x 4 columns]"
      ]
     },
     "execution_count": 30,
     "metadata": {},
     "output_type": "execute_result"
    }
   ],
   "source": [
    "a.isnull()"
   ]
  },
  {
   "cell_type": "code",
   "execution_count": 31,
   "id": "e1f35ba9",
   "metadata": {},
   "outputs": [
    {
     "data": {
      "text/plain": [
       "Gender            0\n",
       "Age               0\n",
       "Annual Income     0\n",
       "Spending Score    0\n",
       "dtype: int64"
      ]
     },
     "execution_count": 31,
     "metadata": {},
     "output_type": "execute_result"
    }
   ],
   "source": [
    "a.isnull().sum()"
   ]
  },
  {
   "cell_type": "code",
   "execution_count": 32,
   "id": "1b99d0fd",
   "metadata": {},
   "outputs": [
    {
     "data": {
      "text/plain": [
       "0"
      ]
     },
     "execution_count": 32,
     "metadata": {},
     "output_type": "execute_result"
    }
   ],
   "source": [
    "a.isnull().sum().sum()"
   ]
  },
  {
   "cell_type": "code",
   "execution_count": 33,
   "id": "0ab2a7d0",
   "metadata": {},
   "outputs": [],
   "source": [
    "import numpy as np\n"
   ]
  },
  {
   "cell_type": "code",
   "execution_count": 34,
   "id": "dd0fac76",
   "metadata": {},
   "outputs": [
    {
     "data": {
      "text/plain": [
       "Age               38.663366\n",
       "Spending Score    50.297030\n",
       "dtype: float64"
      ]
     },
     "execution_count": 34,
     "metadata": {},
     "output_type": "execute_result"
    }
   ],
   "source": [
    "np.mean(a[['Age','Spending Score']],axis=0)"
   ]
  },
  {
   "cell_type": "code",
   "execution_count": 35,
   "id": "a0131656",
   "metadata": {},
   "outputs": [
    {
     "data": {
      "text/plain": [
       "Age               38.663366\n",
       "Spending Score    50.297030\n",
       "dtype: float64"
      ]
     },
     "execution_count": 35,
     "metadata": {},
     "output_type": "execute_result"
    }
   ],
   "source": [
    "a[['Age','Spending Score']].mean()"
   ]
  },
  {
   "cell_type": "markdown",
   "id": "8de95cfa",
   "metadata": {},
   "source": [
    "## CHECK FOR OUTLIERS"
   ]
  },
  {
   "cell_type": "code",
   "execution_count": 36,
   "id": "f53745cb",
   "metadata": {},
   "outputs": [],
   "source": [
    "import matplotlib.pyplot as plt\n",
    "import seaborn as sns"
   ]
  },
  {
   "cell_type": "code",
   "execution_count": 37,
   "id": "7b551988",
   "metadata": {},
   "outputs": [
    {
     "data": {
      "image/png": "[encoded data removed]",
      "text/plain": [
       "<Figure size 640x480 with 1 Axes>"
      ]
     },
     "metadata": {},
     "output_type": "display_data"
    }
   ],
   "source": [
    "a.boxplot(column=['Age','Annual Income','Spending Score'])\n",
    "plt.ylabel('Values')\n",
    "plt.title('Box Plot of three columns')\n",
    "plt.show()"
   ]
  },
  {
   "cell_type": "code",
   "execution_count": 38,
   "id": "5f5f069a",
   "metadata": {},
   "outputs": [
    {
     "data": {
      "image/png": "[encoded data removed]",
      "text/plain": [
       "<Figure size 640x480 with 1 Axes>"
      ]
     },
     "metadata": {},
     "output_type": "display_data"
    }
   ],
   "source": [
    "sns.boxplot(x='Gender',y='Age',data = a)\n",
    "#sns.boxplot(data=a,width=0.5)\n",
    "plt.title('Box Plot')\n",
    "plt.show()"
   ]
  },
  {
   "cell_type": "code",
   "execution_count": 39,
   "id": "951d4619",
   "metadata": {},
   "outputs": [
    {
     "ename": "TypeError",
     "evalue": "box() got an unexpected keyword argument 'x'",
     "output_type": "error",
     "traceback": [
      "\u001b[1;31m---------------------------------------------------------------------------\u001b[0m",
      "\u001b[1;31mTypeError\u001b[0m                                 Traceback (most recent call last)",
      "Cell \u001b[1;32mIn[39], line 2\u001b[0m\n\u001b[0;32m      1\u001b[0m \u001b[38;5;28;01mimport\u001b[39;00m \u001b[38;5;21;01mplotly\u001b[39;00m\u001b[38;5;21;01m.\u001b[39;00m\u001b[38;5;21;01mexpress\u001b[39;00m \u001b[38;5;28;01mas\u001b[39;00m \u001b[38;5;21;01mpt\u001b[39;00m\n\u001b[1;32m----> 2\u001b[0m plt\u001b[38;5;241m.\u001b[39mbox(a,x\u001b[38;5;241m=\u001b[39m\u001b[38;5;124m'\u001b[39m\u001b[38;5;124mGender\u001b[39m\u001b[38;5;124m'\u001b[39m,y\u001b[38;5;241m=\u001b[39m\u001b[38;5;124m'\u001b[39m\u001b[38;5;124mAnnual Income\u001b[39m\u001b[38;5;124m'\u001b[39m,color\u001b[38;5;241m=\u001b[39m\u001b[38;5;124m'\u001b[39m\u001b[38;5;124mGender\u001b[39m\u001b[38;5;124m'\u001b[39m)\n",
      "\u001b[1;31mTypeError\u001b[0m: box() got an unexpected keyword argument 'x'"
     ]
    }
   ],
   "source": [
    "import plotly.express as pt\n",
    "plt.box(a,x='Gender',y='Annual Income',color='Gender') # notched=True"
   ]
  },
  {
   "cell_type": "code",
   "execution_count": 40,
   "id": "a4417739",
   "metadata": {},
   "outputs": [
    {
     "data": {
      "image/png": "[encoded data removed]",
      "text/plain": [
       "<Figure size 500x400 with 1 Axes>"
      ]
     },
     "metadata": {},
     "output_type": "display_data"
    }
   ],
   "source": [
    "# 1. Count plot\n",
    "plt.figure(figsize=(5,4))\n",
    "sns.countplot(x='Gender',data=a,hue='Gender',palette = ['Red','Blue']) #palette = ['#FF8999','98B8FF']\n",
    "plt.title('Count Plot')\n",
    "plt.show()"
   ]
  },
  {
   "cell_type": "markdown",
   "id": "7374b2fe",
   "metadata": {},
   "source": [
    "#### Female participants were more and female spending scores are higher than male spending score"
   ]
  },
  {
   "cell_type": "code",
   "execution_count": null,
   "id": "a034ffe8",
   "metadata": {},
   "outputs": [],
   "source": [
    "#Barplot\n",
    "#2. Bar plot\n",
    "plt.figure(figsize=(5,4))\n",
    "sns.barplot(x='Gender',y='Spending Score',data=a,errorbar=None,palette = ['Red','Green'])# ci = None but now depreciated\n",
    "plt.title('Bar Plot')\n",
    "plt.show()"
   ]
  },
  {
   "cell_type": "code",
   "execution_count": null,
   "id": "13be7fc9",
   "metadata": {},
   "outputs": [],
   "source": [
    "# 4.Histogram\n",
    "#plt.hist(mall['Spending Score'],bins=25)\n",
    "sns.histplot(data=a,x='Spending Score',hue='Gender')## hue as gender\n",
    "plt.title('Hiostogram')\n",
    "plt.show()"
   ]
  },
  {
   "cell_type": "code",
   "execution_count": null,
   "id": "978f24fa",
   "metadata": {},
   "outputs": [],
   "source": [
    "import plotly.express as pt\n",
    "pt.histogram(a,x=\"Annual Income\",nbins=25,title=\"Histogram plotly\")"
   ]
  },
  {
   "cell_type": "code",
   "execution_count": null,
   "id": "fdd9e14e",
   "metadata": {},
   "outputs": [],
   "source": [
    "sns.kdeplot(data=a[\"Annual Income\"],fill=True)#shade=True depreciated,fill  kernal density-kde\n",
    "plt.title(\"Density Plot\")\n",
    "plt.show()"
   ]
  },
  {
   "cell_type": "markdown",
   "id": "6da85b2d",
   "metadata": {},
   "source": [
    "## Bivariate Analysis"
   ]
  },
  {
   "cell_type": "code",
   "execution_count": null,
   "id": "fe966200",
   "metadata": {},
   "outputs": [],
   "source": [
    "#Scatter Plot\n",
    "#plt.figure(figsize(4,5))\n",
    "sns.scatterplot(x=\"Annual Income\",y=\"Spending Score\",data=a) #hue,color='0.1',s=100,marker=\"*\"\n",
    "plt.title(\"Scatter Plot\")\n",
    "plt.show()"
   ]
  },
  {
   "cell_type": "code",
   "execution_count": null,
   "id": "530ded69",
   "metadata": {},
   "outputs": [],
   "source": [
    "sns.scatterplot(x=\"Annual Income\",y=\"Spending Score\",data=a,hue=\"Gender\",marker=\"^\") #hue,color='0.1',s=100,marker=\"*\"\n",
    "plt.title(\"Scatter Plot\")\n",
    "plt.show()"
   ]
  },
  {
   "cell_type": "markdown",
   "id": "e38feed1",
   "metadata": {},
   "source": [
    "## Multivariate Analysis"
   ]
  },
  {
   "cell_type": "code",
   "execution_count": null,
   "id": "42c0953c",
   "metadata": {},
   "outputs": [],
   "source": [
    "# Create pair plot\n",
    "#plt.figure(figsize(4,5))\n",
    "sns.pairplot(a,hue=\"Gender\")\n",
    "plt.title(\"Pair Plot\")\n",
    "plt.show()"
   ]
  },
  {
   "cell_type": "code",
   "execution_count": null,
   "id": "53b8e94f",
   "metadata": {},
   "outputs": [],
   "source": [
    "#Selected specific columns\n",
    "\n",
    "selected_columns = [\"Age\",\"Annual Income\",\"Spending Score\"]\n",
    "df_selected = a[selected_columns]\n",
    "\n",
    "#Compute the correlation matrix (if needed)\n",
    "\n",
    "correlation_matrix = df_selected.corr()\n",
    "\n",
    "#Plot the heatmap\n",
    "\n",
    "plt.figure(figsize=(5,3))\n",
    "sns.heatmap(correlation_matrix,annot=True,cmap=\"coolwarm\",linewidth=2,fmt=\".2f\")\n",
    "plt.title(\"Heatmap of Three Columns\")\n",
    "plt.show()"
   ]
  },
  {
   "cell_type": "markdown",
   "id": "8f28db80",
   "metadata": {},
   "source": [
    "## Replacing the outliers"
   ]
  },
  {
   "cell_type": "code",
   "execution_count": null,
   "id": "c9c1f9b5",
   "metadata": {},
   "outputs": [],
   "source": [
    "# Identify outliers using the IQR method\n",
    "\n",
    "Q1 = a[\"Annual Income\"].quantile(0.25)\n",
    "Q3 = a[\"Annual Income\"].quantile(0.75)\n",
    "IQR = Q3-Q1\n",
    "print(f\"IQR Value:{IQR}\")\n",
    "\n",
    "lower_bound = Q1 - 1.5 * IQR\n",
    "upper_bound = Q3 + 1.5 * IQR\n",
    "\n",
    "print(f\"Lower Bound:{lower_bound}\")\n",
    "print(f\"Upper Bound:{upper_bound}\")\n",
    "\n",
    "#Calculate the median \n",
    "median_value = a[\"Annual Income\"].median()\n",
    "print(f\"Median Value:{median_value}\")\n",
    "\n",
    "#Replace outliers with the median\n",
    "a[\"Annual Income\"] = np.where((a[\"Annual Income\"] < lower_bound) | (a[\"Annual Income\"] > upper_bound),median_value,a[\"Annual Income\"])\n",
    "\n",
    "print(\"Data after Replacing Outliers with Median:\\n\",a)"
   ]
  },
  {
   "cell_type": "code",
   "execution_count": null,
   "id": "45633f88",
   "metadata": {},
   "outputs": [],
   "source": [
    "import plotly.express as pt\n",
    "pt.box(a,x='Gender',y='Annual Income',color='Gender')"
   ]
  },
  {
   "cell_type": "markdown",
   "id": "8cba3cb0",
   "metadata": {},
   "source": [
    "## Pie Chart"
   ]
  },
  {
   "cell_type": "code",
   "execution_count": null,
   "id": "05cee684",
   "metadata": {},
   "outputs": [],
   "source": [
    "import plotly.express as pt\n",
    "#This dataframe has 244 lines, but 4 distinct values for 'day'\n",
    "fig = pt.pie(data_frame = a,names='Age')\n",
    "fig.show()"
   ]
  },
  {
   "cell_type": "code",
   "execution_count": null,
   "id": "56d9af76",
   "metadata": {},
   "outputs": [],
   "source": []
  },
  {
   "cell_type": "markdown",
   "id": "1d4c4ead",
   "metadata": {},
   "source": [
    "## BIKE"
   ]
  },
  {
   "cell_type": "markdown",
   "id": "c6a14098",
   "metadata": {},
   "source": [
    "## ANALYSIS"
   ]
  },
  {
   "cell_type": "markdown",
   "id": "ae7ec5b0",
   "metadata": {},
   "source": [
    "## DATA UNDERSTANDING"
   ]
  },
  {
   "cell_type": "code",
   "execution_count": null,
   "id": "7a8be533",
   "metadata": {},
   "outputs": [],
   "source": [
    "import pandas as pd\n",
    "import numpy as np\n",
    "import matplotlib.pyplot as plt\n",
    "#%matplotlib inline\n",
    "import datetime as dt\n",
    "import seaborn as sns\n",
    "import warnings\n",
    "warnings.filterwarnings('ignore')\n",
    "#import statsmodels.api as sm"
   ]
  },
  {
   "cell_type": "code",
   "execution_count": null,
   "id": "6f6a710f",
   "metadata": {},
   "outputs": [],
   "source": [
    "import pandas as pd\n",
    "b = pd.read_csv(\"bike.csv\")\n",
    "b"
   ]
  },
  {
   "cell_type": "code",
   "execution_count": null,
   "id": "25ec29e3",
   "metadata": {},
   "outputs": [],
   "source": [
    "type(b[\"dteday\"][0])"
   ]
  },
  {
   "cell_type": "code",
   "execution_count": null,
   "id": "617db007",
   "metadata": {},
   "outputs": [],
   "source": [
    "b.info()"
   ]
  },
  {
   "cell_type": "code",
   "execution_count": null,
   "id": "4c0ca5d4",
   "metadata": {},
   "outputs": [],
   "source": [
    "b.describe()"
   ]
  },
  {
   "cell_type": "code",
   "execution_count": null,
   "id": "ca17d1e8",
   "metadata": {},
   "outputs": [],
   "source": [
    "b[\"mnth\"].describe()"
   ]
  },
  {
   "cell_type": "markdown",
   "id": "9a1a53f5",
   "metadata": {},
   "source": [
    "## Data Cleaning"
   ]
  },
  {
   "cell_type": "markdown",
   "id": "c2e2f221",
   "metadata": {},
   "source": [
    "## Fixing Rows and Columns"
   ]
  },
  {
   "cell_type": "code",
   "execution_count": null,
   "id": "294a84ea",
   "metadata": {},
   "outputs": [],
   "source": [
    "b.shape"
   ]
  },
  {
   "cell_type": "code",
   "execution_count": null,
   "id": "8bec74ab",
   "metadata": {},
   "outputs": [],
   "source": [
    "df = b.drop(\"instant\",axis=1)"
   ]
  },
  {
   "cell_type": "code",
   "execution_count": null,
   "id": "fc256d47",
   "metadata": {},
   "outputs": [],
   "source": [
    "df"
   ]
  },
  {
   "cell_type": "code",
   "execution_count": null,
   "id": "db34cb74",
   "metadata": {},
   "outputs": [],
   "source": [
    "df = df.drop([\"casual\",\"registered\"],axis=1)"
   ]
  },
  {
   "cell_type": "code",
   "execution_count": null,
   "id": "43b2d2a3",
   "metadata": {},
   "outputs": [],
   "source": [
    "df"
   ]
  },
  {
   "cell_type": "code",
   "execution_count": null,
   "id": "a14e6317",
   "metadata": {},
   "outputs": [],
   "source": [
    "df[\"weathersit\"] = df[\"weathersit\"].map({1:\"Clear\",2:\"Misty\",3:\"Light Snow or Rain\",\n",
    "                                        4:\"Heavy Snow or Rain\"})"
   ]
  },
  {
   "cell_type": "code",
   "execution_count": null,
   "id": "e7cd051d",
   "metadata": {},
   "outputs": [],
   "source": [
    "df[\"mnth\"] = df[\"mnth\"].map({1:\"JAN\",2:\"FEB\",3:\"MAR\",4:\"APR\",5:\"MAY\",6:\"JUN\",\n",
    "                            7:\"JUL\",8:\"AUG\",9:\"SEP\",10:\"OCT\",11:\"NOV\",12:\"DEC\"})"
   ]
  },
  {
   "cell_type": "code",
   "execution_count": null,
   "id": "5a0d8384",
   "metadata": {},
   "outputs": [],
   "source": [
    "df[\"weekday\"] = df[\"weekday\"].map({0:\"SUNDAY\",1:\"MONDAY\",2:\"TUESDAY\",3:\"WEDNESDAY\",\n",
    "                                  4:\"THURSDAY\",5:\"FRIDAY\",6:\"SATURDAY\"})"
   ]
  },
  {
   "cell_type": "code",
   "execution_count": null,
   "id": "1a6aa98e",
   "metadata": {},
   "outputs": [],
   "source": [
    "df[\"season\"] = df[\"season\"].map({1:\"Spring\",2:\"Summer\",3:\"Fall\",4:\"Winter\"})"
   ]
  },
  {
   "cell_type": "code",
   "execution_count": null,
   "id": "03682f1f",
   "metadata": {},
   "outputs": [],
   "source": [
    "df[\"yr\"] = df[\"yr\"].map({0:\"2018\",1:\"2019\"})"
   ]
  },
  {
   "cell_type": "code",
   "execution_count": null,
   "id": "e6b24078",
   "metadata": {},
   "outputs": [],
   "source": [
    "df[\"holiday\"] = df[\"holiday\"].map({0:\"Weekdays not holiday\",1:\"Weekdays holiday\"})"
   ]
  },
  {
   "cell_type": "code",
   "execution_count": null,
   "id": "bb4a944f",
   "metadata": {},
   "outputs": [],
   "source": [
    "df[\"workingday\"] = df[\"workingday\"].map({0:\"Holiday\",1:\"Working day\"})"
   ]
  },
  {
   "cell_type": "code",
   "execution_count": null,
   "id": "38920a42",
   "metadata": {},
   "outputs": [],
   "source": [
    "df"
   ]
  },
  {
   "cell_type": "code",
   "execution_count": null,
   "id": "7a93c1e2",
   "metadata": {},
   "outputs": [],
   "source": [
    "df.describe()"
   ]
  },
  {
   "cell_type": "code",
   "execution_count": null,
   "id": "882c2d62",
   "metadata": {},
   "outputs": [],
   "source": [
    "df.info()"
   ]
  },
  {
   "cell_type": "code",
   "execution_count": null,
   "id": "6718d401",
   "metadata": {},
   "outputs": [],
   "source": [
    "df.isnull().sum().sum()"
   ]
  },
  {
   "cell_type": "code",
   "execution_count": null,
   "id": "fb40d750",
   "metadata": {},
   "outputs": [],
   "source": [
    "df[\"dteday\"] = pd.to_datetime(df['dteday'])"
   ]
  },
  {
   "cell_type": "code",
   "execution_count": null,
   "id": "4605c8e0",
   "metadata": {},
   "outputs": [],
   "source": [
    "df"
   ]
  },
  {
   "cell_type": "code",
   "execution_count": null,
   "id": "79326f10",
   "metadata": {},
   "outputs": [],
   "source": [
    "roundoff_columns = ['temp','atemp','hum','windspeed']"
   ]
  },
  {
   "cell_type": "code",
   "execution_count": null,
   "id": "be6534d5",
   "metadata": {},
   "outputs": [],
   "source": [
    "df[roundoff_columns] = df[roundoff_columns].apply(lambda x : round(x,2))"
   ]
  },
  {
   "cell_type": "code",
   "execution_count": null,
   "id": "f47e6d89",
   "metadata": {},
   "outputs": [],
   "source": [
    "df.head()"
   ]
  },
  {
   "cell_type": "code",
   "execution_count": null,
   "id": "e43a01e8",
   "metadata": {},
   "outputs": [],
   "source": [
    "a = df[['temp','atemp','hum','windspeed','cnt']]\n",
    "len(a.columns)"
   ]
  },
  {
   "cell_type": "markdown",
   "id": "539e21a5",
   "metadata": {},
   "source": [
    "## BOXPLOT"
   ]
  },
  {
   "cell_type": "code",
   "execution_count": null,
   "id": "d9017ba1",
   "metadata": {},
   "outputs": [],
   "source": [
    "plt.figure(figsize=(15,30))\n",
    "for i in range(len(a.columns)):\n",
    "    plt.subplot(8,3,i+1)\n",
    "    sns.boxplot(y=a.columns[i],data=df)\n",
    "plt.show()"
   ]
  },
  {
   "cell_type": "code",
   "execution_count": null,
   "id": "19751072",
   "metadata": {},
   "outputs": [],
   "source": [
    "df[\"windspeed\"].describe()"
   ]
  },
  {
   "cell_type": "code",
   "execution_count": null,
   "id": "448fac5c",
   "metadata": {},
   "outputs": [],
   "source": [
    "print(\"At 80%, Windspeed is\",df['windspeed'].quantile(0.80))\n",
    "print(\"At 90%, Windspeed is\",df['windspeed'].quantile(0.90))\n",
    "print(\"At 95%, Windspeed is\",df['windspeed'].quantile(0.95))\n",
    "print(\"At 100%, Windspeed is\",df['windspeed'].quantile(1.00))"
   ]
  },
  {
   "cell_type": "code",
   "execution_count": null,
   "id": "4978ff23",
   "metadata": {},
   "outputs": [],
   "source": [
    "df['hum'].describe()"
   ]
  },
  {
   "cell_type": "code",
   "execution_count": null,
   "id": "679211f1",
   "metadata": {},
   "outputs": [],
   "source": [
    "print(\"At 0%, Humidity is\",df['hum'].quantile(0.00))\n",
    "print(\"At 1%, Humidity is\",df['hum'].quantile(0.01))\n",
    "print(\"At 0%, Humidity is\",df['hum'].quantile(0.00))\n",
    "print(\"At 1%, Humidity is\",df['hum'].quantile(0.01))"
   ]
  },
  {
   "cell_type": "code",
   "execution_count": null,
   "id": "a275163a",
   "metadata": {},
   "outputs": [],
   "source": [
    "# Identify outliers using the IQR method\n",
    "\n",
    "Q1 = df[\"hum\"].quantile(0.25)\n",
    "Q3 = df[\"hum\"].quantile(0.75)\n",
    "IQR = Q3-Q1\n",
    "print(f\"IQR Value:{IQR}\")\n",
    "\n",
    "lower_bound = Q1 - 1.5 * IQR\n",
    "upper_bound = Q3 + 1.5 * IQR\n",
    "\n",
    "print(f\"Lower Bound:{lower_bound}\")\n",
    "print(f\"Upper Bound:{upper_bound}\")\n",
    "\n",
    "#Calculate the median \n",
    "median_value = df[\"hum\"].median()\n",
    "print(f\"Median Value:{median_value}\")\n",
    "\n",
    "#Replace outliers with the median\n",
    "df[\"hum\"] = np.where((df[\"hum\"] < lower_bound) | (df[\"hum\"] > upper_bound),median_value,df[\"hum\"])\n",
    "\n",
    "print(\"Data after Replacing Outliers with Median:\\n\",df)"
   ]
  },
  {
   "cell_type": "code",
   "execution_count": null,
   "id": "8cc13708",
   "metadata": {},
   "outputs": [],
   "source": [
    "plt.figure(figsize=(15,30))\n",
    "for i in range(len(a.columns)):\n",
    "    plt.subplot(8,3,i+1)\n",
    "    sns.boxplot(y=a.columns[i],data=df)\n",
    "plt.show()"
   ]
  },
  {
   "cell_type": "code",
   "execution_count": null,
   "id": "3c12a2a5",
   "metadata": {},
   "outputs": [],
   "source": [
    "# Identify outliers using the IQR method\n",
    "\n",
    "Q1 = df[\"windspeed\"].quantile(0.25)\n",
    "Q3 = df[\"windspeed\"].quantile(0.75)\n",
    "IQR = Q3-Q1\n",
    "print(f\"IQR Value:{IQR}\")\n",
    "\n",
    "lower_bound = Q1 - 1.5 * IQR\n",
    "upper_bound = Q3 + 1.5 * IQR\n",
    "\n",
    "print(f\"Lower Bound:{lower_bound}\")\n",
    "print(f\"Upper Bound:{upper_bound}\")\n",
    "\n",
    "#Calculate the median \n",
    "median_value = df[\"windspeed\"].median()\n",
    "print(f\"Median Value:{median_value}\")\n",
    "\n",
    "#Replace outliers with the median\n",
    "df[\"windspeed\"] = np.where((df[\"windspeed\"] < lower_bound) | (df[\"windspeed\"] > upper_bound),median_value,df[\"windspeed\"])\n",
    "\n",
    "print(\"Data after Replacing Outliers with Median:\\n\",df)"
   ]
  },
  {
   "cell_type": "code",
   "execution_count": null,
   "id": "e1316a91",
   "metadata": {},
   "outputs": [],
   "source": [
    "plt.figure(figsize=(15,30))\n",
    "for i in range(len(a.columns)):\n",
    "    plt.subplot(8,3,i+1)\n",
    "    sns.boxplot(y=a.columns[i],data=df)\n",
    "plt.show()"
   ]
  },
  {
   "cell_type": "code",
   "execution_count": null,
   "id": "ac4a336f",
   "metadata": {},
   "outputs": [],
   "source": [
    "df['day'] = df['dteday'].dt.day\n",
    "df.head()"
   ]
  },
  {
   "cell_type": "code",
   "execution_count": null,
   "id": "4281bf43",
   "metadata": {},
   "outputs": [],
   "source": [
    "df = df.drop(\"dteday\",axis=1)\n",
    "df"
   ]
  },
  {
   "cell_type": "code",
   "execution_count": null,
   "id": "c0723439",
   "metadata": {},
   "outputs": [],
   "source": [
    "df['day'] = pd.cut(x=df['day'],bins=[0,10,20,31])\n",
    "print(df['day'])"
   ]
  },
  {
   "cell_type": "code",
   "execution_count": null,
   "id": "c291e4ca",
   "metadata": {},
   "outputs": [],
   "source": [
    "df.head()"
   ]
  },
  {
   "cell_type": "code",
   "execution_count": null,
   "id": "b8c9e752",
   "metadata": {},
   "outputs": [],
   "source": [
    "#df['day'] = pd.cut(x=df['day'],bins=[0,10,20,31],labels=[\"Beg\",\"Mid\",\"End\"])"
   ]
  },
  {
   "cell_type": "code",
   "execution_count": null,
   "id": "9ac01786",
   "metadata": {},
   "outputs": [],
   "source": [
    "df[\"day\"] = df['day'].cat.codes\n",
    "print(df['day'])"
   ]
  },
  {
   "cell_type": "code",
   "execution_count": null,
   "id": "933ad7cb",
   "metadata": {},
   "outputs": [],
   "source": [
    "df['day'] = df['day'].map({0 : \"Beginning of Month\", 1 : \"Mid Month\", 2 : \"End of Month\"}) #df.map()\n",
    "print(df['day'])"
   ]
  },
  {
   "cell_type": "code",
   "execution_count": null,
   "id": "eefb3b37",
   "metadata": {},
   "outputs": [],
   "source": [
    "df.head()"
   ]
  },
  {
   "cell_type": "code",
   "execution_count": null,
   "id": "a107ad87",
   "metadata": {},
   "outputs": [],
   "source": [
    "# Distribution plot for the target variable 'cnt'\n",
    "\n",
    "sns.distplot(df['cnt'])# dist,kde\n",
    "plt.show()"
   ]
  },
  {
   "cell_type": "code",
   "execution_count": null,
   "id": "44ad4c82",
   "metadata": {},
   "outputs": [],
   "source": [
    "# Pairplots are used to learn the relationship between numerical variables of BikeSharing_df\n",
    "\n",
    "sns.pairplot(df)\n",
    "plt.show()"
   ]
  },
  {
   "cell_type": "code",
   "execution_count": null,
   "id": "4f0e6933",
   "metadata": {},
   "outputs": [],
   "source": [
    "# Boxplots are used here to learn the relationship of categorical variables with the target variable 'cnt'\n",
    "\n",
    "plt.figure(figsize = (25,12))\n",
    "plt.subplot(2,3,1)\n",
    "sns.boxplot(x = 'season', y = 'cnt', data = df)\n",
    "plt.subplot(2,3,2)\n",
    "sns.boxplot(x = 'weathersit', y = 'cnt', data = df)\n",
    "plt.subplot(2,3,3)\n",
    "sns.boxplot(x = 'day', y = 'cnt', data = df)\n",
    "plt.subplot(2,3,4)\n",
    "plt.xticks(rotation = 90)\n",
    "sns.boxplot(x = 'mnth', y = 'cnt', data = df)\n",
    "plt.subplot(2,3,5)\n",
    "sns.boxplot(x = 'weekday', y = 'cnt', data = df)\n",
    "plt.show()"
   ]
  },
  {
   "cell_type": "code",
   "execution_count": null,
   "id": "4e4ac25f",
   "metadata": {},
   "outputs": [],
   "source": [
    "#Scatter plot for 'temp' vs 'cnt'\n",
    "fig = plt.figure()\n",
    "plt.scatter(df['temp'],df['cnt'])\n",
    "fig.suptitle('temp vs cnt', fontsize = 18)             \n",
    "plt.xlabel('temp', fontsize = 16)                          \n",
    "plt.ylabel('cnt', fontsize = 16)   \n",
    "plt.show()"
   ]
  },
  {
   "cell_type": "code",
   "execution_count": null,
   "id": "746f3554",
   "metadata": {},
   "outputs": [],
   "source": [
    "df.dtypes"
   ]
  },
  {
   "cell_type": "code",
   "execution_count": null,
   "id": "a6d5b957",
   "metadata": {},
   "outputs": [],
   "source": [
    "a = df.select_dtypes(include=['float64','int64']).columns"
   ]
  },
  {
   "cell_type": "code",
   "execution_count": null,
   "id": "7cb0c321",
   "metadata": {},
   "outputs": [],
   "source": [
    "print(\"Numeric Columns:\",a)\n",
    "#Create a new Dataframe with only numeric columns\n",
    "s = df[a]\n",
    "s"
   ]
  },
  {
   "cell_type": "code",
   "execution_count": null,
   "id": "8fbe12b7",
   "metadata": {},
   "outputs": [],
   "source": [
    "s.corr()"
   ]
  },
  {
   "cell_type": "code",
   "execution_count": null,
   "id": "0c41d67e",
   "metadata": {},
   "outputs": [],
   "source": [
    "plt.figure(figsize = (16,10))\n",
    "sns.heatmap(s.corr(),annot=True,fmt='.2f')\n",
    "plt.show()"
   ]
  },
  {
   "cell_type": "code",
   "execution_count": null,
   "id": "1546a7c9",
   "metadata": {},
   "outputs": [],
   "source": [
    "## The target value 'cnt' is positively correleated with 'yr','workingday','temp'.''"
   ]
  },
  {
   "cell_type": "code",
   "execution_count": null,
   "id": "d2e1bfee",
   "metadata": {},
   "outputs": [],
   "source": [
    "df.boxplot(by=['weathersit','season'],column='cnt',figsize=(10,5),grid=False)\n",
    "plt.xticks(rotation=90)\n",
    "plt.title(\"Demand for Shared bikes based on weather and season\")\n",
    "plt.ylabel(\"Demand for shared bikes\")\n",
    "plt.show()"
   ]
  },
  {
   "cell_type": "code",
   "execution_count": null,
   "id": "36f00153",
   "metadata": {},
   "outputs": [],
   "source": [
    "plt.figure(figsize=(12,5))\n",
    "sns.barplot(x='season',y='cnt',hue='day',data = df)\n",
    "plt.show()"
   ]
  },
  {
   "cell_type": "code",
   "execution_count": null,
   "id": "cf2c5f2e",
   "metadata": {},
   "outputs": [],
   "source": []
  },
  {
   "cell_type": "code",
   "execution_count": null,
   "id": "807edc63",
   "metadata": {},
   "outputs": [],
   "source": []
  },
  {
   "cell_type": "code",
   "execution_count": null,
   "id": "f74108cc",
   "metadata": {},
   "outputs": [],
   "source": []
  },
  {
   "cell_type": "code",
   "execution_count": null,
   "id": "e1b60098",
   "metadata": {},
   "outputs": [],
   "source": []
  },
  {
   "cell_type": "code",
   "execution_count": null,
   "id": "12c6788b",
   "metadata": {},
   "outputs": [],
   "source": []
  }
 ],
 "metadata": {
  "kernelspec": {
   "display_name": "Python 3 (ipykernel)",
   "language": "python",
   "name": "python3"
  },
  "language_info": {
   "codemirror_mode": {
    "name": "ipython",
    "version": 3
   },
   "file_extension": ".py",
   "mimetype": "text/x-python",
   "name": "python",
   "nbconvert_exporter": "python",
   "pygments_lexer": "ipython3",
   "version": "3.11.3"
  }
 },
 "nbformat": 4,
 "nbformat_minor": 5
}
