{
 "cells": [
  {
   "cell_type": "markdown",
   "id": "2d1a0020",
   "metadata": {},
   "source": [
    "## FUNCTIONS"
   ]
  },
  {
   "cell_type": "markdown",
   "id": "cb6ef05e",
   "metadata": {},
   "source": [
    "#### - A function is a block of organized code written to carry out a specified task.\n",
    "#### - Functions help break our program into smaller and modular chunks for better readability.\n",
    "#### - Information can be passed into a function as arguments.\n",
    "#### - Parameters are specified after the function name inside the parenthesis.\n",
    "#### - We can add as many parameters as we want. Parameters must be separated with a comma.\n",
    "#### - A function may or may not return data.\n",
    "#### - In python function is defined using the def keyword."
   ]
  },
  {
   "cell_type": "markdown",
   "id": "6ffa61ce",
   "metadata": {},
   "source": [
    "## Paramter VS Argument"
   ]
  },
  {
   "cell_type": "markdown",
   "id": "887b27ad",
   "metadata": {},
   "source": [
    "#### - A parameter is the variable listed inside the parenthesis in the function definition.\n",
    "#### - An argument is the value that is sent to the function when it is called."
   ]
  },
  {
   "cell_type": "markdown",
   "id": "dee3ca9a",
   "metadata": {},
   "source": [
    "## Types of function"
   ]
  },
  {
   "cell_type": "markdown",
   "id": "fe307186",
   "metadata": {},
   "source": [
    "## - Built-in-function:\n",
    "   #### Python predefined functions that are readily available for use like min(),max(),sum(),print() etc,...\n",
    "## - User-defined-function:\n",
    "   #### Function that we define ourselves to perform a specific task.\n",
    "## - Anonymous functions:\n",
    "   #### Function that is defined without a name.\n",
    "   #### Anonymous function are also called as lambda function.\n",
    "   #### They are not declared with the def keyword."
   ]
  },
  {
   "cell_type": "code",
   "execution_count": 2,
   "id": "5e68ca2d",
   "metadata": {},
   "outputs": [
    {
     "name": "stdout",
     "output_type": "stream",
     "text": [
      "Hello Python Lovers\n"
     ]
    }
   ],
   "source": [
    "def myfun():\n",
    "    print(\"Hello Python Lovers\")\n",
    "myfun()"
   ]
  },
  {
   "cell_type": "code",
   "execution_count": 3,
   "id": "1171154b",
   "metadata": {},
   "outputs": [
    {
     "name": "stdout",
     "output_type": "stream",
     "text": [
      "Name: Hema\n",
      "UserId is: 111\n",
      "Country is: India\n"
     ]
    }
   ],
   "source": [
    "def details(name,userid,country):\n",
    "    print('Name:',name)\n",
    "    print('UserId is:',userid)\n",
    "    print('Country is:',country)\n",
    "    \n",
    "details(\"Hema\",111,\"India\")"
   ]
  },
  {
   "cell_type": "code",
   "execution_count": 10,
   "id": "f216b0f4",
   "metadata": {},
   "outputs": [
    {
     "name": "stdout",
     "output_type": "stream",
     "text": [
      "5\n"
     ]
    }
   ],
   "source": [
    "def addition(a,b):\n",
    "    c=a+b\n",
    "    print(c)\n",
    "addition(2,3)\n"
   ]
  },
  {
   "cell_type": "code",
   "execution_count": 11,
   "id": "794d5632",
   "metadata": {},
   "outputs": [
    {
     "name": "stdout",
     "output_type": "stream",
     "text": [
      "99\n"
     ]
    }
   ],
   "source": [
    "def myfun():\n",
    "    var1=99\n",
    "    print(var1)\n",
    "    \n",
    "myfun()"
   ]
  },
  {
   "cell_type": "code",
   "execution_count": 2,
   "id": "ee3cf1f6",
   "metadata": {},
   "outputs": [
    {
     "name": "stdout",
     "output_type": "stream",
     "text": [
      "4\n"
     ]
    }
   ],
   "source": [
    "def sq(num):\n",
    "    z=num*num\n",
    "    print(z)\n",
    "sq(2)"
   ]
  },
  {
   "cell_type": "code",
   "execution_count": 3,
   "id": "e40ae5d0",
   "metadata": {},
   "outputs": [
    {
     "name": "stdout",
     "output_type": "stream",
     "text": [
      "16\n"
     ]
    }
   ],
   "source": [
    "s1 = sq(4)"
   ]
  },
  {
   "cell_type": "code",
   "execution_count": 5,
   "id": "6fe37a0f",
   "metadata": {},
   "outputs": [
    {
     "name": "stdout",
     "output_type": "stream",
     "text": [
      "None\n"
     ]
    }
   ],
   "source": [
    "print(s1)"
   ]
  },
  {
   "cell_type": "code",
   "execution_count": 15,
   "id": "5483d66c",
   "metadata": {},
   "outputs": [
    {
     "data": {
      "text/plain": [
       "9"
      ]
     },
     "execution_count": 15,
     "metadata": {},
     "output_type": "execute_result"
    }
   ],
   "source": [
    "def sq(num):\n",
    "    z=num*num\n",
    "    return(z)\n",
    "sq(3)"
   ]
  },
  {
   "cell_type": "code",
   "execution_count": 19,
   "id": "a0dcc02d",
   "metadata": {},
   "outputs": [
    {
     "name": "stdout",
     "output_type": "stream",
     "text": [
      "25\n"
     ]
    }
   ],
   "source": [
    "s2=sq(5)\n",
    "print(s2)"
   ]
  },
  {
   "cell_type": "code",
   "execution_count": 20,
   "id": "03b8189e",
   "metadata": {},
   "outputs": [
    {
     "name": "stdout",
     "output_type": "stream",
     "text": [
      "25\n",
      "36\n",
      "49\n"
     ]
    }
   ],
   "source": [
    "def square(n):\n",
    "    k=n*n\n",
    "    print(k)\n",
    "\n",
    "square(5)\n",
    "square(6)\n",
    "square(7)"
   ]
  },
  {
   "cell_type": "code",
   "execution_count": 21,
   "id": "f0776457",
   "metadata": {},
   "outputs": [
    {
     "name": "stdout",
     "output_type": "stream",
     "text": [
      "The number 3 is odd\n",
      "The number 4 is even\n"
     ]
    }
   ],
   "source": [
    "def evenodd(num):\n",
    "    if num%2==0:\n",
    "        print('The number',num,'is even')\n",
    "    else:\n",
    "        print('The number',num,'is odd')\n",
    "evenodd(3)\n",
    "evenodd(4)"
   ]
  },
  {
   "cell_type": "code",
   "execution_count": 30,
   "id": "229ca4e1",
   "metadata": {},
   "outputs": [
    {
     "name": "stdout",
     "output_type": "stream",
     "text": [
      "Hemalatha  S\n"
     ]
    }
   ],
   "source": [
    "def fullname(firstname,middlename,lastname):\n",
    "    fullname = \"{} {} {}\".format(firstname,middlename,lastname)\n",
    "    print(fullname)\n",
    "    \n",
    "fullname(lastname='S',middlename='',firstname='Hemalatha')"
   ]
  },
  {
   "cell_type": "code",
   "execution_count": 34,
   "id": "8d6097d0",
   "metadata": {},
   "outputs": [
    {
     "name": "stdout",
     "output_type": "stream",
     "text": [
      "Mr Rabindranath Tagore\n"
     ]
    }
   ],
   "source": [
    "# Default parameters\n",
    "\n",
    "# You should specify the default parameter only after the non-default parameters\n",
    "\n",
    "def fullname(middlename,firstname='Mr',lastname='Tagore'):\n",
    "    fullname = f\"{firstname} {middlename} {lastname}\"\n",
    "    print(fullname)\n",
    "    \n",
    "fullname('Rabindranath')\n",
    "\n",
    "# When a function is called without enough arguments, it will use the default values defined in the function."
   ]
  },
  {
   "cell_type": "code",
   "execution_count": 35,
   "id": "333f34c5",
   "metadata": {},
   "outputs": [
    {
     "ename": "SyntaxError",
     "evalue": "non-default argument follows default argument (1880636940.py, line 1)",
     "output_type": "error",
     "traceback": [
      "\u001b[1;36m  Cell \u001b[1;32mIn[35], line 1\u001b[1;36m\u001b[0m\n\u001b[1;33m    def fullname(middlename='Rabindranath',firstname,lastname='Tagore'):\u001b[0m\n\u001b[1;37m                                           ^\u001b[0m\n\u001b[1;31mSyntaxError\u001b[0m\u001b[1;31m:\u001b[0m non-default argument follows default argument\n"
     ]
    }
   ],
   "source": [
    "def fullname(middlename='Rabindranath',firstname,lastname='Tagore'):\n",
    "    fullname = f\"{firstname} {middlename} {lastname}\"\n",
    "    print(fullname)\n",
    "    \n",
    "fullname('Mr')"
   ]
  },
  {
   "cell_type": "code",
   "execution_count": 36,
   "id": "b46a6462",
   "metadata": {},
   "outputs": [
    {
     "name": "stdout",
     "output_type": "stream",
     "text": [
      "Mr Rabindranath Tagore\n"
     ]
    }
   ],
   "source": [
    "def fullname(middlename,firstname,lastname='Tagore'):\n",
    "    fullname = f\"{firstname} {middlename} {lastname}\"\n",
    "    print(fullname)\n",
    "    \n",
    "fullname('Rabindranath','Mr')"
   ]
  },
  {
   "cell_type": "code",
   "execution_count": 37,
   "id": "92d4b582",
   "metadata": {},
   "outputs": [
    {
     "name": "stdout",
     "output_type": "stream",
     "text": [
      "Rabindranath Mr Tagore\n"
     ]
    }
   ],
   "source": [
    "def fullname(middlename,firstname,lastname='Tagore'):\n",
    "    fullname = f\"{firstname} {middlename} {lastname}\"\n",
    "    print(fullname)\n",
    "    \n",
    "fullname('Mr','Rabindranath')"
   ]
  },
  {
   "cell_type": "code",
   "execution_count": 2,
   "id": "5322e907",
   "metadata": {},
   "outputs": [
    {
     "name": "stdout",
     "output_type": "stream",
     "text": [
      "Hello Guys!\n"
     ]
    }
   ],
   "source": [
    "def printHello(str_val = \"Folks!\"):\n",
    "    print(\"Hello \" + str_val)\n",
    "    \n",
    "printHello(\"Guys!\")\n",
    "\n",
    "# When you give arguments, it will only be processed rather than the default parameter."
   ]
  },
  {
   "cell_type": "code",
   "execution_count": 3,
   "id": "febb504f",
   "metadata": {},
   "outputs": [
    {
     "name": "stdout",
     "output_type": "stream",
     "text": [
      "Most popular city is: Mumbai\n"
     ]
    }
   ],
   "source": [
    "def myfun(city = \"Mumbai\"):\n",
    "    print(\"Most popular city is: \" + city)\n",
    "    \n",
    "myfun()\n",
    "\n",
    "# When a function is called without an argument it will use default value"
   ]
  },
  {
   "cell_type": "code",
   "execution_count": 4,
   "id": "ebb97c78",
   "metadata": {},
   "outputs": [
    {
     "name": "stdout",
     "output_type": "stream",
     "text": [
      "100\n"
     ]
    }
   ],
   "source": [
    "var1 = 100     # Variable with global scope\n",
    "def myfun():\n",
    "    print(var1)\n",
    "    \n",
    "myfun()"
   ]
  },
  {
   "cell_type": "code",
   "execution_count": 7,
   "id": "ee56a260",
   "metadata": {},
   "outputs": [
    {
     "name": "stdout",
     "output_type": "stream",
     "text": [
      "11\n"
     ]
    }
   ],
   "source": [
    "def myfun():\n",
    "    var2=11\n",
    "    print(var2)  # Variable with local scope\n",
    "    \n",
    "myfun()\n"
   ]
  },
  {
   "cell_type": "code",
   "execution_count": 22,
   "id": "5f37e97e",
   "metadata": {},
   "outputs": [
    {
     "ename": "NameError",
     "evalue": "name 'var2' is not defined",
     "output_type": "error",
     "traceback": [
      "\u001b[1;31m---------------------------------------------------------------------------\u001b[0m",
      "\u001b[1;31mNameError\u001b[0m                                 Traceback (most recent call last)",
      "Cell \u001b[1;32mIn[22], line 4\u001b[0m\n\u001b[0;32m      1\u001b[0m \u001b[38;5;28;01mdef\u001b[39;00m \u001b[38;5;21mmyfun\u001b[39m():\n\u001b[0;32m      2\u001b[0m     \u001b[38;5;28mprint\u001b[39m(var2)\n\u001b[1;32m----> 4\u001b[0m myfun()\n",
      "Cell \u001b[1;32mIn[22], line 2\u001b[0m, in \u001b[0;36mmyfun\u001b[1;34m()\u001b[0m\n\u001b[0;32m      1\u001b[0m \u001b[38;5;28;01mdef\u001b[39;00m \u001b[38;5;21mmyfun\u001b[39m():\n\u001b[1;32m----> 2\u001b[0m     \u001b[38;5;28mprint\u001b[39m(var2)\n",
      "\u001b[1;31mNameError\u001b[0m: name 'var2' is not defined"
     ]
    }
   ],
   "source": [
    "def myfun():\n",
    "    print(var2)   # var2 is a local variable it doesnt print the value\n",
    "    \n",
    "myfun()\n",
    "\n",
    "# This will throw error because var2 has a local scope"
   ]
  },
  {
   "cell_type": "code",
   "execution_count": 23,
   "id": "7272e9c0",
   "metadata": {},
   "outputs": [
    {
     "name": "stdout",
     "output_type": "stream",
     "text": [
      "100\n"
     ]
    }
   ],
   "source": [
    "def myfun():\n",
    "    print(var1)    # var1 is a global variable so it will print the output value\n",
    "     \n",
    "myfun()"
   ]
  },
  {
   "cell_type": "code",
   "execution_count": 19,
   "id": "088aead7",
   "metadata": {},
   "outputs": [
    {
     "name": "stdout",
     "output_type": "stream",
     "text": [
      "55\n"
     ]
    }
   ],
   "source": [
    "def myfun(var3):\n",
    "    print(var3)\n",
    "    \n",
    "myfun(55)"
   ]
  },
  {
   "cell_type": "code",
   "execution_count": 30,
   "id": "63a4d133",
   "metadata": {},
   "outputs": [
    {
     "name": "stdout",
     "output_type": "stream",
     "text": [
      "<function myfun at 0x0000025FDA8FB2E0>\n",
      "<class 'function'>\n"
     ]
    }
   ],
   "source": [
    "def myfun(var3):\n",
    "    print(myfun)\n",
    "    \n",
    "myfun(55)\n",
    "print(type(myfun))\n",
    "\n",
    "## <function myfun at 0x0000025FDA8FB2E0>  It represent memory allocation (storage)."
   ]
  },
  {
   "cell_type": "code",
   "execution_count": 10,
   "id": "7787e487",
   "metadata": {},
   "outputs": [
    {
     "name": "stdout",
     "output_type": "stream",
     "text": [
      "100\n",
      "100\n"
     ]
    }
   ],
   "source": [
    "# Difference between global and local\n",
    "# Assign the value before def fn, you will type the print statement it will be print the value.\n",
    "# Assign the value after def fn, you will type the print statement it will not be print the value.\n",
    "\n",
    "var1 = 100     # Variable with global scope\n",
    "def myfun():\n",
    "    print(var1)\n",
    "    \n",
    "myfun()\n",
    "print(var1)"
   ]
  },
  {
   "cell_type": "code",
   "execution_count": 11,
   "id": "4afbd493",
   "metadata": {},
   "outputs": [
    {
     "name": "stdout",
     "output_type": "stream",
     "text": [
      "11\n"
     ]
    },
    {
     "ename": "NameError",
     "evalue": "name 'var2' is not defined",
     "output_type": "error",
     "traceback": [
      "\u001b[1;31m---------------------------------------------------------------------------\u001b[0m",
      "\u001b[1;31mNameError\u001b[0m                                 Traceback (most recent call last)",
      "Cell \u001b[1;32mIn[11], line 6\u001b[0m\n\u001b[0;32m      3\u001b[0m     \u001b[38;5;28mprint\u001b[39m(var2)  \u001b[38;5;66;03m# Variable with local scope\u001b[39;00m\n\u001b[0;32m      5\u001b[0m myfun()\n\u001b[1;32m----> 6\u001b[0m \u001b[38;5;28mprint\u001b[39m(var2)\n",
      "\u001b[1;31mNameError\u001b[0m: name 'var2' is not defined"
     ]
    }
   ],
   "source": [
    "def myfun():\n",
    "    var2=11\n",
    "    print(var2)  # Variable with local scope\n",
    "    \n",
    "myfun()\n",
    "print(var2)"
   ]
  },
  {
   "cell_type": "code",
   "execution_count": 28,
   "id": "fe981648",
   "metadata": {},
   "outputs": [
    {
     "name": "stdout",
     "output_type": "stream",
     "text": [
      "99\n",
      "100\n"
     ]
    }
   ],
   "source": [
    "var1 = 100    # Variable with global scope\n",
    "def myfun():\n",
    "    var1 = 99 # Variable with local scope\n",
    "    print(var1)\n",
    "myfun()\n",
    "print(var1)   # The original value of var1 (100) wil be retained due to global scope"
   ]
  },
  {
   "cell_type": "code",
   "execution_count": 11,
   "id": "e1a2e27b",
   "metadata": {},
   "outputs": [
    {
     "name": "stdout",
     "output_type": "stream",
     "text": [
      "[11, 22, 33, 44, 55]\n",
      "l1,Before calling the fun:  [22, 33, 44, 55]\n",
      "l1,After calling the fun:  [22, 33, 44, 55]\n"
     ]
    }
   ],
   "source": [
    "# Pass by reference\n",
    "\n",
    "l1=[11,22,33,44,55]\n",
    "def myfun():\n",
    "    print(l1)\n",
    "    del l1[0]\n",
    "    print(\"l1,Before calling the fun: \",l1)\n",
    "    \n",
    "myfun()\n",
    "print(\"l1,After calling the fun: \",l1)"
   ]
  },
  {
   "cell_type": "code",
   "execution_count": 58,
   "id": "ee91b550",
   "metadata": {},
   "outputs": [
    {
     "name": "stdout",
     "output_type": "stream",
     "text": [
      "l2,Before fun:  [11, 22, 44, 55]\n"
     ]
    },
    {
     "ename": "NameError",
     "evalue": "name 'l2' is not defined",
     "output_type": "error",
     "traceback": [
      "\u001b[1;31m---------------------------------------------------------------------------\u001b[0m",
      "\u001b[1;31mNameError\u001b[0m                                 Traceback (most recent call last)",
      "Cell \u001b[1;32mIn[58], line 7\u001b[0m\n\u001b[0;32m      4\u001b[0m     \u001b[38;5;28mprint\u001b[39m(\u001b[38;5;124m\"\u001b[39m\u001b[38;5;124ml2,Before fun: \u001b[39m\u001b[38;5;124m\"\u001b[39m,l2)\n\u001b[0;32m      6\u001b[0m myfun()\n\u001b[1;32m----> 7\u001b[0m \u001b[38;5;28mprint\u001b[39m(\u001b[38;5;124m\"\u001b[39m\u001b[38;5;124ml2,After fun: \u001b[39m\u001b[38;5;124m\"\u001b[39m,l2)\n",
      "\u001b[1;31mNameError\u001b[0m: name 'l2' is not defined"
     ]
    }
   ],
   "source": [
    "def myfun():\n",
    "    l2=[11,22,33,44,55]\n",
    "    del l2[2]\n",
    "    print(\"l2,Before fun: \",l2)\n",
    "    \n",
    "myfun()\n",
    "print(\"l2,After fun: \",l2)"
   ]
  },
  {
   "cell_type": "code",
   "execution_count": 16,
   "id": "017e650f",
   "metadata": {},
   "outputs": [
    {
     "name": "stdout",
     "output_type": "stream",
     "text": [
      "l1,Before calling the fun:  [11, 22, 33, 44, 55]\n",
      "l1,After calling the fun:  [11, 22, 33, 44, 55, 66]\n",
      "\n"
     ]
    }
   ],
   "source": [
    "l1=[11,22,33,44,55]\n",
    "\n",
    "def myfun():\n",
    "    l1.append(66)\n",
    "print(\"l1,Before calling the fun: \",l1)\n",
    "myfun()\n",
    "print(\"l1,After calling the fun: \",l1)\n",
    "print()"
   ]
  },
  {
   "cell_type": "markdown",
   "id": "918a258a",
   "metadata": {},
   "source": [
    "## RECURSIVE FUNCTION"
   ]
  },
  {
   "cell_type": "markdown",
   "id": "0f979e41",
   "metadata": {},
   "source": [
    "#### A recursive function is one that calls itself eithe directly or indirectly through another function.\n",
    "#### The basic structure of a recursive function includes a base case that stops the recursion and a recursive step that calls the function itself with modified parameters.\n",
    "\n",
    "#### Here are the key elements of recursive function:\n",
    "\n",
    "## Base Case:\n",
    "#### - This is the condition under which the function stops calling itself. Without a base case, recursion will continue indefinetely,eventually leading to a stack overflow error.\n",
    "\n",
    "## Recursive Case:\n",
    "#### - This is where the function calls itself with a new set of parameters that moves towards the base case."
   ]
  },
  {
   "cell_type": "code",
   "execution_count": 62,
   "id": "614421e7",
   "metadata": {},
   "outputs": [
    {
     "data": {
      "text/plain": [
       "120"
      ]
     },
     "execution_count": 62,
     "metadata": {},
     "output_type": "execute_result"
    }
   ],
   "source": [
    "def factorial(num):\n",
    "# Calculate factorial of a number using recursive function.\n",
    "    if num<=1:\n",
    "        return 1\n",
    "    else:\n",
    "        return num*factorial(num-1)\n",
    "factorial(5)"
   ]
  },
  {
   "cell_type": "code",
   "execution_count": 65,
   "id": "4ed454e0",
   "metadata": {},
   "outputs": [
    {
     "data": {
      "text/plain": [
       "36"
      ]
     },
     "execution_count": 65,
     "metadata": {},
     "output_type": "execute_result"
    }
   ],
   "source": [
    "def add(num):\n",
    "# Sum of first n natural numbers\n",
    "    if num==0:\n",
    "        return 0\n",
    "    else:\n",
    "        return num+add(num-1)\n",
    "    \n",
    "add(8)\n",
    "# Sum of first 8 natural numbers (1,2,3,4,5,6,7,8)  (8+7+6+5+4+3+2+1=36)"
   ]
  },
  {
   "cell_type": "markdown",
   "id": "04e78100",
   "metadata": {},
   "source": [
    "## args & kwargs"
   ]
  },
  {
   "cell_type": "markdown",
   "id": "d3ad995b",
   "metadata": {},
   "source": [
    "\n",
    "\n",
    "## args\n",
    "\n",
    "#### - When we are not sure about the number of arguments being passed to a function then we can use *args as function parameter.\n",
    "#### - *args allow us to pass the variable number of Non keyword Arguments to function.\n",
    "#### - We can simply use an astrick * before the parameter name to pass variable length arguments.\n",
    "#### - The arguments are always passed as a tuple.\n",
    "#### - We can rename it to anything as long as it is preceded by a single astrick (*).\n",
    "#### - It's best practice to keep naming it args to make it immediately recognizable.\n",
    "\n",
    "## kwargs\n",
    "\n",
    "#### - **kwargs allows us to pass the variable number of Keyword Arguments to the function.\n",
    "#### - We can simply use an double astrick ** before the parameter name to pass variable length arguments.\n",
    "#### - The arguments are passed as a dictionary.\n",
    "#### - We can rename it to anything as long as it is preceded by a double astrick (**).\n",
    "#### - It's best practice to keep naming it kwargs to make it immediately recognizable."
   ]
  },
  {
   "cell_type": "code",
   "execution_count": 8,
   "id": "48d96570",
   "metadata": {},
   "outputs": [
    {
     "name": "stdout",
     "output_type": "stream",
     "text": [
      "6\n",
      "10\n",
      "15\n",
      "21\n",
      "28\n"
     ]
    }
   ],
   "source": [
    "# *args\n",
    "\n",
    "def add1(*args):\n",
    "    #print(type(args))\n",
    "    return(sum(args))\n",
    "print(add1(1,2,3))\n",
    "print(add1(1,2,3,4))\n",
    "print(add1(1,2,3,4,5))\n",
    "print(add1(1,2,3,4,5,6))\n",
    "print(add1(1,2,3,4,5,6,7))"
   ]
  },
  {
   "cell_type": "code",
   "execution_count": 79,
   "id": "00232870",
   "metadata": {},
   "outputs": [
    {
     "name": "stdout",
     "output_type": "stream",
     "text": [
      "78.1\n",
      "78.1\n"
     ]
    }
   ],
   "source": [
    "# We can give one or multiple lists or tuples as arguments for *args,\n",
    "# Provided the datatype mismatch should be acceptable in the performing operations.\n",
    "\n",
    "def add1(*args):\n",
    "    #print(type(args))\n",
    "    return sum(args)\n",
    "l1 = [1,2,3,4,5,6,7,8,9,10]\n",
    "t1 = (1.1,2.2,3.3,4.4,5.5,6.6)\n",
    "\n",
    "print(add1(*l1,*t1))\n",
    "print(add1(*t1,*l1))"
   ]
  },
  {
   "cell_type": "code",
   "execution_count": 75,
   "id": "6f97ac63",
   "metadata": {},
   "outputs": [
    {
     "ename": "TypeError",
     "evalue": "unsupported operand type(s) for +: 'float' and 'str'",
     "output_type": "error",
     "traceback": [
      "\u001b[1;31m---------------------------------------------------------------------------\u001b[0m",
      "\u001b[1;31mTypeError\u001b[0m                                 Traceback (most recent call last)",
      "Cell \u001b[1;32mIn[75], line 8\u001b[0m\n\u001b[0;32m      4\u001b[0m t1 \u001b[38;5;241m=\u001b[39m (\u001b[38;5;241m1.1\u001b[39m,\u001b[38;5;241m2.2\u001b[39m,\u001b[38;5;241m3.3\u001b[39m,\u001b[38;5;241m4.4\u001b[39m,\u001b[38;5;241m5.5\u001b[39m,\u001b[38;5;241m6.6\u001b[39m)\n\u001b[0;32m      6\u001b[0m t2 \u001b[38;5;241m=\u001b[39m (\u001b[38;5;124m\"\u001b[39m\u001b[38;5;124mHi\u001b[39m\u001b[38;5;124m\"\u001b[39m,\u001b[38;5;124m\"\u001b[39m\u001b[38;5;124mGM\u001b[39m\u001b[38;5;124m\"\u001b[39m)\n\u001b[1;32m----> 8\u001b[0m \u001b[38;5;28mprint\u001b[39m(add1(\u001b[38;5;241m*\u001b[39ml1,\u001b[38;5;241m*\u001b[39mt1,\u001b[38;5;241m*\u001b[39mt2))\n\u001b[0;32m      9\u001b[0m \u001b[38;5;28mprint\u001b[39m(add1(\u001b[38;5;241m*\u001b[39mt1,\u001b[38;5;241m*\u001b[39ml1,\u001b[38;5;241m*\u001b[39mt2))\n",
      "Cell \u001b[1;32mIn[75], line 2\u001b[0m, in \u001b[0;36madd1\u001b[1;34m(*args)\u001b[0m\n\u001b[0;32m      1\u001b[0m \u001b[38;5;28;01mdef\u001b[39;00m \u001b[38;5;21madd1\u001b[39m(\u001b[38;5;241m*\u001b[39margs):\n\u001b[1;32m----> 2\u001b[0m     \u001b[38;5;28;01mreturn\u001b[39;00m \u001b[38;5;28msum\u001b[39m(args)\n",
      "\u001b[1;31mTypeError\u001b[0m: unsupported operand type(s) for +: 'float' and 'str'"
     ]
    }
   ],
   "source": [
    "def add1(*args):\n",
    "    return sum(args)\n",
    "l1 = [1,2,3,4,5,6,7,8,9,10]\n",
    "t1 = (1.1,2.2,3.3,4.4,5.5,6.6)\n",
    "\n",
    "t2 = (\"Hi\",\"GM\")  ## Cannot add a 'str' obj and 'int' obj\n",
    "\n",
    "print(add1(*l1,*t1,*t2))\n",
    "print(add1(*t1,*l1,*t2))"
   ]
  },
  {
   "cell_type": "code",
   "execution_count": 88,
   "id": "2db83282",
   "metadata": {},
   "outputs": [
    {
     "data": {
      "text/plain": [
       "135.1"
      ]
     },
     "execution_count": 88,
     "metadata": {},
     "output_type": "execute_result"
    }
   ],
   "source": [
    "# We can give multiple lists and tuples as input to *args but not dictionaries\n",
    "# Since list and tuple values here are of int and float type that can be added,\n",
    "# This doesnt throw an error and the addition is performed across lists and tuple\n",
    "\n",
    "l1 = [1,2,3,4,5,6,7]\n",
    "l2 = [1,2,3,4,5,6,7]\n",
    "l3 = [1,2,3,4,5,6,7]\n",
    "l4 = [1,2,3,4,5,6,7]\n",
    "t2 = (1.1,2.2,3.3)\n",
    "\n",
    "add1(*l1,*l2,*l3,*l4,*t1)"
   ]
  },
  {
   "cell_type": "code",
   "execution_count": 89,
   "id": "c71d5475",
   "metadata": {},
   "outputs": [
    {
     "name": "stdout",
     "output_type": "stream",
     "text": [
      "('ABS', 7236, 85.6, 'India', 'Tamil')\n"
     ]
    }
   ],
   "source": [
    "# using *args\n",
    "\n",
    "def Userdetails(*args):\n",
    "    print(args)\n",
    "    \n",
    "Userdetails('ABS',7236,85.6,\"India\",'Tamil')"
   ]
  },
  {
   "cell_type": "code",
   "execution_count": 3,
   "id": "c9966ce3",
   "metadata": {},
   "outputs": [
    {
     "name": "stdout",
     "output_type": "stream",
     "text": [
      "{'Name': 'ABS', 'ID': 1424, 'Pincode': 641032, 'Age': 48, 'Country': 'India'}\n"
     ]
    }
   ],
   "source": [
    "# using *kwargs\n",
    "\n",
    "def Userdetails(**kwargs):\n",
    "    print(kwargs)\n",
    "    \n",
    "Userdetails(Name='ABS',ID=1424,Pincode=641032,Age=48,Country='India')"
   ]
  },
  {
   "cell_type": "code",
   "execution_count": 5,
   "id": "5b843fda",
   "metadata": {},
   "outputs": [
    {
     "name": "stdout",
     "output_type": "stream",
     "text": [
      "Name : ABS\n",
      "ID : 1424\n",
      "Pincode : 641032\n",
      "Age : 48\n",
      "Country : India\n"
     ]
    }
   ],
   "source": [
    "# **kwargs\n",
    "\n",
    "def Userdetails(**kwargs):\n",
    "    for key,val in kwargs.items():\n",
    "        print(\"{} : {}\".format(key,val))\n",
    "        \n",
    "Userdetails(Name='ABS',ID=1424,Pincode=641032,Age=48,Country='India')"
   ]
  },
  {
   "cell_type": "code",
   "execution_count": 4,
   "id": "daccba3f",
   "metadata": {},
   "outputs": [
    {
     "name": "stdout",
     "output_type": "stream",
     "text": [
      "License No: BHFYF24\n",
      "Full Name:  ABC DEF GHI Madras Calicut\n",
      "Phone Number: 9568741569\n",
      "Name : ABS\n",
      "ID : 1424\n",
      "Pincode : 641032\n",
      "Age : 48\n",
      "Country : India\n"
     ]
    }
   ],
   "source": [
    "# Order in which we define the parameters --- (non-default-arguments,*args,default-arguments,**kwargs)\n",
    "\n",
    "def Userdetails(licenseNo,*args,phoneNo=0,**kwargs):\n",
    "    print('License No:',licenseNo)\n",
    "    j=' '\n",
    "    for i in args:\n",
    "        j = j+i\n",
    "    print('Full Name:',j)\n",
    "    print('Phone Number:',phoneNo)\n",
    "    for key,val in kwargs.items():\n",
    "        print(\"{} : {}\".format(key,val))\n",
    "        \n",
    "name = ['ABC',' ','DEF',' ','GHI']\n",
    "place = (' ','Madras',' ','Calicut')\n",
    "mydict = {'Name':'ABS','ID':1424,'Pincode':641032,'Age':48,'Country':'India'}\n",
    "\n",
    "Userdetails(\"BHFYF24\",*name,*place,phoneNo=9568741569,**mydict)"
   ]
  },
  {
   "cell_type": "code",
   "execution_count": 13,
   "id": "2a6ea915",
   "metadata": {},
   "outputs": [
    {
     "name": "stdout",
     "output_type": "stream",
     "text": [
      "License No: BHUI87G\n",
      "Full Name:  Mr Rabindranath Tagore \n",
      "Phone Number: 0\n",
      "Name : Rabindranath Tagore\n",
      "Pincode : 641032\n",
      "Age : 45\n",
      "Country : India\n",
      "ID : 142\n"
     ]
    }
   ],
   "source": [
    "# Multiple lists,tuples and dictionaries can be passed,\n",
    "# provided datatype mismatch should not hinder the operations performed within *args\n",
    "\n",
    "def Userdetails(licenseNo,*args,phoneNo=0,**kwargs):\n",
    "    print('License No:',licenseNo)\n",
    "    j=' '\n",
    "    for i in args:\n",
    "        j = j+i\n",
    "    print('Full Name:',j)\n",
    "    print('Phone Number:',phoneNo)\n",
    "    for key,val in kwargs.items():\n",
    "        print(\"{} : {}\".format(key,val))\n",
    "        \n",
    "firstname = ['Mr',' ']\n",
    "secondname = [\"Rabindranath\",\" \"]\n",
    "lastname = ['Tagore',' ']\n",
    "list1 = [1,2,3,4,5]\n",
    "tuple1 = (1.1,2.2,3.3,4.4)\n",
    "mydict = {'Name':'Rabindranath Tagore','Pincode':641032}\n",
    "mydict1 = {'Age':45,'Country':\"India\"}\n",
    "mydict2 = {\"ID\":142}\n",
    "\n",
    "Userdetails('BHUI87G',*firstname,*secondname,*lastname,**mydict,**mydict1,**mydict2)"
   ]
  },
  {
   "cell_type": "code",
   "execution_count": 14,
   "id": "008bc786",
   "metadata": {},
   "outputs": [
    {
     "name": "stdout",
     "output_type": "stream",
     "text": [
      "License No: BHUI87G\n"
     ]
    },
    {
     "ename": "TypeError",
     "evalue": "can only concatenate str (not \"int\") to str",
     "output_type": "error",
     "traceback": [
      "\u001b[1;31m---------------------------------------------------------------------------\u001b[0m",
      "\u001b[1;31mTypeError\u001b[0m                                 Traceback (most recent call last)",
      "Cell \u001b[1;32mIn[14], line 20\u001b[0m\n\u001b[0;32m     17\u001b[0m mydict1 \u001b[38;5;241m=\u001b[39m {\u001b[38;5;124m'\u001b[39m\u001b[38;5;124mAge\u001b[39m\u001b[38;5;124m'\u001b[39m:\u001b[38;5;241m45\u001b[39m,\u001b[38;5;124m'\u001b[39m\u001b[38;5;124mCountry\u001b[39m\u001b[38;5;124m'\u001b[39m:\u001b[38;5;124m\"\u001b[39m\u001b[38;5;124mIndia\u001b[39m\u001b[38;5;124m\"\u001b[39m}\n\u001b[0;32m     18\u001b[0m mydict2 \u001b[38;5;241m=\u001b[39m {\u001b[38;5;124m\"\u001b[39m\u001b[38;5;124mID\u001b[39m\u001b[38;5;124m\"\u001b[39m:\u001b[38;5;241m142\u001b[39m}\n\u001b[1;32m---> 20\u001b[0m Userdetails(\u001b[38;5;124m'\u001b[39m\u001b[38;5;124mBHUI87G\u001b[39m\u001b[38;5;124m'\u001b[39m,\u001b[38;5;241m*\u001b[39mfirstname,\u001b[38;5;241m*\u001b[39msecondname,\u001b[38;5;241m*\u001b[39mlastname,\u001b[38;5;241m*\u001b[39mlist1,\u001b[38;5;241m*\u001b[39m\u001b[38;5;241m*\u001b[39mmydict,\u001b[38;5;241m*\u001b[39m\u001b[38;5;241m*\u001b[39mmydict1,\u001b[38;5;241m*\u001b[39m\u001b[38;5;241m*\u001b[39mmydict2)\n",
      "Cell \u001b[1;32mIn[14], line 5\u001b[0m, in \u001b[0;36mUserdetails\u001b[1;34m(licenseNo, phoneNo, *args, **kwargs)\u001b[0m\n\u001b[0;32m      3\u001b[0m j\u001b[38;5;241m=\u001b[39m\u001b[38;5;124m'\u001b[39m\u001b[38;5;124m \u001b[39m\u001b[38;5;124m'\u001b[39m\n\u001b[0;32m      4\u001b[0m \u001b[38;5;28;01mfor\u001b[39;00m i \u001b[38;5;129;01min\u001b[39;00m args:\n\u001b[1;32m----> 5\u001b[0m     j \u001b[38;5;241m=\u001b[39m j\u001b[38;5;241m+\u001b[39mi\n\u001b[0;32m      6\u001b[0m \u001b[38;5;28mprint\u001b[39m(\u001b[38;5;124m'\u001b[39m\u001b[38;5;124mFull Name:\u001b[39m\u001b[38;5;124m'\u001b[39m,j)\n\u001b[0;32m      7\u001b[0m \u001b[38;5;28mprint\u001b[39m(\u001b[38;5;124m'\u001b[39m\u001b[38;5;124mPhone Number:\u001b[39m\u001b[38;5;124m'\u001b[39m,phoneNo)\n",
      "\u001b[1;31mTypeError\u001b[0m: can only concatenate str (not \"int\") to str"
     ]
    }
   ],
   "source": [
    "def Userdetails(licenseNo,*args,phoneNo=0,**kwargs):\n",
    "    print('License No:',licenseNo)\n",
    "    j=' '\n",
    "    for i in args:\n",
    "        j = j+i\n",
    "    print('Full Name:',j)\n",
    "    print('Phone Number:',phoneNo)\n",
    "    for key,val in kwargs.items():\n",
    "        print(\"{} : {}\".format(key,val))\n",
    "        \n",
    "firstname = ['Mr',' ']\n",
    "secondname = [\"Rabindranath\",\" \"]\n",
    "lastname = ['Tagore',' ']\n",
    "list1 = [1,2,3,4,5]\n",
    "tuple1 = (1.1,2.2,3.3,4.4)\n",
    "mydict = {'Name':'Rabindranath Tagore','Pincode':641032}\n",
    "mydict1 = {'Age':45,'Country':\"India\"}\n",
    "mydict2 = {\"ID\":142}\n",
    "\n",
    "Userdetails('BHUI87G',*firstname,*secondname,*lastname,*list1,**mydict,**mydict1,**mydict2)  # Does not concatenate str and num"
   ]
  },
  {
   "cell_type": "code",
   "execution_count": 19,
   "id": "d4dff0d6",
   "metadata": {},
   "outputs": [
    {
     "name": "stdout",
     "output_type": "stream",
     "text": [
      "License No: BHUI87G\n",
      "Mr\n",
      " \n",
      "Rabindranath\n",
      " \n",
      "Tagore\n",
      " \n",
      "1\n",
      "2\n",
      "3\n",
      "4\n",
      "5\n",
      "1.1\n",
      "2.2\n",
      "3.3\n",
      "4.4\n",
      "Phone Number: 0\n",
      "Name : Rabindranath Tagore\n",
      "Pincode : 641032\n",
      "Age : 45\n",
      "Country : India\n",
      "ID : 142\n"
     ]
    }
   ],
   "source": [
    "def Userdetails(licenseNo,*args,phoneNo=0,**kwargs):\n",
    "    print('License No:',licenseNo)\n",
    "    #j=' '\n",
    "    for i in args:\n",
    "        print(i)\n",
    "    \n",
    "    print('Phone Number:',phoneNo)\n",
    "    for key,val in kwargs.items():\n",
    "        print(\"{} : {}\".format(key,val))\n",
    "        \n",
    "firstname = ['Mr',' ']\n",
    "secondname = [\"Rabindranath\",\" \"]\n",
    "lastname = ['Tagore',' ']\n",
    "list1 = [1,2,3,4,5]\n",
    "tuple1 = (1.1,2.2,3.3,4.4)\n",
    "mydict = {'Name':'Rabindranath Tagore','Pincode':641032}\n",
    "mydict1 = {'Age':45,'Country':\"India\"}\n",
    "mydict2 = {\"ID\":142}\n",
    "\n",
    "Userdetails('BHUI87G',*firstname,*secondname,*lastname,*list1,*tuple1,**mydict,**mydict1,**mydict2)"
   ]
  },
  {
   "cell_type": "markdown",
   "id": "a4037a4d",
   "metadata": {},
   "source": [
    "## LAMBDA"
   ]
  },
  {
   "cell_type": "code",
   "execution_count": null,
   "id": "7e5500c6",
   "metadata": {},
   "outputs": [],
   "source": [
    "# A = lambda.arguments : expression"
   ]
  },
  {
   "cell_type": "code",
   "execution_count": 1,
   "id": "8eb77acf",
   "metadata": {},
   "outputs": [
    {
     "name": "stdout",
     "output_type": "stream",
     "text": [
      "15\n"
     ]
    }
   ],
   "source": [
    "addition = lambda a: a+10\n",
    "print(addition(5))"
   ]
  },
  {
   "cell_type": "code",
   "execution_count": 2,
   "id": "9ef52333",
   "metadata": {},
   "outputs": [
    {
     "name": "stdout",
     "output_type": "stream",
     "text": [
      "14\n"
     ]
    }
   ],
   "source": [
    "product = lambda a,b : a*b\n",
    "print(product(2,7))"
   ]
  },
  {
   "cell_type": "code",
   "execution_count": 4,
   "id": "a845254e",
   "metadata": {},
   "outputs": [
    {
     "name": "stdout",
     "output_type": "stream",
     "text": [
      "39\n"
     ]
    }
   ],
   "source": [
    "addition = lambda a,b,c,d,e,f : a+b+c+d+e+f\n",
    "print(addition(5,8,7,4,9,6))"
   ]
  },
  {
   "cell_type": "code",
   "execution_count": 5,
   "id": "06b891ab",
   "metadata": {},
   "outputs": [
    {
     "name": "stdout",
     "output_type": "stream",
     "text": [
      "110\n",
      "151\n",
      "218\n"
     ]
    }
   ],
   "source": [
    "a = lambda * args : sum(args)\n",
    "print(a(45,65))\n",
    "print(a(85,22,44))\n",
    "print(a(77,55,22,44,20))"
   ]
  },
  {
   "cell_type": "code",
   "execution_count": 6,
   "id": "37a283a2",
   "metadata": {},
   "outputs": [
    {
     "name": "stdout",
     "output_type": "stream",
     "text": [
      "[2, 4, 6, 22, 44, 66, 88, 20, 40, 60, 80, 100, 10, 12, 14]\n"
     ]
    }
   ],
   "source": [
    "def doubling (*list_values):\n",
    "    list_res = []\n",
    "    double_val = lambda a : 2*a\n",
    "    for i in list_values:\n",
    "        list_res.append(double_val(i))\n",
    "    return list_res\n",
    "\n",
    "list1 = [1,2,3]\n",
    "list2 = [11,22,33,44]\n",
    "list3 = [10,20,30,40,50]\n",
    "tuple1 = (5,6,7)\n",
    "\n",
    "print(doubling(*list1,*list2,*list3,*tuple1))"
   ]
  },
  {
   "cell_type": "code",
   "execution_count": 1,
   "id": "2121b39a",
   "metadata": {},
   "outputs": [
    {
     "name": "stdout",
     "output_type": "stream",
     "text": [
      "60\n",
      "15\n"
     ]
    }
   ],
   "source": [
    "# This lambda function can take any number of dictionaries and find the sum of their values\n",
    "\n",
    "result1 = lambda **kwargs : sum(kwargs.values())   ## Built-in-fn (sum)\n",
    "print(result1(a=10,b=20,c=30))\n",
    "\n",
    "dict_val = {'a':1,'b':2,'c':3,'d':4,'e':5}\n",
    "print(result1(**dict_val))"
   ]
  },
  {
   "cell_type": "code",
   "execution_count": 6,
   "id": "765e0dac",
   "metadata": {},
   "outputs": [
    {
     "name": "stdout",
     "output_type": "stream",
     "text": [
      "6000\n",
      "120\n",
      "5040\n",
      "120\n"
     ]
    }
   ],
   "source": [
    "# User defined function to find product of numbers\n",
    "\n",
    "def multiply(nums):   ## User-defined-fn (multiply)\n",
    "    result = 1\n",
    "    for i in nums:\n",
    "        result *= i\n",
    "    return result\n",
    "\n",
    "# This lambda function can take any number of arguments and return their product\n",
    "\n",
    "res = lambda **kwargs: multiply(kwargs.values())\n",
    "print(res(a=10, b=20, c=30))\n",
    "\n",
    "dict_val = {'a':1,'b':2,'c':3,'d':4,'e':5}\n",
    "print(res(**dict_val))\n",
    "\n",
    "list1=[1,2,3,4,5,6,7]\n",
    "print(multiply(list1))\n",
    "\n",
    "print(multiply(dict_val.values()))"
   ]
  },
  {
   "cell_type": "markdown",
   "id": "05754839",
   "metadata": {},
   "source": [
    "## FILTER"
   ]
  },
  {
   "cell_type": "markdown",
   "id": "ab8eb390",
   "metadata": {},
   "source": [
    "#### - It is used to filter the iterable/sequence as per the conditions.\n",
    "#### - Filter function filters the original iterable and passes the items that returns True for the function provided to filter.\n",
    "#### - It is normally used with Lambda function to filter list,tuple or sets.\n",
    "#### - The result is in the form of list.\n",
    "#### - Filter() method takes two parameters:\n",
    "#### - Function - Function tests if elements of an iterable returns true or false\n",
    "#### - Iterable - Sequence which needs to be filtered, could be sets,lists,tuples or any iterators"
   ]
  },
  {
   "cell_type": "markdown",
   "id": "e3f26cb1",
   "metadata": {},
   "source": [
    "## SYNTAX\n",
    "\n",
    "#### filter(function,iterable)"
   ]
  },
  {
   "cell_type": "code",
   "execution_count": 13,
   "id": "8ace6416",
   "metadata": {},
   "outputs": [
    {
     "name": "stdout",
     "output_type": "stream",
     "text": [
      "[1, 3, 5, 7]\n"
     ]
    }
   ],
   "source": [
    "list1 = [1,2,3,4,5,6,7,8]\n",
    "\n",
    "def odd(n):\n",
    "    if n%2==1:\n",
    "        return True\n",
    "    else:\n",
    "        return False\n",
    "    \n",
    "#print(filter(odd,list1))  ## It has only object name     syntax: - (filter(odd,list1))\n",
    "odd_num = list(filter(odd,list1)) ## This filter fn filters list1 using 'odd' fn returns the odd numbers\n",
    "print(odd_num)"
   ]
  },
  {
   "cell_type": "code",
   "execution_count": 19,
   "id": "c99510df",
   "metadata": {},
   "outputs": [
    {
     "name": "stdout",
     "output_type": "stream",
     "text": [
      "[1, 3, 5, 7]\n"
     ]
    }
   ],
   "source": [
    "# Same function can be written as lambda function\n",
    "\n",
    "list1 = [1,2,3,4,5,6,7,8]\n",
    "\n",
    "# The filter function filters \"list1\" and returns all odd numbers using lambda function\n",
    "\n",
    "odd_num = list(filter(lambda n: n%2 ==1, list1))\n",
    "print(odd_num)"
   ]
  },
  {
   "cell_type": "code",
   "execution_count": 28,
   "id": "6dff3ef2",
   "metadata": {},
   "outputs": [
    {
     "name": "stdout",
     "output_type": "stream",
     "text": [
      "[1, 3, 5, 7]\n"
     ]
    }
   ],
   "source": [
    "list1 = [1,2,3,4,5,6,7,8]\n",
    "odd_num =[n for n in list1 if n%2==1]\n",
    "print(odd_num)"
   ]
  },
  {
   "cell_type": "code",
   "execution_count": 29,
   "id": "d8e77129",
   "metadata": {},
   "outputs": [
    {
     "name": "stdout",
     "output_type": "stream",
     "text": [
      "['MadaM', 'level']\n"
     ]
    }
   ],
   "source": [
    "tup1 = (\"Hello\",\"MadaM\",\"level\")\n",
    "\n",
    "def palindrome(n):\n",
    "    if n[::-1] == n:\n",
    "        return True\n",
    "    else:\n",
    "        return False\n",
    "    \n",
    "palindromes = list(filter(palindrome,tup1))\n",
    "print(palindromes)"
   ]
  },
  {
   "cell_type": "code",
   "execution_count": 35,
   "id": "e6a63735",
   "metadata": {},
   "outputs": [
    {
     "name": "stdout",
     "output_type": "stream",
     "text": [
      "['MadaM', 'level']\n"
     ]
    }
   ],
   "source": [
    "tup1 = (\"Hello\",\"MadaM\",\"level\")\n",
    "\n",
    "palindromes = list(filter(lambda n: n[::-1]==n,tup1))\n",
    "print(palindromes)"
   ]
  },
  {
   "cell_type": "code",
   "execution_count": 34,
   "id": "b9a9e183",
   "metadata": {},
   "outputs": [
    {
     "data": {
      "text/plain": [
       "['MadaM', 'level']"
      ]
     },
     "execution_count": 34,
     "metadata": {},
     "output_type": "execute_result"
    }
   ],
   "source": [
    "tup1 = (\"Hello\",\"MadaM\",\"level\")\n",
    "palindromes=[i for i in tup1 if i[::-1]==i]\n",
    "palindromes"
   ]
  },
  {
   "cell_type": "code",
   "execution_count": 37,
   "id": "c2f84d66",
   "metadata": {},
   "outputs": [
    {
     "name": "stdout",
     "output_type": "stream",
     "text": [
      "['two', 'one', 'three']\n"
     ]
    }
   ],
   "source": [
    "set1 = {\"one\",\"two\",\"three\",\"3+2j\",\"6.5\",\"44\"}\n",
    "\n",
    "def isString(n):\n",
    "    if n.isalpha():\n",
    "        return True\n",
    "    else:\n",
    "        return False\n",
    "    \n",
    "strings = list(filter(isString,set1))\n",
    "print(strings)"
   ]
  },
  {
   "cell_type": "code",
   "execution_count": 4,
   "id": "a47b2c47",
   "metadata": {},
   "outputs": [
    {
     "data": {
      "text/plain": [
       "['two', 'three', 'one']"
      ]
     },
     "execution_count": 4,
     "metadata": {},
     "output_type": "execute_result"
    }
   ],
   "source": [
    "# Same fn can be written as lambda fn\n",
    "\n",
    "set1 = {\"one\",\"two\",\"three\",\"3+2j\",\"6.5\",\"44\"}\n",
    "\n",
    "strings = list(filter(lambda n: n.isalpha(),set1))\n",
    "strings"
   ]
  },
  {
   "cell_type": "code",
   "execution_count": 5,
   "id": "2c55b7cf",
   "metadata": {},
   "outputs": [
    {
     "data": {
      "text/plain": [
       "['two', 'three', 'one']"
      ]
     },
     "execution_count": 5,
     "metadata": {},
     "output_type": "execute_result"
    }
   ],
   "source": [
    "set1 = {\"one\",\"two\",\"three\",\"3+2j\",\"6.5\",\"44\"}\n",
    "\n",
    "strings=[i for i in set1 if i.isalpha()]\n",
    "strings"
   ]
  },
  {
   "cell_type": "code",
   "execution_count": 7,
   "id": "27ddecd3",
   "metadata": {},
   "outputs": [
    {
     "data": {
      "text/plain": [
       "[6, 7, 8, 9, 10]"
      ]
     },
     "execution_count": 7,
     "metadata": {},
     "output_type": "execute_result"
    }
   ],
   "source": [
    "## 1st Program\n",
    "\n",
    "numbers = [1, 2, 3, 4, 5, 6, 7, 8, 9, 10]\n",
    "\n",
    "def greater(n):\n",
    "    if n>5:\n",
    "        return True\n",
    "    else:\n",
    "        return False\n",
    "    \n",
    "num = list(filter(greater,numbers))\n",
    "num"
   ]
  },
  {
   "cell_type": "code",
   "execution_count": 8,
   "id": "a3da2e23",
   "metadata": {},
   "outputs": [
    {
     "data": {
      "text/plain": [
       "[6, 7, 8, 9, 10]"
      ]
     },
     "execution_count": 8,
     "metadata": {},
     "output_type": "execute_result"
    }
   ],
   "source": [
    "numbers = [1, 2, 3, 4, 5, 6, 7, 8, 9, 10]\n",
    "\n",
    "num = list(filter(lambda n: n>5,numbers))\n",
    "num"
   ]
  },
  {
   "cell_type": "code",
   "execution_count": 12,
   "id": "4c05c2ac",
   "metadata": {},
   "outputs": [
    {
     "data": {
      "text/plain": [
       "[6, 7, 8, 9, 10]"
      ]
     },
     "execution_count": 12,
     "metadata": {},
     "output_type": "execute_result"
    }
   ],
   "source": [
    "numbers = [1, 2, 3, 4, 5, 6, 7, 8, 9, 10]\n",
    "\n",
    "num=[i for i in numbers if i>5]\n",
    "num"
   ]
  },
  {
   "cell_type": "code",
   "execution_count": 9,
   "id": "bee67346",
   "metadata": {},
   "outputs": [
    {
     "data": {
      "text/plain": [
       "['a', 'an', 'the', 'at', 'to', 'by']"
      ]
     },
     "execution_count": 9,
     "metadata": {},
     "output_type": "execute_result"
    }
   ],
   "source": [
    "### 2nd Program\n",
    "\n",
    "words = ['a', 'an', 'the', 'at', 'to', 'by', 'python', 'lambda']\n",
    "\n",
    "def length(i):\n",
    "    if len(i) <= 3:\n",
    "        return True\n",
    "    else:\n",
    "        return False\n",
    "\n",
    "a = list(filter(length, words))\n",
    "a"
   ]
  },
  {
   "cell_type": "code",
   "execution_count": 2,
   "id": "a1688663",
   "metadata": {},
   "outputs": [
    {
     "data": {
      "text/plain": [
       "['the', 'python', 'lambda']"
      ]
     },
     "execution_count": 2,
     "metadata": {},
     "output_type": "execute_result"
    }
   ],
   "source": [
    "words = ['a', 'an', 'the', 'at', 'to', 'by', 'python', 'lambda']\n",
    "\n",
    "length=list(filter(lambda i: len(i) >= 3, words))\n",
    "length"
   ]
  },
  {
   "cell_type": "code",
   "execution_count": 5,
   "id": "4e810100",
   "metadata": {},
   "outputs": [
    {
     "data": {
      "text/plain": [
       "['a', 'an', 'the', 'at', 'to', 'by']"
      ]
     },
     "execution_count": 5,
     "metadata": {},
     "output_type": "execute_result"
    }
   ],
   "source": [
    "a = ['a', 'an', 'the', 'at', 'to', 'by', 'python', 'lambda']\n",
    "\n",
    "d = [i for i in a if len(i) <= 3]\n",
    "d"
   ]
  },
  {
   "cell_type": "code",
   "execution_count": 48,
   "id": "f1cb4378",
   "metadata": {},
   "outputs": [
    {
     "data": {
      "text/plain": [
       "[{'name': 'John', 'age': 28}, {'name': 'Dave', 'age': 32}]"
      ]
     },
     "execution_count": 48,
     "metadata": {},
     "output_type": "execute_result"
    }
   ],
   "source": [
    "## 3rd Program\n",
    "\n",
    "people = [\n",
    "    {'name': 'John', 'age': 28},\n",
    "    {'name': 'Jane', 'age': 22},\n",
    "    {'name': 'Dave', 'age': 32}\n",
    "]\n",
    "\n",
    "\n",
    "v = 25\n",
    "\n",
    "#def filter_by_age(person, threshold):\n",
    "    #return person['age'] > threshold\n",
    "\n",
    "a = list(filter(lambda person: person['age'] > v, people))\n",
    "\n",
    "a"
   ]
  },
  {
   "cell_type": "code",
   "execution_count": 41,
   "id": "851cdeb1",
   "metadata": {},
   "outputs": [
    {
     "data": {
      "text/plain": [
       "['hello', 'python']"
      ]
     },
     "execution_count": 41,
     "metadata": {},
     "output_type": "execute_result"
    }
   ],
   "source": [
    "## 4th Program\n",
    "\n",
    "strings = ['hello', 'world', 'python', 'lambda', 'functions']\n",
    "\n",
    "substring = 'h'\n",
    "\n",
    "a = list(filter(lambda i: substring in i, strings))\n",
    "\n",
    "a"
   ]
  },
  {
   "cell_type": "markdown",
   "id": "4d32e4b3",
   "metadata": {},
   "source": [
    "## MAP"
   ]
  },
  {
   "cell_type": "markdown",
   "id": "64abfb47",
   "metadata": {},
   "source": [
    "#### The map() fn applies a give fn to each item of an iterable (list,tuple etc,.) and returns a list of the results.\n",
    "#### map() fn takes tow Parameters:\n",
    "#### function: The fn to execute for each item of given iterable.\n",
    "#### iterable: It is a iterable which is to be mapped.\n",
    "#### Returns a list of the results after applying the given fn to each item of a given iterable (list,tuple etc,..)"
   ]
  },
  {
   "cell_type": "markdown",
   "id": "74d68d61",
   "metadata": {},
   "source": [
    "## SYNTAX\n",
    "\n",
    "\n",
    "#### map(function,iterable)"
   ]
  },
  {
   "cell_type": "code",
   "execution_count": 12,
   "id": "1fdaeaed",
   "metadata": {},
   "outputs": [
    {
     "data": {
      "text/plain": [
       "[2, 4, 6, 7.0, 10.4, 'HelloHello', 'HIHI']"
      ]
     },
     "execution_count": 12,
     "metadata": {},
     "output_type": "execute_result"
    }
   ],
   "source": [
    "def twice(n):\n",
    "    return n*2\n",
    "\n",
    "list1 = [1,2,3,3.5,5.2,\"Hello\",\"HI\"]\n",
    "\n",
    "# This map fn applies user defined \"twice\" fn to each item of list and returns the doubled values in the form of list.\n",
    "\n",
    "doubles = list(map(twice,list1))\n",
    "doubles\n",
    "#print(type(doubles)) for i\n",
    "#a=[i*2 for i in list1]\n",
    "#print(a)"
   ]
  },
  {
   "cell_type": "code",
   "execution_count": 13,
   "id": "71279457",
   "metadata": {},
   "outputs": [
    {
     "name": "stdout",
     "output_type": "stream",
     "text": [
      "[2, 4, 6, 7.0, 10.4, 'HelloHello', 'HIHI']\n"
     ]
    }
   ],
   "source": [
    "list1 = [1,2,3,3.5,5.2,\"Hello\",\"HI\"]\n",
    "\n",
    "doubles1=list(map(lambda n:n*2,list1))\n",
    "print(doubles1)"
   ]
  },
  {
   "cell_type": "code",
   "execution_count": 15,
   "id": "a51773c3",
   "metadata": {},
   "outputs": [
    {
     "name": "stdout",
     "output_type": "stream",
     "text": [
      "[(16+14j), 'oneone', 6, 15.8, 'twotwo']\n"
     ]
    }
   ],
   "source": [
    "set1={\"one\",\"two\",8+7j,7.9,3}  # The output will be displayed unordered form\n",
    "\n",
    "# This map fn applies lambda fn to each and every item of set and returns the result in the form of list.\n",
    "\n",
    "doubles=list(map(lambda n:n*2,set1))\n",
    "print(doubles)"
   ]
  },
  {
   "cell_type": "code",
   "execution_count": 17,
   "id": "1cae864c",
   "metadata": {},
   "outputs": [
    {
     "name": "stdout",
     "output_type": "stream",
     "text": [
      "[1, 2, 6, 24, 120]\n"
     ]
    }
   ],
   "source": [
    "def factorial(n):\n",
    "    if n<=1:\n",
    "        return 1 \n",
    "    else:\n",
    "        result = 1\n",
    "        for i in range (2,n+1):\n",
    "            result = result*i\n",
    "        return result\n",
    "    \n",
    "tup1 = (1,2,3,4,5)\n",
    "# This map fn applies \"factorial\" fn to each item of tup\n",
    "fact = list(map(factorial,tup1))\n",
    "print(fact)"
   ]
  },
  {
   "cell_type": "markdown",
   "id": "88514297",
   "metadata": {},
   "source": [
    "## REDUCE"
   ]
  },
  {
   "cell_type": "markdown",
   "id": "e945c626",
   "metadata": {},
   "source": [
    "#### The reduce() fn is defined in the functools python module.\n",
    "#### The reduce() fn receives 2 arguments,a fn and an iterable (list,tuple or set,..)\n",
    "#### However, it does'nt return another iterable, instead it returns a single value\n",
    "\n",
    "## STEPS:\n",
    "\n",
    "#### >1) Apply a fn to the first 2 items in an iterable and generate a partial result\n",
    "#### >2) The fn is then called again with the result obtained in step1 and the next value in the sequence. This process keeps on repeating until there are items in the sequence.\n",
    "#### >3) The final returned result is returned and printed on console"
   ]
  },
  {
   "cell_type": "code",
   "execution_count": 1,
   "id": "0515cdde",
   "metadata": {},
   "outputs": [
    {
     "data": {
      "text/plain": [
       "1"
      ]
     },
     "execution_count": 1,
     "metadata": {},
     "output_type": "execute_result"
    }
   ],
   "source": [
    "from functools import reduce\n",
    "\n",
    "list1 = [10,2,3,4]\n",
    "\n",
    "def sub(a,b):\n",
    "    return a-b\n",
    "\n",
    "subtract = reduce(sub,list1)\n",
    "\n",
    "# This reduce fn performs sub for first 2 items initially,\n",
    "# and then that result is sub with 3rd element in the list and so on.\n",
    "# Finally a single answer is printed\n",
    "\n",
    "print(subtract)"
   ]
  },
  {
   "cell_type": "code",
   "execution_count": 3,
   "id": "48603609",
   "metadata": {},
   "outputs": [
    {
     "name": "stdout",
     "output_type": "stream",
     "text": [
      "23\n",
      "300123\n"
     ]
    }
   ],
   "source": [
    "tup1 = (1000,23,45,623,1900,983,10000,300123)\n",
    "\n",
    "min_num = reduce(lambda a,b : a if a<b  else b, tup1)\n",
    "max_num = reduce(lambda a,b : a if a>b  else b, tup1)\n",
    "\n",
    "print(min_num)\n",
    "print(max_num)"
   ]
  },
  {
   "cell_type": "code",
   "execution_count": 7,
   "id": "2de20935",
   "metadata": {},
   "outputs": [
    {
     "name": "stdout",
     "output_type": "stream",
     "text": [
      "False\n",
      "True\n",
      "False\n"
     ]
    }
   ],
   "source": [
    "# This reduce fn returns True if all the elements in the iterable is non-zero\n",
    "\n",
    "print(reduce(lambda a,b: bool(a and b),[1,0,1,1,0]))  # list # - and it means True only\n",
    "print(reduce(lambda a,b: bool(a and b),(4,8,7,2,35))) # tuple\n",
    "print(reduce(lambda a,b: bool(a and b),{8,9,22,4,0}))   # set"
   ]
  },
  {
   "cell_type": "code",
   "execution_count": 8,
   "id": "c4251b45",
   "metadata": {},
   "outputs": [
    {
     "name": "stdout",
     "output_type": "stream",
     "text": [
      "True\n",
      "True\n",
      "True\n"
     ]
    }
   ],
   "source": [
    "print(reduce(lambda a,b: bool(a or b),[1,0,1,1,0]))  # list \n",
    "print(reduce(lambda a,b: bool(a or b),(4,8,7,2,35))) # tuple\n",
    "print(reduce(lambda a,b: bool(a or b),{8,9,22,4,0})) # set"
   ]
  },
  {
   "cell_type": "markdown",
   "id": "6647aac1",
   "metadata": {},
   "source": [
    "## Iterables and Iterators"
   ]
  },
  {
   "cell_type": "markdown",
   "id": "a043d79b",
   "metadata": {},
   "source": [
    "#### An iterable is an object that can be iterated upon\n",
    "#### It can return an iterator object with the purpose of traversing through all the elements of an iterable.\n",
    "#### An iterable object implements iter() which is expected to return an iterator object.\n",
    "#### The iterator object uses the next() method.\n",
    "#### Every time next() is called next element in the iterator stream is returned. When there are no more elements available.\n",
    "#### StopIterationexceptiom is encountered. So any object that has a next() method is called an iterator."
   ]
  },
  {
   "cell_type": "markdown",
   "id": "87dccfef",
   "metadata": {},
   "source": [
    "#### For most standard looping tasks over iterable, a simple  for loop is the best and most efficient approach.\n",
    "#### Use an iter object when you need more control over the iteration than the for loop's automatic iteration control provides."
   ]
  },
  {
   "cell_type": "markdown",
   "id": "6150499f",
   "metadata": {},
   "source": [
    "## Advantages of iterator object\n",
    "\n",
    "#### Manual Control of Iteration: You can control when to fetch the next item,allowing for more complex logic or interspersing other operations between iterations.\n",
    "#### Pausing and Resuming Iteration: Using iter and next() allowss you to pause iteration as needed,perform different operations,and then resume."
   ]
  },
  {
   "cell_type": "code",
   "execution_count": 4,
   "id": "0f181024",
   "metadata": {},
   "outputs": [
    {
     "name": "stdout",
     "output_type": "stream",
     "text": [
      "1\n",
      "2.5\n",
      "(6-8j)\n",
      "58\n",
      "Hi\n"
     ]
    }
   ],
   "source": [
    "# Iterable object ----- Iterator object ----- Elements\n",
    "\n",
    "list1=[1,2.5,6-8j,58,\"Hi\"]\n",
    "\n",
    "# Print(dir(list1)) \n",
    "list_iter_obj = iter(list1)    # Create an iterator object\n",
    "\n",
    "print(next(list_iter_obj))    # It returns first element in the iterator\n",
    "print(next(list_iter_obj))    # It returns next element in the iterator\n",
    "print(next(list_iter_obj))\n",
    "print(next(list_iter_obj))\n",
    "print(next(list_iter_obj))"
   ]
  },
  {
   "cell_type": "code",
   "execution_count": 21,
   "id": "e3bbf1cc",
   "metadata": {},
   "outputs": [
    {
     "name": "stdout",
     "output_type": "stream",
     "text": [
      "1\n",
      "2.5\n",
      "(6-8j)\n",
      "58\n"
     ]
    }
   ],
   "source": [
    "# Same can be done using __next__() method for accessing next element in the iterator object.\n",
    "\n",
    "list1=[1,2.5,6-8j,58,\"Hi\"]\n",
    "\n",
    "list_iter_obj = iter(list1)\n",
    "\n",
    "print(list_iter_obj.__next__())\n",
    "print(list_iter_obj.__next__())\n",
    "print(list_iter_obj.__next__())\n",
    "print(list_iter_obj.__next__())\n"
   ]
  },
  {
   "cell_type": "code",
   "execution_count": 22,
   "id": "4fbc92f5",
   "metadata": {},
   "outputs": [
    {
     "name": "stdout",
     "output_type": "stream",
     "text": [
      "Hi\n"
     ]
    },
    {
     "ename": "StopIteration",
     "evalue": "",
     "output_type": "error",
     "traceback": [
      "\u001b[1;31m---------------------------------------------------------------------------\u001b[0m",
      "\u001b[1;31mStopIteration\u001b[0m                             Traceback (most recent call last)",
      "Cell \u001b[1;32mIn[22], line 2\u001b[0m\n\u001b[0;32m      1\u001b[0m \u001b[38;5;28mprint\u001b[39m(list_iter_obj\u001b[38;5;241m.\u001b[39m\u001b[38;5;21m__next__\u001b[39m())\n\u001b[1;32m----> 2\u001b[0m \u001b[38;5;28mprint\u001b[39m(list_iter_obj\u001b[38;5;241m.\u001b[39m\u001b[38;5;21m__next__\u001b[39m())\n",
      "\u001b[1;31mStopIteration\u001b[0m: "
     ]
    }
   ],
   "source": [
    "print(list_iter_obj.__next__())\n",
    "print(list_iter_obj.__next__())"
   ]
  },
  {
   "cell_type": "code",
   "execution_count": 23,
   "id": "96f07d01",
   "metadata": {},
   "outputs": [
    {
     "name": "stdout",
     "output_type": "stream",
     "text": [
      "1\n",
      "2.5\n",
      "(6-8j)\n",
      "58\n",
      "Hi\n"
     ]
    }
   ],
   "source": [
    "# Same can be printed using 'for'.\n",
    "\n",
    "list1=[1,2.5,6-8j,58,\"Hi\"]\n",
    "\n",
    "list_iter_obj = iter(list1)\n",
    "\n",
    "for i in list_iter_obj:    # StopIteration it will handle automatically for loop\n",
    "    print(i)"
   ]
  },
  {
   "cell_type": "code",
   "execution_count": 26,
   "id": "1e39848f",
   "metadata": {},
   "outputs": [],
   "source": [
    "for i in list_iter_obj:    # StopIteration it will handle automatically for loop\n",
    "    print(i)"
   ]
  },
  {
   "cell_type": "code",
   "execution_count": 27,
   "id": "539edfff",
   "metadata": {},
   "outputs": [
    {
     "name": "stdout",
     "output_type": "stream",
     "text": [
      "1\n",
      "2.5\n",
      "(6-8j)\n",
      "58\n",
      "Hi\n"
     ]
    }
   ],
   "source": [
    "for i in list1:   \n",
    "    print(i)"
   ]
  },
  {
   "cell_type": "code",
   "execution_count": 2,
   "id": "c53fe5c1",
   "metadata": {},
   "outputs": [
    {
     "name": "stdout",
     "output_type": "stream",
     "text": [
      "Performing some operations\n",
      "1\n",
      "3\n",
      "7\n"
     ]
    }
   ],
   "source": [
    "numbers = [1,2,3,4,5,6]\n",
    "number_iter = iter(numbers)\n",
    "\n",
    "a = next(number_iter)\n",
    "b = next(number_iter)\n",
    "\n",
    "print(\"Performing some operations\")\n",
    "\n",
    "power = a**b\n",
    "print(power)\n",
    "\n",
    "c = next(number_iter)\n",
    "\n",
    "multiply = power*c\n",
    "print(multiply)\n",
    "\n",
    "d = next(number_iter)\n",
    "\n",
    "add = multiply+d\n",
    "print(add)"
   ]
  },
  {
   "cell_type": "code",
   "execution_count": 5,
   "id": "1d2571d4",
   "metadata": {},
   "outputs": [
    {
     "name": "stdout",
     "output_type": "stream",
     "text": [
      "ABC\n",
      "Company\n",
      "is\n",
      "the\n",
      "best\n"
     ]
    }
   ],
   "source": [
    "## Tuples\n",
    "\n",
    "tup1 = (\"ABC\",\"Company\",\"is\",\"the\",\"best\")\n",
    "\n",
    "tup_iter_obj = tup1.__iter__() # This is the another iter() method\n",
    "\n",
    "print(next(tup_iter_obj))\n",
    "print(next(tup_iter_obj))\n",
    "print(next(tup_iter_obj))\n",
    "print(next(tup_iter_obj))\n",
    "print(next(tup_iter_obj))"
   ]
  },
  {
   "cell_type": "code",
   "execution_count": 39,
   "id": "bee23dfb",
   "metadata": {},
   "outputs": [
    {
     "name": "stdout",
     "output_type": "stream",
     "text": [
      "the\n",
      "best\n",
      "is\n",
      "Company\n",
      "ABC\n"
     ]
    }
   ],
   "source": [
    "set1 = {\"ABC\",\"Company\",\"is\",\"the\",\"best\"}\n",
    "\n",
    "set_iter_obj = set1.__iter__()  # This is the another iter() method\n",
    "\n",
    "print(next(set_iter_obj))\n",
    "print(next(set_iter_obj))\n",
    "print(next(set_iter_obj))\n",
    "print(next(set_iter_obj))\n",
    "print(next(set_iter_obj))"
   ]
  },
  {
   "cell_type": "code",
   "execution_count": 42,
   "id": "37266728",
   "metadata": {},
   "outputs": [
    {
     "name": "stdout",
     "output_type": "stream",
     "text": [
      "Should\n",
      "Till\n"
     ]
    }
   ],
   "source": [
    "set1 = {\"You\",\"Should\",\"Practice\",\"Till\",\"You\",\"Master\",\"it\"}  # You repeated it does'nt allow duplicates\n",
    "\n",
    "set_iter_obj = set1.__iter__()\n",
    "\n",
    "print(next(set_iter_obj))\n",
    "print(next(set_iter_obj))"
   ]
  },
  {
   "cell_type": "code",
   "execution_count": 52,
   "id": "31580756",
   "metadata": {},
   "outputs": [
    {
     "name": "stdout",
     "output_type": "stream",
     "text": [
      "a\n",
      "2\n",
      "c\n"
     ]
    }
   ],
   "source": [
    "## Dictionary\n",
    "\n",
    "dict1 = {'a':1,\"b\":2,'c':3}\n",
    "\n",
    "dict_iter_obj = iter(dict1)\n",
    "\n",
    "print(next(dict_iter_obj))\n",
    "print(dict1[next(dict_iter_obj)])\n",
    "print(next(dict_iter_obj))\n"
   ]
  },
  {
   "cell_type": "code",
   "execution_count": 10,
   "id": "7444d27a",
   "metadata": {},
   "outputs": [
    {
     "name": "stdout",
     "output_type": "stream",
     "text": [
      "1\n"
     ]
    },
    {
     "ename": "AttributeError",
     "evalue": "'int' object has no attribute 'keys'",
     "output_type": "error",
     "traceback": [
      "\u001b[1;31m---------------------------------------------------------------------------\u001b[0m",
      "\u001b[1;31mAttributeError\u001b[0m                            Traceback (most recent call last)",
      "Cell \u001b[1;32mIn[10], line 7\u001b[0m\n\u001b[0;32m      3\u001b[0m dict_iter_obj \u001b[38;5;241m=\u001b[39m \u001b[38;5;28miter\u001b[39m(dict1\u001b[38;5;241m.\u001b[39mvalues())\n\u001b[0;32m      5\u001b[0m \u001b[38;5;28mprint\u001b[39m(\u001b[38;5;28mnext\u001b[39m(dict_iter_obj))\n\u001b[1;32m----> 7\u001b[0m \u001b[38;5;28mprint\u001b[39m(\u001b[38;5;28mnext\u001b[39m(dict_iter_obj)\u001b[38;5;241m.\u001b[39mkeys())\n",
      "\u001b[1;31mAttributeError\u001b[0m: 'int' object has no attribute 'keys'"
     ]
    }
   ],
   "source": [
    "dict1 = {'a':1,\"b\":2,'c':3}\n",
    "\n",
    "dict_iter_obj = iter(dict1.values())\n",
    "\n",
    "print(next(dict_iter_obj))\n",
    "\n",
    "print(next(dict_iter_obj).keys())"
   ]
  },
  {
   "cell_type": "markdown",
   "id": "37d1d8e5",
   "metadata": {},
   "source": [
    "## GENERATORS"
   ]
  },
  {
   "cell_type": "markdown",
   "id": "d0b3b0fb",
   "metadata": {},
   "source": [
    "#### -> Python generators are easy way of creating iterators. It generates values one at a time from a given sequence instead of returning the entire sequence at once.\n",
    "#### -> It is a special type of function which returns an iterator object.\n",
    "#### -> In a generator function, a yield statement is used rather than a return statement.\n",
    "#### -> The generator function cannot include the return keyword. If we include it then it will terminate the execution of the function.\n",
    "#### -> The difference between yield and return is that once yield returns a value the function is paused and the control is transferred to the caller.\n",
    "#### -> Local variables and their states are remembered between successive calls.\n",
    "#### -> In case of the return statement value is returned and the execution of the function is terminated. Methods like iter() and next() are implemented automatically in generator function.\n",
    "\n",
    "\n",
    "## * Simple generators can be easily created using generator expressions\n",
    "\n",
    "#### -> Generatorexpressions create anonymous generator functions like lambda.\n",
    "#### -> The syntax for generator expression is similar to that of a list comprehension but the only difference is square brackets are replaced with round parentheses.\n",
    "#### -> Also list comprehension produces the entire list while the generator expression produces one item at a time which is more memory efficient than list comprehension.\n"
   ]
  },
  {
   "cell_type": "code",
   "execution_count": 7,
   "id": "286ee6b7",
   "metadata": {},
   "outputs": [
    {
     "name": "stdout",
     "output_type": "stream",
     "text": [
      "1\n",
      "2\n",
      "3\n",
      "4\n",
      "5\n"
     ]
    }
   ],
   "source": [
    "# Generator fn that generates numbers from 1 to 5\n",
    "# User defined fn - uisng yield means generators\n",
    "\n",
    "def gen():\n",
    "    n = 1\n",
    "    yield n\n",
    "    \n",
    "    n += 1   # n = n+1\n",
    "    yield n\n",
    "    \n",
    "    n += 1\n",
    "    yield n\n",
    "    \n",
    "    n += 1\n",
    "    yield n\n",
    "    \n",
    "    n += 1\n",
    "    yield n\n",
    "    \n",
    "gen_obj = gen()\n",
    "\n",
    "print(gen_obj.__next__())\n",
    "print(next(gen_obj))\n",
    "print(next(gen_obj))\n",
    "print(next(gen_obj))\n",
    "print(gen_obj.__next__())"
   ]
  },
  {
   "cell_type": "code",
   "execution_count": 28,
   "id": "f3cb6489",
   "metadata": {},
   "outputs": [
    {
     "name": "stdout",
     "output_type": "stream",
     "text": [
      "1\n",
      "2\n",
      "3\n",
      "4\n",
      "5\n",
      "6\n",
      "7\n",
      "8\n",
      "9\n",
      "10\n",
      "11\n"
     ]
    }
   ],
   "source": [
    "# Generator fn that generates natural numbers from 1 to 15\n",
    "\n",
    "def gen():\n",
    "    for i in range(1,16):\n",
    "        yield i\n",
    "        \n",
    "gen_obj = gen()\n",
    "\n",
    "# We can store all values generated by generator fn in the list\n",
    "\n",
    "print(next(gen_obj))\n",
    "print(next(gen_obj))\n",
    "print(next(gen_obj))\n",
    "print(next(gen_obj))\n",
    "print(next(gen_obj))\n",
    "print(next(gen_obj))\n",
    "print(next(gen_obj))\n",
    "print(next(gen_obj))\n",
    "print(next(gen_obj))\n",
    "print(next(gen_obj))\n",
    "print(next(gen_obj))"
   ]
  },
  {
   "cell_type": "code",
   "execution_count": 30,
   "id": "dd95aeb9",
   "metadata": {},
   "outputs": [
    {
     "data": {
      "text/plain": [
       "<generator object gen at 0x0000020DA3343AC0>"
      ]
     },
     "execution_count": 30,
     "metadata": {},
     "output_type": "execute_result"
    }
   ],
   "source": [
    "def gen():\n",
    "    for i in range(1,6):\n",
    "        yield i\n",
    "        print(i)\n",
    "gen()"
   ]
  },
  {
   "cell_type": "code",
   "execution_count": 33,
   "id": "74a98116",
   "metadata": {},
   "outputs": [
    {
     "name": "stdout",
     "output_type": "stream",
     "text": [
      "1\n",
      "2\n",
      "3\n",
      "4\n",
      "5\n",
      "[1, 2, 3, 4, 5]\n"
     ]
    }
   ],
   "source": [
    "for i in gen_obj:\n",
    "    print(i)  # run the already in the loop statement\n",
    "    \n",
    "#num_list = list(gen())\n",
    "#print(num_list)"
   ]
  },
  {
   "cell_type": "code",
   "execution_count": 35,
   "id": "3279272b",
   "metadata": {},
   "outputs": [],
   "source": [
    "# Generator fn to generate ten numbers of fibonacci series,\n",
    "\n",
    "def fibonacci():\n",
    "    num1 , num2 = 0,1\n",
    "    count = 0\n",
    "    \n",
    "    while count < 10:\n",
    "        yield num1\n",
    "        num1,num2 = num2,num1+num2\n",
    "        count+=1"
   ]
  },
  {
   "cell_type": "code",
   "execution_count": 41,
   "id": "47c1a567",
   "metadata": {},
   "outputs": [
    {
     "name": "stdout",
     "output_type": "stream",
     "text": [
      "0\n",
      "1\n",
      "1\n",
      "2\n",
      "3\n",
      "5\n",
      "8\n",
      "13\n",
      "21\n",
      "34\n"
     ]
    }
   ],
   "source": [
    "fibo=fibonacci()\n",
    "\n",
    "print(next(fibo))\n",
    "print(next(fibo))\n",
    "print(next(fibo))\n",
    "print(next(fibo))\n",
    "print(next(fibo))\n",
    "print(next(fibo))\n",
    "print(next(fibo))\n",
    "print(next(fibo))\n",
    "print(next(fibo))\n",
    "print(next(fibo))"
   ]
  },
  {
   "cell_type": "code",
   "execution_count": 48,
   "id": "4cd8e607",
   "metadata": {},
   "outputs": [
    {
     "name": "stdout",
     "output_type": "stream",
     "text": [
      "<generator object <genexpr> at 0x0000020DA33436B0>\n",
      "<class 'generator'>\n",
      "0\n",
      "1\n",
      "2\n",
      "3\n"
     ]
    }
   ],
   "source": [
    "## Generator expression\n",
    "\n",
    "gen2 = (i for i in range(5))\n",
    "print(gen2)\n",
    "print(type(gen2))\n",
    "print(next(gen2))\n",
    "print(next(gen2))\n",
    "print(next(gen2))\n",
    "print(next(gen2))"
   ]
  },
  {
   "cell_type": "code",
   "execution_count": 49,
   "id": "556dd099",
   "metadata": {},
   "outputs": [
    {
     "name": "stdout",
     "output_type": "stream",
     "text": [
      "4\n"
     ]
    }
   ],
   "source": [
    "# If you run this cell again for the second time, you want get the generator output.\n",
    "# Because it is a generator and it has terminated the fn when you have run this cell previously itself.\n",
    "# If you want the output to be printed again,\n",
    "# Run the previous cell \"gen2 = (i**2 for i in range(10))\" again and run this current cell.\n",
    "\n",
    "for i in gen2:\n",
    "    print(i)"
   ]
  },
  {
   "cell_type": "code",
   "execution_count": null,
   "id": "a3c0a631",
   "metadata": {},
   "outputs": [],
   "source": []
  }
 ],
 "metadata": {
  "kernelspec": {
   "display_name": "Python 3 (ipykernel)",
   "language": "python",
   "name": "python3"
  },
  "language_info": {
   "codemirror_mode": {
    "name": "ipython",
    "version": 3
   },
   "file_extension": ".py",
   "mimetype": "text/x-python",
   "name": "python",
   "nbconvert_exporter": "python",
   "pygments_lexer": "ipython3",
   "version": "3.11.3"
  }
 },
 "nbformat": 4,
 "nbformat_minor": 5
}
