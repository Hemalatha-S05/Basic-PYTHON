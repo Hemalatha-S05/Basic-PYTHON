{
 "cells": [
  {
   "cell_type": "markdown",
   "id": "35ba43ae",
   "metadata": {},
   "source": [
    "## FILE HANDLING"
   ]
  },
  {
   "cell_type": "markdown",
   "id": "f0d99014",
   "metadata": {},
   "source": [
    "## Reading the file"
   ]
  },
  {
   "cell_type": "code",
   "execution_count": 1,
   "id": "2f53af07",
   "metadata": {},
   "outputs": [
    {
     "data": {
      "text/plain": [
       "'C:\\\\Users\\\\Hema'"
      ]
     },
     "execution_count": 1,
     "metadata": {},
     "output_type": "execute_result"
    }
   ],
   "source": [
    "import os\n",
    "cwd = os.getcwd()\n",
    "cwd"
   ]
  },
  {
   "cell_type": "code",
   "execution_count": 2,
   "id": "2e9cec29",
   "metadata": {},
   "outputs": [
    {
     "data": {
      "text/plain": [
       "'A decorator is a design pattern in Python that allows a user to add new functionality to an existing object without modifying its structure. \\nDecorators are typically applied to functions, and they play a crucial role in enhancing or modifying the behavior of functions.'"
      ]
     },
     "execution_count": 2,
     "metadata": {},
     "output_type": "execute_result"
    }
   ],
   "source": [
    "fileobj = open(\"A.txt\",'r')\n",
    "fileobj.read()"
   ]
  },
  {
   "cell_type": "code",
   "execution_count": 6,
   "id": "2e653a49",
   "metadata": {},
   "outputs": [
    {
     "data": {
      "text/plain": [
       "''"
      ]
     },
     "execution_count": 6,
     "metadata": {},
     "output_type": "execute_result"
    }
   ],
   "source": [
    "fileobj.read()"
   ]
  },
  {
   "cell_type": "code",
   "execution_count": 5,
   "id": "1bf4fe6c",
   "metadata": {},
   "outputs": [
    {
     "data": {
      "text/plain": [
       "'A decorator is a design pattern in Python that allows a user to add new functionality to an existing object without modifying its structure. Decorators are typically applied to functions, and they play a crucial role in enhancing or modifying the behavior of functions.'"
      ]
     },
     "execution_count": 5,
     "metadata": {},
     "output_type": "execute_result"
    }
   ],
   "source": [
    "fileobj.seek(0)   # like a indexing\n",
    "fileobj.read()"
   ]
  },
  {
   "cell_type": "code",
   "execution_count": 9,
   "id": "1d747142",
   "metadata": {},
   "outputs": [
    {
     "data": {
      "text/plain": [
       "'design pattern in Python that allows a user to add new functionality to an existing object without modifying its structure. Decorators are typically applied to functions, and they play a crucial role in enhancing or modifying the behavior of functions.'"
      ]
     },
     "execution_count": 9,
     "metadata": {},
     "output_type": "execute_result"
    }
   ],
   "source": [
    "fileobj.seek(17)   # like a indexing\n",
    "fileobj.read()"
   ]
  },
  {
   "cell_type": "code",
   "execution_count": 10,
   "id": "a47b8a52",
   "metadata": {},
   "outputs": [
    {
     "data": {
      "text/plain": [
       "'A decorator is a'"
      ]
     },
     "execution_count": 10,
     "metadata": {},
     "output_type": "execute_result"
    }
   ],
   "source": [
    "# return the first 16 characters of the file\n",
    "\n",
    "fileobj.seek(0)\n",
    "fileobj.read(16)"
   ]
  },
  {
   "cell_type": "code",
   "execution_count": 11,
   "id": "895d9978",
   "metadata": {},
   "outputs": [
    {
     "data": {
      "text/plain": [
       "16"
      ]
     },
     "execution_count": 11,
     "metadata": {},
     "output_type": "execute_result"
    }
   ],
   "source": [
    "# Get the file cursor position\n",
    "\n",
    "fileobj.tell()"
   ]
  },
  {
   "cell_type": "code",
   "execution_count": 21,
   "id": "0bd12878",
   "metadata": {},
   "outputs": [
    {
     "name": "stdout",
     "output_type": "stream",
     "text": [
      "A decorator is a design pattern in Python that allows a user to add new functionality to an existing object without modifying its structure. \n",
      "\n",
      "Decorators are typically applied to functions, and they play a crucial role in enhancing or modifying the behavior of functions.\n"
     ]
    }
   ],
   "source": [
    "# it reads line by line\n",
    "\n",
    "fileobj.seek(0)\n",
    "print(fileobj.readline())\n",
    "print(fileobj.readline())"
   ]
  },
  {
   "cell_type": "code",
   "execution_count": 3,
   "id": "42af13c3",
   "metadata": {},
   "outputs": [
    {
     "name": "stdout",
     "output_type": "stream",
     "text": [
      "A decorator is a design pattern in Python that allows a user to add new functionality to an existing object without modifying its structure. \n",
      "\n",
      "Decorators are typically applied to functions, and they play a crucial role in enhancing or modifying the behavior of functions.\n",
      "\n",
      "\n",
      "\n"
     ]
    }
   ],
   "source": [
    "# Read first 5 lines of a file using readline()\n",
    "\n",
    "fileobj.seek(0)\n",
    "for i in range(5):\n",
    "    print(fileobj.readline())"
   ]
  },
  {
   "cell_type": "markdown",
   "id": "09c5f9c3",
   "metadata": {},
   "source": [
    "## Writing the file"
   ]
  },
  {
   "cell_type": "code",
   "execution_count": 4,
   "id": "b10b0c13",
   "metadata": {},
   "outputs": [
    {
     "data": {
      "text/plain": [
       "'A decorator is a design pattern in Python that allows a user to add new functionality to an existing object without modifying its structure. \\nDecorators are typically applied to functions, and they play a crucial role in enhancing or modifying the behavior of functions.This is a decorator method'"
      ]
     },
     "execution_count": 4,
     "metadata": {},
     "output_type": "execute_result"
    }
   ],
   "source": [
    "# Opening the file in append mode\n",
    "\n",
    "fileobj = open(\"A.txt\",'a')\n",
    "\n",
    "# Append content to the file \n",
    "\n",
    "fileobj.write(\"This is a decorator method\")\n",
    "\n",
    "# Closing the file\n",
    "\n",
    "fileobj.close()\n",
    "\n",
    "# Opening the file\n",
    "\n",
    "fileobj = open(\"A.txt\")\n",
    "\n",
    "# Read the file\n",
    "\n",
    "fileobj.read()"
   ]
  },
  {
   "cell_type": "code",
   "execution_count": 5,
   "id": "a287366f",
   "metadata": {},
   "outputs": [
    {
     "data": {
      "text/plain": [
       "'This is a decorator method'"
      ]
     },
     "execution_count": 5,
     "metadata": {},
     "output_type": "execute_result"
    }
   ],
   "source": [
    "# Opening the file in write mode\n",
    "\n",
    "fileobj = open(\"A.txt\",'w')\n",
    "\n",
    "# When a file is opened is write mode, previous content will be replaced\n",
    "\n",
    "fileobj.write(\"This is a decorator method\")\n",
    "\n",
    "# Closing the file\n",
    "\n",
    "fileobj.close()\n",
    "\n",
    "# Opening the file\n",
    "\n",
    "fileobj = open(\"A.txt\")\n",
    "\n",
    "# Read the file\n",
    "\n",
    "fileobj.read()"
   ]
  },
  {
   "cell_type": "code",
   "execution_count": 10,
   "id": "564feb69",
   "metadata": {},
   "outputs": [
    {
     "data": {
      "text/plain": [
       "'Hii...\\nGood morning!!!\\nThis is python class...\\nThank you...\\n'"
      ]
     },
     "execution_count": 10,
     "metadata": {},
     "output_type": "execute_result"
    }
   ],
   "source": [
    "# Create a new file\n",
    "\n",
    "fileobj = open(\"B.txt\",\"w\")\n",
    "fileobj.write(\"Hii...\\n\")\n",
    "fileobj.write(\"Good morning!!!\\n\")\n",
    "fileobj.write(\"This is python class...\\n\")\n",
    "fileobj.write(\"Thank you...\\n\")\n",
    "fileobj.close()\n",
    "fileobj = open(\"B.txt\")\n",
    "fileobj.read()"
   ]
  },
  {
   "cell_type": "code",
   "execution_count": 15,
   "id": "f40adb77",
   "metadata": {},
   "outputs": [
    {
     "data": {
      "text/plain": [
       "'It is a python class\\nThank you..\\n'"
      ]
     },
     "execution_count": 15,
     "metadata": {},
     "output_type": "execute_result"
    }
   ],
   "source": [
    "# When you close a file and open again in write mode,the contents will be replaced\n",
    "\n",
    "fileobj = open(\"B.txt\",'w')\n",
    "fileobj.write(\"Good morning\")\n",
    "fileobj.close()\n",
    "fileobj = open(\"B.txt\",'w')\n",
    "fileobj.write(\"It is a python class\\n\")\n",
    "fileobj.write(\"Thank you..\\n\")\n",
    "fileobj.close()\n",
    "fileobj = open(\"B.txt\")\n",
    "fileobj.read()"
   ]
  },
  {
   "cell_type": "markdown",
   "id": "81313e40",
   "metadata": {},
   "source": [
    "## Deleting the file"
   ]
  },
  {
   "cell_type": "code",
   "execution_count": 33,
   "id": "6d6464d6",
   "metadata": {},
   "outputs": [
    {
     "ename": "FileNotFoundError",
     "evalue": "[Errno 2] No such file or directory: 'B.txt'",
     "output_type": "error",
     "traceback": [
      "\u001b[1;31m---------------------------------------------------------------------------\u001b[0m",
      "\u001b[1;31mFileNotFoundError\u001b[0m                         Traceback (most recent call last)",
      "Cell \u001b[1;32mIn[33], line 1\u001b[0m\n\u001b[1;32m----> 1\u001b[0m nf \u001b[38;5;241m=\u001b[39m \u001b[38;5;28mopen\u001b[39m(\u001b[38;5;124m\"\u001b[39m\u001b[38;5;124mB.txt\u001b[39m\u001b[38;5;124m\"\u001b[39m)\n\u001b[0;32m      2\u001b[0m nf\u001b[38;5;241m.\u001b[39mread()\n",
      "File \u001b[1;32mC:\\ProgramData\\anaconda3\\Lib\\site-packages\\IPython\\core\\interactiveshell.py:284\u001b[0m, in \u001b[0;36m_modified_open\u001b[1;34m(file, *args, **kwargs)\u001b[0m\n\u001b[0;32m    277\u001b[0m \u001b[38;5;28;01mif\u001b[39;00m file \u001b[38;5;129;01min\u001b[39;00m {\u001b[38;5;241m0\u001b[39m, \u001b[38;5;241m1\u001b[39m, \u001b[38;5;241m2\u001b[39m}:\n\u001b[0;32m    278\u001b[0m     \u001b[38;5;28;01mraise\u001b[39;00m \u001b[38;5;167;01mValueError\u001b[39;00m(\n\u001b[0;32m    279\u001b[0m         \u001b[38;5;124mf\u001b[39m\u001b[38;5;124m\"\u001b[39m\u001b[38;5;124mIPython won\u001b[39m\u001b[38;5;124m'\u001b[39m\u001b[38;5;124mt let you open fd=\u001b[39m\u001b[38;5;132;01m{\u001b[39;00mfile\u001b[38;5;132;01m}\u001b[39;00m\u001b[38;5;124m by default \u001b[39m\u001b[38;5;124m\"\u001b[39m\n\u001b[0;32m    280\u001b[0m         \u001b[38;5;124m\"\u001b[39m\u001b[38;5;124mas it is likely to crash IPython. If you know what you are doing, \u001b[39m\u001b[38;5;124m\"\u001b[39m\n\u001b[0;32m    281\u001b[0m         \u001b[38;5;124m\"\u001b[39m\u001b[38;5;124myou can use builtins\u001b[39m\u001b[38;5;124m'\u001b[39m\u001b[38;5;124m open.\u001b[39m\u001b[38;5;124m\"\u001b[39m\n\u001b[0;32m    282\u001b[0m     )\n\u001b[1;32m--> 284\u001b[0m \u001b[38;5;28;01mreturn\u001b[39;00m io_open(file, \u001b[38;5;241m*\u001b[39margs, \u001b[38;5;241m*\u001b[39m\u001b[38;5;241m*\u001b[39mkwargs)\n",
      "\u001b[1;31mFileNotFoundError\u001b[0m: [Errno 2] No such file or directory: 'B.txt'"
     ]
    }
   ],
   "source": [
    "nf = open(\"B.txt\")\n",
    "nf.read()"
   ]
  },
  {
   "cell_type": "code",
   "execution_count": 30,
   "id": "551ece50",
   "metadata": {},
   "outputs": [],
   "source": [
    "nf.close()"
   ]
  },
  {
   "cell_type": "code",
   "execution_count": 32,
   "id": "8850d5de",
   "metadata": {},
   "outputs": [
    {
     "ename": "FileNotFoundError",
     "evalue": "[WinError 2] The system cannot find the file specified: 'B.txt'",
     "output_type": "error",
     "traceback": [
      "\u001b[1;31m---------------------------------------------------------------------------\u001b[0m",
      "\u001b[1;31mFileNotFoundError\u001b[0m                         Traceback (most recent call last)",
      "Cell \u001b[1;32mIn[32], line 3\u001b[0m\n\u001b[0;32m      1\u001b[0m \u001b[38;5;28;01mimport\u001b[39;00m \u001b[38;5;21;01mos\u001b[39;00m\n\u001b[1;32m----> 3\u001b[0m os\u001b[38;5;241m.\u001b[39mremove(\u001b[38;5;124m\"\u001b[39m\u001b[38;5;124mB.txt\u001b[39m\u001b[38;5;124m\"\u001b[39m)\n",
      "\u001b[1;31mFileNotFoundError\u001b[0m: [WinError 2] The system cannot find the file specified: 'B.txt'"
     ]
    }
   ],
   "source": [
    "import os\n",
    "\n",
    "os.remove(\"B.txt\")"
   ]
  },
  {
   "cell_type": "markdown",
   "id": "55f9af54",
   "metadata": {},
   "source": [
    "## Error and Exception Handling"
   ]
  },
  {
   "cell_type": "markdown",
   "id": "16255f5b",
   "metadata": {},
   "source": [
    "#### Python has many built-in exceptions (AritheticError, ZeroDivisionError, EOFError, IndexError, KeyError, SyntaxError, IndentationError, FileNotFoundError etc) that are raised when your program encounters an error.\n",
    "#### When the exception occurs Python interpreter stops the current process and passes it to the calling process until it is handled.\n",
    "#### If exception is not handled the program will craso.\n",
    "#### Exceptions in python can be handled using a try statement. The try block lets you test a block of code for errors.\n",
    "#### The block of code which can raise an exception is placed inside the try clause.\n",
    "#### The code that will handle the exceptions is written in the except clause.\n",
    "#### The finally code block will execute regardless of the result of the try and except blocks.\n",
    "#### We can also use the else keyword to define a block of code to be executed if no exceptions were raised."
   ]
  },
  {
   "cell_type": "code",
   "execution_count": 34,
   "id": "0104216b",
   "metadata": {},
   "outputs": [
    {
     "ename": "ZeroDivisionError",
     "evalue": "division by zero",
     "output_type": "error",
     "traceback": [
      "\u001b[1;31m---------------------------------------------------------------------------\u001b[0m",
      "\u001b[1;31mZeroDivisionError\u001b[0m                         Traceback (most recent call last)",
      "Cell \u001b[1;32mIn[34], line 1\u001b[0m\n\u001b[1;32m----> 1\u001b[0m \u001b[38;5;28mprint\u001b[39m(\u001b[38;5;241m100\u001b[39m\u001b[38;5;241m/\u001b[39m\u001b[38;5;241m0\u001b[39m)\n",
      "\u001b[1;31mZeroDivisionError\u001b[0m: division by zero"
     ]
    }
   ],
   "source": [
    "print(100/0)"
   ]
  },
  {
   "cell_type": "code",
   "execution_count": 36,
   "id": "481024d7",
   "metadata": {},
   "outputs": [
    {
     "name": "stdout",
     "output_type": "stream",
     "text": [
      "100.0\n"
     ]
    },
    {
     "ename": "ZeroDivisionError",
     "evalue": "division by zero",
     "output_type": "error",
     "traceback": [
      "\u001b[1;31m---------------------------------------------------------------------------\u001b[0m",
      "\u001b[1;31mZeroDivisionError\u001b[0m                         Traceback (most recent call last)",
      "Cell \u001b[1;32mIn[36], line 2\u001b[0m\n\u001b[0;32m      1\u001b[0m \u001b[38;5;28mprint\u001b[39m(\u001b[38;5;241m100\u001b[39m\u001b[38;5;241m/\u001b[39m\u001b[38;5;241m1\u001b[39m)\n\u001b[1;32m----> 2\u001b[0m \u001b[38;5;28mprint\u001b[39m(\u001b[38;5;241m100\u001b[39m\u001b[38;5;241m/\u001b[39m\u001b[38;5;241m0\u001b[39m)\n",
      "\u001b[1;31mZeroDivisionError\u001b[0m: division by zero"
     ]
    }
   ],
   "source": [
    "print(100/1)\n",
    "print(100/0)"
   ]
  },
  {
   "cell_type": "code",
   "execution_count": 39,
   "id": "d96828b5",
   "metadata": {},
   "outputs": [
    {
     "name": "stdout",
     "output_type": "stream",
     "text": [
      "Exception occured..\n",
      "Run this code block of alwayss..\n"
     ]
    }
   ],
   "source": [
    "try:\n",
    "    print(100/0)  # ZeroDivisionError will be encountered here. So the controll will go to except clause.\n",
    "except:\n",
    "    print(\"Exception occured..\") # This statement will be executed once exception arises.\n",
    "else:\n",
    "    print(\"No exception occurred\")  # This will be skipped as code block inside try throws an exception.\n",
    "finally: \n",
    "    print(\"Run this code block of alwayss..\")  # This will be always executed."
   ]
  },
  {
   "cell_type": "code",
   "execution_count": 54,
   "id": "d1a368ca",
   "metadata": {},
   "outputs": [
    {
     "name": "stdout",
     "output_type": "stream",
     "text": [
      "50.0\n",
      "No exception occurred\n",
      "Run this code block of alwayss..\n"
     ]
    }
   ],
   "source": [
    "try:\n",
    "    print(100/2)\n",
    "except:\n",
    "    print(\"Exception occured..\")\n",
    "else:\n",
    "    print(\"No exception occurred\")\n",
    "finally:\n",
    "    print(\"Run this code block of alwayss..\")"
   ]
  },
  {
   "cell_type": "code",
   "execution_count": 50,
   "id": "2c81fca3",
   "metadata": {},
   "outputs": [
    {
     "name": "stdout",
     "output_type": "stream",
     "text": [
      "Exception occured..\n",
      "<class 'FileNotFoundError'> [WinError 2] The system cannot find the file specified: 'test.txt'\n",
      "Run this code block of always..\n"
     ]
    }
   ],
   "source": [
    "import sys\n",
    "\n",
    "try:\n",
    "    os.remove(\"test.txt\")\n",
    "    \n",
    "except:\n",
    "    print(\"Exception occured..\")\n",
    "    print(sys.exc_info()[0], sys.exc_info()[1])  # like a indexing\n",
    "    \n",
    "else:\n",
    "    print(\"No exception occured\")\n",
    "    \n",
    "finally:\n",
    "    print(\"Run this code block of always..\")"
   ]
  },
  {
   "cell_type": "code",
   "execution_count": 10,
   "id": "157668b4",
   "metadata": {},
   "outputs": [
    {
     "name": "stdout",
     "output_type": "stream",
     "text": [
      "Enter first number:50\n",
      "Enter second number:5\n",
      "10.0\n",
      "The system cannot find the file specified:'test.txt'\n"
     ]
    }
   ],
   "source": [
    "# Handling specific exception\n",
    "\n",
    "# A single try block can be followed by more than one except block.\n",
    "\n",
    "import os\n",
    "\n",
    "try:\n",
    "    x = int(input(\"Enter first number:\"))\n",
    "    y = int(input(\"Enter second number:\"))\n",
    "    print(x/y)\n",
    "    os.remove(\"mnsd.txt\")\n",
    "    #print(x+y)\n",
    "\n",
    "except NameError:\n",
    "    print(\"name 'Nameerror' is not defined\")\n",
    "except FileNotFoundError:\n",
    "    print(\"The system cannot find the file specified:'test.txt'\")\n",
    "except ZeroDivisionError:\n",
    "    print(\"Division by zero\")"
   ]
  },
  {
   "cell_type": "code",
   "execution_count": 11,
   "id": "0124754b",
   "metadata": {},
   "outputs": [
    {
     "name": "stdout",
     "output_type": "stream",
     "text": [
      "Enter first number:54\n",
      "Enter second number:44\n",
      "Exception occured...\n",
      "Run this code block of always...\n"
     ]
    }
   ],
   "source": [
    "try:\n",
    "    x = input(\"Enter first number:\")\n",
    "    y = input(\"Enter second number:\")\n",
    "    print(x - y) \n",
    "\n",
    "except:\n",
    "    print(\"Exception occured...\")\n",
    "else:\n",
    "    print(\"No exception occured...\")\n",
    "finally:\n",
    "    print(\"Run this code block of always...\")"
   ]
  },
  {
   "cell_type": "markdown",
   "id": "ed894242",
   "metadata": {},
   "source": [
    "## Build in exceptions"
   ]
  },
  {
   "cell_type": "markdown",
   "id": "8262669a",
   "metadata": {},
   "source": [
    "#### OverflowError\n",
    "#### ZeroDivisionError\n",
    "#### NameError\n",
    "#### AssertionError\n",
    "#### ModuleNotFoundError\n",
    "#### KeyError\n",
    "#### IndexError\n",
    "#### TypeError\n",
    "#### AttributeError"
   ]
  },
  {
   "cell_type": "code",
   "execution_count": 21,
   "id": "61f8dc85",
   "metadata": {},
   "outputs": [
    {
     "name": "stdout",
     "output_type": "stream",
     "text": [
      "(<class 'OverflowError'>, OverflowError('math range error'), <traceback object at 0x0000021883501AC0>)\n"
     ]
    }
   ],
   "source": [
    "# OverflowError - This exception is raised when the result of a numeric calculation exceeds the limits of the data types.\n",
    "\n",
    "try:\n",
    "    import math\n",
    "    print(math.exp(4522))\n",
    "    \n",
    "except OverflowError:\n",
    "    import sys\n",
    "    print(sys.exc_info())    # system execution error\n",
    "    \n",
    "else:\n",
    "    print(\"Success,no error!\")"
   ]
  },
  {
   "cell_type": "code",
   "execution_count": 22,
   "id": "e6e41762",
   "metadata": {},
   "outputs": [
    {
     "name": "stdout",
     "output_type": "stream",
     "text": [
      "Enter first number:50\n",
      "Enter second number:0\n",
      "ZeroDivisionError is occured...\n"
     ]
    }
   ],
   "source": [
    "# ZeroDivisionError - This exceptipn is raised when the denominator contains the value 0\n",
    "\n",
    "try:\n",
    "    x = int(input(\"Enter first number:\"))\n",
    "    y = int(input(\"Enter second number:\"))\n",
    "    print(x/y)\n",
    "    \n",
    "except ZeroDivisionError:\n",
    "    print(\"ZeroDivisionError is occured...\")"
   ]
  },
  {
   "cell_type": "code",
   "execution_count": 23,
   "id": "ef93d650",
   "metadata": {},
   "outputs": [
    {
     "name": "stdout",
     "output_type": "stream",
     "text": [
      "NameError is occured..\n"
     ]
    }
   ],
   "source": [
    "# NammeError - This exception is raised when the variable name is different\n",
    "\n",
    "try:\n",
    "    print(i)\n",
    "    \n",
    "except NameError:\n",
    "    print(\"NameError is occured..\")"
   ]
  },
  {
   "cell_type": "code",
   "execution_count": 24,
   "id": "9bd31978",
   "metadata": {},
   "outputs": [
    {
     "name": "stdout",
     "output_type": "stream",
     "text": [
      "Assertion Exception raised..\n"
     ]
    }
   ],
   "source": [
    "# AssertionError - This exception is raised when an assert statement fails.\n",
    "\n",
    "try:\n",
    "    a = 80\n",
    "    b = \"ABCD\"\n",
    "    assert a == b\n",
    "    \n",
    "except AssertionError:\n",
    "    print(\"Assertion Exception raised..\")"
   ]
  },
  {
   "cell_type": "code",
   "execution_count": 26,
   "id": "622a6aa8",
   "metadata": {},
   "outputs": [],
   "source": [
    "a = \"JKGBMM\""
   ]
  },
  {
   "cell_type": "code",
   "execution_count": 27,
   "id": "fee7a48f",
   "metadata": {},
   "outputs": [],
   "source": [
    "# if condition returns True, then nothing happens:\n",
    "\n",
    "assert a == \"JKGBMM\""
   ]
  },
  {
   "cell_type": "code",
   "execution_count": 28,
   "id": "b7d720a3",
   "metadata": {},
   "outputs": [
    {
     "ename": "AssertionError",
     "evalue": "",
     "output_type": "error",
     "traceback": [
      "\u001b[1;31m---------------------------------------------------------------------------\u001b[0m",
      "\u001b[1;31mAssertionError\u001b[0m                            Traceback (most recent call last)",
      "Cell \u001b[1;32mIn[28], line 1\u001b[0m\n\u001b[1;32m----> 1\u001b[0m \u001b[38;5;28;01massert\u001b[39;00m a \u001b[38;5;241m==\u001b[39m \u001b[38;5;124m\"\u001b[39m\u001b[38;5;124mJKGBM\u001b[39m\u001b[38;5;124m\"\u001b[39m\n",
      "\u001b[1;31mAssertionError\u001b[0m: "
     ]
    }
   ],
   "source": [
    "# if condition returns False, it will display error:\n",
    "\n",
    "assert a == \"JKGBM\""
   ]
  },
  {
   "cell_type": "code",
   "execution_count": 33,
   "id": "a77fd6f4",
   "metadata": {},
   "outputs": [
    {
     "name": "stdout",
     "output_type": "stream",
     "text": [
      "ModuleNotFoundError Exception raised...\n"
     ]
    }
   ],
   "source": [
    "# ModuleNotFoundError - This exception is raised when an imported module does not exist.\n",
    "\n",
    "try:\n",
    "    import Pandas\n",
    "    \n",
    "except ModuleNotFoundError:\n",
    "    print(\"ModuleNotFoundError Exception raised...\")"
   ]
  },
  {
   "cell_type": "code",
   "execution_count": 37,
   "id": "669d8555",
   "metadata": {},
   "outputs": [
    {
     "name": "stdout",
     "output_type": "stream",
     "text": [
      "KeyError Exception Raised..\n"
     ]
    }
   ],
   "source": [
    "# KeyError - This exception is raised when key does not exists in a dictionary\n",
    "\n",
    "try:\n",
    "    dict1 = {1:\"One\",2:\"Two\",3:\"Three\"}\n",
    "    print(dict1[4])\n",
    "    \n",
    "except KeyError:\n",
    "    print(\"KeyError Exception Raised..\")"
   ]
  },
  {
   "cell_type": "code",
   "execution_count": 40,
   "id": "d8c2c0eb",
   "metadata": {},
   "outputs": [
    {
     "name": "stdout",
     "output_type": "stream",
     "text": [
      "IndexError Exception Raised..\n"
     ]
    }
   ],
   "source": [
    "# IndexError - This exception is raised when an index of a sequence does not exist.\n",
    "\n",
    "try:\n",
    "    l1 = [1,2,3,4,5,6]\n",
    "    print(l1[7])\n",
    "    \n",
    "except IndexError:\n",
    "    print(\"IndexError xception Raised..\")"
   ]
  },
  {
   "cell_type": "code",
   "execution_count": 41,
   "id": "2c9fe0db",
   "metadata": {},
   "outputs": [
    {
     "name": "stdout",
     "output_type": "stream",
     "text": [
      "TypeError Exception Raised..\n"
     ]
    }
   ],
   "source": [
    "# TypeError - This exception is raised when two different datatypes are combined\n",
    "\n",
    "try:\n",
    "    a = 50\n",
    "    b = \"ABC\"\n",
    "    c = a/b\n",
    "    \n",
    "except TypeError:\n",
    "    print(\"TypeError Exception Raised..\")"
   ]
  },
  {
   "cell_type": "code",
   "execution_count": 4,
   "id": "6b1f9a1a",
   "metadata": {},
   "outputs": [
    {
     "name": "stdout",
     "output_type": "stream",
     "text": [
      "AttributeError Exception raised...\n"
     ]
    }
   ],
   "source": [
    "# AttributeError: - This exception is raised when\n",
    "\n",
    "# Accessing an attribute that is not accessible\n",
    "# Misspelling an attribute name\n",
    "# Accessing or setting a non-existent attribute\n",
    "# Trying to access functions with datatype mismatch\n",
    "\n",
    "try:\n",
    "    a = 10\n",
    "    b = a.upper()\n",
    "    print(b)\n",
    "    \n",
    "except AttributeError:\n",
    "    print(\"AttributeError Exception raised...\")"
   ]
  },
  {
   "cell_type": "code",
   "execution_count": 8,
   "id": "5b3f664a",
   "metadata": {},
   "outputs": [
    {
     "name": "stdout",
     "output_type": "stream",
     "text": [
      "Something went wrong...! 'float' object has no attribute 'upper'\n"
     ]
    }
   ],
   "source": [
    "try:\n",
    "    a = 10.5\n",
    "    b = a.upper()\n",
    "    print(b)\n",
    "    \n",
    "except Exception as e:\n",
    "    print(\"Something went wrong...!\",e)"
   ]
  },
  {
   "cell_type": "code",
   "execution_count": 10,
   "id": "8b37eca3",
   "metadata": {},
   "outputs": [
    {
     "ename": "AttributeError",
     "evalue": "'int' object has no attribute 'upper'",
     "output_type": "error",
     "traceback": [
      "\u001b[1;31m---------------------------------------------------------------------------\u001b[0m",
      "\u001b[1;31mAttributeError\u001b[0m                            Traceback (most recent call last)",
      "Cell \u001b[1;32mIn[10], line 2\u001b[0m\n\u001b[0;32m      1\u001b[0m a \u001b[38;5;241m=\u001b[39m \u001b[38;5;241m10\u001b[39m\n\u001b[1;32m----> 2\u001b[0m b \u001b[38;5;241m=\u001b[39m a\u001b[38;5;241m.\u001b[39mupper()\n\u001b[0;32m      3\u001b[0m \u001b[38;5;28mprint\u001b[39m(b)\n",
      "\u001b[1;31mAttributeError\u001b[0m: 'int' object has no attribute 'upper'"
     ]
    }
   ],
   "source": [
    "a = 10\n",
    "b = a.upper()\n",
    "print(b)"
   ]
  },
  {
   "cell_type": "markdown",
   "id": "1dce5813",
   "metadata": {},
   "source": [
    "## File Reading and Writting"
   ]
  },
  {
   "cell_type": "code",
   "execution_count": 13,
   "id": "a00e4087",
   "metadata": {},
   "outputs": [
    {
     "name": "stdout",
     "output_type": "stream",
     "text": [
      "Python objects are processed and stored in pickle files. This implies that before being stored on the disc, objects like lists, sets, tuples, etc. are transformed into a character stream. This makes it possible for you to use the things later on. When your machine learning model has been developed and you want to use it for predictions in the future, these are especially helpful.\n",
      "\n",
      "Therefore, if the files were serialized before being saved, you must de-serialize them before using them in your Python scripts. The pickle module's pickle.load() function is used for this. However, to read the binary file while using Python's open() method, you must specify the 'rb' parameter.\n",
      "\n",
      "import pickle\n",
      "\n",
      "with open('./Importing files/sample_pickle.pkl','rb') as file:\n",
      "\n",
      "     data = pickle.load(file)\n",
      "\n",
      "# pickle data\n",
      "\n",
      "print(type(data))\n",
      "\n",
      "df_pkl = pd.DataFrame(data)\n",
      "\n",
      "df_pkl\n"
     ]
    }
   ],
   "source": [
    "# Read a text file and print its content\n",
    "\n",
    "with open('input.txt','r') as fileobj:\n",
    "    content = fileobj.read()\n",
    "    print(content)"
   ]
  },
  {
   "cell_type": "code",
   "execution_count": 16,
   "id": "010bae40",
   "metadata": {},
   "outputs": [
    {
     "name": "stdout",
     "output_type": "stream",
     "text": [
      "परिचय\n",
      "\n",
      "अगर आप जानते हैं कि Python Kya Hai और Python Ke Kya Benefits Hai हैं, तो अगली चीज़ जो आपको यह जाननी चाहिए कि Python Ka Use Kya Hai? इसका उपयोग कहां किया जा सकता है?\n",
      "\n",
      "इस पाइथन ट्यूटोरियल में, हमने उदाहरण की मदद से पायथन के 10 उपयोगों और एप्लीकेशन के बारे में बताया  है। इससे आपको पायथन लैंग्वेज के फायदों के बारे में भी बेहतर अंदाजा लगाने में मदद मिलेगी।\n",
      "\n",
      "हाल के वर्षों में, टेक्नोलॉजी हमारे जीवन के लगभग हर पहलू में विकसित हुई है। डिजिटल युग में रहने से यह स्पष्ट हो गया है कि सॉफ्टवेयर आधुनिक सुविधाओं और सर्विसेज को चलाने में महत्वपूर्ण भूमिका निभाता है। यात्रा, शिक्षा, सॉफ्टवेयर, रिसर्च, बैंकिंग और मिलिट्री से लेकर उद्योग कुशलतापूर्वक संचालित होने के लिए सॉफ्टवेयर पर बहुत अधिक निर्भर हैं।\n",
      "\n",
      "हम इस फैक्ट से परिचित हैं कि प्रत्येक सॉफ़्टवेयर किसी न किसी Programming Language में लिखा गया है। आज  इंटरनेट पर बहुत सारी प्रोग्रामिंग भाषाएँ उपलब्ध हैं जिनका विकास तेजी से हो रहा है। ऐसी ही एक प्रोग्रामिंग भाषा जिसका विश्व पर महत्वपूर्ण प्रभाव पड़ा, वह है Python.\n"
     ]
    }
   ],
   "source": [
    "with open('h.txt','r',encoding = 'utf-8') as fileobj:  # Using other language it does not suport means u need to specify encoding = 'utf-8'\n",
    "    content = fileobj.read()\n",
    "    print(content)"
   ]
  },
  {
   "cell_type": "code",
   "execution_count": 23,
   "id": "d91301b0",
   "metadata": {},
   "outputs": [],
   "source": [
    "# Copy the contents of one text file to another\n",
    "\n",
    "with open('input.txt','r',encoding='utf-8') as source_file:\n",
    "    with open('output.txt','w') as target_file:\n",
    "        target_file.write(source_file.read())"
   ]
  },
  {
   "cell_type": "code",
   "execution_count": 24,
   "id": "345f5126",
   "metadata": {},
   "outputs": [],
   "source": [
    "target_file.close()"
   ]
  },
  {
   "cell_type": "code",
   "execution_count": 25,
   "id": "4db6f7a0",
   "metadata": {},
   "outputs": [],
   "source": [
    "# Append text to an existing file\n",
    "\n",
    "with open(\"output.txt\",'a')as file:\n",
    "    file.write(\"\\nAppended line...\")"
   ]
  },
  {
   "cell_type": "code",
   "execution_count": 26,
   "id": "81d49c39",
   "metadata": {},
   "outputs": [
    {
     "data": {
      "text/plain": [
       "\"Python objects are processed and stored in pickle files. This implies that before being stored on the disc, objects like lists, sets, tuples, etc. are transformed into a character stream. This makes it possible for you to use the things later on. When your machine learning model has been developed and you want to use it for predictions in the future, these are especially helpful.\\n\\nTherefore, if the files were serialized before being saved, you must de-serialize them before using them in your Python scripts. The pickle module's pickle.load() function is used for this. However, to read the binary file while using Python's open() method, you must specify the 'rb' parameter.\\n\\nimport pickle\\n\\nwith open('./Importing files/sample_pickle.pkl','rb') as file:\\n\\n     data = pickle.load(file)\\n\\n# pickle data\\n\\nprint(type(data))\\n\\ndf_pkl = pd.DataFrame(data)\\n\\ndf_pkl\\nAppended line...\""
      ]
     },
     "execution_count": 26,
     "metadata": {},
     "output_type": "execute_result"
    }
   ],
   "source": [
    "file = open(\"output.txt\",'r')\n",
    "\n",
    "file.read()"
   ]
  },
  {
   "cell_type": "markdown",
   "id": "6e322423",
   "metadata": {},
   "source": [
    "## FILE MANIPULATION"
   ]
  },
  {
   "cell_type": "code",
   "execution_count": 1,
   "id": "e8e7f845",
   "metadata": {},
   "outputs": [
    {
     "name": "stdout",
     "output_type": "stream",
     "text": [
      "['Hemu', '25']\n",
      "['Saran', '25']\n"
     ]
    }
   ],
   "source": [
    "import csv \n",
    "\n",
    "# Make sure you have a file named 'data.csv' in the current working directory which comprises of 'Name' and 'Age'\n",
    "# Read a CSV file and display its contents\n",
    "\n",
    "with open('data.csv','r') as file:\n",
    "    csv_reader = csv.reader(file)\n",
    "    for row in csv_reader:\n",
    "        print(row)"
   ]
  },
  {
   "cell_type": "code",
   "execution_count": 38,
   "id": "7901b3dd",
   "metadata": {},
   "outputs": [],
   "source": [
    "# Write data to CSV file\n",
    "\n",
    "data_to_write = [['Name','Age'],['Hema',20],['Saranya',21]]\n",
    "with open('data.csv','w',newline='') as file:\n",
    "    csv_writer = csv.writer(file)\n",
    "    csv_writer.writerows(data_to_write)"
   ]
  },
  {
   "cell_type": "code",
   "execution_count": 40,
   "id": "50b19792",
   "metadata": {},
   "outputs": [],
   "source": [
    "# Update data to CSV file\n",
    "\n",
    "data_to_update = [['Hemu',25],['Saran',25]]\n",
    "with open('data.csv','a',newline='') as file:\n",
    "    csv_writer = csv.writer(file)\n",
    "    csv_writer.writerows(data_to_update)"
   ]
  },
  {
   "cell_type": "code",
   "execution_count": null,
   "id": "5e75cfa7",
   "metadata": {},
   "outputs": [],
   "source": [
    "## Error Handling and File Operations"
   ]
  },
  {
   "cell_type": "code",
   "execution_count": 4,
   "id": "2db300c9",
   "metadata": {},
   "outputs": [
    {
     "name": "stdout",
     "output_type": "stream",
     "text": [
      "File not found..!\n"
     ]
    }
   ],
   "source": [
    "# Handle file not found errors\n",
    "\n",
    "try:\n",
    "    with open('append.txt','r') as file:\n",
    "        content = file.read()\n",
    "        print(content)\n",
    "        \n",
    "except FileNotFoundError:\n",
    "    print(\"File not found..!\")"
   ]
  },
  {
   "cell_type": "code",
   "execution_count": 46,
   "id": "09962134",
   "metadata": {},
   "outputs": [],
   "source": [
    "# Handle permission errors when working with files\n",
    "\n",
    "try:\n",
    "    with open('D.txt','w')as file:\n",
    "        file.read()\n",
    "        \n",
    "except PermissionError:\n",
    "    print(\"Permission denied..\")"
   ]
  },
  {
   "cell_type": "code",
   "execution_count": 53,
   "id": "687957d3",
   "metadata": {},
   "outputs": [],
   "source": [
    "try:\n",
    "    with open('K.txt','w')as file:\n",
    "        file.write(\"Write the file k...\")\n",
    "        \n",
    "except PermissionError:\n",
    "    print(\"Permission denied..\")"
   ]
  },
  {
   "cell_type": "code",
   "execution_count": 55,
   "id": "6cd3626a",
   "metadata": {},
   "outputs": [
    {
     "name": "stdout",
     "output_type": "stream",
     "text": [
      "Exception occured...! [Errno 2] No such file or directory: 'append.txt'\n"
     ]
    }
   ],
   "source": [
    "try:\n",
    "    with open('append.txt','r') as file:\n",
    "        content = file.read()\n",
    "        print(content)\n",
    "except Exception as e:\n",
    "    print(\"Exception occured...!\",e)"
   ]
  },
  {
   "cell_type": "markdown",
   "id": "7d100d35",
   "metadata": {},
   "source": [
    "## REGULAR EXPRESSION"
   ]
  },
  {
   "cell_type": "markdown",
   "id": "bb0d7139",
   "metadata": {},
   "source": [
    "#### A regular expression is a set of characters, or a pattern, which is used to find substrings in a given string.\n",
    "#### If there's a pattern in any string, you can easily extract, substitute and do all kinds of other string manipulation operations using regular expressions.\n",
    "#### Learning regular expressions basically means learning how to identify and define these patterns.\n",
    "#### Regulars expressions are a language in itself since they have their own compilers.\n",
    "#### Regular expressions are very powerful tool in text processing. It will help you to clean and handle your text in a much better way....\n"
   ]
  },
  {
   "cell_type": "code",
   "execution_count": 1,
   "id": "aa734c33",
   "metadata": {},
   "outputs": [],
   "source": [
    "# import regular expression\n",
    "\n",
    "import re"
   ]
  },
  {
   "cell_type": "code",
   "execution_count": 7,
   "id": "20b751fe",
   "metadata": {},
   "outputs": [
    {
     "data": {
      "text/plain": [
       "<re.Match object; span=(0, 4), match='Ravi'>"
      ]
     },
     "execution_count": 7,
     "metadata": {},
     "output_type": "execute_result"
    }
   ],
   "source": [
    "# search 'Ravi' in a string, search Returns a match obj if there is a match anywhere in a string it shows index position also\n",
    "\n",
    "re.search('Ravi','Ravi is an exceptional student..!')"
   ]
  },
  {
   "cell_type": "code",
   "execution_count": 8,
   "id": "ec8fa925",
   "metadata": {},
   "outputs": [
    {
     "data": {
      "text/plain": [
       "'Ravi'"
      ]
     },
     "execution_count": 8,
     "metadata": {},
     "output_type": "execute_result"
    }
   ],
   "source": [
    "# using group() method to display the output and grouping...\n",
    "\n",
    "a = re.search('Ravi','Ravi is an exceptional student..!')\n",
    "a.group()"
   ]
  },
  {
   "cell_type": "code",
   "execution_count": 2,
   "id": "62b45893",
   "metadata": {},
   "outputs": [
    {
     "name": "stdout",
     "output_type": "stream",
     "text": [
      "<re.Match object; span=(23, 30), match='analyst'>\n"
     ]
    },
    {
     "data": {
      "text/plain": [
       "'analyst'"
      ]
     },
     "execution_count": 2,
     "metadata": {},
     "output_type": "execute_result"
    }
   ],
   "source": [
    "# Function to match patterns\n",
    "\n",
    "def find_pattern(text,pattern):\n",
    "    if re.search(pattern,text):\n",
    "        m = re.search(pattern,text)\n",
    "        print(m)\n",
    "        return m.group()\n",
    "    else:\n",
    "        return 'Not Found..!'\n",
    "    \n",
    "find_pattern('Ravi is an exceptional analyst..!','analyst')"
   ]
  },
  {
   "cell_type": "code",
   "execution_count": 16,
   "id": "49ace80f",
   "metadata": {},
   "outputs": [
    {
     "data": {
      "text/plain": [
       "'Not Found..!'"
      ]
     },
     "execution_count": 16,
     "metadata": {},
     "output_type": "execute_result"
    }
   ],
   "source": [
    "def find_pattern(text,pattern):\n",
    "    if re.search(pattern,text):\n",
    "        m = re.search(pattern,text)\n",
    "        print(m)\n",
    "        return m.group()\n",
    "    else:\n",
    "        return 'Not Found..!'\n",
    "    \n",
    "find_pattern('Ravi is an exceptional analyst..!','Analyst')"
   ]
  },
  {
   "cell_type": "markdown",
   "id": "d445ebec",
   "metadata": {},
   "source": [
    "## QUANTIFIERS"
   ]
  },
  {
   "cell_type": "markdown",
   "id": "5c2317f7",
   "metadata": {},
   "source": [
    "## Four types of quantifiers:"
   ]
  },
  {
   "cell_type": "markdown",
   "id": "f2748693",
   "metadata": {},
   "source": [
    "### The '?' operator It matches the preceding character zero or one time.\n",
    "#### The operator It is used to mark the presence of the preceding character zero or more times. \n",
    "#### The operator It matches the preceding character one or more times.\n",
    "#### The (m, n) operator It matches the preceding character 'm' times to 'n' times.\n",
    "#### (m, n): Matches the preceding character 'm' times to 'n' times.\n",
    "#### (,): Matches the preceding character 'n' times to infinite times, i.e. there is no upper limit to the occurrence of the preceding character.\n",
    "#### (, n): Matches the preceding character from zero to 'n' times, i.e. the upper limit is fixed regarding the occurrence of the preceding character. (n): Matches if the preceding character occurs exactly 'n' number of times.\n",
    "#### *?' is equivalent to zero or once, or (theta, 1)\n",
    "#### * is equivalent to zero or more times, or \\ 0 ,\\ '+' is equivalent to one or more times, or \\ 1 ,\\ ^ ..."
   ]
  },
  {
   "cell_type": "code",
   "execution_count": 33,
   "id": "73d29b52",
   "metadata": {},
   "outputs": [
    {
     "name": "stdout",
     "output_type": "stream",
     "text": [
      "<re.Match object; span=(0, 1), match='a'>\n",
      "a\n",
      "<re.Match object; span=(0, 3), match='abb'>\n",
      "abb\n",
      "<re.Match object; span=(0, 2), match='ac'>\n",
      "ac\n",
      "<re.Match object; span=(0, 4), match='adcc'>\n",
      "adcc\n",
      "<re.Match object; span=(0, 6), match='abcddd'>\n",
      "abcddd\n"
     ]
    }
   ],
   "source": [
    "# '*' it means zero nothing will print not show error more than zero it will be print..\n",
    "\n",
    "print(find_pattern('ac','ab*'))\n",
    "print(find_pattern('abbc','ab*'))\n",
    "print(find_pattern('acccccb','aca*'))\n",
    "print(find_pattern('adccadd','adc*'))\n",
    "print(find_pattern('abcdddaa','abcd*'))"
   ]
  },
  {
   "cell_type": "code",
   "execution_count": 38,
   "id": "c9f96f9d",
   "metadata": {},
   "outputs": [
    {
     "name": "stdout",
     "output_type": "stream",
     "text": [
      "<re.Match object; span=(0, 1), match='a'>\n",
      "a\n",
      "<re.Match object; span=(0, 2), match='ab'>\n",
      "ab\n",
      "<re.Match object; span=(0, 2), match='ac'>\n",
      "ac\n",
      "<re.Match object; span=(0, 3), match='adc'>\n",
      "adc\n",
      "<re.Match object; span=(0, 4), match='abcd'>\n",
      "abcd\n"
     ]
    }
   ],
   "source": [
    "# '?' Zero or one (tells whether a pattern is absent or present)\n",
    "\n",
    "print(find_pattern('ac','ab?'))\n",
    "print(find_pattern('abbc','ab?'))\n",
    "print(find_pattern('acccccbaa','ac?'))\n",
    "print(find_pattern('adccadd','adc?'))\n",
    "print(find_pattern('abcdddaa','abcd?'))"
   ]
  },
  {
   "cell_type": "code",
   "execution_count": 37,
   "id": "a84f2135",
   "metadata": {},
   "outputs": [
    {
     "name": "stdout",
     "output_type": "stream",
     "text": [
      "<re.Match object; span=(0, 8), match='acccccba'>\n",
      "acccccba\n"
     ]
    }
   ],
   "source": [
    "print(find_pattern('acccccbaa','ac*ba?'))"
   ]
  },
  {
   "cell_type": "code",
   "execution_count": 39,
   "id": "2bc90127",
   "metadata": {},
   "outputs": [
    {
     "name": "stdout",
     "output_type": "stream",
     "text": [
      "<re.Match object; span=(0, 2), match='ac'>\n",
      "ac\n"
     ]
    }
   ],
   "source": [
    "print(find_pattern('acccccbaa','acb*?'))  # It gives 2 regular expression means it will skip the particular condition"
   ]
  },
  {
   "cell_type": "code",
   "execution_count": 40,
   "id": "32a85c8f",
   "metadata": {},
   "outputs": [
    {
     "name": "stdout",
     "output_type": "stream",
     "text": [
      "Not Found..!\n",
      "<re.Match object; span=(0, 3), match='abb'>\n",
      "abb\n",
      "<re.Match object; span=(0, 6), match='accccc'>\n",
      "accccc\n",
      "<re.Match object; span=(0, 4), match='adcc'>\n",
      "adcc\n",
      "<re.Match object; span=(0, 6), match='abcddd'>\n",
      "abcddd\n"
     ]
    }
   ],
   "source": [
    "# '+' One or more\n",
    "\n",
    "print(find_pattern('ac','ab+'))\n",
    "print(find_pattern('abbc','ab+'))\n",
    "print(find_pattern('acccccbaa','ac+'))\n",
    "print(find_pattern('adccadd','adc+'))\n",
    "print(find_pattern('abcdddaa','abcd+'))"
   ]
  },
  {
   "cell_type": "code",
   "execution_count": 43,
   "id": "5dd56a33",
   "metadata": {},
   "outputs": [
    {
     "name": "stdout",
     "output_type": "stream",
     "text": [
      "Not Found..!\n",
      "<re.Match object; span=(0, 3), match='abb'>\n",
      "abb\n",
      "<re.Match object; span=(0, 4), match='accc'>\n",
      "accc\n",
      "<re.Match object; span=(0, 2), match='ad'>\n",
      "ad\n",
      "Not Found..!\n"
     ]
    }
   ],
   "source": [
    "# {n} matches if a character is present exactly n number of times...\n",
    "\n",
    "print(find_pattern('ac','ab{1}'))\n",
    "print(find_pattern('abbc','ab{2}'))\n",
    "print(find_pattern('acccccbaa','ac{3}'))\n",
    "print(find_pattern('adccadd','adc{0}'))\n",
    "print(find_pattern('abcdddaa','abcd{4}'))"
   ]
  },
  {
   "cell_type": "code",
   "execution_count": 51,
   "id": "b44843e9",
   "metadata": {},
   "outputs": [
    {
     "name": "stdout",
     "output_type": "stream",
     "text": [
      "<re.Match object; span=(1, 7), match='abbbbb'>\n",
      "abbbbb\n",
      "<re.Match object; span=(0, 8), match='abbbbbbb'>\n",
      "abbbbbbb\n",
      "<re.Match object; span=(0, 5), match='acccc'>\n",
      "acccc\n",
      "Not Found..!\n",
      "<re.Match object; span=(0, 4), match='abbb'>\n",
      "abbb\n"
     ]
    }
   ],
   "source": [
    "# {m,n} Matches if a character is present from m to n number of times...\n",
    "\n",
    "print(find_pattern('aabbbbbbcc','ab{3,5}'))\n",
    "print(find_pattern('abbbbbbbcc','ab{2,}'))\n",
    "print(find_pattern('acccccbaaa','ac{3,4}'))\n",
    "print(find_pattern('addcccaddd','ad{2,}cd{2,5}'))\n",
    "print(find_pattern('abbbcdddaa','ab{2,}d{0,2}'))"
   ]
  },
  {
   "cell_type": "markdown",
   "id": "207bac00",
   "metadata": {},
   "source": [
    "## Data Grouping"
   ]
  },
  {
   "cell_type": "markdown",
   "id": "7b4ac6d1",
   "metadata": {},
   "source": [
    "## Grouping\n",
    "#### We have used quantifiers preceded by a single character which meant that the character preceded by the quantifier can repeat a specified number of times.\n",
    "#### If you put the parentheses around some characters, the quantifier will look for repetition of the group of characters rather than just looking for repetitions of the preceding character.\n",
    "#### This concept is called grouping in regular expression.\n",
    "## For example, the pattern '(abc)(1, 3)' will match the following strings:\n",
    "####     >- abc\n",
    "####     >- abcabc\n",
    "####     >- abcabcabc"
   ]
  },
  {
   "cell_type": "code",
   "execution_count": null,
   "id": "a8d720cc",
   "metadata": {},
   "outputs": [],
   "source": [
    "# **'- \"Tom's birthday is on 15/03/1995\".\n",
    "# - To extract the date from this string you can use the pattern - \"\\d{1, 2}\\/\\d(1,2}\\/\\d{4}\"•\n",
    "# - Now to extract the year, you can put parentheses around the year part of the pattern.\n",
    "# - The pattern is: \"Ad{1,2)/\\d{1,2}/(\\d{4))\".**"
   ]
  },
  {
   "cell_type": "code",
   "execution_count": 12,
   "id": "4c628b6b",
   "metadata": {},
   "outputs": [
    {
     "name": "stdout",
     "output_type": "stream",
     "text": [
      "<re.Match object; span=(21, 33), match='/2002/05/02/'>\n"
     ]
    }
   ],
   "source": [
    "# Data groupping - date,month,year\n",
    "\n",
    "import re\n",
    "\n",
    "a = \"Tom's birthday is on /2002/05/02/\"\n",
    "b = '/(\\d{4})/(\\d{1,2})/(\\d{1,2})/'\n",
    "print(re.search(b,a))"
   ]
  },
  {
   "cell_type": "code",
   "execution_count": 18,
   "id": "c615f1d2",
   "metadata": {},
   "outputs": [
    {
     "name": "stdout",
     "output_type": "stream",
     "text": [
      "/2002/05/02/\n"
     ]
    }
   ],
   "source": [
    "# Exploring Groups\n",
    "\n",
    "a1 = re.search(b,a)\n",
    "print(a1.group())"
   ]
  },
  {
   "cell_type": "code",
   "execution_count": 14,
   "id": "1a3fa876",
   "metadata": {},
   "outputs": [
    {
     "name": "stdout",
     "output_type": "stream",
     "text": [
      "2002\n"
     ]
    }
   ],
   "source": [
    "print(a1.group(1))"
   ]
  },
  {
   "cell_type": "code",
   "execution_count": 15,
   "id": "3c3df618",
   "metadata": {},
   "outputs": [
    {
     "name": "stdout",
     "output_type": "stream",
     "text": [
      "05\n"
     ]
    }
   ],
   "source": [
    "print(a1.group(2))"
   ]
  },
  {
   "cell_type": "code",
   "execution_count": 16,
   "id": "5ddb7fb8",
   "metadata": {},
   "outputs": [
    {
     "name": "stdout",
     "output_type": "stream",
     "text": [
      "02\n"
     ]
    }
   ],
   "source": [
    "print(a1.group(3))"
   ]
  },
  {
   "cell_type": "code",
   "execution_count": 17,
   "id": "90d02796",
   "metadata": {},
   "outputs": [
    {
     "name": "stdout",
     "output_type": "stream",
     "text": [
      "/2002/05/02/\n"
     ]
    }
   ],
   "source": [
    "print(a1.group(0))   ## default"
   ]
  },
  {
   "cell_type": "markdown",
   "id": "173b0967",
   "metadata": {},
   "source": [
    "## OR Operator"
   ]
  },
  {
   "cell_type": "markdown",
   "id": "567c26fc",
   "metadata": {},
   "source": [
    "#### Pipe operator is notated by '|' and is used as an OR operator. We use it inside the parentheses.\n",
    "#### For example, the pattern '(dig)one' will match both the strings - 'done' and 'gone\" \n",
    "#### The pipe operator tells that the place inside the parentheses can be either \"d' or 'g'.\n",
    "#### Similarly, the pattern '(ICICT|HDFC) Bank' will match the strings 'ICICI Bank' and 'HDFC Bank'.\n",
    "#### We can also use quantifiers after the parentheses as usual even when there is a pipe operator inside.\n",
    "#### Example: The pattern '(0|1|2)(2}'means'exactly two occurrences of either of 0, 1 or 2',and it will satch these strings - 08\",'01', '02','10', '11', '12', '28', '21' and *22'."
   ]
  },
  {
   "cell_type": "code",
   "execution_count": 24,
   "id": "5c2984ef",
   "metadata": {},
   "outputs": [
    {
     "name": "stdout",
     "output_type": "stream",
     "text": [
      "<re.Match object; span=(0, 4), match='done'>\n",
      "done\n",
      "Not Found..!\n",
      "<re.Match object; span=(0, 2), match='12'>\n",
      "12\n"
     ]
    }
   ],
   "source": [
    "print(find_pattern(\"done\",\"(d|g)one\"))\n",
    "print(find_pattern(\"fone\",\"(d|g)one\"))\n",
    "print(find_pattern(\"12\",\"(0|1|2){2}\"))"
   ]
  },
  {
   "cell_type": "markdown",
   "id": "e8da9ea9",
   "metadata": {},
   "source": [
    "## ANCHORS"
   ]
  },
  {
   "cell_type": "code",
   "execution_count": null,
   "id": "a77cf143",
   "metadata": {},
   "outputs": [],
   "source": []
  },
  {
   "cell_type": "code",
   "execution_count": 29,
   "id": "c07374c6",
   "metadata": {},
   "outputs": [
    {
     "name": "stdout",
     "output_type": "stream",
     "text": [
      "<re.Match object; span=(0, 1), match='J'>\n",
      "J\n",
      "Not Found..!\n"
     ]
    }
   ],
   "source": [
    "# '^': Indicates start of a string\n",
    "# '$': Indicates end of string\n",
    "\n",
    "print(find_pattern(\"James\",\"^J\"))\n",
    "print(find_pattern(\"Abi\",\"^B\"))"
   ]
  },
  {
   "cell_type": "code",
   "execution_count": 32,
   "id": "1b531d6f",
   "metadata": {},
   "outputs": [
    {
     "name": "stdout",
     "output_type": "stream",
     "text": [
      "Not Found..!\n",
      "<re.Match object; span=(3, 5), match='ya'>\n",
      "ya\n"
     ]
    }
   ],
   "source": [
    "print(find_pattern(\"James\",\"J$\"))\n",
    "print(find_pattern(\"Surya\",\"ya$\"))"
   ]
  },
  {
   "cell_type": "code",
   "execution_count": 37,
   "id": "fd8441ee",
   "metadata": {},
   "outputs": [
    {
     "name": "stdout",
     "output_type": "stream",
     "text": [
      "<re.Match object; span=(0, 5), match='James'>\n",
      "James\n"
     ]
    }
   ],
   "source": [
    "print(find_pattern(\"James\",\"^James$\"))"
   ]
  },
  {
   "cell_type": "markdown",
   "id": "5cbf99d9",
   "metadata": {},
   "source": [
    "## WILDCARDS"
   ]
  },
  {
   "cell_type": "markdown",
   "id": "7c5db233",
   "metadata": {},
   "source": [
    "#### There is one special character in regular expressions that acts as a placeholder and can match any character (literally) in the given input string.\n",
    "#### It's the '.'(dot) character is also called wildcard character"
   ]
  },
  {
   "cell_type": "code",
   "execution_count": 4,
   "id": "3f988707",
   "metadata": {},
   "outputs": [
    {
     "name": "stdout",
     "output_type": "stream",
     "text": [
      "<re.Match object; span=(0, 1), match='x'>\n",
      "x\n",
      "<re.Match object; span=(0, 2), match='#5'>\n",
      "#5\n",
      "<re.Match object; span=(0, 6), match='as hff'>\n",
      "as hff\n"
     ]
    }
   ],
   "source": [
    "# '.': Matches any character\n",
    "\n",
    "print(find_pattern(\"xy\",\".\"))\n",
    "print(find_pattern(\"#560\",\"..\"))\n",
    "print(find_pattern(\"as hff\",\"......\"))"
   ]
  },
  {
   "cell_type": "markdown",
   "id": "8110d9f5",
   "metadata": {},
   "source": [
    "## CHARACTER SETS"
   ]
  },
  {
   "cell_type": "markdown",
   "id": "9b1ed9a5",
   "metadata": {},
   "source": [
    "#### Character sets provide lot more flexibility than just typing a wildcard or the literal characters.\n",
    "#### Character sets can be specified with or without a quantifier.\n",
    "#### When no quantifier succeeds the character set, it matches only one character.\n",
    "#### -For example, the pattern '[a-zed' will match strings such as 'ted', 'bed', 'red' and so on because the first character of each string\n",
    "#### 't', 'b' and 'p' - is present inside the range of the character set.\n",
    "#### When we use a character set with a quantifier, such as in this case - '[a-z]+ed*, it will match any word that ends with 'ed' such as 'watched', \"baked', \"jammed', 'educated' and so on.\n",
    "#### A quantifier loses its special meaning when it's present inside the character set. Inside square brackets, it is treated as any other character.\n",
    "#### We can also mention a whitespace character inside a character set to specify one or more whitespaces inside the string.\n",
    "#### The pattern [A-z ] can be used to match the full name of a person. It includes a space, so it can match the full name which includes the first name, a space, and the last name of the person."
   ]
  },
  {
   "cell_type": "code",
   "execution_count": 5,
   "id": "85a20562",
   "metadata": {},
   "outputs": [
    {
     "name": "stdout",
     "output_type": "stream",
     "text": [
      "<re.Match object; span=(1, 2), match='b'>\n",
      "b\n",
      "<re.Match object; span=(2, 3), match='d'>\n",
      "d\n"
     ]
    }
   ],
   "source": [
    "# '['and']' are used for specifying a character class,which is a set of characters that you wish to match.\n",
    "# Characters can be listed individually as you follow also:\n",
    "\n",
    "print(find_pattern(\"dbcg\",\"[abc]\"))\n",
    "print(find_pattern(\"abdfybn\",\"[d-j]\"))"
   ]
  },
  {
   "cell_type": "markdown",
   "id": "35c1a60a",
   "metadata": {},
   "source": [
    "## Greedy VS Non-greedy regex"
   ]
  },
  {
   "cell_type": "markdown",
   "id": "d18dd3c4",
   "metadata": {},
   "source": [
    "#### _match a string, the regex greedily tries to look for the longest\n",
    "#### When you use a regular expression to pattern possible in the string.\n",
    "#### - For example, when you specify the pattern 'ab{2,5}' to match the string 'abbbbb',it will look for the maximum number of occurrences of 'b' (in this case 5). This is called a 'greedy approach'.\n",
    "#### There is another approach called the non-greedy approach, also called the lazy approach, where the regex stops looking for the pattern once a particular condition is satisfied.\n",
    "#### For example, when you specify the pattern 'ab{2,5)' to match the string 'abb', it will look for the match atmost once, here it is 2.\n",
    "#### - To use a pattern in a non-greedy way, you can just put a question mark at the end of any of the quantifiers."
   ]
  },
  {
   "cell_type": "code",
   "execution_count": 14,
   "id": "24e60188",
   "metadata": {},
   "outputs": [
    {
     "name": "stdout",
     "output_type": "stream",
     "text": [
      "<re.Match object; span=(0, 2), match='aa'>\n",
      "aa\n"
     ]
    }
   ],
   "source": [
    "print(find_pattern(\"aabbbcc\",\"^a{1,4}\")) # it takes maximum value"
   ]
  },
  {
   "cell_type": "code",
   "execution_count": 12,
   "id": "c1571380",
   "metadata": {},
   "outputs": [
    {
     "name": "stdout",
     "output_type": "stream",
     "text": [
      "<re.Match object; span=(1, 5), match='abbb'>\n",
      "abbb\n"
     ]
    }
   ],
   "source": [
    "print(find_pattern(\"aabbbcc\",\"ab{2,4}\")) # it takes maximum value"
   ]
  },
  {
   "cell_type": "code",
   "execution_count": 7,
   "id": "6d6bc0ff",
   "metadata": {},
   "outputs": [
    {
     "name": "stdout",
     "output_type": "stream",
     "text": [
      "<re.Match object; span=(1, 4), match='abb'>\n",
      "abb\n"
     ]
    }
   ],
   "source": [
    "print(find_pattern(\"aabbbcc\",\"ab{2,4}?\")) # it takes minimum value"
   ]
  },
  {
   "cell_type": "code",
   "execution_count": null,
   "id": "b562e1c7",
   "metadata": {},
   "outputs": [],
   "source": []
  },
  {
   "cell_type": "code",
   "execution_count": 2,
   "id": "b5cd8e99",
   "metadata": {},
   "outputs": [
    {
     "data": {
      "text/plain": [
       "'Tharani'"
      ]
     },
     "execution_count": 2,
     "metadata": {},
     "output_type": "execute_result"
    }
   ],
   "source": [
    "# Search\n",
    "\n",
    "import re\n",
    "\n",
    "a = re.search(\"Tharani\",\"Tharani is an excellent student\")\n",
    "a.group()"
   ]
  },
  {
   "cell_type": "code",
   "execution_count": 3,
   "id": "45aa1f7a",
   "metadata": {},
   "outputs": [
    {
     "data": {
      "text/plain": [
       "'Tharani'"
      ]
     },
     "execution_count": 3,
     "metadata": {},
     "output_type": "execute_result"
    }
   ],
   "source": [
    "# match\n",
    "\n",
    "b = re.match(\"Tharani\",\"Tharani is an excellent student\")\n",
    "b.group()"
   ]
  },
  {
   "cell_type": "code",
   "execution_count": 4,
   "id": "99d8ff6f",
   "metadata": {},
   "outputs": [
    {
     "data": {
      "text/plain": [
       "'Tharani'"
      ]
     },
     "execution_count": 4,
     "metadata": {},
     "output_type": "execute_result"
    }
   ],
   "source": [
    "a1 = re.search(\"Tharani\",\" Student Tharani is an excellent student\")  # it search in the pattern and find out the txt\n",
    "a1.group()  "
   ]
  },
  {
   "cell_type": "code",
   "execution_count": 5,
   "id": "df3b1360",
   "metadata": {},
   "outputs": [
    {
     "ename": "AttributeError",
     "evalue": "'NoneType' object has no attribute 'group'",
     "output_type": "error",
     "traceback": [
      "\u001b[1;31m---------------------------------------------------------------------------\u001b[0m",
      "\u001b[1;31mAttributeError\u001b[0m                            Traceback (most recent call last)",
      "Cell \u001b[1;32mIn[5], line 2\u001b[0m\n\u001b[0;32m      1\u001b[0m b1 \u001b[38;5;241m=\u001b[39m re\u001b[38;5;241m.\u001b[39mmatch(\u001b[38;5;124m\"\u001b[39m\u001b[38;5;124mTharani\u001b[39m\u001b[38;5;124m\"\u001b[39m,\u001b[38;5;124m\"\u001b[39m\u001b[38;5;124mStudent Tharani is an excellent student\u001b[39m\u001b[38;5;124m\"\u001b[39m)\n\u001b[1;32m----> 2\u001b[0m b1\u001b[38;5;241m.\u001b[39mgroup()\n",
      "\u001b[1;31mAttributeError\u001b[0m: 'NoneType' object has no attribute 'group'"
     ]
    }
   ],
   "source": [
    "b1 = re.match(\"Tharani\",\"Student Tharani is an excellent student\")  # it match the first txt only in between or last it does'nt match\n",
    "b1.group()"
   ]
  },
  {
   "cell_type": "code",
   "execution_count": 20,
   "id": "215cf6f1",
   "metadata": {},
   "outputs": [
    {
     "name": "stdout",
     "output_type": "stream",
     "text": [
      "21 Ramakr#ish_na Rd\n"
     ]
    }
   ],
   "source": [
    "# Example usage of the sub() function. Replace Road with rd.\n",
    "\n",
    "s = \"21 Ramakr#ish_na Road\"\n",
    "print(re.sub('Road','Rd',s))"
   ]
  },
  {
   "cell_type": "code",
   "execution_count": 16,
   "id": "8ed6cdb0",
   "metadata": {},
   "outputs": [
    {
     "name": "stdout",
     "output_type": "stream",
     "text": [
      "21 Rd Rd\n"
     ]
    }
   ],
   "source": [
    "print(re.sub(\"R\\w+\",\"Rd\",s))  # R\\w+ it means Starts with R and any other words replaced by Rd"
   ]
  },
  {
   "cell_type": "code",
   "execution_count": 21,
   "id": "deaae759",
   "metadata": {},
   "outputs": [
    {
     "name": "stdout",
     "output_type": "stream",
     "text": [
      "21RdRamakrRdish_naRdRoad\n"
     ]
    }
   ],
   "source": [
    "print(re.sub(\"\\W+\",\"Rd\",s))  # \\W+ it means fill the spaces in between the words"
   ]
  },
  {
   "cell_type": "code",
   "execution_count": 10,
   "id": "7faa7e4f",
   "metadata": {},
   "outputs": [
    {
     "name": "stdout",
     "output_type": "stream",
     "text": [
      "RdRd Ramakrishna Road\n"
     ]
    }
   ],
   "source": [
    "print(re.sub(\"\\d\",\"Rd\",s))  # \\d it means 0-9 replace the Rd (Digit)"
   ]
  },
  {
   "cell_type": "code",
   "execution_count": 11,
   "id": "aa1124ef",
   "metadata": {},
   "outputs": [
    {
     "name": "stdout",
     "output_type": "stream",
     "text": [
      "21RdRdRdRdRdRdRdRdRdRdRdRdRdRdRdRdRd\n"
     ]
    }
   ],
   "source": [
    "print(re.sub(\"\\D\",\"Rd\",s))  # \\D it means sapces and A-Z replace it (Except digit)"
   ]
  },
  {
   "cell_type": "code",
   "execution_count": 22,
   "id": "535516da",
   "metadata": {},
   "outputs": [
    {
     "name": "stdout",
     "output_type": "stream",
     "text": [
      "21RdRamakr#ish_naRdRoad\n"
     ]
    }
   ],
   "source": [
    "print(re.sub(\"\\s\",\"Rd\",s))  # \\s it means spaces to Replace the Rd "
   ]
  },
  {
   "cell_type": "code",
   "execution_count": 23,
   "id": "96837b3c",
   "metadata": {},
   "outputs": [
    {
     "name": "stdout",
     "output_type": "stream",
     "text": [
      "ssss ssssssssssssssssssssssssss ssssssss\n"
     ]
    }
   ],
   "source": [
    "print(re.sub(\"\\S\",\"ss\",s)) # except spaces it replace ss"
   ]
  },
  {
   "cell_type": "code",
   "execution_count": 27,
   "id": "23dd173f",
   "metadata": {},
   "outputs": [
    {
     "name": "stdout",
     "output_type": "stream",
     "text": [
      "[('2017', '10', '28'), ('2017', '05', '12')]\n"
     ]
    }
   ],
   "source": [
    "## findall - Find all the substrings where the RE matches and return them as a list\n",
    "## Example usage of findall(). In the given URL find all dates.\n",
    "\n",
    "url = \"http://www.telegraph.co.uk/formula-1/2017/10/28/mexican-grand-prix-2017-time-does-start-tv-channel-odds-lewisl/2017/05/12/\"\n",
    "a = \"/(\\d{4})/(\\d{1,2})/(\\d{1,2})/\"\n",
    "print(re.findall(a,url))"
   ]
  },
  {
   "cell_type": "code",
   "execution_count": 28,
   "id": "87076a10",
   "metadata": {},
   "outputs": [
    {
     "name": "stdout",
     "output_type": "stream",
     "text": [
      "Writting the python note books\n",
      "['ritting']\n"
     ]
    }
   ],
   "source": [
    "string = input()\n",
    "pattern = '([a-z]+ing)'\n",
    "print(re.findall(pattern,string))"
   ]
  },
  {
   "cell_type": "code",
   "execution_count": 32,
   "id": "31b00676",
   "metadata": {},
   "outputs": [
    {
     "name": "stdout",
     "output_type": "stream",
     "text": [
      "['writting', 'reading', 'ritting']\n",
      "['writting', 'reading', 'Writting']\n"
     ]
    }
   ],
   "source": [
    "# Ignore case using re.I I-Ignore\n",
    "\n",
    "string = \"python writting reading books Writting\"\n",
    "pattern = '([a-z]+ing)'\n",
    "print(re.findall(pattern,string))\n",
    "print(re.findall(pattern,string,re.I))"
   ]
  },
  {
   "cell_type": "code",
   "execution_count": 33,
   "id": "a78cdcf7",
   "metadata": {},
   "outputs": [
    {
     "name": "stdout",
     "output_type": "stream",
     "text": [
      "<re.Match object; span=(7, 14), match='writing'>\n",
      "writing\n"
     ]
    }
   ],
   "source": [
    "string = 'python writing reading books WRIting'\n",
    "pattern = '([a-z]+ing)'\n",
    "print(re.search(pattern,string))\n",
    "a=(re.search(pattern,string))\n",
    "print(a.group())"
   ]
  },
  {
   "cell_type": "code",
   "execution_count": 35,
   "id": "1df433d5",
   "metadata": {},
   "outputs": [
    {
     "name": "stdout",
     "output_type": "stream",
     "text": [
      "None\n"
     ]
    },
    {
     "ename": "AttributeError",
     "evalue": "'NoneType' object has no attribute 'group'",
     "output_type": "error",
     "traceback": [
      "\u001b[1;31m---------------------------------------------------------------------------\u001b[0m",
      "\u001b[1;31mAttributeError\u001b[0m                            Traceback (most recent call last)",
      "Cell \u001b[1;32mIn[35], line 5\u001b[0m\n\u001b[0;32m      3\u001b[0m \u001b[38;5;28mprint\u001b[39m(re\u001b[38;5;241m.\u001b[39mmatch(pattern,string))\n\u001b[0;32m      4\u001b[0m a\u001b[38;5;241m=\u001b[39m(re\u001b[38;5;241m.\u001b[39mmatch(pattern,string))\n\u001b[1;32m----> 5\u001b[0m \u001b[38;5;28mprint\u001b[39m(a\u001b[38;5;241m.\u001b[39mgroup())\n",
      "\u001b[1;31mAttributeError\u001b[0m: 'NoneType' object has no attribute 'group'"
     ]
    }
   ],
   "source": [
    "string = ' std writing reading books WRIting'\n",
    "pattern = '([a-z]+ing)'\n",
    "print(re.match(pattern,string))\n",
    "a=(re.match(pattern,string))\n",
    "print(a.group())"
   ]
  },
  {
   "cell_type": "code",
   "execution_count": 36,
   "id": "6a36b9ee",
   "metadata": {},
   "outputs": [
    {
     "name": "stdout",
     "output_type": "stream",
     "text": [
      "<re.Match object; span=(0, 7), match='writing'>\n",
      "writing\n"
     ]
    }
   ],
   "source": [
    "string = 'writing reading books WRIting'\n",
    "pattern = '([a-z]+ing)'\n",
    "print(re.match(pattern,string))\n",
    "a=(re.match(pattern,string))\n",
    "print(a.group())"
   ]
  },
  {
   "cell_type": "code",
   "execution_count": null,
   "id": "1407a09e",
   "metadata": {},
   "outputs": [],
   "source": [
    "+"
   ]
  }
 ],
 "metadata": {
  "kernelspec": {
   "display_name": "Python 3 (ipykernel)",
   "language": "python",
   "name": "python3"
  },
  "language_info": {
   "codemirror_mode": {
    "name": "ipython",
    "version": 3
   },
   "file_extension": ".py",
   "mimetype": "text/x-python",
   "name": "python",
   "nbconvert_exporter": "python",
   "pygments_lexer": "ipython3",
   "version": "3.11.3"
  }
 },
 "nbformat": 4,
 "nbformat_minor": 5
}
