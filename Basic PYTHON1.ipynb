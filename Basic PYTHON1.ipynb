{
 "cells": [
  {
   "cell_type": "markdown",
   "id": "013c9b24",
   "metadata": {},
   "source": [
    "## TUPLES"
   ]
  },
  {
   "cell_type": "markdown",
   "id": "3fea4ec3",
   "metadata": {},
   "source": [
    "#### - A collection of items which are indexed,ordered,immutable(not change)\n",
    "#### - Represented by () seperated by comma\n",
    "#### - Tuples are immutable (can modify the element inside the tuple), unlike lists which are mutable\n",
    "#### - It can have duplicates\n",
    "#### - When we do not want to change the data over time, tuple is prefered data type"
   ]
  },
  {
   "cell_type": "code",
   "execution_count": 1,
   "id": "156cb5b8",
   "metadata": {},
   "outputs": [
    {
     "name": "stdout",
     "output_type": "stream",
     "text": [
      "['__add__', '__class__', '__class_getitem__', '__contains__', '__delattr__', '__dir__', '__doc__', '__eq__', '__format__', '__ge__', '__getattribute__', '__getitem__', '__getnewargs__', '__getstate__', '__gt__', '__hash__', '__init__', '__init_subclass__', '__iter__', '__le__', '__len__', '__lt__', '__mul__', '__ne__', '__new__', '__reduce__', '__reduce_ex__', '__repr__', '__rmul__', '__setattr__', '__sizeof__', '__str__', '__subclasshook__', 'count', 'index']\n"
     ]
    }
   ],
   "source": [
    "a = (34,54,88)\n",
    "print(dir(a))"
   ]
  },
  {
   "cell_type": "code",
   "execution_count": 2,
   "id": "85b9f651",
   "metadata": {},
   "outputs": [
    {
     "name": "stdout",
     "output_type": "stream",
     "text": [
      "()\n",
      "<class 'tuple'>\n"
     ]
    }
   ],
   "source": [
    "# Tuple initialization\n",
    "\n",
    "empty_tuple = ()\n",
    "print(empty_tuple)\n",
    "print(type(empty_tuple))"
   ]
  },
  {
   "cell_type": "code",
   "execution_count": 3,
   "id": "f6ea0ab5",
   "metadata": {},
   "outputs": [
    {
     "name": "stdout",
     "output_type": "stream",
     "text": [
      "('Hi', 'Class!')\n",
      "('Hi', 'Class!')\n"
     ]
    }
   ],
   "source": [
    "# Methods of initializing tuples\n",
    "\n",
    "tp = 'Hi','Class!'\n",
    "print(tuple(tp))\n",
    "\n",
    "\n",
    "tuples = ('Hi','Class!')\n",
    "print(tuples)"
   ]
  },
  {
   "cell_type": "code",
   "execution_count": 4,
   "id": "e81b2f3c",
   "metadata": {},
   "outputs": [
    {
     "name": "stdout",
     "output_type": "stream",
     "text": [
      "<class 'tuple'>\n"
     ]
    }
   ],
   "source": [
    "s = 12,13,14,\"Hello\",False\n",
    "print(type(s))"
   ]
  },
  {
   "cell_type": "code",
   "execution_count": 5,
   "id": "92a4197f",
   "metadata": {},
   "outputs": [
    {
     "name": "stdout",
     "output_type": "stream",
     "text": [
      "<class 'tuple'>\n"
     ]
    }
   ],
   "source": [
    "tp = 'Hi','Class!'\n",
    "print(type(tp))"
   ]
  },
  {
   "cell_type": "code",
   "execution_count": 6,
   "id": "dd201e2c",
   "metadata": {},
   "outputs": [
    {
     "name": "stdout",
     "output_type": "stream",
     "text": [
      "<class 'int'>\n"
     ]
    }
   ],
   "source": [
    "tup = (7)\n",
    "print(type(tup))"
   ]
  },
  {
   "cell_type": "code",
   "execution_count": 7,
   "id": "26b238c1",
   "metadata": {},
   "outputs": [
    {
     "name": "stdout",
     "output_type": "stream",
     "text": [
      "<class 'tuple'>\n"
     ]
    }
   ],
   "source": [
    "tup = (7,)\n",
    "print(type(tup))"
   ]
  },
  {
   "cell_type": "code",
   "execution_count": 8,
   "id": "d36ac9be",
   "metadata": {},
   "outputs": [
    {
     "data": {
      "text/plain": [
       "7"
      ]
     },
     "execution_count": 8,
     "metadata": {},
     "output_type": "execute_result"
    }
   ],
   "source": [
    "tup = (3,5.7,False,5+7j,\"HELLO WORLD!\",[6,8],\"H\")\n",
    "len(tup)"
   ]
  },
  {
   "cell_type": "code",
   "execution_count": 9,
   "id": "0151bd19",
   "metadata": {},
   "outputs": [
    {
     "name": "stdout",
     "output_type": "stream",
     "text": [
      "(3, 5.7, False, (5+7j), 'HELLO WORLD!', [6, 8], 'H')\n"
     ]
    }
   ],
   "source": [
    "tup = (3,5.7,False,5+7j,\"HELLO WORLD!\",[6,8],\"H\")\n",
    "print(tup)"
   ]
  },
  {
   "cell_type": "code",
   "execution_count": 3,
   "id": "82f45201",
   "metadata": {},
   "outputs": [
    {
     "name": "stdout",
     "output_type": "stream",
     "text": [
      "<class 'tuple'>\n"
     ]
    }
   ],
   "source": [
    "tup = (3,5.7,False,5+7j,\"HELLO WORLD!\",[6,8],\"H\")\n",
    "print(type(tup))"
   ]
  },
  {
   "cell_type": "code",
   "execution_count": 5,
   "id": "5e3ede43",
   "metadata": {},
   "outputs": [
    {
     "data": {
      "text/plain": [
       "' '"
      ]
     },
     "execution_count": 5,
     "metadata": {},
     "output_type": "execute_result"
    }
   ],
   "source": [
    "# Indexing a tuple\n",
    "\n",
    "tup[4][5]"
   ]
  },
  {
   "cell_type": "code",
   "execution_count": 13,
   "id": "20b98a23",
   "metadata": {},
   "outputs": [
    {
     "data": {
      "text/plain": [
       "' '"
      ]
     },
     "execution_count": 13,
     "metadata": {},
     "output_type": "execute_result"
    }
   ],
   "source": [
    "tup[4][5]"
   ]
  },
  {
   "cell_type": "code",
   "execution_count": 6,
   "id": "10a586a4",
   "metadata": {},
   "outputs": [
    {
     "data": {
      "text/plain": [
       "'W'"
      ]
     },
     "execution_count": 6,
     "metadata": {},
     "output_type": "execute_result"
    }
   ],
   "source": [
    "tup[-3][-6]"
   ]
  },
  {
   "cell_type": "markdown",
   "id": "67d3413b",
   "metadata": {},
   "source": [
    "## Slicing a tuple\n",
    "\n",
    "#### Slice a tuple in order to access a range of elements in it. Colon is used as a simple slicing operator (:).\n",
    "#### The slice operator allows you to specify where to begin slicing, where to stop slicing, and what step to take.\n",
    "#### Tuple string creates a new tuple from an old one.\n",
    "#### Syntax: Tuple [Start : Stop : Stride(or)]Skip]"
   ]
  },
  {
   "cell_type": "code",
   "execution_count": 20,
   "id": "9dd275dc",
   "metadata": {},
   "outputs": [
    {
     "name": "stdout",
     "output_type": "stream",
     "text": [
      "(3, 5.7)\n"
     ]
    }
   ],
   "source": [
    "tup = (3,5.7,False,5+7j,\"HELLO WORLD!\",[6,8],\"H\")\n",
    "print(tup[0:2:1])"
   ]
  },
  {
   "cell_type": "code",
   "execution_count": 16,
   "id": "4fe74898",
   "metadata": {},
   "outputs": [
    {
     "name": "stdout",
     "output_type": "stream",
     "text": [
      "((5+7j), 'HELLO WORLD!', [6, 8], 'H')\n"
     ]
    }
   ],
   "source": [
    "print(tup[3:])"
   ]
  },
  {
   "cell_type": "code",
   "execution_count": 17,
   "id": "8b5fa243",
   "metadata": {},
   "outputs": [
    {
     "name": "stdout",
     "output_type": "stream",
     "text": [
      "(3, 5.7, False, (5+7j), 'HELLO WORLD!')\n"
     ]
    }
   ],
   "source": [
    "print(tup[:5])"
   ]
  },
  {
   "cell_type": "code",
   "execution_count": 18,
   "id": "af467e38",
   "metadata": {},
   "outputs": [
    {
     "name": "stdout",
     "output_type": "stream",
     "text": [
      "((5+7j), 'HELLO WORLD!')\n"
     ]
    }
   ],
   "source": [
    "print(tup[-4:-2:1])"
   ]
  },
  {
   "cell_type": "code",
   "execution_count": 19,
   "id": "5e23c896",
   "metadata": {},
   "outputs": [
    {
     "name": "stdout",
     "output_type": "stream",
     "text": [
      "(False, [6, 8])\n"
     ]
    }
   ],
   "source": [
    "print(tup[2::3])"
   ]
  },
  {
   "cell_type": "code",
   "execution_count": 8,
   "id": "2ec06169",
   "metadata": {},
   "outputs": [
    {
     "name": "stdout",
     "output_type": "stream",
     "text": [
      "(True, 4, 9.4, 'Hi', 6.5, 8.5, (15+8j), 5, 6.7, 11)\n"
     ]
    }
   ],
   "source": [
    "# Concatenation of tuples\n",
    "\n",
    "tup1 = (True,4,9.4,\"Hi\")\n",
    "tup2 = (6.5,8.5)\n",
    "tup3 = (15+8j,5,6.7)\n",
    "tup4 = (11,)\n",
    "\n",
    "print(tup1+tup2+tup3+tup4)"
   ]
  },
  {
   "cell_type": "code",
   "execution_count": 23,
   "id": "77f69023",
   "metadata": {},
   "outputs": [
    {
     "name": "stdout",
     "output_type": "stream",
     "text": [
      "(11, 11, 11)\n"
     ]
    }
   ],
   "source": [
    "# Repetition\n",
    "\n",
    "print(tup4*3)"
   ]
  },
  {
   "cell_type": "code",
   "execution_count": 26,
   "id": "0406b47c",
   "metadata": {},
   "outputs": [
    {
     "name": "stdout",
     "output_type": "stream",
     "text": [
      "True\n"
     ]
    }
   ],
   "source": [
    "# Membership operators in tuple\n",
    "\n",
    "tup1 = (True,4,9.4,\"Hi\")\n",
    "print(True in tup1)"
   ]
  },
  {
   "cell_type": "code",
   "execution_count": 27,
   "id": "00f168ae",
   "metadata": {},
   "outputs": [
    {
     "name": "stdout",
     "output_type": "stream",
     "text": [
      "True\n"
     ]
    }
   ],
   "source": [
    "tup1 = (True,4,9.4,\"Hi\")\n",
    "print(1 in tup1)"
   ]
  },
  {
   "cell_type": "code",
   "execution_count": 28,
   "id": "08a5d43f",
   "metadata": {},
   "outputs": [
    {
     "name": "stdout",
     "output_type": "stream",
     "text": [
      "False\n"
     ]
    }
   ],
   "source": [
    "tup1 = (True,4,9.4,\"Hi\")\n",
    "print(6 in tup1)"
   ]
  },
  {
   "cell_type": "code",
   "execution_count": 29,
   "id": "dabe090f",
   "metadata": {},
   "outputs": [
    {
     "name": "stdout",
     "output_type": "stream",
     "text": [
      "False\n"
     ]
    }
   ],
   "source": [
    "tup1 = (True,4,9.4,\"Hi\")\n",
    "print(True not in tup1)"
   ]
  },
  {
   "cell_type": "code",
   "execution_count": 30,
   "id": "4c5d5968",
   "metadata": {},
   "outputs": [
    {
     "name": "stdout",
     "output_type": "stream",
     "text": [
      "False\n"
     ]
    }
   ],
   "source": [
    "tup1 = (True,4,9.4,\"Hi\")\n",
    "print(1 not in tup1)"
   ]
  },
  {
   "cell_type": "code",
   "execution_count": 31,
   "id": "20e2a898",
   "metadata": {},
   "outputs": [
    {
     "name": "stdout",
     "output_type": "stream",
     "text": [
      "True\n"
     ]
    }
   ],
   "source": [
    "tup1 = (True,4,9.4,\"Hi\")\n",
    "print(6 not in tup1)"
   ]
  },
  {
   "cell_type": "code",
   "execution_count": 36,
   "id": "4ba3f543",
   "metadata": {},
   "outputs": [
    {
     "ename": "TypeError",
     "evalue": "'tuple' object is not callable",
     "output_type": "error",
     "traceback": [
      "\u001b[1;31m---------------------------------------------------------------------------\u001b[0m",
      "\u001b[1;31mTypeError\u001b[0m                                 Traceback (most recent call last)",
      "Cell \u001b[1;32mIn[36], line 4\u001b[0m\n\u001b[0;32m      1\u001b[0m \u001b[38;5;66;03m# Sorted tuple\u001b[39;00m\n\u001b[0;32m      3\u001b[0m tup5 \u001b[38;5;241m=\u001b[39m (\u001b[38;5;241m6\u001b[39m,\u001b[38;5;241m8\u001b[39m,\u001b[38;5;241m2\u001b[39m,\u001b[38;5;241m7\u001b[39m,\u001b[38;5;241m6\u001b[39m,\u001b[38;5;241m9\u001b[39m,\u001b[38;5;241m4\u001b[39m,\u001b[38;5;241m3\u001b[39m,\u001b[38;5;241m5\u001b[39m)\n\u001b[1;32m----> 4\u001b[0m \u001b[38;5;28msorted\u001b[39m(tup5)\n",
      "\u001b[1;31mTypeError\u001b[0m: 'tuple' object is not callable"
     ]
    }
   ],
   "source": [
    "# Sorted tuple\n",
    "\n",
    "tup5 = (6,8,2,7,6,9,4,3,5)\n",
    "sorted(tup5)\n"
   ]
  },
  {
   "cell_type": "code",
   "execution_count": 37,
   "id": "27cf93f8",
   "metadata": {},
   "outputs": [
    {
     "name": "stdout",
     "output_type": "stream",
     "text": [
      "(1, 3, 5, 7, 9, 11)\n"
     ]
    }
   ],
   "source": [
    "tup = (1,3,5,9,11)\n",
    "\n",
    "output = tup[:3] + (7,) + tup[3:]\n",
    "\n",
    "print(output)"
   ]
  },
  {
   "cell_type": "code",
   "execution_count": 41,
   "id": "30b51451",
   "metadata": {},
   "outputs": [],
   "source": [
    "tup = (1,3,5,9,11)\n",
    "del tup"
   ]
  },
  {
   "cell_type": "markdown",
   "id": "92208ab6",
   "metadata": {},
   "source": [
    "#### LOOP THROUGH TUPLE"
   ]
  },
  {
   "cell_type": "code",
   "execution_count": 45,
   "id": "1f72cf35",
   "metadata": {},
   "outputs": [
    {
     "name": "stdout",
     "output_type": "stream",
     "text": [
      "5\n",
      "6\n",
      "8\n",
      "9\n",
      "1\n",
      "7\n",
      "5\n"
     ]
    }
   ],
   "source": [
    "tup = (5,6,8,9,1,7,5)\n",
    "for i in tup:\n",
    "    print(i)"
   ]
  },
  {
   "cell_type": "code",
   "execution_count": 47,
   "id": "984b4e33",
   "metadata": {},
   "outputs": [
    {
     "name": "stdout",
     "output_type": "stream",
     "text": [
      "(0, 5)\n",
      "(1, 6)\n",
      "(2, 8)\n",
      "(3, 9)\n",
      "(4, 1)\n",
      "(5, 7)\n",
      "(6, 5)\n"
     ]
    }
   ],
   "source": [
    "tup = (5,6,8,9,1,7,5)\n",
    "for i in enumerate (tup):\n",
    "    print(i)"
   ]
  },
  {
   "cell_type": "code",
   "execution_count": 48,
   "id": "b16e1dd8",
   "metadata": {},
   "outputs": [
    {
     "name": "stdout",
     "output_type": "stream",
     "text": [
      "0 5\n",
      "1 6\n",
      "2 8\n",
      "3 9\n",
      "4 1\n",
      "5 7\n",
      "6 5\n"
     ]
    }
   ],
   "source": [
    "tup = (5,6,8,9,1,7,5)\n",
    "for i,j in enumerate (tup):\n",
    "    print(i,j)"
   ]
  },
  {
   "cell_type": "markdown",
   "id": "58483921",
   "metadata": {},
   "source": [
    "#### COUNT"
   ]
  },
  {
   "cell_type": "code",
   "execution_count": 49,
   "id": "06b97dbc",
   "metadata": {},
   "outputs": [
    {
     "data": {
      "text/plain": [
       "3"
      ]
     },
     "execution_count": 49,
     "metadata": {},
     "output_type": "execute_result"
    }
   ],
   "source": [
    "tup = (5,6,8,9,1,7,5,4,5,7,4,8,4,5,7)\n",
    "\n",
    "tup.count(4)"
   ]
  },
  {
   "cell_type": "code",
   "execution_count": 50,
   "id": "46d3d165",
   "metadata": {},
   "outputs": [
    {
     "data": {
      "text/plain": [
       "2"
      ]
     },
     "execution_count": 50,
     "metadata": {},
     "output_type": "execute_result"
    }
   ],
   "source": [
    "tup.count(8)"
   ]
  },
  {
   "cell_type": "markdown",
   "id": "94ead254",
   "metadata": {},
   "source": [
    "#### INDEX POSITION"
   ]
  },
  {
   "cell_type": "code",
   "execution_count": 3,
   "id": "3a804fe9",
   "metadata": {},
   "outputs": [
    {
     "data": {
      "text/plain": [
       "3"
      ]
     },
     "execution_count": 3,
     "metadata": {},
     "output_type": "execute_result"
    }
   ],
   "source": [
    "tup = (14,5,6,88,66,3,1,4,552,5,2)\n",
    "\n",
    "tup.index(88)"
   ]
  },
  {
   "cell_type": "code",
   "execution_count": 9,
   "id": "23eb83e2",
   "metadata": {},
   "outputs": [
    {
     "data": {
      "text/plain": [
       "5"
      ]
     },
     "execution_count": 9,
     "metadata": {},
     "output_type": "execute_result"
    }
   ],
   "source": [
    "tup = (14,5,6,88,66,3,1,4,552,5,2)\n",
    "\n",
    "tup.index(3)"
   ]
  },
  {
   "cell_type": "markdown",
   "id": "58a1bd4a",
   "metadata": {},
   "source": [
    "## SETS"
   ]
  },
  {
   "cell_type": "code",
   "execution_count": null,
   "id": "f597ab4b",
   "metadata": {},
   "outputs": [],
   "source": [
    "# A set is an unordered collection of heterogeneous(Different) data types that is iterateable, mutable and has no duplicate elements.\n",
    "# Python's set class represents the mathematics notion of a set."
   ]
  },
  {
   "cell_type": "markdown",
   "id": "d64312fc",
   "metadata": {},
   "source": [
    "#### Unordered and unindexed collection of items\n",
    "#### Set elements are unique. Duplicate elements are not allowed.\n",
    "#### Set elements are immutable(Cannot be changed).\n",
    "#### Set itself is mutable. We can add or remove items from it."
   ]
  },
  {
   "cell_type": "code",
   "execution_count": 2,
   "id": "b00208eb",
   "metadata": {},
   "outputs": [
    {
     "name": "stdout",
     "output_type": "stream",
     "text": [
      "{'b', 'a', 'c'}\n"
     ]
    }
   ],
   "source": [
    "myset = set([\"a\",\"b\",\"c\"])\n",
    "print(myset)"
   ]
  },
  {
   "cell_type": "code",
   "execution_count": 3,
   "id": "810191c7",
   "metadata": {},
   "outputs": [
    {
     "name": "stdout",
     "output_type": "stream",
     "text": [
      "['__and__', '__class__', '__class_getitem__', '__contains__', '__delattr__', '__dir__', '__doc__', '__eq__', '__format__', '__ge__', '__getattribute__', '__getstate__', '__gt__', '__hash__', '__iand__', '__init__', '__init_subclass__', '__ior__', '__isub__', '__iter__', '__ixor__', '__le__', '__len__', '__lt__', '__ne__', '__new__', '__or__', '__rand__', '__reduce__', '__reduce_ex__', '__repr__', '__ror__', '__rsub__', '__rxor__', '__setattr__', '__sizeof__', '__str__', '__sub__', '__subclasshook__', '__xor__', 'add', 'clear', 'copy', 'difference', 'difference_update', 'discard', 'intersection', 'intersection_update', 'isdisjoint', 'issubset', 'issuperset', 'pop', 'remove', 'symmetric_difference', 'symmetric_difference_update', 'union', 'update']\n"
     ]
    }
   ],
   "source": [
    "print(dir(myset))"
   ]
  },
  {
   "cell_type": "code",
   "execution_count": 20,
   "id": "f9a9e2a6",
   "metadata": {},
   "outputs": [
    {
     "data": {
      "text/plain": [
       "{0, 5, 7.8, 'a', 'b', 'c', 'd', 'e', 'f', 'i', 'k', 'l', 't'}"
      ]
     },
     "execution_count": 20,
     "metadata": {},
     "output_type": "execute_result"
    }
   ],
   "source": [
    "set1 = {0,5,7.8,'a','b','c','d','e','f','t','i','k','l'}\n",
    "set1"
   ]
  },
  {
   "cell_type": "code",
   "execution_count": 1,
   "id": "ad4fbaef",
   "metadata": {},
   "outputs": [
    {
     "data": {
      "text/plain": [
       "set()"
      ]
     },
     "execution_count": 1,
     "metadata": {},
     "output_type": "execute_result"
    }
   ],
   "source": [
    "set2 = set()\n",
    "set2"
   ]
  },
  {
   "cell_type": "code",
   "execution_count": 2,
   "id": "a462187a",
   "metadata": {},
   "outputs": [
    {
     "data": {
      "text/plain": [
       "{0, 5, 8, 9}"
      ]
     },
     "execution_count": 2,
     "metadata": {},
     "output_type": "execute_result"
    }
   ],
   "source": [
    "set2 = (5,8,9,0)\n",
    "set3 = set(set2)\n",
    "set3"
   ]
  },
  {
   "cell_type": "code",
   "execution_count": 4,
   "id": "ef868c5b",
   "metadata": {},
   "outputs": [
    {
     "name": "stdout",
     "output_type": "stream",
     "text": [
      "<class 'set'>\n",
      "{'c', 'd', 'a', 'b'}\n"
     ]
    }
   ],
   "source": [
    "# Adding elements in the sets\n",
    "\n",
    "myset = set([\"a\",\"b\",\"c\"])\n",
    "myset.add(\"d\")\n",
    "print(type(myset))\n",
    "print(myset)"
   ]
  },
  {
   "cell_type": "code",
   "execution_count": 5,
   "id": "49f1178a",
   "metadata": {},
   "outputs": [
    {
     "data": {
      "text/plain": [
       "dict"
      ]
     },
     "execution_count": 5,
     "metadata": {},
     "output_type": "execute_result"
    }
   ],
   "source": [
    "mm = {}\n",
    "type(mm)"
   ]
  },
  {
   "cell_type": "code",
   "execution_count": 6,
   "id": "7a90d51a",
   "metadata": {},
   "outputs": [
    {
     "data": {
      "text/plain": [
       "{1.1, 2.2, 3.3, 4.4, 5.5, 6.6}"
      ]
     },
     "execution_count": 6,
     "metadata": {},
     "output_type": "execute_result"
    }
   ],
   "source": [
    "myset1 = {1.1,2.2,3.3,4.4,5.5,6.6}\n",
    "myset1"
   ]
  },
  {
   "cell_type": "code",
   "execution_count": 7,
   "id": "54f3e094",
   "metadata": {},
   "outputs": [
    {
     "data": {
      "text/plain": [
       "{'Hello', 'World'}"
      ]
     },
     "execution_count": 7,
     "metadata": {},
     "output_type": "execute_result"
    }
   ],
   "source": [
    "myset2 ={'Hello','World'}\n",
    "myset2"
   ]
  },
  {
   "cell_type": "code",
   "execution_count": 8,
   "id": "5da11e0d",
   "metadata": {},
   "outputs": [
    {
     "data": {
      "text/plain": [
       "{(54, 56, 24), 30, 54, 'Hello'}"
      ]
     },
     "execution_count": 8,
     "metadata": {},
     "output_type": "execute_result"
    }
   ],
   "source": [
    "# Mixed data types\n",
    "\n",
    "myset3 = {30,54,'Hello',(54,56,24)}\n",
    "myset3"
   ]
  },
  {
   "cell_type": "code",
   "execution_count": 9,
   "id": "3350fd1d",
   "metadata": {},
   "outputs": [
    {
     "ename": "TypeError",
     "evalue": "unhashable type: 'list'",
     "output_type": "error",
     "traceback": [
      "\u001b[1;31m---------------------------------------------------------------------------\u001b[0m",
      "\u001b[1;31mTypeError\u001b[0m                                 Traceback (most recent call last)",
      "Cell \u001b[1;32mIn[9], line 3\u001b[0m\n\u001b[0;32m      1\u001b[0m \u001b[38;5;66;03m# Check for list inside the sets, it will not allow the mutable items inside the sets\u001b[39;00m\n\u001b[1;32m----> 3\u001b[0m tt \u001b[38;5;241m=\u001b[39m {\u001b[38;5;241m23\u001b[39m,\u001b[38;5;241m98\u001b[39m,[\u001b[38;5;241m5\u001b[39m,\u001b[38;5;241m6\u001b[39m,\u001b[38;5;241m8\u001b[39m],\u001b[38;5;124m\"\u001b[39m\u001b[38;5;124mHello\u001b[39m\u001b[38;5;124m\"\u001b[39m}\n\u001b[0;32m      4\u001b[0m tt\n",
      "\u001b[1;31mTypeError\u001b[0m: unhashable type: 'list'"
     ]
    }
   ],
   "source": [
    "# Check for list inside the sets, it will not allow the mutable items inside the sets\n",
    "\n",
    "tt = {23,98,[5,6,8],\"Hello\"}\n",
    "tt"
   ]
  },
  {
   "cell_type": "code",
   "execution_count": 11,
   "id": "72dcfba4",
   "metadata": {},
   "outputs": [
    {
     "name": "stdout",
     "output_type": "stream",
     "text": [
      "{32, True, 65, 4.7, -5, 9.7, -8, (5-4j), 88}\n",
      "{55}\n"
     ]
    }
   ],
   "source": [
    "# No index-wise operation is possible as it is not ordered\n",
    "\n",
    "s1 = {True,4.7,9.7,88,32,5-4j,-5,-8,65}\n",
    "s2 = {55}\n",
    "\n",
    "print(s1)\n",
    "print(s2)"
   ]
  },
  {
   "cell_type": "code",
   "execution_count": 14,
   "id": "c10612b1",
   "metadata": {},
   "outputs": [
    {
     "name": "stdout",
     "output_type": "stream",
     "text": [
      "{True, 'H', 5, (45-8j), 54.7}\n"
     ]
    }
   ],
   "source": [
    "# Set takes only unique values\n",
    "\n",
    "s1 = {54.7,True,45-8j,5,\"H\",5,5,5,5}\n",
    "print(s1)"
   ]
  },
  {
   "cell_type": "code",
   "execution_count": 15,
   "id": "a657a4c6",
   "metadata": {},
   "outputs": [
    {
     "name": "stdout",
     "output_type": "stream",
     "text": [
      "{1, 'H', 5, (45-8j), 54.7}\n"
     ]
    }
   ],
   "source": [
    "s1 = {54.7,1,45-8j,5,\"H\",5,5,5,5,True}\n",
    "print(s1)"
   ]
  },
  {
   "cell_type": "code",
   "execution_count": 16,
   "id": "f8ffd6d2",
   "metadata": {},
   "outputs": [
    {
     "name": "stdout",
     "output_type": "stream",
     "text": [
      "5\n"
     ]
    }
   ],
   "source": [
    "# Length of set\n",
    "\n",
    "print(len(s1))"
   ]
  },
  {
   "cell_type": "code",
   "execution_count": 17,
   "id": "11737fe7",
   "metadata": {},
   "outputs": [
    {
     "ename": "TypeError",
     "evalue": "'set' object is not subscriptable",
     "output_type": "error",
     "traceback": [
      "\u001b[1;31m---------------------------------------------------------------------------\u001b[0m",
      "\u001b[1;31mTypeError\u001b[0m                                 Traceback (most recent call last)",
      "Cell \u001b[1;32mIn[17], line 4\u001b[0m\n\u001b[0;32m      1\u001b[0m \u001b[38;5;66;03m# Set doesnot support indexing\u001b[39;00m\n\u001b[0;32m      3\u001b[0m s1 \u001b[38;5;241m=\u001b[39m {\u001b[38;5;241m54.7\u001b[39m,\u001b[38;5;241m1\u001b[39m,\u001b[38;5;241m45\u001b[39m\u001b[38;5;241m-\u001b[39m\u001b[38;5;241m8\u001b[39mj,\u001b[38;5;241m5\u001b[39m,\u001b[38;5;124m\"\u001b[39m\u001b[38;5;124mH\u001b[39m\u001b[38;5;124m\"\u001b[39m,\u001b[38;5;241m5\u001b[39m,\u001b[38;5;241m5\u001b[39m,\u001b[38;5;241m5\u001b[39m,\u001b[38;5;241m5\u001b[39m,\u001b[38;5;28;01mTrue\u001b[39;00m}\n\u001b[1;32m----> 4\u001b[0m \u001b[38;5;28mprint\u001b[39m(s1[\u001b[38;5;241m3\u001b[39m])\n",
      "\u001b[1;31mTypeError\u001b[0m: 'set' object is not subscriptable"
     ]
    }
   ],
   "source": [
    "# Set doesnot support indexing\n",
    "\n",
    "s1 = {54.7,1,45-8j,5,\"H\",5,5,5,5,True}\n",
    "print(s1[3])"
   ]
  },
  {
   "cell_type": "code",
   "execution_count": 18,
   "id": "a957fd07",
   "metadata": {},
   "outputs": [
    {
     "ename": "TypeError",
     "evalue": "'set' object is not subscriptable",
     "output_type": "error",
     "traceback": [
      "\u001b[1;31m---------------------------------------------------------------------------\u001b[0m",
      "\u001b[1;31mTypeError\u001b[0m                                 Traceback (most recent call last)",
      "Cell \u001b[1;32mIn[18], line 3\u001b[0m\n\u001b[0;32m      1\u001b[0m \u001b[38;5;66;03m# We cannot use slicing for sets as indexing is not possible\u001b[39;00m\n\u001b[1;32m----> 3\u001b[0m s1[\u001b[38;5;241m0\u001b[39m:\u001b[38;5;241m2\u001b[39m]\n",
      "\u001b[1;31mTypeError\u001b[0m: 'set' object is not subscriptable"
     ]
    }
   ],
   "source": [
    "# We cannot use slicing for sets as indexing is not possible\n",
    "\n",
    "s1[0:2]"
   ]
  },
  {
   "cell_type": "code",
   "execution_count": 19,
   "id": "c83ae949",
   "metadata": {},
   "outputs": [
    {
     "ename": "TypeError",
     "evalue": "unsupported operand type(s) for *: 'set' and 'int'",
     "output_type": "error",
     "traceback": [
      "\u001b[1;31m---------------------------------------------------------------------------\u001b[0m",
      "\u001b[1;31mTypeError\u001b[0m                                 Traceback (most recent call last)",
      "Cell \u001b[1;32mIn[19], line 3\u001b[0m\n\u001b[0;32m      1\u001b[0m \u001b[38;5;66;03m# We cannot repeat or concatenation sets\u001b[39;00m\n\u001b[1;32m----> 3\u001b[0m \u001b[38;5;28mprint\u001b[39m(s1\u001b[38;5;241m*\u001b[39m\u001b[38;5;241m2\u001b[39m)\n",
      "\u001b[1;31mTypeError\u001b[0m: unsupported operand type(s) for *: 'set' and 'int'"
     ]
    }
   ],
   "source": [
    "# We cannot repeat or concatenation sets\n",
    "\n",
    "print(s1*2)"
   ]
  },
  {
   "cell_type": "code",
   "execution_count": 20,
   "id": "7b687b58",
   "metadata": {},
   "outputs": [
    {
     "ename": "TypeError",
     "evalue": "unsupported operand type(s) for +: 'set' and 'set'",
     "output_type": "error",
     "traceback": [
      "\u001b[1;31m---------------------------------------------------------------------------\u001b[0m",
      "\u001b[1;31mTypeError\u001b[0m                                 Traceback (most recent call last)",
      "Cell \u001b[1;32mIn[20], line 1\u001b[0m\n\u001b[1;32m----> 1\u001b[0m \u001b[38;5;28mprint\u001b[39m(s1\u001b[38;5;241m+\u001b[39ms2)\n",
      "\u001b[1;31mTypeError\u001b[0m: unsupported operand type(s) for +: 'set' and 'set'"
     ]
    }
   ],
   "source": [
    "print(s1+s2)"
   ]
  },
  {
   "cell_type": "code",
   "execution_count": 21,
   "id": "959b6569",
   "metadata": {},
   "outputs": [
    {
     "name": "stdout",
     "output_type": "stream",
     "text": [
      "False\n",
      "True\n",
      "False\n"
     ]
    }
   ],
   "source": [
    "# Membership operation works in sets\n",
    "\n",
    "print(False in s1)\n",
    "print(6 not in s1)\n",
    "print(4 in s1)"
   ]
  },
  {
   "cell_type": "code",
   "execution_count": 1,
   "id": "ed72237c",
   "metadata": {},
   "outputs": [
    {
     "name": "stdout",
     "output_type": "stream",
     "text": [
      "{False, True, 4, 6.5, 8, 'HI', 0.123456, 'World', 'HELLO'}\n"
     ]
    }
   ],
   "source": [
    "# Set is mutable.\n",
    "# We can change the elements of sets. We can insert, update or delete elements from sets.\n",
    "# Insert: set.add(element)\n",
    "# We can add only one element at a timr.\n",
    "\n",
    "s1 = {\"HI\",4,8,6.5,True,\"HELLO\"}\n",
    "s1.add(0.123456)\n",
    "s1.add(\"World\")\n",
    "s1.add(False)\n",
    "print(s1)"
   ]
  },
  {
   "cell_type": "code",
   "execution_count": 3,
   "id": "488f20dd",
   "metadata": {},
   "outputs": [
    {
     "name": "stdout",
     "output_type": "stream",
     "text": [
      "{'HELLO', True, 4, 5, 6.5, 8, 'HI'}\n"
     ]
    }
   ],
   "source": [
    "# Inserting multiple values in sets\n",
    "# set.update([elements])\n",
    "\n",
    "s1 = {\"HI\",4,8,6.5,True,\"HELLO\"}\n",
    "s1.update([5,6.5,\"HI\"])\n",
    "print(s1)"
   ]
  },
  {
   "cell_type": "code",
   "execution_count": 13,
   "id": "696ae65c",
   "metadata": {},
   "outputs": [
    {
     "ename": "KeyError",
     "evalue": "'Hi'",
     "output_type": "error",
     "traceback": [
      "\u001b[1;31m---------------------------------------------------------------------------\u001b[0m",
      "\u001b[1;31mKeyError\u001b[0m                                  Traceback (most recent call last)",
      "Cell \u001b[1;32mIn[13], line 4\u001b[0m\n\u001b[0;32m      1\u001b[0m \u001b[38;5;66;03m# set.remove(element) ---- removes the specified element from the set\u001b[39;00m\n\u001b[0;32m      3\u001b[0m s1 \u001b[38;5;241m=\u001b[39m {\u001b[38;5;124m\"\u001b[39m\u001b[38;5;124mHI\u001b[39m\u001b[38;5;124m\"\u001b[39m,\u001b[38;5;241m4\u001b[39m,\u001b[38;5;241m8\u001b[39m,\u001b[38;5;241m6.5\u001b[39m,\u001b[38;5;28;01mTrue\u001b[39;00m,\u001b[38;5;124m\"\u001b[39m\u001b[38;5;124mHELLO\u001b[39m\u001b[38;5;124m\"\u001b[39m}\n\u001b[1;32m----> 4\u001b[0m s1\u001b[38;5;241m.\u001b[39mremove(\u001b[38;5;124m\"\u001b[39m\u001b[38;5;124mHi\u001b[39m\u001b[38;5;124m\"\u001b[39m) \u001b[38;5;66;03m## This will raise key error if element does't exist but discard will not\u001b[39;00m\n\u001b[0;32m      5\u001b[0m \u001b[38;5;28mprint\u001b[39m(s1)\n",
      "\u001b[1;31mKeyError\u001b[0m: 'Hi'"
     ]
    }
   ],
   "source": [
    "# set.remove(element) ---- removes the specified element from the set\n",
    "\n",
    "s1 = {\"HI\",4,8,6.5,True,\"HELLO\"}\n",
    "s1.remove(\"Hi\") ## This will raise key error if element does't exist but discard will not\n",
    "print(s1)"
   ]
  },
  {
   "cell_type": "code",
   "execution_count": 7,
   "id": "15ba108c",
   "metadata": {},
   "outputs": [
    {
     "name": "stdout",
     "output_type": "stream",
     "text": [
      "{'HELLO', True, 4, 6.5, 8, 'HI'}\n"
     ]
    }
   ],
   "source": [
    "s1 = {\"HI\",4,8,6.5,True,\"HELLO\"}\n",
    "s1.discard(\"Hi\")\n",
    "print(s1)"
   ]
  },
  {
   "cell_type": "code",
   "execution_count": 10,
   "id": "2277e701",
   "metadata": {},
   "outputs": [
    {
     "name": "stdout",
     "output_type": "stream",
     "text": [
      "{False, 'Good Morning', 4, 5.6}\n",
      "False\n",
      "Good Morning\n",
      "4\n",
      "{5.6}\n"
     ]
    }
   ],
   "source": [
    "# We can pop last element from set.\n",
    "# We cannot pop a particular element from the set using index.\n",
    "\n",
    "s1 = {4,False,5.6,\"Good Morning\"}\n",
    "print(s1)\n",
    "\n",
    "print(s1.pop())\n",
    "print(s1.pop())\n",
    "print(s1.pop())\n",
    "print(s1)"
   ]
  },
  {
   "cell_type": "code",
   "execution_count": 11,
   "id": "d30284ea",
   "metadata": {},
   "outputs": [
    {
     "name": "stdout",
     "output_type": "stream",
     "text": [
      "set()\n"
     ]
    }
   ],
   "source": [
    "# We can clear the elements of a set using clear() method\n",
    "\n",
    "s1.clear()\n",
    "print(s1)"
   ]
  },
  {
   "cell_type": "markdown",
   "id": "f4984384",
   "metadata": {},
   "source": [
    "## COPY"
   ]
  },
  {
   "cell_type": "code",
   "execution_count": 12,
   "id": "008a77b7",
   "metadata": {},
   "outputs": [
    {
     "data": {
      "text/plain": [
       "{'HEMA', 'SARANYA', 'SHANTHI', 'SREE'}"
      ]
     },
     "execution_count": 12,
     "metadata": {},
     "output_type": "execute_result"
    }
   ],
   "source": [
    "my_set = {\"HEMA\",\"SHANTHI\",\"SARANYA\",\"SREE\"}\n",
    "\n",
    "my_set1 = my_set\n",
    "\n",
    "my_set1"
   ]
  },
  {
   "cell_type": "code",
   "execution_count": 15,
   "id": "ba481ad8",
   "metadata": {},
   "outputs": [
    {
     "data": {
      "text/plain": [
       "{'HEMA', 'SARANYA', 'SHANTHI', 'SREE'}"
      ]
     },
     "execution_count": 15,
     "metadata": {},
     "output_type": "execute_result"
    }
   ],
   "source": [
    "my_set"
   ]
  },
  {
   "cell_type": "code",
   "execution_count": 16,
   "id": "9c1d9b76",
   "metadata": {},
   "outputs": [
    {
     "data": {
      "text/plain": [
       "{'HEMA', 'SARANYA', 'SHANTHI', 'SREE'}"
      ]
     },
     "execution_count": 16,
     "metadata": {},
     "output_type": "execute_result"
    }
   ],
   "source": [
    "my_set2 = my_set.copy()\n",
    "\n",
    "my_set2"
   ]
  },
  {
   "cell_type": "code",
   "execution_count": 17,
   "id": "cb624550",
   "metadata": {},
   "outputs": [
    {
     "ename": "TypeError",
     "evalue": "'set' object does not support item assignment",
     "output_type": "error",
     "traceback": [
      "\u001b[1;31m---------------------------------------------------------------------------\u001b[0m",
      "\u001b[1;31mTypeError\u001b[0m                                 Traceback (most recent call last)",
      "Cell \u001b[1;32mIn[17], line 1\u001b[0m\n\u001b[1;32m----> 1\u001b[0m my_set1[\u001b[38;5;241m0\u001b[39m] \u001b[38;5;241m=\u001b[39m \u001b[38;5;124m\"\u001b[39m\u001b[38;5;124mSURYA\u001b[39m\u001b[38;5;124m\"\u001b[39m\n\u001b[0;32m      3\u001b[0m my_set1\n",
      "\u001b[1;31mTypeError\u001b[0m: 'set' object does not support item assignment"
     ]
    }
   ],
   "source": [
    "my_set1[0] = \"SURYA\"\n",
    "\n",
    "my_set1"
   ]
  },
  {
   "cell_type": "code",
   "execution_count": 18,
   "id": "6ab7372a",
   "metadata": {},
   "outputs": [
    {
     "data": {
      "text/plain": [
       "{'HEMA', 'SARANYA', 'SHANTHI', 'SREE'}"
      ]
     },
     "execution_count": 18,
     "metadata": {},
     "output_type": "execute_result"
    }
   ],
   "source": [
    "my_set"
   ]
  },
  {
   "cell_type": "code",
   "execution_count": 19,
   "id": "8095b628",
   "metadata": {},
   "outputs": [
    {
     "data": {
      "text/plain": [
       "{'HEMA', 'SARANYA', 'SHANTHI', 'SREE'}"
      ]
     },
     "execution_count": 19,
     "metadata": {},
     "output_type": "execute_result"
    }
   ],
   "source": [
    "my_set2"
   ]
  },
  {
   "cell_type": "code",
   "execution_count": 20,
   "id": "4e7f8f70",
   "metadata": {},
   "outputs": [
    {
     "data": {
      "text/plain": [
       "{'HEMA', 'PRIYA', 'SARANYA', 'SHANTHI', 'SREE'}"
      ]
     },
     "execution_count": 20,
     "metadata": {},
     "output_type": "execute_result"
    }
   ],
   "source": [
    "my_set2.add(\"PRIYA\")\n",
    "my_set2"
   ]
  },
  {
   "cell_type": "code",
   "execution_count": 21,
   "id": "39ead510",
   "metadata": {},
   "outputs": [
    {
     "data": {
      "text/plain": [
       "{'HEMA', 'SARANYA', 'SHANTHI', 'SREE'}"
      ]
     },
     "execution_count": 21,
     "metadata": {},
     "output_type": "execute_result"
    }
   ],
   "source": [
    "my_set"
   ]
  },
  {
   "cell_type": "code",
   "execution_count": 22,
   "id": "a9444067",
   "metadata": {},
   "outputs": [
    {
     "data": {
      "text/plain": [
       "{'HEMA', 'MAH', 'SARANYA', 'SHANTHI', 'SREE'}"
      ]
     },
     "execution_count": 22,
     "metadata": {},
     "output_type": "execute_result"
    }
   ],
   "source": [
    "my_set.add(\"MAH\")\n",
    "my_set"
   ]
  },
  {
   "cell_type": "code",
   "execution_count": 23,
   "id": "46e26795",
   "metadata": {},
   "outputs": [
    {
     "data": {
      "text/plain": [
       "{'HEMA', 'PRIYA', 'SARANYA', 'SHANTHI', 'SREE'}"
      ]
     },
     "execution_count": 23,
     "metadata": {},
     "output_type": "execute_result"
    }
   ],
   "source": [
    "my_set2"
   ]
  },
  {
   "cell_type": "markdown",
   "id": "b0d4b5cc",
   "metadata": {},
   "source": [
    "## SET OPERATIONS"
   ]
  },
  {
   "cell_type": "code",
   "execution_count": 27,
   "id": "96216ccd",
   "metadata": {},
   "outputs": [
    {
     "name": "stdout",
     "output_type": "stream",
     "text": [
      "{0, True, 2, 3.0, 4, 'Python', -99}\n"
     ]
    }
   ],
   "source": [
    "s1 = {\"Python\",4,3.0,True}\n",
    "s2 = {-99,2,4,3.0,True,0}\n",
    "s3 = {1,2,3,4.5,\"Class\"}\n",
    "\n",
    "res = s1.union(s2)\n",
    "print(res)\n",
    "\n",
    "# Union (Returns all elements from the sets without repitition)\n",
    "\n",
    "# Union of 2 sets"
   ]
  },
  {
   "cell_type": "code",
   "execution_count": 28,
   "id": "f9a14be4",
   "metadata": {},
   "outputs": [
    {
     "name": "stdout",
     "output_type": "stream",
     "text": [
      "{0, True, 2, 3.0, 4, 4.5, 'Python', 'Class', -99}\n"
     ]
    }
   ],
   "source": [
    "# Union of more than 2 sets\n",
    "\n",
    "print(s1.union(s2,s3))"
   ]
  },
  {
   "cell_type": "code",
   "execution_count": 29,
   "id": "69f91a96",
   "metadata": {},
   "outputs": [
    {
     "data": {
      "text/plain": [
       "{3.0, 4, 'Python', True}"
      ]
     },
     "execution_count": 29,
     "metadata": {},
     "output_type": "execute_result"
    }
   ],
   "source": [
    "s1"
   ]
  },
  {
   "cell_type": "code",
   "execution_count": 30,
   "id": "677a1798",
   "metadata": {},
   "outputs": [
    {
     "data": {
      "text/plain": [
       "{-99, 0, True, 2, 3.0, 4}"
      ]
     },
     "execution_count": 30,
     "metadata": {},
     "output_type": "execute_result"
    }
   ],
   "source": [
    "s2"
   ]
  },
  {
   "cell_type": "code",
   "execution_count": 31,
   "id": "9387d8ea",
   "metadata": {},
   "outputs": [
    {
     "data": {
      "text/plain": [
       "{1, 2, 3, 4.5, 'Class'}"
      ]
     },
     "execution_count": 31,
     "metadata": {},
     "output_type": "execute_result"
    }
   ],
   "source": [
    "s3"
   ]
  },
  {
   "cell_type": "code",
   "execution_count": 32,
   "id": "be7472d6",
   "metadata": {},
   "outputs": [
    {
     "name": "stdout",
     "output_type": "stream",
     "text": [
      "{0, True, 2, 3.0, 4, 4.5, 'Python', 'Class', -99}\n"
     ]
    }
   ],
   "source": [
    "# Updating the set s1 by calling the update() method with union of s1,s2,s3.\n",
    "\n",
    "s1 = {\"Python\",4,3.0,True}\n",
    "s2 = {-99,2,4,3.0,True,0}\n",
    "s3 = {1,2,3,4.5,\"Class\"}\n",
    "\n",
    "s1.update(s2,s3)\n",
    "print(s1)"
   ]
  },
  {
   "cell_type": "code",
   "execution_count": 34,
   "id": "a74ce8b7",
   "metadata": {},
   "outputs": [
    {
     "data": {
      "text/plain": [
       "{True, 3.0, 4}"
      ]
     },
     "execution_count": 34,
     "metadata": {},
     "output_type": "execute_result"
    }
   ],
   "source": [
    "# Intersection (Returns the common elements from both the sets)\n",
    "\n",
    "s1 = {\"Python\",4,3.0,True}\n",
    "s2 = {-99,2,4,3.0,True,0}\n",
    "s3 = {1,2,3,4.5,\"Class\"}\n",
    "\n",
    "res = s1.intersection(s2)\n",
    "res"
   ]
  },
  {
   "cell_type": "code",
   "execution_count": 35,
   "id": "9a57eefd",
   "metadata": {},
   "outputs": [
    {
     "name": "stdout",
     "output_type": "stream",
     "text": [
      "{True, 3.0, 4}\n"
     ]
    }
   ],
   "source": [
    "# Updating the set s1 by calling the intersection_update() method with the intersection of s1 and s2\n",
    "\n",
    "s1 = {\"Python\",4,3.0,True}\n",
    "s2 = {-99,2,4,3.0,True,0}\n",
    "\n",
    "s1.intersection_update(s2)\n",
    "print(s1)"
   ]
  },
  {
   "cell_type": "code",
   "execution_count": 37,
   "id": "a0ac14ec",
   "metadata": {},
   "outputs": [
    {
     "name": "stdout",
     "output_type": "stream",
     "text": [
      "{True, 'Python', 3.0, 4}\n",
      "{True, 2, 3.0, 4, -99}\n",
      "{'Python'}\n",
      "{2, -99}\n"
     ]
    }
   ],
   "source": [
    "# Difference (Returns set_1 - set_2.intersction(set_1))\n",
    "\n",
    "s1 = {\"Python\",4,3.0,True}\n",
    "s2 = {-99,2,4,3.0,True,1}\n",
    "\n",
    "print(s1)\n",
    "print(s2)\n",
    "\n",
    "print(s1.difference(s2))  # set of elements that are only in s1 but not in s2\n",
    "print(s2.difference(s1))  # set of elements that are only in s2 but not in s1"
   ]
  },
  {
   "cell_type": "code",
   "execution_count": 38,
   "id": "07f1e2d3",
   "metadata": {},
   "outputs": [
    {
     "name": "stdout",
     "output_type": "stream",
     "text": [
      "{'Python'}\n",
      "{2, -99}\n"
     ]
    }
   ],
   "source": [
    "print(s1-s2)\n",
    "print(s2-s1)"
   ]
  },
  {
   "cell_type": "code",
   "execution_count": 41,
   "id": "14f9c80e",
   "metadata": {},
   "outputs": [
    {
     "name": "stdout",
     "output_type": "stream",
     "text": [
      "{'Python'}\n"
     ]
    }
   ],
   "source": [
    "# Updating the set by calling the difference_update() method with the difference of s1 and s2\n",
    "\n",
    "s1 = {\"Python\",4,3.0,True}\n",
    "s2 = {-99,2,4,3.0,True,1}\n",
    "\n",
    "s1.difference_update(s2)\n",
    "print(s1)"
   ]
  },
  {
   "cell_type": "code",
   "execution_count": 44,
   "id": "e206dd97",
   "metadata": {},
   "outputs": [
    {
     "name": "stdout",
     "output_type": "stream",
     "text": [
      "{1, 2, 3, 6, 7, 8}\n"
     ]
    }
   ],
   "source": [
    "# Symmetric - difference\n",
    "\n",
    "# set of elements in A and B but not in both. \"EXCLUDING COMMON ELEMENTS\"\n",
    "\n",
    "A = {1,2,3,4,5}\n",
    "B = {4,5,6,7,8}\n",
    "\n",
    "print(A ^ B)"
   ]
  },
  {
   "cell_type": "code",
   "execution_count": 45,
   "id": "bcbf38e1",
   "metadata": {},
   "outputs": [
    {
     "name": "stdout",
     "output_type": "stream",
     "text": [
      "{1, 2, 3, 6, 7, 8}\n"
     ]
    }
   ],
   "source": [
    "print(A.symmetric_difference(B))"
   ]
  },
  {
   "cell_type": "code",
   "execution_count": 46,
   "id": "a1e041c5",
   "metadata": {},
   "outputs": [
    {
     "name": "stdout",
     "output_type": "stream",
     "text": [
      "{1, 2, 3, 6, 7, 8}\n"
     ]
    }
   ],
   "source": [
    "# Updating the set A by calling the symmetric_difference_update() method with the symmetric values of A and B\n",
    "\n",
    "A.symmetric_difference_update(B)\n",
    "print(A)"
   ]
  },
  {
   "cell_type": "code",
   "execution_count": 47,
   "id": "6261c64e",
   "metadata": {},
   "outputs": [
    {
     "data": {
      "text/plain": [
       "True"
      ]
     },
     "execution_count": 47,
     "metadata": {},
     "output_type": "execute_result"
    }
   ],
   "source": [
    "# Subset,Superset,and Disjoint\n",
    "\n",
    "A = {1,2,3,4,5,6}\n",
    "B = {3,4,5,6}\n",
    "C = {23,42,55,67}\n",
    "\n",
    "# Set B is said to be the subset of set A if all elements of B are present in A\n",
    "\n",
    "B.issubset(A)"
   ]
  },
  {
   "cell_type": "code",
   "execution_count": 48,
   "id": "402a1037",
   "metadata": {},
   "outputs": [
    {
     "data": {
      "text/plain": [
       "True"
      ]
     },
     "execution_count": 48,
     "metadata": {},
     "output_type": "execute_result"
    }
   ],
   "source": [
    "# Set A is said to be the superset of set B if all elements of B are present in A\n",
    "\n",
    "A.issuperset(B)"
   ]
  },
  {
   "cell_type": "code",
   "execution_count": 3,
   "id": "dbcbf9ee",
   "metadata": {},
   "outputs": [
    {
     "data": {
      "text/plain": [
       "True"
      ]
     },
     "execution_count": 3,
     "metadata": {},
     "output_type": "execute_result"
    }
   ],
   "source": [
    "# Two sets are said to be disjoint sets if they have no common elements between them\n",
    "\n",
    "A = {1,2,3,4,5,6}\n",
    "B = {3,4,5,6}\n",
    "C = {23,42,55,67}\n",
    "\n",
    "C.isdisjoint(A)"
   ]
  },
  {
   "cell_type": "code",
   "execution_count": 52,
   "id": "1d84eb4c",
   "metadata": {},
   "outputs": [
    {
     "data": {
      "text/plain": [
       "False"
      ]
     },
     "execution_count": 52,
     "metadata": {},
     "output_type": "execute_result"
    }
   ],
   "source": [
    "B.isdisjoint(A)"
   ]
  },
  {
   "cell_type": "code",
   "execution_count": 4,
   "id": "637a93da",
   "metadata": {},
   "outputs": [
    {
     "name": "stdout",
     "output_type": "stream",
     "text": [
      "21\n",
      "1\n",
      "6\n",
      "6\n"
     ]
    }
   ],
   "source": [
    "A = {1,2,3,4,5,6}\n",
    "\n",
    "print(sum(A))\n",
    "print(min(A))\n",
    "print(max(A))\n",
    "print(len(A))"
   ]
  },
  {
   "cell_type": "code",
   "execution_count": 55,
   "id": "e30d567a",
   "metadata": {},
   "outputs": [
    {
     "name": "stdout",
     "output_type": "stream",
     "text": [
      "[67, 55, 42, 23]\n",
      "[23, 42, 55, 67]\n",
      "<class 'list'>\n"
     ]
    }
   ],
   "source": [
    "# Sorting in sets\n",
    "\n",
    "C = {23,42,55,67}\n",
    "\n",
    "D = sorted(C,reverse=True)\n",
    "print(D)\n",
    "print(sorted(C))\n",
    "print(type(D))"
   ]
  },
  {
   "cell_type": "code",
   "execution_count": 6,
   "id": "fd237e39",
   "metadata": {},
   "outputs": [
    {
     "name": "stdout",
     "output_type": "stream",
     "text": [
      "0 True\n",
      "1 3.0\n",
      "2 4\n",
      "3 Python\n"
     ]
    }
   ],
   "source": [
    "# Set enumerate\n",
    "\n",
    "s1 = {\"Python\",4,3.0,True}\n",
    "for i,k in enumerate(s1):\n",
    "    print(i,k)"
   ]
  },
  {
   "cell_type": "markdown",
   "id": "fa007a0c",
   "metadata": {},
   "source": [
    "## DICTIONARY"
   ]
  },
  {
   "cell_type": "markdown",
   "id": "d0a8d774",
   "metadata": {},
   "source": [
    "## DICTIONARIES\n",
    "\n",
    "#### - Dictionary has key and value (Key:Value)\n",
    "#### - As a python version 3.7, dictionaries are ordered. In python 3.6 and earlier, dictionaries are unordered.\n",
    "#### - Each item of a dictionary has a key/value pair.\n",
    "#### - Dictionaries retrieve values when the key is known.\n",
    "#### - An item has a key and a corresponding value that is expressed as a pair (key:Value).\n",
    "\n",
    "#### - Values are mutable.\n",
    "#### - Keys are immutable.\n",
    "#### - A Key and a value is similar to 'word' and the meaning in dictionary.\n",
    "#### - We can update the meaning but cant change the word.\n",
    "\n",
    "#### - It is represented by {}\n"
   ]
  },
  {
   "cell_type": "code",
   "execution_count": 1,
   "id": "eed94aad",
   "metadata": {},
   "outputs": [
    {
     "name": "stdout",
     "output_type": "stream",
     "text": [
      "{'Tamil': '96', 'English': '88', 'Maths': '98', 'Science': '95', 'S.S': '88'}\n"
     ]
    }
   ],
   "source": [
    "dict1 = {\"Tamil\": \"96\", \"English\": \"88\",\"Maths\":\"98\",\"Science\":\"95\",\"S.S\":\"88\"}\n",
    "print(dict1)"
   ]
  },
  {
   "cell_type": "code",
   "execution_count": 2,
   "id": "1aa60958",
   "metadata": {},
   "outputs": [
    {
     "name": "stdout",
     "output_type": "stream",
     "text": [
      "['__class__', '__class_getitem__', '__contains__', '__delattr__', '__delitem__', '__dir__', '__doc__', '__eq__', '__format__', '__ge__', '__getattribute__', '__getitem__', '__getstate__', '__gt__', '__hash__', '__init__', '__init_subclass__', '__ior__', '__iter__', '__le__', '__len__', '__lt__', '__ne__', '__new__', '__or__', '__reduce__', '__reduce_ex__', '__repr__', '__reversed__', '__ror__', '__setattr__', '__setitem__', '__sizeof__', '__str__', '__subclasshook__', 'clear', 'copy', 'fromkeys', 'get', 'items', 'keys', 'pop', 'popitem', 'setdefault', 'update', 'values']\n"
     ]
    }
   ],
   "source": [
    "print(dir(dict1))"
   ]
  },
  {
   "cell_type": "code",
   "execution_count": 10,
   "id": "a2ce8edf",
   "metadata": {},
   "outputs": [
    {
     "name": "stdout",
     "output_type": "stream",
     "text": [
      "88\n"
     ]
    }
   ],
   "source": [
    "dict1 = {\"Tamil\": \"96\", \"English\": \"88\",\"Maths\":\"98\",\"Science\":\"95\",\"S.S\":\"88\"}\n",
    "print(dict1[\"S.S\"])"
   ]
  },
  {
   "cell_type": "code",
   "execution_count": 11,
   "id": "9fbb1327",
   "metadata": {},
   "outputs": [
    {
     "name": "stdout",
     "output_type": "stream",
     "text": [
      "<class 'dict'>\n"
     ]
    }
   ],
   "source": [
    "print(type(dict1))"
   ]
  },
  {
   "cell_type": "code",
   "execution_count": 12,
   "id": "2efa00c1",
   "metadata": {},
   "outputs": [
    {
     "data": {
      "text/plain": [
       "{1: 'Hi', 2.0: True, 'Number': [24, 65], 'a': (5-7j), (5+8j): 456}"
      ]
     },
     "execution_count": 12,
     "metadata": {},
     "output_type": "execute_result"
    }
   ],
   "source": [
    "d1 = {1:\"Hi\",2.0:True,\"Number\":[24,65],'a':5-7j,5+8j:456}\n",
    "d1"
   ]
  },
  {
   "cell_type": "code",
   "execution_count": 13,
   "id": "2cb37a50",
   "metadata": {},
   "outputs": [
    {
     "data": {
      "text/plain": [
       "{'l1': [1, 2, 3, 4], 't1': (5, 6, 7, 8), 'd1': {'A', 'B', 'C', 'D'}}"
      ]
     },
     "execution_count": 13,
     "metadata": {},
     "output_type": "execute_result"
    }
   ],
   "source": [
    "d2 = {'l1':[1,2,3,4],'t1':(5,6,7,8),'d1':{'A','B','C','D'}}\n",
    "d2"
   ]
  },
  {
   "cell_type": "code",
   "execution_count": 14,
   "id": "7358dbb5",
   "metadata": {},
   "outputs": [
    {
     "name": "stdout",
     "output_type": "stream",
     "text": [
      "<class 'dict'>\n"
     ]
    }
   ],
   "source": [
    "print(type(d1))"
   ]
  },
  {
   "cell_type": "code",
   "execution_count": 15,
   "id": "6e42e176",
   "metadata": {},
   "outputs": [
    {
     "name": "stdout",
     "output_type": "stream",
     "text": [
      "<class 'dict'>\n"
     ]
    }
   ],
   "source": [
    "print(type(d2))"
   ]
  },
  {
   "cell_type": "code",
   "execution_count": 16,
   "id": "6ae5a0d1",
   "metadata": {},
   "outputs": [
    {
     "name": "stdout",
     "output_type": "stream",
     "text": [
      "{1: 'one', 2: 'two', 3: 'three'}\n"
     ]
    }
   ],
   "source": [
    "# Keys can be of any datatype.\n",
    "# Keys are immutable.Values are mutable.\n",
    "# Another way of creating dictionaries.\n",
    "\n",
    "dict3 = dict({1: \"one\", 2: \"two\", 3: \"three\"})\n",
    "print(dict3)"
   ]
  },
  {
   "cell_type": "code",
   "execution_count": 17,
   "id": "a0005778",
   "metadata": {},
   "outputs": [
    {
     "data": {
      "text/plain": [
       "{(0, 1, 2, 3): 'tuple', 'dict': {'A': 1, 'B': 2}}"
      ]
     },
     "execution_count": 17,
     "metadata": {},
     "output_type": "execute_result"
    }
   ],
   "source": [
    "d3 = {(0,1,2,3):'tuple','dict':{'A':1,'B':2}}\n",
    "d3"
   ]
  },
  {
   "cell_type": "code",
   "execution_count": 18,
   "id": "0aeed0e8",
   "metadata": {},
   "outputs": [
    {
     "ename": "TypeError",
     "evalue": "unhashable type: 'list'",
     "output_type": "error",
     "traceback": [
      "\u001b[1;31m---------------------------------------------------------------------------\u001b[0m",
      "\u001b[1;31mTypeError\u001b[0m                                 Traceback (most recent call last)",
      "Cell \u001b[1;32mIn[18], line 1\u001b[0m\n\u001b[1;32m----> 1\u001b[0m d4 \u001b[38;5;241m=\u001b[39m {[\u001b[38;5;241m0\u001b[39m,\u001b[38;5;241m1\u001b[39m,\u001b[38;5;241m2\u001b[39m,\u001b[38;5;241m3\u001b[39m]:\u001b[38;5;124m'\u001b[39m\u001b[38;5;124mlist\u001b[39m\u001b[38;5;124m'\u001b[39m,\u001b[38;5;124m'\u001b[39m\u001b[38;5;124mdict\u001b[39m\u001b[38;5;124m'\u001b[39m:{\u001b[38;5;124m'\u001b[39m\u001b[38;5;124mA\u001b[39m\u001b[38;5;124m'\u001b[39m:\u001b[38;5;241m1\u001b[39m,\u001b[38;5;124m'\u001b[39m\u001b[38;5;124mB\u001b[39m\u001b[38;5;124m'\u001b[39m:\u001b[38;5;241m2\u001b[39m}}\n\u001b[0;32m      2\u001b[0m d4\n",
      "\u001b[1;31mTypeError\u001b[0m: unhashable type: 'list'"
     ]
    }
   ],
   "source": [
    "d4 = {[0,1,2,3]:'list','dict':{'A':1,'B':2}}\n",
    "d4"
   ]
  },
  {
   "cell_type": "code",
   "execution_count": 19,
   "id": "e4c8b0f1",
   "metadata": {},
   "outputs": [
    {
     "ename": "TypeError",
     "evalue": "unhashable type: 'dict'",
     "output_type": "error",
     "traceback": [
      "\u001b[1;31m---------------------------------------------------------------------------\u001b[0m",
      "\u001b[1;31mTypeError\u001b[0m                                 Traceback (most recent call last)",
      "Cell \u001b[1;32mIn[19], line 1\u001b[0m\n\u001b[1;32m----> 1\u001b[0m d4 \u001b[38;5;241m=\u001b[39m {{\u001b[38;5;124m'\u001b[39m\u001b[38;5;124mA\u001b[39m\u001b[38;5;124m'\u001b[39m:\u001b[38;5;241m5\u001b[39m,\u001b[38;5;124m'\u001b[39m\u001b[38;5;124mB\u001b[39m\u001b[38;5;124m'\u001b[39m:\u001b[38;5;241m6\u001b[39m}:\u001b[38;5;124m'\u001b[39m\u001b[38;5;124mdict\u001b[39m\u001b[38;5;124m'\u001b[39m,\u001b[38;5;124m'\u001b[39m\u001b[38;5;124mdict\u001b[39m\u001b[38;5;124m'\u001b[39m:{\u001b[38;5;124m'\u001b[39m\u001b[38;5;124mA\u001b[39m\u001b[38;5;124m'\u001b[39m:\u001b[38;5;241m1\u001b[39m,\u001b[38;5;124m'\u001b[39m\u001b[38;5;124mB\u001b[39m\u001b[38;5;124m'\u001b[39m:\u001b[38;5;241m2\u001b[39m}}\n\u001b[0;32m      2\u001b[0m d4\n",
      "\u001b[1;31mTypeError\u001b[0m: unhashable type: 'dict'"
     ]
    }
   ],
   "source": [
    "d5 = {{'A':5,'B':6}:'dict','dict':{'A':1,'B':2}}\n",
    "d5"
   ]
  },
  {
   "cell_type": "code",
   "execution_count": 20,
   "id": "084d2960",
   "metadata": {},
   "outputs": [
    {
     "ename": "TypeError",
     "evalue": "unhashable type: 'set'",
     "output_type": "error",
     "traceback": [
      "\u001b[1;31m---------------------------------------------------------------------------\u001b[0m",
      "\u001b[1;31mTypeError\u001b[0m                                 Traceback (most recent call last)",
      "Cell \u001b[1;32mIn[20], line 1\u001b[0m\n\u001b[1;32m----> 1\u001b[0m d4 \u001b[38;5;241m=\u001b[39m {{\u001b[38;5;241m5\u001b[39m,\u001b[38;5;241m6.7\u001b[39m}:\u001b[38;5;124m'\u001b[39m\u001b[38;5;124mset\u001b[39m\u001b[38;5;124m'\u001b[39m,\u001b[38;5;124m'\u001b[39m\u001b[38;5;124mdict\u001b[39m\u001b[38;5;124m'\u001b[39m:{\u001b[38;5;124m'\u001b[39m\u001b[38;5;124mA\u001b[39m\u001b[38;5;124m'\u001b[39m:\u001b[38;5;241m1\u001b[39m,\u001b[38;5;124m'\u001b[39m\u001b[38;5;124mB\u001b[39m\u001b[38;5;124m'\u001b[39m:\u001b[38;5;241m2\u001b[39m}}\n\u001b[0;32m      2\u001b[0m d4\n",
      "\u001b[1;31mTypeError\u001b[0m: unhashable type: 'set'"
     ]
    }
   ],
   "source": [
    "d6 = {{5,6.7}:'set','dict':{'A':1,'B':2}}\n",
    "d6"
   ]
  },
  {
   "cell_type": "code",
   "execution_count": 22,
   "id": "33ea7958",
   "metadata": {},
   "outputs": [
    {
     "data": {
      "text/plain": [
       "{'A': [1, 2, 3, 4],\n",
       " 'B': (5, 6, 7, 8),\n",
       " 'C': {10, 11, 12, 13, 14},\n",
       " 'D': {'AA': [54, 78, 6, 21, 58, 30, 78], 'BB': (55, 77, 88, 99, 11, 22)}}"
      ]
     },
     "execution_count": 22,
     "metadata": {},
     "output_type": "execute_result"
    }
   ],
   "source": [
    "d7 = {'A':[1,2,3,4],'B':(5,6,7,8),'C':{10,11,12,13,14},'D':{'AA':[54,78,6,21,58,30,78,],'BB':(55,77,88,99,11,22)}}\n",
    "d7"
   ]
  },
  {
   "cell_type": "code",
   "execution_count": 23,
   "id": "7b0b179c",
   "metadata": {},
   "outputs": [
    {
     "data": {
      "text/plain": [
       "[1, 2, 3, 4]"
      ]
     },
     "execution_count": 23,
     "metadata": {},
     "output_type": "execute_result"
    }
   ],
   "source": [
    "d7['A']"
   ]
  },
  {
   "cell_type": "code",
   "execution_count": 24,
   "id": "cb0bcf38",
   "metadata": {},
   "outputs": [
    {
     "data": {
      "text/plain": [
       "2"
      ]
     },
     "execution_count": 24,
     "metadata": {},
     "output_type": "execute_result"
    }
   ],
   "source": [
    "d7['A'][1]"
   ]
  },
  {
   "cell_type": "code",
   "execution_count": 25,
   "id": "4a69ea75",
   "metadata": {},
   "outputs": [
    {
     "data": {
      "text/plain": [
       "(5, 6, 7, 8)"
      ]
     },
     "execution_count": 25,
     "metadata": {},
     "output_type": "execute_result"
    }
   ],
   "source": [
    "d7['B']"
   ]
  },
  {
   "cell_type": "code",
   "execution_count": 27,
   "id": "f1421f2e",
   "metadata": {},
   "outputs": [
    {
     "data": {
      "text/plain": [
       "8"
      ]
     },
     "execution_count": 27,
     "metadata": {},
     "output_type": "execute_result"
    }
   ],
   "source": [
    "d7['B'][3]"
   ]
  },
  {
   "cell_type": "code",
   "execution_count": 28,
   "id": "836938cc",
   "metadata": {},
   "outputs": [
    {
     "data": {
      "text/plain": [
       "{10, 11, 12, 13, 14}"
      ]
     },
     "execution_count": 28,
     "metadata": {},
     "output_type": "execute_result"
    }
   ],
   "source": [
    "d7['C']"
   ]
  },
  {
   "cell_type": "code",
   "execution_count": 29,
   "id": "653fc792",
   "metadata": {},
   "outputs": [
    {
     "ename": "TypeError",
     "evalue": "'set' object is not subscriptable",
     "output_type": "error",
     "traceback": [
      "\u001b[1;31m---------------------------------------------------------------------------\u001b[0m",
      "\u001b[1;31mTypeError\u001b[0m                                 Traceback (most recent call last)",
      "Cell \u001b[1;32mIn[29], line 1\u001b[0m\n\u001b[1;32m----> 1\u001b[0m d7[\u001b[38;5;124m'\u001b[39m\u001b[38;5;124mC\u001b[39m\u001b[38;5;124m'\u001b[39m][\u001b[38;5;241m5\u001b[39m]\n",
      "\u001b[1;31mTypeError\u001b[0m: 'set' object is not subscriptable"
     ]
    }
   ],
   "source": [
    "d7['C'][5]"
   ]
  },
  {
   "cell_type": "code",
   "execution_count": 30,
   "id": "97a7e999",
   "metadata": {},
   "outputs": [
    {
     "data": {
      "text/plain": [
       "{'AA': [54, 78, 6, 21, 58, 30, 78], 'BB': (55, 77, 88, 99, 11, 22)}"
      ]
     },
     "execution_count": 30,
     "metadata": {},
     "output_type": "execute_result"
    }
   ],
   "source": [
    "d7['D']"
   ]
  },
  {
   "cell_type": "code",
   "execution_count": 31,
   "id": "c76a4d4e",
   "metadata": {},
   "outputs": [
    {
     "data": {
      "text/plain": [
       "21"
      ]
     },
     "execution_count": 31,
     "metadata": {},
     "output_type": "execute_result"
    }
   ],
   "source": [
    "d7['D']['AA'][3]"
   ]
  },
  {
   "cell_type": "code",
   "execution_count": 32,
   "id": "f71b80dd",
   "metadata": {},
   "outputs": [
    {
     "data": {
      "text/plain": [
       "22"
      ]
     },
     "execution_count": 32,
     "metadata": {},
     "output_type": "execute_result"
    }
   ],
   "source": [
    "d7['D']['BB'][5]"
   ]
  },
  {
   "cell_type": "code",
   "execution_count": 33,
   "id": "fa7a318c",
   "metadata": {},
   "outputs": [
    {
     "data": {
      "text/plain": [
       "{1: 'Hi', 2.0: True, 'Number': [24, 65], 'a': (5-7j), (5+8j): 456}"
      ]
     },
     "execution_count": 33,
     "metadata": {},
     "output_type": "execute_result"
    }
   ],
   "source": [
    "d1 = {1:\"Hi\",2.0:True,\"Number\":[24,65],'a':5-7j,5+8j:456}\n",
    "d1"
   ]
  },
  {
   "cell_type": "code",
   "execution_count": 34,
   "id": "d21dfe5c",
   "metadata": {},
   "outputs": [
    {
     "name": "stdout",
     "output_type": "stream",
     "text": [
      "dict_keys([1, 2.0, 'Number', 'a', (5+8j)])\n"
     ]
    }
   ],
   "source": [
    "# Keys in dictionary\n",
    "\n",
    "print(d1.keys())"
   ]
  },
  {
   "cell_type": "code",
   "execution_count": 35,
   "id": "ff4b7f8a",
   "metadata": {},
   "outputs": [
    {
     "name": "stdout",
     "output_type": "stream",
     "text": [
      "dict_values(['Hi', True, [24, 65], (5-7j), 456])\n"
     ]
    }
   ],
   "source": [
    "# Values in dictionary\n",
    "\n",
    "print(d1.values())"
   ]
  },
  {
   "cell_type": "code",
   "execution_count": 8,
   "id": "fccb7bea",
   "metadata": {},
   "outputs": [
    {
     "name": "stdout",
     "output_type": "stream",
     "text": [
      "dict_items([(1, 'Hi'), (2.0, True), ('Number', [24, 65]), ('a', (5-7j)), ((5+8j), 456)])\n"
     ]
    }
   ],
   "source": [
    "d1 = {1:\"Hi\",2.0:True,\"Number\":[24,65],'a':5-7j,5+8j:456}\n",
    "\n",
    "print(d1.items())"
   ]
  },
  {
   "cell_type": "code",
   "execution_count": 37,
   "id": "3c4950af",
   "metadata": {},
   "outputs": [
    {
     "name": "stdout",
     "output_type": "stream",
     "text": [
      "5\n"
     ]
    }
   ],
   "source": [
    "print(len(d1))"
   ]
  },
  {
   "cell_type": "code",
   "execution_count": 39,
   "id": "234b4b98",
   "metadata": {},
   "outputs": [
    {
     "ename": "TypeError",
     "evalue": "unhashable type: 'slice'",
     "output_type": "error",
     "traceback": [
      "\u001b[1;31m---------------------------------------------------------------------------\u001b[0m",
      "\u001b[1;31mTypeError\u001b[0m                                 Traceback (most recent call last)",
      "Cell \u001b[1;32mIn[39], line 4\u001b[0m\n\u001b[0;32m      1\u001b[0m \u001b[38;5;66;03m# We cant slice dictionary\u001b[39;00m\n\u001b[0;32m      3\u001b[0m d2 \u001b[38;5;241m=\u001b[39m {\u001b[38;5;124m'\u001b[39m\u001b[38;5;124ml1\u001b[39m\u001b[38;5;124m'\u001b[39m:[\u001b[38;5;241m1\u001b[39m,\u001b[38;5;241m2\u001b[39m,\u001b[38;5;241m3\u001b[39m,\u001b[38;5;241m4\u001b[39m],\u001b[38;5;124m'\u001b[39m\u001b[38;5;124mt1\u001b[39m\u001b[38;5;124m'\u001b[39m:(\u001b[38;5;241m5\u001b[39m,\u001b[38;5;241m6\u001b[39m,\u001b[38;5;241m7\u001b[39m,\u001b[38;5;241m8\u001b[39m),\u001b[38;5;124m'\u001b[39m\u001b[38;5;124md1\u001b[39m\u001b[38;5;124m'\u001b[39m:{\u001b[38;5;124m'\u001b[39m\u001b[38;5;124mA\u001b[39m\u001b[38;5;124m'\u001b[39m:\u001b[38;5;241m5\u001b[39m,\u001b[38;5;124m'\u001b[39m\u001b[38;5;124mB\u001b[39m\u001b[38;5;124m'\u001b[39m:\u001b[38;5;241m6\u001b[39m}}\n\u001b[1;32m----> 4\u001b[0m d2[\u001b[38;5;241m0\u001b[39m:]\n",
      "\u001b[1;31mTypeError\u001b[0m: unhashable type: 'slice'"
     ]
    }
   ],
   "source": [
    "# We cant slice dictionary\n",
    "\n",
    "d2 = {'l1':[1,2,3,4],'t1':(5,6,7,8),'d1':{'A':5,'B':6}}\n",
    "d2[0:]"
   ]
  },
  {
   "cell_type": "code",
   "execution_count": 40,
   "id": "92c638ad",
   "metadata": {},
   "outputs": [
    {
     "data": {
      "text/plain": [
       "[78, 6, 21]"
      ]
     },
     "execution_count": 40,
     "metadata": {},
     "output_type": "execute_result"
    }
   ],
   "source": [
    "d7 = {'A':[1,2,3,4],'B':(5,6,7,8),'C':{10,11,12,13,14},'D':{'AA':[54,78,6,21,58,30,78,],'BB':(55,77,88,99,11,22)}}\n",
    "d7['D']['AA'][1:4]"
   ]
  },
  {
   "cell_type": "code",
   "execution_count": 9,
   "id": "232e8cc7",
   "metadata": {},
   "outputs": [
    {
     "ename": "TypeError",
     "evalue": "unsupported operand type(s) for *: 'dict' and 'int'",
     "output_type": "error",
     "traceback": [
      "\u001b[1;31m---------------------------------------------------------------------------\u001b[0m",
      "\u001b[1;31mTypeError\u001b[0m                                 Traceback (most recent call last)",
      "Cell \u001b[1;32mIn[9], line 4\u001b[0m\n\u001b[0;32m      1\u001b[0m \u001b[38;5;66;03m# We cant repeat values of dictionary\u001b[39;00m\n\u001b[0;32m      3\u001b[0m d1 \u001b[38;5;241m=\u001b[39m {\u001b[38;5;124m'\u001b[39m\u001b[38;5;124ml1\u001b[39m\u001b[38;5;124m'\u001b[39m:[\u001b[38;5;241m1\u001b[39m,\u001b[38;5;241m2\u001b[39m,\u001b[38;5;241m3\u001b[39m,\u001b[38;5;241m4\u001b[39m],\u001b[38;5;124m'\u001b[39m\u001b[38;5;124mt1\u001b[39m\u001b[38;5;124m'\u001b[39m:(\u001b[38;5;241m5\u001b[39m,\u001b[38;5;241m6\u001b[39m,\u001b[38;5;241m7\u001b[39m,\u001b[38;5;241m8\u001b[39m),\u001b[38;5;124m'\u001b[39m\u001b[38;5;124md1\u001b[39m\u001b[38;5;124m'\u001b[39m:{\u001b[38;5;124m'\u001b[39m\u001b[38;5;124mA\u001b[39m\u001b[38;5;124m'\u001b[39m:\u001b[38;5;241m5\u001b[39m,\u001b[38;5;124m'\u001b[39m\u001b[38;5;124mB\u001b[39m\u001b[38;5;124m'\u001b[39m:\u001b[38;5;241m6\u001b[39m}}\n\u001b[1;32m----> 4\u001b[0m \u001b[38;5;28mprint\u001b[39m(d1 \u001b[38;5;241m*\u001b[39m \u001b[38;5;241m2\u001b[39m)\n",
      "\u001b[1;31mTypeError\u001b[0m: unsupported operand type(s) for *: 'dict' and 'int'"
     ]
    }
   ],
   "source": [
    "# We cant repeat values of dictionary\n",
    "\n",
    "d1 = {'l1':[1,2,3,4],'t1':(5,6,7,8),'d1':{'A':5,'B':6}}\n",
    "print(d1 * 2)"
   ]
  },
  {
   "cell_type": "code",
   "execution_count": 43,
   "id": "d7c6c6d9",
   "metadata": {},
   "outputs": [
    {
     "name": "stdout",
     "output_type": "stream",
     "text": [
      "True\n"
     ]
    }
   ],
   "source": [
    "# Membership operators in dictionary\n",
    "# It checks whether a key is present in dictionary or not\n",
    "\n",
    "d1 = {'l1':[1,2,3,4],'t1':(5,6,7,8),'d1':{'A':5,'B':6}}\n",
    "print('d1' in d1)"
   ]
  },
  {
   "cell_type": "code",
   "execution_count": 44,
   "id": "8be69b38",
   "metadata": {},
   "outputs": [
    {
     "name": "stdout",
     "output_type": "stream",
     "text": [
      "False\n"
     ]
    }
   ],
   "source": [
    "d1 = {'l1':[1,2,3,4],'t1':(5,6,7,8),'d1':{'A':5,'B':6}}\n",
    "print('d1' not in d1)"
   ]
  },
  {
   "cell_type": "code",
   "execution_count": 45,
   "id": "a90092f1",
   "metadata": {},
   "outputs": [
    {
     "name": "stdout",
     "output_type": "stream",
     "text": [
      "False\n"
     ]
    }
   ],
   "source": [
    "# It checks only key not the values\n",
    "\n",
    "print('t1' not in d1)"
   ]
  },
  {
   "cell_type": "code",
   "execution_count": 46,
   "id": "047dbc03",
   "metadata": {},
   "outputs": [
    {
     "name": "stdout",
     "output_type": "stream",
     "text": [
      "{1, 2, 3, 4, 5}\n",
      "<class 'set'>\n",
      "{1: None, 2: None, 3: None, 4: None, 5: None}\n"
     ]
    }
   ],
   "source": [
    "# Ways of creating dictionary\n",
    "\n",
    "keys = {1,2,3,4,5}  # Keys will be given as a set\n",
    "dict_1 = dict.fromkeys(keys)  # dict.fromkeys(keys,value)\n",
    "\n",
    "print(keys)\n",
    "print(type(keys))\n",
    "print(dict_1)"
   ]
  },
  {
   "cell_type": "code",
   "execution_count": 47,
   "id": "304bad1c",
   "metadata": {},
   "outputs": [
    {
     "name": "stdout",
     "output_type": "stream",
     "text": [
      "{1, 2, 3, 4, 5}\n",
      "{1: 10, 2: 10, 3: 10, 4: 10, 5: 10}\n"
     ]
    }
   ],
   "source": [
    "# Updating values in each key\n",
    "\n",
    "keys = {1,2,3,4,5}\n",
    "value = 10\n",
    "dict_1 = dict.fromkeys(keys,value)\n",
    "\n",
    "print(keys)\n",
    "print(dict_1)"
   ]
  },
  {
   "cell_type": "code",
   "execution_count": 2,
   "id": "c250470c",
   "metadata": {},
   "outputs": [
    {
     "data": {
      "text/plain": [
       "{1: [10, 20, 30], 2: [10, 20, 30], 3: [10, 20, 30], 4: [10, 20, 30]}"
      ]
     },
     "execution_count": 2,
     "metadata": {},
     "output_type": "execute_result"
    }
   ],
   "source": [
    "# Updating a list of values in all the keys\n",
    "\n",
    "keys = {1,2,3,4}\n",
    "value = [10,20,30]\n",
    "dict_1 = dict.fromkeys(keys,value)\n",
    "dict_1"
   ]
  },
  {
   "cell_type": "code",
   "execution_count": 3,
   "id": "b40d46a0",
   "metadata": {},
   "outputs": [
    {
     "name": "stdout",
     "output_type": "stream",
     "text": [
      "{1: [10, 20, 30, 40], 2: [10, 20, 30, 40], 3: [10, 20, 30, 40], 4: [10, 20, 30, 40]}\n"
     ]
    }
   ],
   "source": [
    "value.append(40)\n",
    "print(dict_1)"
   ]
  },
  {
   "cell_type": "code",
   "execution_count": 10,
   "id": "29a184b7",
   "metadata": {},
   "outputs": [
    {
     "name": "stdout",
     "output_type": "stream",
     "text": [
      "{1: None, 2: None, 3: None, 4: None}\n"
     ]
    }
   ],
   "source": [
    "keys = [1,2,3,4]\n",
    "dict_1 = dict.fromkeys(keys)\n",
    "keys.append(5)\n",
    "print(dict_1)"
   ]
  },
  {
   "cell_type": "code",
   "execution_count": 8,
   "id": "d21a4f15",
   "metadata": {},
   "outputs": [
    {
     "name": "stdout",
     "output_type": "stream",
     "text": [
      "11\n"
     ]
    }
   ],
   "source": [
    "# Using get method to access the value\n",
    "\n",
    "d = {'A':11,'B':22,'C':33,'D':44}\n",
    "print(d.get('A'))"
   ]
  },
  {
   "cell_type": "code",
   "execution_count": 9,
   "id": "fd5eb588",
   "metadata": {},
   "outputs": [
    {
     "data": {
      "text/plain": [
       "dict_values([11, 22, 33, 44])"
      ]
     },
     "execution_count": 9,
     "metadata": {},
     "output_type": "execute_result"
    }
   ],
   "source": [
    "# Values method\n",
    "\n",
    "d.values()"
   ]
  },
  {
   "cell_type": "code",
   "execution_count": 10,
   "id": "e4b0de8d",
   "metadata": {},
   "outputs": [
    {
     "data": {
      "text/plain": [
       "dict_keys(['A', 'B', 'C', 'D'])"
      ]
     },
     "execution_count": 10,
     "metadata": {},
     "output_type": "execute_result"
    }
   ],
   "source": [
    "# Keys method\n",
    "\n",
    "d.keys()"
   ]
  },
  {
   "cell_type": "code",
   "execution_count": 11,
   "id": "b5bb760b",
   "metadata": {},
   "outputs": [
    {
     "data": {
      "text/plain": [
       "dict_items([('A', 11), ('B', 22), ('C', 33), ('D', 44)])"
      ]
     },
     "execution_count": 11,
     "metadata": {},
     "output_type": "execute_result"
    }
   ],
   "source": [
    "# Items method\n",
    "\n",
    "d.items()"
   ]
  },
  {
   "cell_type": "code",
   "execution_count": 12,
   "id": "421e587c",
   "metadata": {},
   "outputs": [
    {
     "name": "stdout",
     "output_type": "stream",
     "text": [
      "{'A': 11, 'B': 22, 'C': 33, 'D': 44, 'E': 55, 'F': 66, 'G': 77, 'H': 88}\n"
     ]
    }
   ],
   "source": [
    "# Dictionary is mutable. We can change the values.\n",
    "# Insert, Update, Delete operations\n",
    "\n",
    "d = {'A':11,'B':22,'C':33,'D':44}\n",
    "\n",
    "# Insert a key-value pair\n",
    "\n",
    "d['E'] = 55\n",
    "d['F'] = 66\n",
    "d['G'] = 77\n",
    "d['H'] = 88\n",
    "\n",
    "print(d)\n"
   ]
  },
  {
   "cell_type": "code",
   "execution_count": 14,
   "id": "c49245b3",
   "metadata": {},
   "outputs": [
    {
     "name": "stdout",
     "output_type": "stream",
     "text": [
      "{'A': 11, 'B': 22, 'C': 33, 'D': 44, 'E': 55, 'F': 222, 'G': 111, 'H': 99, 'I': 333}\n"
     ]
    }
   ],
   "source": [
    "# Update a va0lue\n",
    "# Same syntax as we inserted key-value pairs\n",
    "# While inserting, we insert key and a value newly\n",
    "# Here the key should be there already in the dictionary\n",
    "\n",
    "d['H'] = 99\n",
    "d['G'] = 111\n",
    "d['F'] = 222\n",
    "\n",
    "# We can only update a key but cannot give duplicate keys\n",
    "# For example, if you give d['H'], it will update the value of key '7'. It will not create a duplicate key 'H'\n",
    "# Entering a new key will insert new key-value pair\n",
    "\n",
    "d['I'] = 333\n",
    "\n",
    "print(d)\n",
    "\n",
    "\n"
   ]
  },
  {
   "cell_type": "code",
   "execution_count": 39,
   "id": "ddd10033",
   "metadata": {},
   "outputs": [
    {
     "data": {
      "text/plain": [
       "{'Name': 'Saran', 'ID': 42, 'DOB': 2003, 'Address': 'Banglore'}"
      ]
     },
     "execution_count": 39,
     "metadata": {},
     "output_type": "execute_result"
    }
   ],
   "source": [
    "d1 = {'Name':'Saran','ID':42,'DOB':2003,'Address':'Banglore'}\n",
    "d1"
   ]
  },
  {
   "cell_type": "code",
   "execution_count": 40,
   "id": "8a1863e1",
   "metadata": {},
   "outputs": [
    {
     "data": {
      "text/plain": [
       "{'Name': 'Saran',\n",
       " 'ID': 42,\n",
       " 'DOB': 2003,\n",
       " 'Address': 'Banglore',\n",
       " 'Job': 'Python'}"
      ]
     },
     "execution_count": 40,
     "metadata": {},
     "output_type": "execute_result"
    }
   ],
   "source": [
    "# Adding items\n",
    "\n",
    "d1['Job']='Python'\n",
    "d1"
   ]
  },
  {
   "cell_type": "code",
   "execution_count": 41,
   "id": "426b7475",
   "metadata": {},
   "outputs": [
    {
     "data": {
      "text/plain": [
       "{'Name': 'Saran', 'ID': 42, 'DOB': 2004, 'Address': 'Chennai', 'Job': 'Python'}"
      ]
     },
     "execution_count": 41,
     "metadata": {},
     "output_type": "execute_result"
    }
   ],
   "source": [
    "# Changing items\n",
    "\n",
    "d1['DOB']=2004\n",
    "d1['Address']='Chennai'\n",
    "d1"
   ]
  },
  {
   "cell_type": "code",
   "execution_count": 42,
   "id": "d4444011",
   "metadata": {},
   "outputs": [
    {
     "data": {
      "text/plain": [
       "{'Name': 'Saran',\n",
       " 'ID': 42,\n",
       " 'DOB': 2003,\n",
       " 'Address': 'Chennai',\n",
       " 'Job': 'Python',\n",
       " 'Location': 'Coimbatore'}"
      ]
     },
     "execution_count": 42,
     "metadata": {},
     "output_type": "execute_result"
    }
   ],
   "source": [
    "# Update method\n",
    "\n",
    "newdict = {'DOB':2003,'Location':'Coimbatore'}\n",
    "d1.update(newdict)\n",
    "d1"
   ]
  },
  {
   "cell_type": "code",
   "execution_count": 11,
   "id": "e5b8d49c",
   "metadata": {},
   "outputs": [
    {
     "name": "stdout",
     "output_type": "stream",
     "text": [
      "Banglore\n",
      "{'Name': 'Saran', 'ID': 42, 'DOB': 2003}\n"
     ]
    }
   ],
   "source": [
    "# Pop method (Remove or delete)\n",
    "d1 = {'Name':'Saran','ID':42,'DOB':2003,'Address':'Banglore'}\n",
    "\n",
    "dictpop=d1.pop('Address')\n",
    "print(dictpop)\n",
    "print(d1)"
   ]
  },
  {
   "cell_type": "code",
   "execution_count": 45,
   "id": "9ce0f180",
   "metadata": {},
   "outputs": [
    {
     "data": {
      "text/plain": [
       "('Location', 'Coimbatore')"
      ]
     },
     "execution_count": 45,
     "metadata": {},
     "output_type": "execute_result"
    }
   ],
   "source": [
    "# Popitem ---- randomly pops an item from the dictionary\n",
    "\n",
    "d1.popitem()"
   ]
  },
  {
   "cell_type": "code",
   "execution_count": 46,
   "id": "fad033fd",
   "metadata": {},
   "outputs": [
    {
     "data": {
      "text/plain": [
       "{'Name': 'Saran', 'DOB': 2003, 'Job': 'Python'}"
      ]
     },
     "execution_count": 46,
     "metadata": {},
     "output_type": "execute_result"
    }
   ],
   "source": [
    "d1"
   ]
  },
  {
   "cell_type": "code",
   "execution_count": 48,
   "id": "43124b9d",
   "metadata": {},
   "outputs": [
    {
     "data": {
      "text/plain": [
       "{'Name': 'Saran', 'Job': 'Python'}"
      ]
     },
     "execution_count": 48,
     "metadata": {},
     "output_type": "execute_result"
    }
   ],
   "source": [
    "# Delete - We can delete a key-value pair using a key, but give a key name\n",
    "\n",
    "del d1['DOB']\n",
    "d1"
   ]
  },
  {
   "cell_type": "code",
   "execution_count": 49,
   "id": "d52fdf1d",
   "metadata": {},
   "outputs": [
    {
     "data": {
      "text/plain": [
       "{}"
      ]
     },
     "execution_count": 49,
     "metadata": {},
     "output_type": "execute_result"
    }
   ],
   "source": [
    "d1.clear()\n",
    "d1"
   ]
  },
  {
   "cell_type": "markdown",
   "id": "95cef54b",
   "metadata": {},
   "source": [
    "## COPY "
   ]
  },
  {
   "cell_type": "code",
   "execution_count": 1,
   "id": "a78f196e",
   "metadata": {},
   "outputs": [
    {
     "data": {
      "text/plain": [
       "{'Name': 'Saran', 'ID': 42, 'DOB': 2003, 'Address': 'Banglore'}"
      ]
     },
     "execution_count": 1,
     "metadata": {},
     "output_type": "execute_result"
    }
   ],
   "source": [
    "d1 = {'Name':'Saran','ID':42,'DOB':2003,'Address':'Banglore'}\n",
    "d2 = d1\n",
    "d1"
   ]
  },
  {
   "cell_type": "code",
   "execution_count": 3,
   "id": "e3520ae2",
   "metadata": {},
   "outputs": [
    {
     "data": {
      "text/plain": [
       "{'Name': 'Saran', 'ID': 42, 'DOB': 2003, 'Address': 'Banglore'}"
      ]
     },
     "execution_count": 3,
     "metadata": {},
     "output_type": "execute_result"
    }
   ],
   "source": [
    "d3 = d1.copy()\n",
    "d3"
   ]
  },
  {
   "cell_type": "code",
   "execution_count": 4,
   "id": "13214cf4",
   "metadata": {},
   "outputs": [
    {
     "data": {
      "text/plain": [
       "{'Name': 'Saran', 'ID': 142, 'DOB': 2003, 'Address': 'Banglore'}"
      ]
     },
     "execution_count": 4,
     "metadata": {},
     "output_type": "execute_result"
    }
   ],
   "source": [
    "d1['ID']=142\n",
    "d1"
   ]
  },
  {
   "cell_type": "code",
   "execution_count": 5,
   "id": "a9905e42",
   "metadata": {},
   "outputs": [
    {
     "data": {
      "text/plain": [
       "{'Name': 'Saran', 'ID': 42, 'DOB': 2003, 'Address': 'Banglore'}"
      ]
     },
     "execution_count": 5,
     "metadata": {},
     "output_type": "execute_result"
    }
   ],
   "source": [
    "d3"
   ]
  },
  {
   "cell_type": "code",
   "execution_count": 6,
   "id": "fdfc703a",
   "metadata": {},
   "outputs": [
    {
     "data": {
      "text/plain": [
       "{'Name': 'Saran', 'ID': 142, 'DOB': 2003, 'Address': 'Banglore'}"
      ]
     },
     "execution_count": 6,
     "metadata": {},
     "output_type": "execute_result"
    }
   ],
   "source": [
    "d2"
   ]
  },
  {
   "cell_type": "markdown",
   "id": "18bdd0f3",
   "metadata": {},
   "source": [
    "## LOOP THROUGH DICTIONARY"
   ]
  },
  {
   "cell_type": "code",
   "execution_count": 7,
   "id": "0e4fb91f",
   "metadata": {},
   "outputs": [
    {
     "name": "stdout",
     "output_type": "stream",
     "text": [
      "Name\n",
      "ID\n",
      "DOB\n",
      "Address\n"
     ]
    }
   ],
   "source": [
    "d1 = {'Name':'Saran','ID':42,'DOB':2003,'Address':'Banglore'}\n",
    "\n",
    "for i in d1:\n",
    "    print(i)"
   ]
  },
  {
   "cell_type": "code",
   "execution_count": 10,
   "id": "22187213",
   "metadata": {},
   "outputs": [
    {
     "name": "stdout",
     "output_type": "stream",
     "text": [
      "Name\n",
      "ID\n",
      "DOB\n",
      "Address\n"
     ]
    }
   ],
   "source": [
    "d1 = {'Name':'Saran','ID':42,'DOB':2003,'Address':'Banglore'}\n",
    "for i in d1.keys():\n",
    "    print(i)"
   ]
  },
  {
   "cell_type": "code",
   "execution_count": 11,
   "id": "e0e52153",
   "metadata": {},
   "outputs": [
    {
     "name": "stdout",
     "output_type": "stream",
     "text": [
      "Saran\n",
      "42\n",
      "2003\n",
      "Banglore\n"
     ]
    }
   ],
   "source": [
    "d1 = {'Name':'Saran','ID':42,'DOB':2003,'Address':'Banglore'}\n",
    "for i in d1.values():\n",
    "    print(i)"
   ]
  },
  {
   "cell_type": "code",
   "execution_count": 12,
   "id": "f0f30d95",
   "metadata": {},
   "outputs": [
    {
     "name": "stdout",
     "output_type": "stream",
     "text": [
      "Saran\n",
      "42\n",
      "2003\n",
      "Banglore\n"
     ]
    }
   ],
   "source": [
    "for i in d1:\n",
    "    print(d1[i])"
   ]
  },
  {
   "cell_type": "code",
   "execution_count": 16,
   "id": "46967997",
   "metadata": {},
   "outputs": [
    {
     "name": "stdout",
     "output_type": "stream",
     "text": [
      "Name : Saran\n",
      "ID : 42\n",
      "DOB : 2003\n",
      "Address : Banglore\n"
     ]
    }
   ],
   "source": [
    "for i in d1:\n",
    "    print(i,':',d1[i])"
   ]
  },
  {
   "cell_type": "code",
   "execution_count": 17,
   "id": "fee96f68",
   "metadata": {},
   "outputs": [
    {
     "name": "stdout",
     "output_type": "stream",
     "text": [
      "Key: Name\n",
      "Value: Saran\n",
      "Key: ID\n",
      "Value: 42\n",
      "Key: DOB\n",
      "Value: 2003\n",
      "Key: Address\n",
      "Value: Banglore\n"
     ]
    }
   ],
   "source": [
    "# Fetching key and values form dictionary\n",
    "\n",
    "for i in d1.keys():\n",
    "    print(\"Key:\",i)\n",
    "    print(\"Value:\",d1[i])"
   ]
  },
  {
   "cell_type": "code",
   "execution_count": 18,
   "id": "64724ca8",
   "metadata": {},
   "outputs": [
    {
     "name": "stdout",
     "output_type": "stream",
     "text": [
      "Name : Saran\n",
      "ID : 42\n",
      "DOB : 2003\n",
      "Address : Banglore\n"
     ]
    }
   ],
   "source": [
    "# To fetch key - value pairs as items\n",
    "\n",
    "for i,j in d1.items():\n",
    "    print(i,\":\",j)"
   ]
  },
  {
   "cell_type": "code",
   "execution_count": 38,
   "id": "853bc6ad",
   "metadata": {},
   "outputs": [
    {
     "name": "stdout",
     "output_type": "stream",
     "text": [
      "0 ('Name', 'Saran')\n",
      "1 ('ID', 42)\n",
      "2 ('DOB', 2003)\n",
      "3 ('Address', 'Banglore')\n"
     ]
    }
   ],
   "source": [
    "# Enumerating dictionary\n",
    "\n",
    "for (key,value) in enumerate (d1.items()):\n",
    "    print(key,value)"
   ]
  },
  {
   "cell_type": "code",
   "execution_count": 33,
   "id": "e0b03d1b",
   "metadata": {},
   "outputs": [
    {
     "name": "stdout",
     "output_type": "stream",
     "text": [
      "0 Name Saran\n",
      "1 ID 42\n",
      "2 DOB 2003\n",
      "3 Address Banglore\n"
     ]
    }
   ],
   "source": [
    "# Unpacking enumerating dictionary\n",
    "\n",
    "for index,(key,value) in enumerate (d1.items()):\n",
    "    print(index,key,value)"
   ]
  },
  {
   "cell_type": "markdown",
   "id": "b7f2e004",
   "metadata": {},
   "source": [
    "## ALL/ANY"
   ]
  },
  {
   "cell_type": "code",
   "execution_count": null,
   "id": "a0012455",
   "metadata": {},
   "outputs": [],
   "source": [
    "## All/Any\n",
    "\n",
    "# The all() method returns\n",
    "# True - If all keys of the dictionary are true.\n",
    "# False - If any key of the dictionary is false.\n",
    "\n",
    "# The any() function returns:\n",
    "# True if any key of the dictionary is True.\n",
    "# If not, any() returns False."
   ]
  },
  {
   "cell_type": "code",
   "execution_count": 42,
   "id": "9643f1c8",
   "metadata": {},
   "outputs": [
    {
     "name": "stdout",
     "output_type": "stream",
     "text": [
      "True\n",
      "True\n"
     ]
    }
   ],
   "source": [
    "d1 = {1:[1,2,3],2:[4,5,6],'A':['abcd']}\n",
    "\n",
    "print(all(d1))\n",
    "print(any(d1))"
   ]
  },
  {
   "cell_type": "code",
   "execution_count": 47,
   "id": "ce25572e",
   "metadata": {},
   "outputs": [
    {
     "name": "stdout",
     "output_type": "stream",
     "text": [
      "False\n",
      "True\n"
     ]
    }
   ],
   "source": [
    "# all() and any() methods will check for keys only\n",
    "\n",
    "d1 = {0:[1,2,3],1:[4,5,6],2:['abcd']}\n",
    "\n",
    "print(all(d1))\n",
    "print(any(d1))"
   ]
  },
  {
   "cell_type": "code",
   "execution_count": 48,
   "id": "25944d4a",
   "metadata": {},
   "outputs": [
    {
     "name": "stdout",
     "output_type": "stream",
     "text": [
      "False\n",
      "True\n"
     ]
    }
   ],
   "source": [
    "d1 = {False:(3,1),2:[4,5,6],'A':['abcd']}\n",
    "\n",
    "print(all(d1))\n",
    "print(any(d1))"
   ]
  },
  {
   "cell_type": "code",
   "execution_count": null,
   "id": "a3f198b8",
   "metadata": {},
   "outputs": [],
   "source": [
    "# There are four types of comprehension in python for different data types\n",
    "\n",
    "# - list comprehension,[i*2 for i in list1]\n",
    "# - dictionary comprehension, {k:v*3 for k,v in dict_1.items()}\n",
    "# - set comprehension, {x**2 for x in numbers}\n",
    "# - Generator comprehension (tuple comprehension)(x*x for x in numbers)"
   ]
  },
  {
   "cell_type": "code",
   "execution_count": 49,
   "id": "9f312475",
   "metadata": {},
   "outputs": [
    {
     "name": "stdout",
     "output_type": "stream",
     "text": [
      "[2, 4, 6, 8, 10]\n",
      "<class 'list'>\n"
     ]
    }
   ],
   "source": [
    "# List comprehension\n",
    "\n",
    "list1 = [1,2,3,4,5]\n",
    "l1 = [i*2 for i in list1]  # double the value\n",
    "print(l1)\n",
    "print(type(l1))"
   ]
  },
  {
   "cell_type": "code",
   "execution_count": 52,
   "id": "b1c78a7f",
   "metadata": {},
   "outputs": [
    {
     "name": "stdout",
     "output_type": "stream",
     "text": [
      "{4, 36, 9, 16, 25}\n",
      "<class 'set'>\n"
     ]
    }
   ],
   "source": [
    "# Set comprehension\n",
    "\n",
    "numbers = [2,3,4,5,6]\n",
    "s1 = {x**2 for x in numbers}    # square of the value\n",
    "print(s1)\n",
    "print(type(s1))"
   ]
  },
  {
   "cell_type": "code",
   "execution_count": 54,
   "id": "e272daca",
   "metadata": {},
   "outputs": [
    {
     "data": {
      "text/plain": [
       "{0: 2, 1: 3, 2: 4, 3: 5, 4: 6, 5: 7, 6: 8, 7: 9, 8: 10, 9: 11}"
      ]
     },
     "execution_count": 54,
     "metadata": {},
     "output_type": "execute_result"
    }
   ],
   "source": [
    "# Dictionary comprehension\n",
    "\n",
    "dict_comp={i:i+2 for i in range(10)}\n",
    "dict_comp"
   ]
  },
  {
   "cell_type": "code",
   "execution_count": 56,
   "id": "558fe2c0",
   "metadata": {},
   "outputs": [
    {
     "data": {
      "text/plain": [
       "{'a': 30, 'b': 'ABABAB', 'c': 90, 'd': 'CDCDCD', 'e': 150}"
      ]
     },
     "execution_count": 56,
     "metadata": {},
     "output_type": "execute_result"
    }
   ],
   "source": [
    "dict_1 = {'a':10,'b':'AB','c':30,'d':'CD','e':50}\n",
    "dict_1 = {k:v*3 for (k,v) in dict_1.items()}    # Multiply all values by 3\n",
    "dict_1"
   ]
  },
  {
   "cell_type": "code",
   "execution_count": 2,
   "id": "96f8cfda",
   "metadata": {},
   "outputs": [
    {
     "data": {
      "text/plain": [
       "{'one': 1, 'two': 2, 'three': 3, 'four': 4, 'five': 5}"
      ]
     },
     "execution_count": 2,
     "metadata": {},
     "output_type": "execute_result"
    }
   ],
   "source": [
    "# We can use dictionary comprehension to initialize values for dictionary from lists\n",
    "\n",
    "key =['one','two','three','four','five']\n",
    "value = [1,2,3,4,5]\n",
    "dict_1 = {k:v for (k,v) in zip(key,value)}  # Use zip() to pair the elements based on their position from the list\n",
    "dict_1"
   ]
  },
  {
   "cell_type": "code",
   "execution_count": 3,
   "id": "72e97b16",
   "metadata": {},
   "outputs": [
    {
     "data": {
      "text/plain": [
       "{'a': 'A',\n",
       " 'd': 'D',\n",
       " 'f': 'F',\n",
       " 'h': 'H',\n",
       " 'j': 'J',\n",
       " 'y': 'Y',\n",
       " 'n': 'N',\n",
       " 'r': 'R',\n",
       " 'b': 'B',\n",
       " 'i': 'I',\n",
       " 'c': 'C',\n",
       " 'l': 'L',\n",
       " 'o': 'O',\n",
       " 'v': 'V'}"
      ]
     },
     "execution_count": 3,
     "metadata": {},
     "output_type": "execute_result"
    }
   ],
   "source": [
    "str = 'aadfhjyynfrjbfihcldnovd'\n",
    "myd={i:i.upper() for i in str}\n",
    "myd"
   ]
  },
  {
   "cell_type": "code",
   "execution_count": 4,
   "id": "fd7c4223",
   "metadata": {},
   "outputs": [
    {
     "data": {
      "text/plain": [
       "{'A': 'a',\n",
       " 'B': 'b',\n",
       " 'C': 'c',\n",
       " 'D': 'd',\n",
       " 'E': 'e',\n",
       " 'F': 'f',\n",
       " 'G': 'g',\n",
       " 'H': 'h',\n",
       " 'I': 'i'}"
      ]
     },
     "execution_count": 4,
     "metadata": {},
     "output_type": "execute_result"
    }
   ],
   "source": [
    "str = 'ABCDEFGHI'\n",
    "myd={i:i.lower() for i in str}\n",
    "myd"
   ]
  },
  {
   "cell_type": "code",
   "execution_count": 6,
   "id": "92ff3fa3",
   "metadata": {},
   "outputs": [
    {
     "data": {
      "text/plain": [
       "{'p': 'p',\n",
       " 'r': 'r',\n",
       " 'o': 'o',\n",
       " 'g': 'g',\n",
       " 'a': 'a',\n",
       " 'm': 'm',\n",
       " 'i': 'i',\n",
       " 'n': 'n'}"
      ]
     },
     "execution_count": 6,
     "metadata": {},
     "output_type": "execute_result"
    }
   ],
   "source": [
    "str = \"programming\"     # Unique value only display duplicates not allowed\n",
    "myd={i:i.lower() for i in str}\n",
    "myd"
   ]
  },
  {
   "cell_type": "code",
   "execution_count": null,
   "id": "2636fe24",
   "metadata": {},
   "outputs": [],
   "source": []
  },
  {
   "cell_type": "code",
   "execution_count": null,
   "id": "61f5fd47",
   "metadata": {},
   "outputs": [],
   "source": []
  }
 ],
 "metadata": {
  "kernelspec": {
   "display_name": "Python 3 (ipykernel)",
   "language": "python",
   "name": "python3"
  },
  "language_info": {
   "codemirror_mode": {
    "name": "ipython",
    "version": 3
   },
   "file_extension": ".py",
   "mimetype": "text/x-python",
   "name": "python",
   "nbconvert_exporter": "python",
   "pygments_lexer": "ipython3",
   "version": "3.11.3"
  }
 },
 "nbformat": 4,
 "nbformat_minor": 5
}
